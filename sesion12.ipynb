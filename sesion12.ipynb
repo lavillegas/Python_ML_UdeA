{
  "nbformat": 4,
  "nbformat_minor": 0,
  "metadata": {
    "colab": {
      "name": "sesion12.ipynb",
      "provenance": [],
      "collapsed_sections": [],
      "include_colab_link": true
    },
    "kernelspec": {
      "name": "python3",
      "display_name": "Python 3"
    }
  },
  "cells": [
    {
      "cell_type": "markdown",
      "metadata": {
        "id": "view-in-github",
        "colab_type": "text"
      },
      "source": [
        "<a href=\"https://colab.research.google.com/github/lavillegas/Python_ML_UdeA/blob/main/sesion12.ipynb\" target=\"_parent\"><img src=\"https://colab.research.google.com/assets/colab-badge.svg\" alt=\"Open In Colab\"/></a>"
      ]
    },
    {
      "cell_type": "markdown",
      "metadata": {
        "id": "dUnTgCddJ5Aa"
      },
      "source": [
        "<p><img alt=\"Colaboratory logo\" height=\"140px\" src=\"https://upload.wikimedia.org/wikipedia/commons/archive/f/fb/20161010213812%21Escudo-UdeA.svg\" align=\"left\" hspace=\"10px\" vspace=\"0px\"></p>\n",
        "\n",
        "# **Diplomado de Análisis de datos y Machine Learning en Python**\n",
        "\n",
        "\n",
        "El presente diplomado hace parte del centro de Big Data de la facultad de ciencias exactas y naturales (FCEN) de la Universidad de Antioquia.\n",
        "\n",
        "## **Sesión 12**\n",
        "\n",
        "## **Contenido**\n",
        "\n",
        "- <a href=\"#reg\"> Aprendizaje supervisado: Regresión lineal</a><br>\n",
        "- <a href=\"#skl\"> Introducción a Sklearn</a><br>\n"
      ]
    },
    {
      "cell_type": "markdown",
      "metadata": {
        "id": "mKCPGr8-RFqc"
      },
      "source": [
        "# **Aprendizaje supervisado: Regresión**\n",
        "\n",
        "En el aprendizaje supervisado, los datos de entrada con los que alimentamos el algoritmo incluyen las soluciones deseadas, conocidas como *etiquetas*. Una tarea típica es la de la **regresión**, donde las etiquetas tienen una naturaleza continua.\n"
      ]
    },
    {
      "cell_type": "code",
      "metadata": {
        "id": "xMlXj0-vS0aI"
      },
      "source": [
        "import numpy as np\n",
        "import pandas as pd\n",
        "import matplotlib.pyplot as plt\n",
        "import seaborn as sns\n",
        "sns.set()"
      ],
      "execution_count": null,
      "outputs": []
    },
    {
      "cell_type": "markdown",
      "metadata": {
        "id": "XS2bI42deUjY"
      },
      "source": [
        "Recordemos entonces que hay 2 posibles tareas para el aprendizaje supervisado según la naturaleza de la variable objetivo. "
      ]
    },
    {
      "cell_type": "code",
      "metadata": {
        "id": "occYhuCoeoGp",
        "colab": {
          "base_uri": "https://localhost:8080/",
          "height": 206
        },
        "outputId": "34bf4fe9-6a35-479a-ce0a-4668a4a54817"
      },
      "source": [
        "corr = [f'Correo {i}' for i in range(1,6)]\n",
        "sp = np.random.randint(2,size=5)\n",
        "df1 = pd.DataFrame({'Correo': corr, 'Spam': sp})\n",
        "df1"
      ],
      "execution_count": null,
      "outputs": [
        {
          "output_type": "execute_result",
          "data": {
            "text/html": [
              "<div>\n",
              "<style scoped>\n",
              "    .dataframe tbody tr th:only-of-type {\n",
              "        vertical-align: middle;\n",
              "    }\n",
              "\n",
              "    .dataframe tbody tr th {\n",
              "        vertical-align: top;\n",
              "    }\n",
              "\n",
              "    .dataframe thead th {\n",
              "        text-align: right;\n",
              "    }\n",
              "</style>\n",
              "<table border=\"1\" class=\"dataframe\">\n",
              "  <thead>\n",
              "    <tr style=\"text-align: right;\">\n",
              "      <th></th>\n",
              "      <th>Correo</th>\n",
              "      <th>Spam</th>\n",
              "    </tr>\n",
              "  </thead>\n",
              "  <tbody>\n",
              "    <tr>\n",
              "      <th>0</th>\n",
              "      <td>Correo 1</td>\n",
              "      <td>1</td>\n",
              "    </tr>\n",
              "    <tr>\n",
              "      <th>1</th>\n",
              "      <td>Correo 2</td>\n",
              "      <td>0</td>\n",
              "    </tr>\n",
              "    <tr>\n",
              "      <th>2</th>\n",
              "      <td>Correo 3</td>\n",
              "      <td>1</td>\n",
              "    </tr>\n",
              "    <tr>\n",
              "      <th>3</th>\n",
              "      <td>Correo 4</td>\n",
              "      <td>1</td>\n",
              "    </tr>\n",
              "    <tr>\n",
              "      <th>4</th>\n",
              "      <td>Correo 5</td>\n",
              "      <td>0</td>\n",
              "    </tr>\n",
              "  </tbody>\n",
              "</table>\n",
              "</div>"
            ],
            "text/plain": [
              "     Correo  Spam\n",
              "0  Correo 1     1\n",
              "1  Correo 2     0\n",
              "2  Correo 3     1\n",
              "3  Correo 4     1\n",
              "4  Correo 5     0"
            ]
          },
          "metadata": {},
          "execution_count": 2
        }
      ]
    },
    {
      "cell_type": "code",
      "metadata": {
        "id": "nKkTKDjYjqRt",
        "colab": {
          "base_uri": "https://localhost:8080/",
          "height": 363
        },
        "outputId": "1305383a-6925-4191-e1cb-7c33dd674748"
      },
      "source": [
        "n = 10\n",
        "tam = np.linspace(2, 10, n)\n",
        "precio = tam * 1000 + 500*np.random.randn(n)\n",
        "df2 = pd.DataFrame({'Tamaño_Motor': tam, 'Precio': precio})\n",
        "df2"
      ],
      "execution_count": null,
      "outputs": [
        {
          "output_type": "execute_result",
          "data": {
            "text/html": [
              "<div>\n",
              "<style scoped>\n",
              "    .dataframe tbody tr th:only-of-type {\n",
              "        vertical-align: middle;\n",
              "    }\n",
              "\n",
              "    .dataframe tbody tr th {\n",
              "        vertical-align: top;\n",
              "    }\n",
              "\n",
              "    .dataframe thead th {\n",
              "        text-align: right;\n",
              "    }\n",
              "</style>\n",
              "<table border=\"1\" class=\"dataframe\">\n",
              "  <thead>\n",
              "    <tr style=\"text-align: right;\">\n",
              "      <th></th>\n",
              "      <th>Tamaño_Motor</th>\n",
              "      <th>Precio</th>\n",
              "    </tr>\n",
              "  </thead>\n",
              "  <tbody>\n",
              "    <tr>\n",
              "      <th>0</th>\n",
              "      <td>2.000000</td>\n",
              "      <td>1765.802126</td>\n",
              "    </tr>\n",
              "    <tr>\n",
              "      <th>1</th>\n",
              "      <td>2.888889</td>\n",
              "      <td>2178.641106</td>\n",
              "    </tr>\n",
              "    <tr>\n",
              "      <th>2</th>\n",
              "      <td>3.777778</td>\n",
              "      <td>3896.950336</td>\n",
              "    </tr>\n",
              "    <tr>\n",
              "      <th>3</th>\n",
              "      <td>4.666667</td>\n",
              "      <td>4108.622261</td>\n",
              "    </tr>\n",
              "    <tr>\n",
              "      <th>4</th>\n",
              "      <td>5.555556</td>\n",
              "      <td>5740.087172</td>\n",
              "    </tr>\n",
              "    <tr>\n",
              "      <th>5</th>\n",
              "      <td>6.444444</td>\n",
              "      <td>6289.439264</td>\n",
              "    </tr>\n",
              "    <tr>\n",
              "      <th>6</th>\n",
              "      <td>7.333333</td>\n",
              "      <td>7599.062753</td>\n",
              "    </tr>\n",
              "    <tr>\n",
              "      <th>7</th>\n",
              "      <td>8.222222</td>\n",
              "      <td>8867.608159</td>\n",
              "    </tr>\n",
              "    <tr>\n",
              "      <th>8</th>\n",
              "      <td>9.111111</td>\n",
              "      <td>9344.807546</td>\n",
              "    </tr>\n",
              "    <tr>\n",
              "      <th>9</th>\n",
              "      <td>10.000000</td>\n",
              "      <td>9912.465493</td>\n",
              "    </tr>\n",
              "  </tbody>\n",
              "</table>\n",
              "</div>"
            ],
            "text/plain": [
              "   Tamaño_Motor       Precio\n",
              "0      2.000000  1765.802126\n",
              "1      2.888889  2178.641106\n",
              "2      3.777778  3896.950336\n",
              "3      4.666667  4108.622261\n",
              "4      5.555556  5740.087172\n",
              "5      6.444444  6289.439264\n",
              "6      7.333333  7599.062753\n",
              "7      8.222222  8867.608159\n",
              "8      9.111111  9344.807546\n",
              "9     10.000000  9912.465493"
            ]
          },
          "metadata": {},
          "execution_count": 3
        }
      ]
    },
    {
      "cell_type": "code",
      "metadata": {
        "id": "sH7EILtJCSeR",
        "colab": {
          "base_uri": "https://localhost:8080/",
          "height": 285
        },
        "outputId": "7f919b5e-3140-461d-c52a-b8d524e80f39"
      },
      "source": [
        "sns.scatterplot(data = df2, x = \"Tamaño_Motor\", y = \"Precio\");"
      ],
      "execution_count": null,
      "outputs": [
        {
          "output_type": "display_data",
          "data": {
            "image/png": "[encoded data removed]",
            "text/plain": [
              "<Figure size 432x288 with 1 Axes>"
            ]
          },
          "metadata": {
            "needs_background": "light"
          }
        }
      ]
    },
    {
      "cell_type": "markdown",
      "metadata": {
        "id": "-1DkNN0DeSFU"
      },
      "source": [
        "Consideremos el siguiente problema: Predecir las emisiones de CO2 dado el siguiente conjunto de datos."
      ]
    },
    {
      "cell_type": "code",
      "metadata": {
        "id": "AGU8UyAlTLWU",
        "colab": {
          "base_uri": "https://localhost:8080/",
          "height": 278
        },
        "outputId": "26803d51-7255-4ee5-b389-d9836c607db9"
      },
      "source": [
        "df = pd.read_csv(\"https://raw.githubusercontent.com/tomasate/Diplomado_ML/main/datasets/data/nivel_1/Data/FuelConsumption.csv\")\n",
        "df.head()"
      ],
      "execution_count": null,
      "outputs": [
        {
          "output_type": "execute_result",
          "data": {
            "text/html": [
              "<div>\n",
              "<style scoped>\n",
              "    .dataframe tbody tr th:only-of-type {\n",
              "        vertical-align: middle;\n",
              "    }\n",
              "\n",
              "    .dataframe tbody tr th {\n",
              "        vertical-align: top;\n",
              "    }\n",
              "\n",
              "    .dataframe thead th {\n",
              "        text-align: right;\n",
              "    }\n",
              "</style>\n",
              "<table border=\"1\" class=\"dataframe\">\n",
              "  <thead>\n",
              "    <tr style=\"text-align: right;\">\n",
              "      <th></th>\n",
              "      <th>MODELYEAR</th>\n",
              "      <th>MAKE</th>\n",
              "      <th>MODEL</th>\n",
              "      <th>VEHICLECLASS</th>\n",
              "      <th>ENGINESIZE</th>\n",
              "      <th>CYLINDERS</th>\n",
              "      <th>TRANSMISSION</th>\n",
              "      <th>FUELTYPE</th>\n",
              "      <th>FUELCONSUMPTION_CITY</th>\n",
              "      <th>FUELCONSUMPTION_HWY</th>\n",
              "      <th>FUELCONSUMPTION_COMB</th>\n",
              "      <th>FUELCONSUMPTION_COMB_MPG</th>\n",
              "      <th>CO2EMISSIONS</th>\n",
              "    </tr>\n",
              "  </thead>\n",
              "  <tbody>\n",
              "    <tr>\n",
              "      <th>0</th>\n",
              "      <td>2014</td>\n",
              "      <td>ACURA</td>\n",
              "      <td>ILX</td>\n",
              "      <td>COMPACT</td>\n",
              "      <td>2.0</td>\n",
              "      <td>4</td>\n",
              "      <td>AS5</td>\n",
              "      <td>Z</td>\n",
              "      <td>9.9</td>\n",
              "      <td>6.7</td>\n",
              "      <td>8.5</td>\n",
              "      <td>33</td>\n",
              "      <td>196</td>\n",
              "    </tr>\n",
              "    <tr>\n",
              "      <th>1</th>\n",
              "      <td>2014</td>\n",
              "      <td>ACURA</td>\n",
              "      <td>ILX</td>\n",
              "      <td>COMPACT</td>\n",
              "      <td>2.4</td>\n",
              "      <td>4</td>\n",
              "      <td>M6</td>\n",
              "      <td>Z</td>\n",
              "      <td>11.2</td>\n",
              "      <td>7.7</td>\n",
              "      <td>9.6</td>\n",
              "      <td>29</td>\n",
              "      <td>221</td>\n",
              "    </tr>\n",
              "    <tr>\n",
              "      <th>2</th>\n",
              "      <td>2014</td>\n",
              "      <td>ACURA</td>\n",
              "      <td>ILX HYBRID</td>\n",
              "      <td>COMPACT</td>\n",
              "      <td>1.5</td>\n",
              "      <td>4</td>\n",
              "      <td>AV7</td>\n",
              "      <td>Z</td>\n",
              "      <td>6.0</td>\n",
              "      <td>5.8</td>\n",
              "      <td>5.9</td>\n",
              "      <td>48</td>\n",
              "      <td>136</td>\n",
              "    </tr>\n",
              "    <tr>\n",
              "      <th>3</th>\n",
              "      <td>2014</td>\n",
              "      <td>ACURA</td>\n",
              "      <td>MDX 4WD</td>\n",
              "      <td>SUV - SMALL</td>\n",
              "      <td>3.5</td>\n",
              "      <td>6</td>\n",
              "      <td>AS6</td>\n",
              "      <td>Z</td>\n",
              "      <td>12.7</td>\n",
              "      <td>9.1</td>\n",
              "      <td>11.1</td>\n",
              "      <td>25</td>\n",
              "      <td>255</td>\n",
              "    </tr>\n",
              "    <tr>\n",
              "      <th>4</th>\n",
              "      <td>2014</td>\n",
              "      <td>ACURA</td>\n",
              "      <td>RDX AWD</td>\n",
              "      <td>SUV - SMALL</td>\n",
              "      <td>3.5</td>\n",
              "      <td>6</td>\n",
              "      <td>AS6</td>\n",
              "      <td>Z</td>\n",
              "      <td>12.1</td>\n",
              "      <td>8.7</td>\n",
              "      <td>10.6</td>\n",
              "      <td>27</td>\n",
              "      <td>244</td>\n",
              "    </tr>\n",
              "  </tbody>\n",
              "</table>\n",
              "</div>"
            ],
            "text/plain": [
              "   MODELYEAR   MAKE  ... FUELCONSUMPTION_COMB_MPG CO2EMISSIONS\n",
              "0       2014  ACURA  ...                       33          196\n",
              "1       2014  ACURA  ...                       29          221\n",
              "2       2014  ACURA  ...                       48          136\n",
              "3       2014  ACURA  ...                       25          255\n",
              "4       2014  ACURA  ...                       27          244\n",
              "\n",
              "[5 rows x 13 columns]"
            ]
          },
          "metadata": {},
          "execution_count": 5
        }
      ]
    },
    {
      "cell_type": "markdown",
      "metadata": {
        "id": "X0I0k-qmeitx"
      },
      "source": [
        "Note que este es un problema de **aprendizaje supervisado**: Los datos de entrada incluyen las *etiquetas*. Como la variable a predecir es una etiqueta continua, entonces la tarea es de regresión.\n",
        "\n",
        "Para resolver el problema podemos construir un modelo lineal simple. ¿Cómo construir el modelo? Cuando hablamos de modelo, normalmente nos referimos a alguna expresión matemática o a un conjunto de ecuaciones. En el caso de la regresión lineal, el modelo es una función lineal de las características predictoras $X$\n",
        "\n",
        "\n",
        "\n",
        "\n",
        "\n",
        "\n"
      ]
    },
    {
      "cell_type": "markdown",
      "metadata": {
        "id": "LIRPGwQVuBGr"
      },
      "source": [
        "$$\\hat{y}(X) = w_0 + w_1 x_1 + \\cdots + w_n x_n = W^T \\cdot X $$\n"
      ]
    },
    {
      "cell_type": "markdown",
      "metadata": {
        "id": "NBTrtfXmuCpn"
      },
      "source": [
        "Donde $$W =\n",
        " \\begin{pmatrix}\n",
        "  w_0 \\\\\n",
        "  w_1 \\\\\n",
        "  \\vdots \\\\\n",
        "  w_n\n",
        " \\end{pmatrix}$$ son los parámetros del modelo. De manera más general, un modelo lineal hace una predicción calculando una suma pesada de las características de entrada, más una constante conocida como el término de sesgo $w_0$.\n",
        "\n",
        "Para simplificar el problema, utilicemos una única característica predictora:"
      ]
    },
    {
      "cell_type": "code",
      "metadata": {
        "colab": {
          "base_uri": "https://localhost:8080/"
        },
        "id": "Bzq-AoX8tD74",
        "outputId": "3250d230-357a-4729-9ae0-15cb14cc948f"
      },
      "source": [
        "df.columns"
      ],
      "execution_count": null,
      "outputs": [
        {
          "output_type": "execute_result",
          "data": {
            "text/plain": [
              "Index(['MODELYEAR', 'MAKE', 'MODEL', 'VEHICLECLASS', 'ENGINESIZE', 'CYLINDERS',\n",
              "       'TRANSMISSION', 'FUELTYPE', 'FUELCONSUMPTION_CITY',\n",
              "       'FUELCONSUMPTION_HWY', 'FUELCONSUMPTION_COMB',\n",
              "       'FUELCONSUMPTION_COMB_MPG', 'CO2EMISSIONS'],\n",
              "      dtype='object')"
            ]
          },
          "metadata": {},
          "execution_count": 6
        }
      ]
    },
    {
      "cell_type": "code",
      "metadata": {
        "id": "f1Kxdvupi2-j",
        "colab": {
          "base_uri": "https://localhost:8080/",
          "height": 285
        },
        "outputId": "34d1b96b-6c32-4d97-e8a1-c63eff881c44"
      },
      "source": [
        "sns.scatterplot(x ='FUELCONSUMPTION_CITY', y = 'CO2EMISSIONS',data = df);"
      ],
      "execution_count": null,
      "outputs": [
        {
          "output_type": "display_data",
          "data": {
            "image/png": "[encoded data removed]",
            "text/plain": [
              "<Figure size 432x288 with 1 Axes>"
            ]
          },
          "metadata": {
            "needs_background": "light"
          }
        }
      ]
    },
    {
      "cell_type": "markdown",
      "metadata": {
        "id": "jbE0YSVhjBsK"
      },
      "source": [
        "En este caso el modelo toma la forma\n",
        "\n",
        "$$\\hat{y}(x_1) = w_0 + w_1 x_1$$\n",
        "\n",
        "¿Cómo elegir los valores de $W$ de tal manera que obtengamos el mejor modelo posible?"
      ]
    },
    {
      "cell_type": "markdown",
      "metadata": {
        "id": "LYby8OUQgr-e"
      },
      "source": [
        "<p><img alt=\"Colaboratory logo\" height=\"300px\" src=\"https://i.imgur.com/U3GzGtz.png\" align=\"center\" hspace=\"10px\" vspace=\"0px\"></p> "
      ]
    },
    {
      "cell_type": "markdown",
      "metadata": {
        "id": "TuwfEUzmjaTB"
      },
      "source": [
        "**Estadística clásica:**\n",
        "\n",
        "En el caso de la estadística clásica, lo que se hace es minimizar el error cuadrático medio (MSE)\n",
        "\n",
        "\n",
        "$$MSE =\\frac{1}{n}\\sum_{i=0}^{n} \\left(y_i-\\hat{y}\\right)^2$$\n",
        "\n",
        "donde $y_i$ son los valores observados y $n$ el número de instancias. El proceso de optimización (minimización) tiene una solución cerrada conocida como la ecuación normal:\n",
        "\n",
        "$$W=(X^{T}\\cdot X)^{-1}\\cdot X^{T}\\cdot y$$\n",
        "\n"
      ]
    },
    {
      "cell_type": "markdown",
      "metadata": {
        "id": "85KVKwL4d1rW"
      },
      "source": [
        "**ML**\n",
        "\n",
        "En el ML, se realiza un proceso similar, donde la función a minimizar (en este caso el MSE) se conoce generalmente como **función de costo/pérdida**\n",
        "\n",
        "$$L =\\frac{1}{n}\\sum_{i=0}^{n} \\left[y_i-\\hat{y}\\right]^2$$\n",
        "\n",
        "Y el proceso de optimización que permite encontrar los parámetros $W$ que minimicen la función de costo/pérdida se conoce como *entrenamiento* del modelo.\n",
        "\n",
        "¿Cuál es entonces la diferencia entre ambas aproximaciones al problema? \n",
        "\n",
        "La principal diferencia entre el ML y la estadística clásica es su propósito y la forma en que evaluamos los modelos.\n",
        "\n",
        "Respecto al propósito, podemos decir que los modelos de ML están diseñados para realizar las predicciones más precisas posibles: Una vez los modelos \"aprendan\" los parámetros $W$, pueden ser utilizados para estimar valores de $y$ dados nuevos valores de $X$.\n",
        "\n",
        "Los modelos estadísticos están diseñados para realizar inferencias sobre las relaciones entre las variables.\n",
        "\n"
      ]
    },
    {
      "cell_type": "markdown",
      "metadata": {
        "id": "CbiFDKNozxw0"
      },
      "source": [
        "**Machine Learning (ML): Terminología**\n",
        "\n",
        "Existen conceptos clave que sientan las bases para una mejor comprensión del ML. Veamos la nomenclatura (términos estándar) que se utiliza para describir los datos, así como los términos utilizados para describir el aprendizaje y el modelado.\n",
        "\n",
        "La estructura tradicional para los datos en el campo del ML tienen la siguiente forma:\n",
        "\n",
        "![picture](https://3qeqpr26caki16dnhd19sv6by6v-wpengine.netdna-ssl.com/wp-content/uploads/2013/12/Table-of-Data-Showing-an-Instance-Feature-and-Train-Test-Datasets.png)"
      ]
    },
    {
      "cell_type": "markdown",
      "metadata": {
        "id": "lxItwnygz_x7"
      },
      "source": [
        "Vemos que en el caso del ML hacemos algo llamado *entrenar* el modelo, que implica usar un subconjunto de nuestros datos, y no sabemos qué tan bien funcionará el modelo hasta que 'probamos' estos datos en datos adicionales que no estaban presentes durante el entrenamiento, llamado *conjunto de prueba*. **El propósito del ML, en este caso, es obtener el mejor rendimiento posible en el conjunto de prueba.**\n",
        "\n",
        "Para el modelo estadístico, encontramos una línea que minimiza el error cuadrático. No es necesario ningún conjunto de entrenamiento ni de prueba. Para muchos casos, el objetivo de nuestro modelo es caracterizar la relación entre los datos y nuestra variable objetivo, no hacer predicciones sobre datos futuros. A este procedimiento lo llamamos *inferencia estadística*, en oposición a predicción. Sin embargo, todavía podemos usar este modelo para hacer predicciones, y este puede ser su propósito principal, pero la forma en que se evalúa el modelo no implicará un conjunto de prueba y, en cambio, implicará evaluar la significancia y la robustes de los parámetros del modelo.\n",
        "\n",
        "Debe quedar claro que estos dos enfoques son diferentes en su objetivo, a pesar de utilizar medios similares. La evaluación del algoritmo de ML utiliza un conjunto de prueba para validar su precisión. Mientras que, para un modelo estadístico, el análisis de los parámetros de la regresión se hace a través de intervalos de confianza, pruebas de significancia y demás pruebas estadísticas que permitan evaluar la calidad del modelo. Dado que estos métodos producen el mismo resultado, es fácil ver por qué se podría suponer que son iguales."
      ]
    },
    {
      "cell_type": "markdown",
      "metadata": {
        "id": "xoy6Z9lVETyu"
      },
      "source": [
        "**Ejercicio**\n",
        "\n",
        "Usar la ecuacion \n",
        "\\begin{equation}\n",
        "W = (X^T\\cdot X)^{-1} \\cdot X^T \\cdot y\n",
        "\\end{equation}\n",
        "para hallar los pesos $W$\n"
      ]
    },
    {
      "cell_type": "code",
      "metadata": {
        "id": "5HabTV1-qW35"
      },
      "source": [
        "y = df.CO2EMISSIONS\n",
        "#X = np.vstack((np.ones(df.shape[0]),np.array(df.FUELCONSUMPTION_CITY))).T\n",
        "X = np.c_[np.ones(df.shape[0]),np.array(df.FUELCONSUMPTION_CITY)]"
      ],
      "execution_count": null,
      "outputs": []
    },
    {
      "cell_type": "markdown",
      "metadata": {
        "id": "nGcOZaZ7rEAo"
      },
      "source": [
        "###**NOTACIÓN**\n",
        "Si el modelo tiene una sola característica entonces mi variable objetivo la llamaremos $y$ i.e.\n",
        "\n",
        "$$y(x) = \\alpha_0+\\alpha_1x_1$$\n",
        "\n",
        "Si el modelo tiene dos características, entonces mi variable objetivo la llamaremos $z$ i.e.\n",
        "\n",
        "$$z(x) = \\alpha_0+\\alpha_1x_1+\\alpha_2x_2$$"
      ]
    },
    {
      "cell_type": "markdown",
      "metadata": {
        "id": "yfbgL6UprrsX"
      },
      "source": [
        "\\begin{equation}\n",
        "W = (X^T\\cdot X)^{-1} \\cdot X^T \\cdot y\n",
        "\\end{equation}"
      ]
    },
    {
      "cell_type": "code",
      "metadata": {
        "id": "F_1xB65h1WQK"
      },
      "source": [
        "W = np.linalg.inv(X.T @ X) @ X.T @ y "
      ],
      "execution_count": null,
      "outputs": []
    },
    {
      "cell_type": "code",
      "metadata": {
        "colab": {
          "base_uri": "https://localhost:8080/"
        },
        "id": "pv65NKLv3Dy5",
        "outputId": "d79c28ae-1f5e-4762-b797-ceba656eb9ba"
      },
      "source": [
        "W"
      ],
      "execution_count": null,
      "outputs": [
        {
          "output_type": "execute_result",
          "data": {
            "text/plain": [
              "array([71.7202284 , 13.87643376])"
            ]
          },
          "metadata": {},
          "execution_count": 51
        }
      ]
    },
    {
      "cell_type": "code",
      "metadata": {
        "id": "pzfEOtoSFxFM"
      },
      "source": [
        "w0 = W[0]\n",
        "w1 = W[1]"
      ],
      "execution_count": null,
      "outputs": []
    },
    {
      "cell_type": "code",
      "metadata": {
        "id": "ksAwbLdQNzeh",
        "colab": {
          "base_uri": "https://localhost:8080/",
          "height": 285
        },
        "outputId": "820bf710-0ac5-452a-9615-072e70aada55"
      },
      "source": [
        "sns.scatterplot(x ='FUELCONSUMPTION_CITY', y = 'CO2EMISSIONS',data = df)\n",
        "plt.plot(X, w0 + w1 * X, \"r--\");"
      ],
      "execution_count": null,
      "outputs": [
        {
          "output_type": "display_data",
          "data": {
            "image/png": "[encoded data removed]",
            "text/plain": [
              "<Figure size 432x288 with 1 Axes>"
            ]
          },
          "metadata": {
            "needs_background": "light"
          }
        }
      ]
    },
    {
      "cell_type": "markdown",
      "metadata": {
        "id": "FCdXYq0vv7o4"
      },
      "source": [
        "Obtengamos la predicción del modelo para un nuevo valor $X_n$"
      ]
    },
    {
      "cell_type": "code",
      "metadata": {
        "id": "WYHAV5fqFxTp",
        "colab": {
          "base_uri": "https://localhost:8080/"
        },
        "outputId": "d7179b1d-2e12-40f5-f391-03078e07df65"
      },
      "source": [
        "x_n = np.array([1, 12])\n",
        "print(x_n)"
      ],
      "execution_count": null,
      "outputs": [
        {
          "output_type": "stream",
          "name": "stdout",
          "text": [
            "[ 1 12]\n"
          ]
        }
      ]
    },
    {
      "cell_type": "code",
      "metadata": {
        "id": "Fxopy2_uLtfd",
        "colab": {
          "base_uri": "https://localhost:8080/"
        },
        "outputId": "30129d8b-bf6c-49ef-f2af-2ec5bab5e9fb"
      },
      "source": [
        "y_pred = W @ x_n\n",
        "print(y_pred)"
      ],
      "execution_count": null,
      "outputs": [
        {
          "output_type": "stream",
          "name": "stdout",
          "text": [
            "238.23743349481035\n"
          ]
        }
      ]
    },
    {
      "cell_type": "markdown",
      "metadata": {
        "id": "SzVbn1yYs3sX"
      },
      "source": [
        "**Clases**\n",
        "\n",
        "Las clases proporcionan un medio de agrupar datos y \"funcionalidad\". La creación de una nueva clase crea un nuevo tipo de objeto, lo que permite crear nuevas *instancias* de ese tipo. Cada instancia de la clase puede tener sus propios atributos. Las instancias de una clase también pueden tener *métodos* (definidos por su clase) para modificar su estado.\n"
      ]
    },
    {
      "cell_type": "code",
      "metadata": {
        "id": "LRaizMaxCtEr"
      },
      "source": [
        "class Persona:\n",
        "  pass"
      ],
      "execution_count": null,
      "outputs": []
    },
    {
      "cell_type": "code",
      "metadata": {
        "id": "W0vtM4a7CwYo"
      },
      "source": [
        "p1 = Persona()\n",
        "pp = Persona()"
      ],
      "execution_count": null,
      "outputs": []
    },
    {
      "cell_type": "code",
      "metadata": {
        "id": "70KJ5P6DDENl",
        "colab": {
          "base_uri": "https://localhost:8080/"
        },
        "outputId": "9fa1717d-06b3-4b40-e1fe-c39e74e4d2bd"
      },
      "source": [
        "print(p1, pp)"
      ],
      "execution_count": null,
      "outputs": [
        {
          "output_type": "stream",
          "name": "stdout",
          "text": [
            "<__main__.Persona object at 0x7f4ad690b950> <__main__.Persona object at 0x7f4ad690b790>\n"
          ]
        }
      ]
    },
    {
      "cell_type": "markdown",
      "metadata": {
        "id": "CqU_4pDFEj7_"
      },
      "source": [
        "Podría asignarle atributos de la siguiente manera"
      ]
    },
    {
      "cell_type": "code",
      "metadata": {
        "id": "JiyoGkJwu38U",
        "colab": {
          "base_uri": "https://localhost:8080/"
        },
        "outputId": "968a6da0-0aef-4a33-fa2a-99aea4755fa7"
      },
      "source": [
        "p1.nombre = \"Carlos\"\n",
        "print(p1.nombre)"
      ],
      "execution_count": null,
      "outputs": [
        {
          "output_type": "stream",
          "name": "stdout",
          "text": [
            "Carlos\n"
          ]
        }
      ]
    },
    {
      "cell_type": "code",
      "metadata": {
        "id": "H64WXG9hDKZp",
        "colab": {
          "base_uri": "https://localhost:8080/"
        },
        "outputId": "0904910b-184d-421a-ed42-9530198460f1"
      },
      "source": [
        "try:\n",
        "  print(pp.nombre)\n",
        "except Exception as e:\n",
        "  print(e)"
      ],
      "execution_count": null,
      "outputs": [
        {
          "output_type": "stream",
          "name": "stdout",
          "text": [
            "'Persona' object has no attribute 'nombre'\n"
          ]
        }
      ]
    },
    {
      "cell_type": "markdown",
      "metadata": {
        "id": "29Ld5lctEqzG"
      },
      "source": [
        "Ó definiéndolos desde la misma clase"
      ]
    },
    {
      "cell_type": "code",
      "metadata": {
        "id": "qZ7Iq4TUDmPK"
      },
      "source": [
        "class Persona:\n",
        "\n",
        "  def __init__(self, name, lastname):\n",
        "    self.nombre = name\n",
        "    self.apellido = lastname"
      ],
      "execution_count": null,
      "outputs": []
    },
    {
      "cell_type": "code",
      "metadata": {
        "id": "V3CHzwgTEL8p",
        "colab": {
          "base_uri": "https://localhost:8080/"
        },
        "outputId": "95de501c-a8aa-4785-95dd-923a59e786ff"
      },
      "source": [
        "p1 = Persona(\"Carlos\", \"Garzón\")\n",
        "pp = Persona(\"Andrés\", \"Arboleda\")\n",
        "\n",
        "print(p1.nombre, pp.apellido)"
      ],
      "execution_count": null,
      "outputs": [
        {
          "output_type": "stream",
          "name": "stdout",
          "text": [
            "Carlos Arboleda\n"
          ]
        }
      ]
    },
    {
      "cell_type": "markdown",
      "metadata": {
        "id": "mOtXgjqtoeUD"
      },
      "source": [
        "Podemos además crear funciones o métodos para la misma clase."
      ]
    },
    {
      "cell_type": "code",
      "metadata": {
        "id": "vzEsVdsYE0_l"
      },
      "source": [
        "class Persona:\n",
        "\n",
        "  def __init__(self, name = \"N\", lastname = \"N\"):\n",
        "    self.nombre = name\n",
        "    self.apellido = lastname\n",
        "\n",
        "  def saludo(self, age):\n",
        "    self.edad = age\n",
        "    print(f\"Cordial saludo, mi nombre es {self.nombre} {self.apellido}, tengo {self.edad} años ¿cómo está?\")\n"
      ],
      "execution_count": null,
      "outputs": []
    },
    {
      "cell_type": "code",
      "metadata": {
        "colab": {
          "base_uri": "https://localhost:8080/"
        },
        "id": "YgD8xQeS0zHA",
        "outputId": "d916df3f-d764-49fb-ac2d-6c7b64190f39"
      },
      "source": [
        "p = Persona()\n",
        "p.saludo(0)"
      ],
      "execution_count": null,
      "outputs": [
        {
          "output_type": "stream",
          "name": "stdout",
          "text": [
            "Cordial saludo, mi nombre es N N, tengo 0 años ¿cómo está?\n"
          ]
        }
      ]
    },
    {
      "cell_type": "code",
      "metadata": {
        "id": "LXXfXVTCFES0",
        "colab": {
          "base_uri": "https://localhost:8080/"
        },
        "outputId": "7771523f-f659-46a0-b069-9b01ac198cda"
      },
      "source": [
        "p1 = Persona(\"Carlos\", \"Garzón\")\n",
        "pp = Persona(\"Andrés\", \"Arboleda\")\n",
        "\n",
        "p1.saludo(22)"
      ],
      "execution_count": null,
      "outputs": [
        {
          "output_type": "stream",
          "name": "stdout",
          "text": [
            "Cordial saludo, mi nombre es Carlos Garzón, tengo 22 años ¿cómo está?\n"
          ]
        }
      ]
    },
    {
      "cell_type": "code",
      "metadata": {
        "colab": {
          "base_uri": "https://localhost:8080/"
        },
        "id": "k4LCsRq50liF",
        "outputId": "9d88aea3-e9ee-4495-c6cd-0a7ce7f655d1"
      },
      "source": [
        "p1.edad"
      ],
      "execution_count": null,
      "outputs": [
        {
          "output_type": "execute_result",
          "data": {
            "text/plain": [
              "22"
            ]
          },
          "metadata": {},
          "execution_count": 36
        }
      ]
    },
    {
      "cell_type": "markdown",
      "metadata": {
        "id": "ES_PtE23uYHQ"
      },
      "source": [
        "\n",
        "Definamos una clase `RegresionLineal`cuyos métodos nos permitan entrenar un modelo de regresión lineal (`ajustar`) y realizar predicciones a partir del modelo entrenado (`predecir`)"
      ]
    },
    {
      "cell_type": "code",
      "metadata": {
        "id": "SbxfHrpXubVV"
      },
      "source": [
        "class RegresionLineal:\n",
        "  \n",
        "  def __init__(self, X1, y1):\n",
        "    \"\"\"Inicializa un objeto de tipo RegresionLineal\"\"\"\n",
        "    self.X = np.c_[np.ones(len(X1)),np.array(X1)]\n",
        "    self.y = np.array(y1)\n",
        "  \n",
        "  def entrenar(self):\n",
        "    \"\"\"\n",
        "    Realiza un entrenamiento para generar un modelo \n",
        "    que se adapte a los datos de la regresión.\n",
        "    \"\"\"\n",
        "    self.W = np.linalg.inv(self.X.T @ self.X) @ self.X.T @ self.y\n",
        "\n",
        "  def predecir(self, X_n):\n",
        "    \"\"\"\n",
        "    Realiza una predicción con el modelo de regresión lineal, \n",
        "    para un valor flotante X_n o una serie de valores flotantes X_n\n",
        "    \"\"\"\n",
        "    xn = np.c_[np.ones(len(X_n)), X_n]\n",
        "    return xn @ self.W\n",
        "\n",
        "  def grafica(self, xv, yv):\n",
        "    \"\"\"\n",
        "    Genera una gráfica con el modelo para los datos de la regresión\n",
        "    \"\"\"\n",
        "    x = self.X[:,1]\n",
        "    df = pd.DataFrame(np.vstack((x,np.array(self.y))).T, columns= [xv, yv])\n",
        "    sns.scatterplot(x = xv, y = yv, data = df)\n",
        "    plt.plot(self.X, self.W[0] + self.W[1] * self.X, \"r--\");"
      ],
      "execution_count": null,
      "outputs": []
    },
    {
      "cell_type": "code",
      "metadata": {
        "colab": {
          "base_uri": "https://localhost:8080/"
        },
        "id": "m7Q64H675n_A",
        "outputId": "94aa3660-f330-4499-dc0f-d968cf4307a4"
      },
      "source": [
        "np.vstack((X[:,1],np.array(y))).T"
      ],
      "execution_count": null,
      "outputs": [
        {
          "output_type": "execute_result",
          "data": {
            "text/plain": [
              "array([[  9.9, 196. ],\n",
              "       [ 11.2, 221. ],\n",
              "       [  6. , 136. ],\n",
              "       ...,\n",
              "       [ 13.4, 271. ],\n",
              "       [ 12.9, 260. ],\n",
              "       [ 14.9, 294. ]])"
            ]
          },
          "metadata": {},
          "execution_count": 111
        }
      ]
    },
    {
      "cell_type": "code",
      "metadata": {
        "id": "bpJQ2qKlunuR",
        "colab": {
          "base_uri": "https://localhost:8080/"
        },
        "outputId": "2825fbd1-9bbb-4bf8-8762-f2c54a120ff5"
      },
      "source": [
        "help(RegresionLineal)"
      ],
      "execution_count": null,
      "outputs": [
        {
          "output_type": "stream",
          "name": "stdout",
          "text": [
            "Help on class RegresionLineal in module __main__:\n",
            "\n",
            "class RegresionLineal(builtins.object)\n",
            " |  RegresionLineal(X1, y1)\n",
            " |  \n",
            " |  Methods defined here:\n",
            " |  \n",
            " |  __init__(self, X1, y1)\n",
            " |      Inicializa un objeto de tipo RegresionLineal\n",
            " |  \n",
            " |  entrenar(self)\n",
            " |      Realiza un entrenamiento para generar un modelo \n",
            " |      que se adapte a los datos de la regresión.\n",
            " |  \n",
            " |  grafica(self, xv, yv)\n",
            " |      Genera una gráfica con el modelo para los datos de la regresión\n",
            " |  \n",
            " |  predecir(self, X_n)\n",
            " |      Realiza una predicción con el modelo de regresión lineal, \n",
            " |      para un valor flotante X_n o una serie de valores flotantes X_n\n",
            " |  \n",
            " |  ----------------------------------------------------------------------\n",
            " |  Data descriptors defined here:\n",
            " |  \n",
            " |  __dict__\n",
            " |      dictionary for instance variables (if defined)\n",
            " |  \n",
            " |  __weakref__\n",
            " |      list of weak references to the object (if defined)\n",
            "\n"
          ]
        }
      ]
    },
    {
      "cell_type": "code",
      "metadata": {
        "id": "v2rm_MbVun_q"
      },
      "source": [
        "modelo = RegresionLineal(df.FUELCONSUMPTION_CITY, df.CO2EMISSIONS)"
      ],
      "execution_count": null,
      "outputs": []
    },
    {
      "cell_type": "code",
      "metadata": {
        "id": "GTEsZ7YQvKD0"
      },
      "source": [
        "modelo.entrenar()"
      ],
      "execution_count": null,
      "outputs": []
    },
    {
      "cell_type": "code",
      "metadata": {
        "id": "vHLyqWEN1GKH",
        "colab": {
          "base_uri": "https://localhost:8080/"
        },
        "outputId": "9be45788-46a3-43c1-d520-9ae4d934e615"
      },
      "source": [
        "modelo.W"
      ],
      "execution_count": null,
      "outputs": [
        {
          "output_type": "execute_result",
          "data": {
            "text/plain": [
              "array([71.7202284 , 13.87643376])"
            ]
          },
          "metadata": {},
          "execution_count": 115
        }
      ]
    },
    {
      "cell_type": "code",
      "metadata": {
        "colab": {
          "base_uri": "https://localhost:8080/"
        },
        "id": "oA2nkv3N3Huq",
        "outputId": "f7476b8e-7217-4aba-977c-d7f551228449"
      },
      "source": [
        "modelo.predecir([12, 13])"
      ],
      "execution_count": null,
      "outputs": [
        {
          "output_type": "execute_result",
          "data": {
            "text/plain": [
              "array([238.23743349, 252.11386725])"
            ]
          },
          "metadata": {},
          "execution_count": 116
        }
      ]
    },
    {
      "cell_type": "code",
      "metadata": {
        "colab": {
          "base_uri": "https://localhost:8080/"
        },
        "id": "iFeR_vni6_gb",
        "outputId": "e720225e-a67e-4195-edb8-4f9e5f7c8a68"
      },
      "source": [
        "df.columns"
      ],
      "execution_count": null,
      "outputs": [
        {
          "output_type": "execute_result",
          "data": {
            "text/plain": [
              "Index(['MODELYEAR', 'MAKE', 'MODEL', 'VEHICLECLASS', 'ENGINESIZE', 'CYLINDERS',\n",
              "       'TRANSMISSION', 'FUELTYPE', 'FUELCONSUMPTION_CITY',\n",
              "       'FUELCONSUMPTION_HWY', 'FUELCONSUMPTION_COMB',\n",
              "       'FUELCONSUMPTION_COMB_MPG', 'CO2EMISSIONS'],\n",
              "      dtype='object')"
            ]
          },
          "metadata": {},
          "execution_count": 117
        }
      ]
    },
    {
      "cell_type": "code",
      "metadata": {
        "colab": {
          "base_uri": "https://localhost:8080/",
          "height": 285
        },
        "id": "xhDSFJKB5ZFW",
        "outputId": "2ee6afd8-5b49-4c4e-bca2-7fcd3cf72a70"
      },
      "source": [
        "modelo.grafica('FUELCONSUMPTION_CITY','CO2EMISSIONS')"
      ],
      "execution_count": null,
      "outputs": [
        {
          "output_type": "display_data",
          "data": {
            "image/png": "[encoded data removed]",
            "text/plain": [
              "<Figure size 432x288 with 1 Axes>"
            ]
          },
          "metadata": {
            "needs_background": "light"
          }
        }
      ]
    },
    {
      "cell_type": "markdown",
      "metadata": {
        "id": "_xZlm8m5J_UU"
      },
      "source": [
        "<p><a name=\"skl\"></a></p>\n",
        "\n",
        "# **Introducción a Sklearn (Sci-kit Learn)**\n",
        "\n",
        "[Sklearn](https://scikit-learn.org/stable/index.html) nos proporciona una colección de clases y funciones relacionadas con ML que podemos importar en nuestros programas. Entre otras cosas, incluye algoritmos de ML clásicos, herramientas para la evaluación de modelos, así como elementos para el preprocesamiento de los datos.\n",
        "\n",
        "Todos los objetos dentro de scikit-learn comparten una API básica que consta de tres interfaces complementarias: una interfaz de estimador para construir y ajustar modelos, una interfaz de predicción y una interfaz de transformación para los datos. \n",
        "\n",
        "\n",
        "\n",
        "\n",
        "\n",
        "\n",
        "\n",
        "\n",
        "\n",
        "\n",
        "\n",
        "\n",
        "\n",
        "\n",
        "\n",
        "\n"
      ]
    },
    {
      "cell_type": "markdown",
      "metadata": {
        "id": "BTXqp0JOvd6I"
      },
      "source": [
        "**Estimador**\n",
        "\n",
        "La interfaz del estimador es el núcleo de la libreria. Define los mecanismos para la creación de los objetos. Todos los algoritmos de aprendizaje supervisado ​​y no supervisado se presentan como objetos que implementan esta interfaz. \n",
        "\n",
        "Cualquier objeto que pueda estimar algunos parámetros basados en un conjunto de datos se llama estimador. Por ejemplo, el objeto `LinearRegression`, nos permite obtener un modelo de regresion lineal (estimar los parámetros $W$), es un ejemplo de estimador."
      ]
    },
    {
      "cell_type": "code",
      "metadata": {
        "id": "8KcifEYvJ4UU"
      },
      "source": [
        "from sklearn.linear_model import LinearRegression\n",
        "\n",
        "LinearRegression?"
      ],
      "execution_count": null,
      "outputs": []
    },
    {
      "cell_type": "markdown",
      "metadata": {
        "id": "mR0zsfZAv6Qc"
      },
      "source": [
        "Ahora, La inicialización del estimador y el entrenamiento realmente están estrictamente separados. Inicialicemos el estimador:"
      ]
    },
    {
      "cell_type": "code",
      "metadata": {
        "id": "kntMd4fPv39I"
      },
      "source": [
        "model = LinearRegression()"
      ],
      "execution_count": null,
      "outputs": []
    },
    {
      "cell_type": "code",
      "metadata": {
        "id": "NgRsUTBD8MfU"
      },
      "source": [
        "help(model)"
      ],
      "execution_count": null,
      "outputs": []
    },
    {
      "cell_type": "markdown",
      "metadata": {
        "id": "32osNsutwCMi"
      },
      "source": [
        "Ahora en este punto debemos diferenciar dos elementos del proceso: Los parametros y los hiperparametros.\n",
        "\n",
        "* **Parámetros:** Son aquellos parámetros que pertenecen al modelo y que se utilizan en el entrenamiendo, que como vimos es simplemente el proceso de optimización de estos parámetros respecto a alguna función de pérdida que se defina.\n",
        "\n",
        "* **Hiperparámetros:** Son parametros del algoritmo y no del modelo como tal. Estos son parametros que se deben definir previo al proceso de entrenamiento y que permanecerán constantes durante este proceso.\n",
        "\n",
        "\n",
        "Un estimador se inicializa a partir de un conjunto de hiperparámetros constantes. Podemos considerar el estimador como una función que asigna estos hiperparámetros a los algoritmos de aprendizaje.\n",
        "\n",
        "Noten que el constructor de un estimador no utiliza ningún dato como tal, ni realiza ningún aprendizaje real. Todo lo que hace es proporcionar los hiperparámetros especificados al objeto.\n",
        "\n",
        "El aprendizaje real se realiza mediante el método `fit`. Este método toma como argumentos los datos de entrenamiento"
      ]
    },
    {
      "cell_type": "code",
      "metadata": {
        "id": "c-z7Nx9A4VjK"
      },
      "source": [
        "X = df[[\"FUELCONSUMPTION_CITY\"]]\n",
        "y = df.CO2EMISSIONS"
      ],
      "execution_count": null,
      "outputs": []
    },
    {
      "cell_type": "markdown",
      "metadata": {
        "id": "1rXUr6YhxjfC"
      },
      "source": [
        "El método `fit` se encarga de ejecutar un algoritmo de aprendizaje y determinar los parámetros específicos del modelo a partir de los datos de entrenamiento y establecer estos parámetros como atributos del objeto\n",
        "\n",
        "\n"
      ]
    },
    {
      "cell_type": "code",
      "metadata": {
        "id": "vu5uCjS3v-nh"
      },
      "source": [
        "model.fit(X,y);"
      ],
      "execution_count": null,
      "outputs": []
    },
    {
      "cell_type": "code",
      "metadata": {
        "id": "CwyE83Ye4Ee7",
        "colab": {
          "base_uri": "https://localhost:8080/"
        },
        "outputId": "a1c4766b-7b39-480f-9299-5aa9d744be90"
      },
      "source": [
        "print(f\"Cesgo (w_0): {model.intercept_}\")\n",
        "print(f\"Pendiente (w_1): {model.coef_}\")"
      ],
      "execution_count": null,
      "outputs": [
        {
          "output_type": "stream",
          "name": "stdout",
          "text": [
            "Cesgo (w_0): 71.72022839690194\n",
            "Pendiente (w_1): [13.87643376]\n"
          ]
        }
      ]
    },
    {
      "cell_type": "markdown",
      "metadata": {
        "id": "SbIILk9Ix8rE"
      },
      "source": [
        "En scikit-learn, los algoritmos de aprendizaje clásicos no son los únicos objetos que se implementan como estimadores. Por ejemplo, las rutinas de preprocesamiento, que veremos más adelante, también implementan la interfaz del estimador."
      ]
    },
    {
      "cell_type": "markdown",
      "metadata": {
        "id": "F5z25pUpyW6l"
      },
      "source": [
        "**Predictor**\n",
        "\n",
        "La interfaz del predictor amplía la noción de un estimador al agregar un método de predicción  `predict` que toma un conjunto de datos de nuevas instancias y devuelve un conjunto de datos de predicciones correspondientes"
      ]
    },
    {
      "cell_type": "code",
      "metadata": {
        "id": "-hCWH0Qdwnlo",
        "colab": {
          "base_uri": "https://localhost:8080/"
        },
        "outputId": "99a51967-ea89-42af-e432-ab20c2e8caf1"
      },
      "source": [
        "model.predict(np.array([[12]]))"
      ],
      "execution_count": null,
      "outputs": [
        {
          "output_type": "execute_result",
          "data": {
            "text/plain": [
              "array([238.23743349])"
            ]
          },
          "metadata": {},
          "execution_count": 131
        }
      ]
    },
    {
      "cell_type": "markdown",
      "metadata": {
        "id": "job2LpBwyfwd"
      },
      "source": [
        "Ahora, Además de `predict`, los predictores también pueden implementar algunos métodos que cuantifican la confianza de las predicciones más que la prediccion como tal. Por ejemplo, si tenemos como salida un clase binaria o múltiple, en muchos casos más que saber la predicción del modelo, vamos a querer saber cuál es la probabilidad de que la salida pertenezca a una clase u otra. \n",
        "\n",
        "Los predictores También tiene un método `score` que mide la calidad de las predicciones dado un conjunto de prueba. Esto lo veremos de mejor manera cuando estudiemos las métricas para la evaluación de los modelos.\n"
      ]
    },
    {
      "cell_type": "markdown",
      "metadata": {
        "id": "aMjF8lm_ynFN"
      },
      "source": [
        "**Transformadores**\n",
        "\n",
        "Dado que es muy común modificar o filtrar los datos antes de usarlos para alimentar un algoritmo de ML, algunos estimadores en la librería implementan una interfaz de transformador. la transformación se realiza mediante el método `transform`, que toma algunos datos y produce como salida una versión transformada de estos. \n",
        "\n",
        "Por ejemplo, Los algoritmos de preprocesamiento, selección de características, extracción de características y reducción de dimensionalidad se proporcionan como transformadores dentro de la libreria.\n",
        "\n",
        "Los transformadores también tienen un método conveniente llamado `fit_transform` que es equivalente a llamar a `fit` y luego aplicar `transform`.\n",
        "\n",
        "\n",
        "\n",
        "\n",
        "\n"
      ]
    },
    {
      "cell_type": "markdown",
      "metadata": {
        "id": "n5xmitw1zPTf"
      },
      "source": [
        "Con estos elementos en principio deberíamos tener claro la correspondencia entre los conceptos y elementos del ML y la forma en que sklearn asigna estos conceptos y elementos a los objetos de Python y sus funcionalidades."
      ]
    }
  ]
}