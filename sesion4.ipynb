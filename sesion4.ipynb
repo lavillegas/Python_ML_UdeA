{
  "nbformat": 4,
  "nbformat_minor": 0,
  "metadata": {
    "colab": {
      "name": "sesion4.ipynb",
      "provenance": [],
      "collapsed_sections": [],
      "include_colab_link": true
    },
    "kernelspec": {
      "name": "python3",
      "display_name": "Python 3"
    }
  },
  "cells": [
    {
      "cell_type": "markdown",
      "metadata": {
        "id": "view-in-github",
        "colab_type": "text"
      },
      "source": [
        "<a href=\"https://colab.research.google.com/github/lavillegas/Python_ML_UdeA/blob/main/sesion4.ipynb\" target=\"_parent\"><img src=\"https://colab.research.google.com/assets/colab-badge.svg\" alt=\"Open In Colab\"/></a>"
      ]
    },
    {
      "cell_type": "markdown",
      "metadata": {
        "id": "sooTJcqEUgPQ"
      },
      "source": [
        "<p><img alt=\"Colaboratory logo\" height=\"140px\" src=\"https://upload.wikimedia.org/wikipedia/commons/archive/f/fb/20161010213812%21Escudo-UdeA.svg\" align=\"left\" hspace=\"10px\" vspace=\"0px\"></p>\n",
        "\n",
        "# **Diplomado de Análisis de datos y Machine Learning en Python**\n",
        "\n",
        "\n",
        "El presente diplomado hace parte del centro de Big Data de la facultad de ciencias exactas y naturales (FCEN) de la Universidad de Antioquia.\n",
        "\n",
        "## **Sesión 4**\n",
        "\n",
        "## **Contenido**\n",
        "  \n",
        "- <a href=\"#est\"> Estructuras de datos</a><br>\n",
        "  - <a href=\"#lis\"> Listas</a><br>\n",
        "    - <a href=\"#ind\"> Indexación y segmentación</a><br>\n",
        "    - <a href=\"#lpc\"> Listas por comprensión</a><br>\n",
        "  - <a href=\"#tup\"> Tuplas</a><br>\n",
        "  - <a href=\"#dic\"> Diccionarios</a><br>\n",
        "\n",
        "\n",
        "\n",
        "\n"
      ]
    },
    {
      "cell_type": "markdown",
      "metadata": {
        "id": "kCOIbNl5VeIr"
      },
      "source": [
        "<p><a name=\"est\"></a></p>\n",
        "\n",
        "# **Estructuras de datos**\n",
        "\n",
        "\n",
        "Hemos visto los tipos de variables simples de Python: `int`, `float` , `bool`, `str` y `None`. Adicionalmente, Python tiene varios tipos compuestos, que actúan como contenedores para otros tipos. Estos tipos compuestos son: Listas, tuplas y diccionarios. Vamos a estudiar cada una de estas estructuras:"
      ]
    },
    {
      "cell_type": "markdown",
      "metadata": {
        "id": "jdwQ4EuWVzk5"
      },
      "source": [
        "<p><a name=\"lis\"></a></p>\n",
        "\n",
        "## **Listas**\n",
        "\n",
        "Las listas son un tipo básico de colección de datos *ordenados* y *mutables* en Python. Cuando decimos que son ordenados queremos decir que para este objeto se tiene una noción de posición para sus elementos, que ya veremos en la sección de *indexación*. Como ya hemos mencionado, la *mutabilidad* hace referencia a que podemos modificar el objeto. \n",
        "\n",
        "Las listas se pueden definir con valores separados por comas entre corchetes"
      ]
    },
    {
      "cell_type": "code",
      "metadata": {
        "id": "5epoK4flUfVi",
        "colab": {
          "base_uri": "https://localhost:8080/"
        },
        "outputId": "8c381a3a-e715-4027-8e5d-ae4a3ef284f0"
      },
      "source": [
        "l1 = [1, 5, 4, 3, 2]\n",
        "l2 = [6, 9, 7, 8, 0]\n",
        "l3 = list()\n",
        "\n",
        "for i in range(len(l1)):\n",
        "  l3.append(l1[i] + l2[i])\n",
        "\n",
        "print(l3)"
      ],
      "execution_count": null,
      "outputs": [
        {
          "output_type": "stream",
          "text": [
            "[7, 14, 11, 11, 2]\n"
          ],
          "name": "stdout"
        }
      ]
    },
    {
      "cell_type": "markdown",
      "metadata": {
        "id": "GoDhgKAKV5wY"
      },
      "source": [
        " \n",
        "\n",
        "\n",
        "\n",
        "Podemos obtener la longitud o número de elementos de la lista con la función propia de Python `len`:"
      ]
    },
    {
      "cell_type": "code",
      "metadata": {
        "id": "aBE62S5XbXEF",
        "colab": {
          "base_uri": "https://localhost:8080/"
        },
        "outputId": "48d6895f-f78e-4417-9718-1afd74dcd555"
      },
      "source": [
        "len(l3)"
      ],
      "execution_count": null,
      "outputs": [
        {
          "output_type": "execute_result",
          "data": {
            "text/plain": [
              "5"
            ]
          },
          "metadata": {},
          "execution_count": 5
        }
      ]
    },
    {
      "cell_type": "code",
      "metadata": {
        "id": "ED_XAHPzV3r5",
        "colab": {
          "base_uri": "https://localhost:8080/"
        },
        "outputId": "5de92569-dd0e-4f12-b4f0-a59396e24bdc"
      },
      "source": [
        "nombre = \"Thomas\"\n",
        "len(nombre)"
      ],
      "execution_count": null,
      "outputs": [
        {
          "output_type": "execute_result",
          "data": {
            "text/plain": [
              "6"
            ]
          },
          "metadata": {},
          "execution_count": 7
        }
      ]
    },
    {
      "cell_type": "markdown",
      "metadata": {
        "id": "8eqVFr21BhZA"
      },
      "source": [
        "Podemos obtener la suma de los elementos, el valor máximo y mínimo de la lista con las funciones de agregación `sum`, `max` y `min`, respectivamente:"
      ]
    },
    {
      "cell_type": "code",
      "metadata": {
        "id": "4x70GvvnBwV7",
        "colab": {
          "base_uri": "https://localhost:8080/"
        },
        "outputId": "1206cf2c-7f50-4842-c1f4-1aa6b18645c6"
      },
      "source": [
        "print(sum(l1), max(l2), min(l3))"
      ],
      "execution_count": null,
      "outputs": [
        {
          "output_type": "stream",
          "text": [
            "15 9 2\n"
          ],
          "name": "stdout"
        }
      ]
    },
    {
      "cell_type": "markdown",
      "metadata": {
        "id": "Fm2tsk-jud5C"
      },
      "source": [
        "Podemos ordenar objetos extensos (ordenados) con la **función** `sorted`"
      ]
    },
    {
      "cell_type": "code",
      "metadata": {
        "colab": {
          "base_uri": "https://localhost:8080/"
        },
        "id": "yieYv1knuoz7",
        "outputId": "8d12c58a-6bf6-4efb-ec55-a6e0e560c058"
      },
      "source": [
        "print(sorted(l1))\n",
        "print(l1)"
      ],
      "execution_count": null,
      "outputs": [
        {
          "output_type": "stream",
          "text": [
            "[1, 2, 3, 4, 5]\n",
            "[1, 5, 4, 3, 2]\n"
          ],
          "name": "stdout"
        }
      ]
    },
    {
      "cell_type": "markdown",
      "metadata": {
        "id": "tTmbBOjeWLFA"
      },
      "source": [
        "Veamos algunos métodos asociados con este objeto.\n",
        "En primera instancia tenemos el método `sort()`, este es un método IN PLACE"
      ]
    },
    {
      "cell_type": "code",
      "metadata": {
        "id": "0gZGH8Vk3S8e",
        "colab": {
          "base_uri": "https://localhost:8080/"
        },
        "outputId": "1f63ae06-f47e-44cf-f690-770605a6e5bc"
      },
      "source": [
        "l1.sort()\n",
        "print(l1)"
      ],
      "execution_count": null,
      "outputs": [
        {
          "output_type": "stream",
          "text": [
            "[1, 2, 3, 4, 5]\n"
          ],
          "name": "stdout"
        }
      ]
    },
    {
      "cell_type": "markdown",
      "metadata": {
        "id": "fuOV6ewN3hbn"
      },
      "source": [
        "Podemos pasarle como argumento al método `sort(reverse =True)` para obtener la lista ordenada de menor a mayor."
      ]
    },
    {
      "cell_type": "code",
      "metadata": {
        "id": "5n0ZFk_TDFjz",
        "colab": {
          "base_uri": "https://localhost:8080/"
        },
        "outputId": "6f1f2548-fd0d-46cb-c0a2-448c3eb49913"
      },
      "source": [
        "l1.sort(reverse= True)\n",
        "print(l1)"
      ],
      "execution_count": null,
      "outputs": [
        {
          "output_type": "stream",
          "text": [
            "[5, 4, 3, 2, 1]\n"
          ],
          "name": "stdout"
        }
      ]
    },
    {
      "cell_type": "markdown",
      "metadata": {
        "id": "qbtLid-B4UNr"
      },
      "source": [
        "Con el método `append()` podemos agregar un elemento al final de la lista"
      ]
    },
    {
      "cell_type": "code",
      "metadata": {
        "id": "aidVH594WMuF",
        "colab": {
          "base_uri": "https://localhost:8080/"
        },
        "outputId": "1d539dd9-45d1-4a61-cc14-11d3ec25e6b4"
      },
      "source": [
        "l1.append(100)\n",
        "print(l1)"
      ],
      "execution_count": null,
      "outputs": [
        {
          "output_type": "stream",
          "text": [
            "[5, 4, 3, 2, 1, 100]\n"
          ],
          "name": "stdout"
        }
      ]
    },
    {
      "cell_type": "markdown",
      "metadata": {
        "id": "E30JUVOw4f0E"
      },
      "source": [
        "O hacerlo en general con `insert()` pasándole un argumento para que lo inserte al inicio de la lista o si le paso dos argumentos, entonces el primero será la posición a insertar el elemento y el segudo será el elemento."
      ]
    },
    {
      "cell_type": "code",
      "metadata": {
        "id": "5LleYxAHDP7b",
        "colab": {
          "base_uri": "https://localhost:8080/"
        },
        "outputId": "a0b4314c-253c-4173-e66e-3b392503b4f0"
      },
      "source": [
        "l1.insert(0, 100)\n",
        "print(l1)"
      ],
      "execution_count": null,
      "outputs": [
        {
          "output_type": "stream",
          "text": [
            "[100, 5, 4, 3, 2, 1, 100]\n"
          ],
          "name": "stdout"
        }
      ]
    },
    {
      "cell_type": "markdown",
      "metadata": {
        "id": "kQchcYaK6TPd"
      },
      "source": [
        "`remove(x)` puede eliminar un elemento `x` de la lista."
      ]
    },
    {
      "cell_type": "code",
      "metadata": {
        "id": "YCXbwxNPDiZ1",
        "colab": {
          "base_uri": "https://localhost:8080/"
        },
        "outputId": "4e01d512-a8f8-4710-9aad-c9bbcafad1bc"
      },
      "source": [
        "l1.remove(100)\n",
        "print(l1)"
      ],
      "execution_count": null,
      "outputs": [
        {
          "output_type": "stream",
          "text": [
            "[5, 4, 3, 2, 1, 100]\n"
          ],
          "name": "stdout"
        }
      ]
    },
    {
      "cell_type": "code",
      "metadata": {
        "colab": {
          "base_uri": "https://localhost:8080/"
        },
        "id": "47hOZoJgvwDk",
        "outputId": "d260703a-57c3-4d67-8b43-cd606b67c207"
      },
      "source": [
        "l1.insert(0, 100)\n",
        "print(l1)"
      ],
      "execution_count": null,
      "outputs": [
        {
          "output_type": "stream",
          "text": [
            "[100, 5, 4, 3, 2, 1, 100]\n"
          ],
          "name": "stdout"
        }
      ]
    },
    {
      "cell_type": "markdown",
      "metadata": {
        "id": "pnYiqXYi6w-P"
      },
      "source": [
        "`index(x)` nos devuelve la posición de el elemento `x` en la lista"
      ]
    },
    {
      "cell_type": "code",
      "metadata": {
        "id": "bmyhBJBaDqck",
        "colab": {
          "base_uri": "https://localhost:8080/"
        },
        "outputId": "641261d4-3cc1-43f2-9041-5bb64c00cb8b"
      },
      "source": [
        "l1.index(100)"
      ],
      "execution_count": null,
      "outputs": [
        {
          "output_type": "execute_result",
          "data": {
            "text/plain": [
              "0"
            ]
          },
          "metadata": {},
          "execution_count": 21
        }
      ]
    },
    {
      "cell_type": "markdown",
      "metadata": {
        "id": "XyPtrGN77Bs5"
      },
      "source": [
        "`count(x)` nos permite contar las veces que está el elemento `x` en la lista"
      ]
    },
    {
      "cell_type": "code",
      "metadata": {
        "id": "IkK8isQ-DzpY",
        "colab": {
          "base_uri": "https://localhost:8080/"
        },
        "outputId": "54e23eea-4a03-4f85-e9df-fe7d412ec7d4"
      },
      "source": [
        "l1.count(100)"
      ],
      "execution_count": null,
      "outputs": [
        {
          "output_type": "execute_result",
          "data": {
            "text/plain": [
              "2"
            ]
          },
          "metadata": {},
          "execution_count": 22
        }
      ]
    },
    {
      "cell_type": "markdown",
      "metadata": {
        "id": "j5Fdp2y076wx"
      },
      "source": [
        "O finalmente eliminar un elemento en la posición `i` con `pop(i)`"
      ]
    },
    {
      "cell_type": "code",
      "metadata": {
        "id": "iJoZVUzl77Nw",
        "colab": {
          "base_uri": "https://localhost:8080/"
        },
        "outputId": "1e447823-ccb3-423e-d22c-66d13efdfe0d"
      },
      "source": [
        "l1.pop(0)"
      ],
      "execution_count": null,
      "outputs": [
        {
          "output_type": "execute_result",
          "data": {
            "text/plain": [
              "100"
            ]
          },
          "metadata": {},
          "execution_count": 23
        }
      ]
    },
    {
      "cell_type": "code",
      "metadata": {
        "id": "eAUdPHAKdB4r",
        "colab": {
          "base_uri": "https://localhost:8080/"
        },
        "outputId": "15c27bf3-d4e7-423f-c8e4-0c7450167e2e"
      },
      "source": [
        "print(l1)"
      ],
      "execution_count": null,
      "outputs": [
        {
          "output_type": "stream",
          "text": [
            "[5, 4, 3, 2, 1, 100]\n"
          ],
          "name": "stdout"
        }
      ]
    },
    {
      "cell_type": "markdown",
      "metadata": {
        "id": "qtYOk9zVW3xu"
      },
      "source": [
        "Adicionalmente, hay más métodos de lista incorporados; están bien cubiertos en la [documentación](https://docs.python.org/3/tutorial/datastructures.html) en línea de Python.\n",
        "\n",
        "Una de las características de los objetos compuestos de Python es que pueden contener objetos de cualquier tipo, o incluso una combinación de tipos. Por ejemplo:"
      ]
    },
    {
      "cell_type": "code",
      "metadata": {
        "id": "u62_pTfaWyiq"
      },
      "source": [
        "lista = [None, 1, 2.0, 3+0j, \"4\", [5, 6]]"
      ],
      "execution_count": null,
      "outputs": []
    },
    {
      "cell_type": "code",
      "metadata": {
        "id": "PXeA6z5OdhIQ",
        "colab": {
          "base_uri": "https://localhost:8080/"
        },
        "outputId": "72934ae2-e189-413e-cfb4-effd63353091"
      },
      "source": [
        "len(lista)"
      ],
      "execution_count": null,
      "outputs": [
        {
          "output_type": "execute_result",
          "data": {
            "text/plain": [
              "6"
            ]
          },
          "metadata": {},
          "execution_count": 27
        }
      ]
    },
    {
      "cell_type": "code",
      "metadata": {
        "colab": {
          "base_uri": "https://localhost:8080/"
        },
        "id": "XPEH0LYfxi5p",
        "outputId": "c87e4ba4-0a2c-492d-c253-7e4776291e68"
      },
      "source": [
        "lista[5].pop(1)"
      ],
      "execution_count": null,
      "outputs": [
        {
          "output_type": "execute_result",
          "data": {
            "text/plain": [
              "6"
            ]
          },
          "metadata": {},
          "execution_count": 30
        }
      ]
    },
    {
      "cell_type": "code",
      "metadata": {
        "colab": {
          "base_uri": "https://localhost:8080/"
        },
        "id": "qmnqAmAqxqvU",
        "outputId": "e1db0394-a3b3-43ab-9bcb-87bc4ddfacc5"
      },
      "source": [
        "lista"
      ],
      "execution_count": null,
      "outputs": [
        {
          "output_type": "execute_result",
          "data": {
            "text/plain": [
              "[None, 1, 2.0, (3+0j), '4', [5]]"
            ]
          },
          "metadata": {},
          "execution_count": 31
        }
      ]
    },
    {
      "cell_type": "code",
      "metadata": {
        "id": "c3BXMlpRdXKj",
        "colab": {
          "base_uri": "https://localhost:8080/"
        },
        "outputId": "e497a1f8-86ce-45ac-9fc8-4d4b54c72f89"
      },
      "source": [
        "for elemento in lista:\n",
        "  print(type(elemento))\n",
        "\n",
        "print(type(lista))"
      ],
      "execution_count": null,
      "outputs": [
        {
          "output_type": "stream",
          "text": [
            "<class 'NoneType'>\n",
            "<class 'int'>\n",
            "<class 'float'>\n",
            "<class 'complex'>\n",
            "<class 'str'>\n",
            "<class 'list'>\n",
            "<class 'list'>\n"
          ],
          "name": "stdout"
        }
      ]
    },
    {
      "cell_type": "markdown",
      "metadata": {
        "id": "VVzG9MJTW__z"
      },
      "source": [
        "Este tipo de flexibilidad es una pieza esencial de lo que hace que el código de Python sea relativamente rápido y fácil de escribir. Sin embargo, como veremos, esta flexibilidad tiene su \"punto bajo\": nos costará tiempo de cómputo."
      ]
    },
    {
      "cell_type": "markdown",
      "metadata": {
        "id": "IjJ4Xe-zXKCI"
      },
      "source": [
        "<p><a name=\"ind\"></a></p>\n",
        "\n",
        "### **Indexación y segmentación**\n",
        "\n",
        "Python nos proporciona acceso a los elementos de la lista a través de la indexación de elementos individuales y la segmentación de elementos múltiples. Como veremos, ambos están indicados por una sintaxis de corchetes. \n",
        "\n",
        "**Indexación:** \n",
        "\n",
        "Definamos una lista con los primeros cuatro números pares:\n",
        "\n",
        "\n",
        "\n"
      ]
    },
    {
      "cell_type": "markdown",
      "metadata": {
        "id": "kRYWQEGFYooB"
      },
      "source": [
        "cuyos índices se ilustran en la siguiente figura:"
      ]
    },
    {
      "cell_type": "markdown",
      "metadata": {
        "id": "-MhsVaJoX2_1"
      },
      "source": [
        "![](https://i.imgur.com/Bt04CcC.png)\n",
        "\n",
        "Podemos acceder a un elemento de la lista indicando el índice correspondiente a este mediante corchetes:"
      ]
    },
    {
      "cell_type": "code",
      "metadata": {
        "colab": {
          "base_uri": "https://localhost:8080/"
        },
        "id": "klozDgvpylWW",
        "outputId": "3dfecc5e-2df3-4123-d28e-cda9dd3141ec"
      },
      "source": [
        "l_ej = [2, 4, 6, 8]\n",
        "\n",
        "print(l_ej[0])\n",
        "print(l_ej[1])\n",
        "print(l_ej[2])\n",
        "print(l_ej[3])"
      ],
      "execution_count": null,
      "outputs": [
        {
          "output_type": "stream",
          "text": [
            "2\n",
            "4\n",
            "6\n",
            "8\n"
          ],
          "name": "stdout"
        }
      ]
    },
    {
      "cell_type": "code",
      "metadata": {
        "colab": {
          "base_uri": "https://localhost:8080/"
        },
        "id": "-vEC_g9Jyhh0",
        "outputId": "87c34cdf-f9a3-4dd8-a6d2-0bb20345666b"
      },
      "source": [
        "for i in range(0,4):\n",
        "  print(l_ej[i])"
      ],
      "execution_count": null,
      "outputs": [
        {
          "output_type": "stream",
          "text": [
            "2\n",
            "4\n",
            "6\n",
            "8\n"
          ],
          "name": "stdout"
        }
      ]
    },
    {
      "cell_type": "code",
      "metadata": {
        "id": "yiKw3Ri0XB3t",
        "colab": {
          "base_uri": "https://localhost:8080/"
        },
        "outputId": "92cb8556-7294-4f83-bce0-266a16d797a0"
      },
      "source": [
        "for i in range(len(l_ej)):\n",
        "  print(l_ej[i])\n"
      ],
      "execution_count": null,
      "outputs": [
        {
          "output_type": "stream",
          "text": [
            "2\n",
            "4\n",
            "6\n",
            "8\n"
          ],
          "name": "stdout"
        }
      ]
    },
    {
      "cell_type": "markdown",
      "metadata": {
        "id": "ALEDfXTJaGWM"
      },
      "source": [
        "Note que en Python, el primero elemento de la lista corresponde a la posición `0`, y no a la posición `1`, que corresponde al segundo elemento.\n",
        "\n",
        "Alternativamente podemos acceder a los elementos de la lista en el orden opuesto con números negativos, comenzando desde `-1`:"
      ]
    },
    {
      "cell_type": "code",
      "metadata": {
        "colab": {
          "base_uri": "https://localhost:8080/"
        },
        "id": "StAm6WkGzD3X",
        "outputId": "8ade01c6-96a4-473f-c3e6-b5ab59e3dc5e"
      },
      "source": [
        "print(l_ej[-1])\n",
        "print(l_ej[-2])\n",
        "print(l_ej[-3])\n",
        "print(l_ej[-4])"
      ],
      "execution_count": null,
      "outputs": [
        {
          "output_type": "stream",
          "text": [
            "8\n",
            "6\n",
            "4\n",
            "2\n"
          ],
          "name": "stdout"
        }
      ]
    },
    {
      "cell_type": "markdown",
      "metadata": {
        "id": "8nvC3nKQaqGT"
      },
      "source": [
        "**Nota**: *Este esquema de indexación aplica también a las cadenas de caracteres.*"
      ]
    },
    {
      "cell_type": "code",
      "metadata": {
        "id": "9xEuI6Qn9Vo6",
        "colab": {
          "base_uri": "https://localhost:8080/"
        },
        "outputId": "7a8b3ca5-b108-44ff-a84b-858c7f195d57"
      },
      "source": [
        "print(nombre)\n",
        "\n",
        "print(nombre[0],nombre[1])"
      ],
      "execution_count": null,
      "outputs": [
        {
          "output_type": "stream",
          "text": [
            "Thomas\n",
            "T h\n"
          ],
          "name": "stdout"
        }
      ]
    },
    {
      "cell_type": "markdown",
      "metadata": {
        "id": "akDkcXaVajFP"
      },
      "source": [
        "**Segmentación**:\n",
        "\n",
        "Si la indexación es un medio para obtener un único valor de la lista, la *segmentación* es un medio para acceder a múltiples valores de las listas (o cadenas). La sintáxis para la segmentación es de la forma\n",
        "\n",
        "> \n",
        "\n",
        "    lista[inicio:final:paso]\n",
        "\n",
        "en donde se extraen los elementos de la lista entre la posiciones `inicio` (se incluye) y `final` (no se incluye), con cierto `paso`:\n"
      ]
    },
    {
      "cell_type": "code",
      "metadata": {
        "id": "CkkboXlqac4X",
        "colab": {
          "base_uri": "https://localhost:8080/"
        },
        "outputId": "4752c47b-d024-4221-82fa-3568fb6cd99a"
      },
      "source": [
        "l_ej = [2, 4, 6, 8, 10, 12, 14, 16]\n",
        "\n",
        "print(l_ej[3: 6])"
      ],
      "execution_count": null,
      "outputs": [
        {
          "output_type": "stream",
          "text": [
            "[8, 10, 12]\n"
          ],
          "name": "stdout"
        }
      ]
    },
    {
      "cell_type": "markdown",
      "metadata": {
        "id": "LP0tO3pwa5fA"
      },
      "source": [
        "Si omitimos el primer índice, Python lo toma como 0, por lo que podemos escribir de manera equivalente:\n"
      ]
    },
    {
      "cell_type": "code",
      "metadata": {
        "id": "69OySuXDa3M2",
        "colab": {
          "base_uri": "https://localhost:8080/"
        },
        "outputId": "d2c77f70-2633-4813-b5e9-fd2f67ca869f"
      },
      "source": [
        "print(l_ej[0: 6])\n",
        "print(l_ej[ : 6])"
      ],
      "execution_count": null,
      "outputs": [
        {
          "output_type": "stream",
          "text": [
            "[2, 4, 6, 8, 10, 12]\n",
            "[2, 4, 6, 8, 10, 12]\n"
          ],
          "name": "stdout"
        }
      ]
    },
    {
      "cell_type": "markdown",
      "metadata": {
        "id": "Oaa9Hx_ubKa3"
      },
      "source": [
        "De forma análoga, si no especificamos el final, Python realiza la segmentación hasta el último elemento de la lista:"
      ]
    },
    {
      "cell_type": "code",
      "metadata": {
        "id": "Dgxoaxqwa9ic",
        "colab": {
          "base_uri": "https://localhost:8080/"
        },
        "outputId": "ed41df5b-2a45-4879-ae96-12564ded4884"
      },
      "source": [
        "print(l_ej[4: len(l_ej)])\n",
        "print(l_ej[4: ])"
      ],
      "execution_count": null,
      "outputs": [
        {
          "output_type": "stream",
          "text": [
            "[10, 12, 14, 16]\n",
            "[10, 12, 14, 16]\n"
          ],
          "name": "stdout"
        }
      ]
    },
    {
      "cell_type": "markdown",
      "metadata": {
        "id": "AP5DOO1xbkwz"
      },
      "source": [
        "También es posible especificar un tercer número entero que represente el tamaño del paso:"
      ]
    },
    {
      "cell_type": "code",
      "metadata": {
        "id": "ZNUF9xVPbQcK",
        "colab": {
          "base_uri": "https://localhost:8080/"
        },
        "outputId": "c95d60bb-ca2c-4946-d43d-cde719445dd2"
      },
      "source": [
        "print(l_ej[1: 6:2])"
      ],
      "execution_count": null,
      "outputs": [
        {
          "output_type": "stream",
          "text": [
            "[4, 8, 12]\n"
          ],
          "name": "stdout"
        }
      ]
    },
    {
      "cell_type": "markdown",
      "metadata": {
        "id": "GmnDZXXxbr8q"
      },
      "source": [
        "Ahora, si pasamos el paso como un número negativo, el inicio y el final de la segmentación se intercambian:"
      ]
    },
    {
      "cell_type": "code",
      "metadata": {
        "id": "3CIFQtWJffBA",
        "colab": {
          "base_uri": "https://localhost:8080/"
        },
        "outputId": "666da389-9194-46d9-9500-c739a2a3c6e8"
      },
      "source": [
        "print(l_ej[5: 0: -2])"
      ],
      "execution_count": null,
      "outputs": [
        {
          "output_type": "stream",
          "text": [
            "[12, 8, 4]\n"
          ],
          "name": "stdout"
        }
      ]
    },
    {
      "cell_type": "markdown",
      "metadata": {
        "id": "Y_lZpGO4cCK9"
      },
      "source": [
        "Como mencionamos, las listas son objetos mutables. Podemos utilizar tanto la indexación como la segmentación para modificar elementos de una lista:\n"
      ]
    },
    {
      "cell_type": "code",
      "metadata": {
        "id": "nsH6CYwdcBcn",
        "colab": {
          "base_uri": "https://localhost:8080/"
        },
        "outputId": "ad482aee-5ec9-489f-c0ea-44915ca757c0"
      },
      "source": [
        "l_ej[0] = 100\n",
        "print(l_ej)"
      ],
      "execution_count": null,
      "outputs": [
        {
          "output_type": "stream",
          "text": [
            "[100, 4, 6, 8, 10, 12, 14, 16]\n"
          ],
          "name": "stdout"
        }
      ]
    },
    {
      "cell_type": "code",
      "metadata": {
        "id": "PzBx_8CkgjBh",
        "colab": {
          "base_uri": "https://localhost:8080/"
        },
        "outputId": "ccd5f664-971b-4fc9-dbfe-45de4baafc5f"
      },
      "source": [
        "l_ej[1:4] = [1, 2, 3]\n",
        "print(l_ej)"
      ],
      "execution_count": null,
      "outputs": [
        {
          "output_type": "stream",
          "text": [
            "[100, 1, 2, 3, 10, 12, 14, 16]\n"
          ],
          "name": "stdout"
        }
      ]
    },
    {
      "cell_type": "markdown",
      "metadata": {
        "id": "v6B-fcRUcPmb"
      },
      "source": [
        "**Ejercicio 1:** Cree una lista que contenga los números pares en el intervalo [1, 10]"
      ]
    },
    {
      "cell_type": "code",
      "metadata": {
        "id": "5n97GhqhcfWM",
        "colab": {
          "base_uri": "https://localhost:8080/"
        },
        "outputId": "0009e9a2-0b6f-498b-a017-24ccd24e9f17"
      },
      "source": [
        "l_ejer = []\n",
        "\n",
        "for i in range(1, 11):\n",
        "  if i % 2 == 0:\n",
        "    l_ejer.append(i)\n",
        "\n",
        "print(l_ejer)"
      ],
      "execution_count": null,
      "outputs": [
        {
          "output_type": "stream",
          "text": [
            "[2, 4, 6, 8, 10]\n"
          ],
          "name": "stdout"
        }
      ]
    },
    {
      "cell_type": "markdown",
      "metadata": {
        "id": "0zL7_1yAEtfJ"
      },
      "source": [
        "Podemos modificar el rango de manera que solo se itere sobre números pares:"
      ]
    },
    {
      "cell_type": "code",
      "metadata": {
        "id": "1KKWQw17cJgQ",
        "colab": {
          "base_uri": "https://localhost:8080/"
        },
        "outputId": "f0698bcd-ed31-4556-f5bc-d73e29c432e6"
      },
      "source": [
        "l_ejer = []\n",
        "\n",
        "for i in range(2, 11, 2):\n",
        "  l_ejer.append(i)\n",
        "\n",
        "print(l_ejer)"
      ],
      "execution_count": null,
      "outputs": [
        {
          "output_type": "stream",
          "text": [
            "[2, 4, 6, 8, 10]\n"
          ],
          "name": "stdout"
        }
      ]
    },
    {
      "cell_type": "markdown",
      "metadata": {
        "id": "RkIFSkmJcks8"
      },
      "source": [
        "**Ejercicio 2:** Solicite al usuario una palabra e imprima si esta es un palíndromo o no. (Un palíndromo es una palabra o frase que suena igual hacia adelante y hacia atrás)"
      ]
    },
    {
      "cell_type": "code",
      "metadata": {
        "id": "9ysXywwCcaU2",
        "colab": {
          "base_uri": "https://localhost:8080/"
        },
        "outputId": "fca6da31-0e34-46a4-fd65-1bdc0963b3d9"
      },
      "source": [
        "palabra = input(\"Ingrese una palabra: \")\n",
        "\n",
        "\n",
        "if len(palabra) %2 == 0:\n",
        "    es_palindromo=False\n",
        "else:\n",
        "    es_palindromo=True\n",
        "    for i in range(len(palabra)):\n",
        "        if palabra[i]!=palabra[len(palabra)-1-i]:\n",
        "            es_palindromo=False\n",
        "            break;\n",
        "\n",
        "print(\"¿Es palindromo?: \",es_palindromo)\n",
        "        "
      ],
      "execution_count": null,
      "outputs": [
        {
          "output_type": "stream",
          "text": [
            "Ingrese una palabra: Ana\n",
            "¿Es palindromo?:  False\n"
          ],
          "name": "stdout"
        }
      ]
    },
    {
      "cell_type": "code",
      "metadata": {
        "colab": {
          "base_uri": "https://localhost:8080/"
        },
        "id": "SAF2ufrb3eDI",
        "outputId": "18119cf5-6d79-414b-9a04-86d3cb6ad058"
      },
      "source": [
        "palabra=str(input(\"Ingrese una palabra \"))\n",
        "\n",
        "if palabra == palabra[ : :-1]:\n",
        "    print(\"Es palindromo\")\n",
        "else:\n",
        "    print (\"No es palindromo\")"
      ],
      "execution_count": null,
      "outputs": [
        {
          "output_type": "stream",
          "text": [
            "ingrese una palabraAna\n",
            "no es palindromo\n"
          ],
          "name": "stdout"
        }
      ]
    },
    {
      "cell_type": "code",
      "metadata": {
        "id": "Bieqr6-8i8-3",
        "colab": {
          "base_uri": "https://localhost:8080/"
        },
        "outputId": "42872f36-ae86-486c-d260-9b3fa2699769"
      },
      "source": [
        "texto = input(\"Ingrese una palabra \")\n",
        "texto_clean = texto.replace(' ', '').lower()\n",
        "\n",
        "if texto_clean == texto_clean[ : :-1]:\n",
        "    print(\"Es palindromo\")\n",
        "else:\n",
        "    print (\"No es palindromo\")"
      ],
      "execution_count": null,
      "outputs": [
        {
          "output_type": "stream",
          "text": [
            "Ingrese una palabraAnita lava la tina\n",
            "es palindromo\n"
          ],
          "name": "stdout"
        }
      ]
    },
    {
      "cell_type": "markdown",
      "metadata": {
        "id": "EZJ0-o7fcsm5"
      },
      "source": [
        "**Ejercicio 3:** Dado el siguiente listado de alumnos de una clase\n",
        "\n",
        "> \n",
        "    alumnos = ['Ana', 'Luis', 'Pedro', 'Marta', 'Nerea', 'Pablo']\n",
        "\n",
        "Crear dos listas: una que contenga la primera letra de cada nombre y otra que contenga la última letra"
      ]
    },
    {
      "cell_type": "code",
      "metadata": {
        "id": "k5u6HpnVcvHQ",
        "colab": {
          "base_uri": "https://localhost:8080/"
        },
        "outputId": "cbfd04af-8493-45c8-bc42-c12fc75f2d61"
      },
      "source": [
        "alumnos = ['Ana', 'Luis', 'Pedro', 'Marta', 'Nerea', 'Pablo']\n",
        "primera = []\n",
        "ultima = list()\n",
        "\n",
        "for alumno in alumnos:\n",
        "  primera.append(alumno[0])\n",
        "  ultima.append(alumno[-1])\n",
        "\n",
        "print(primera)\n",
        "print(ultima)"
      ],
      "execution_count": null,
      "outputs": [
        {
          "output_type": "stream",
          "text": [
            "['A', 'L', 'P', 'M', 'N', 'P']\n",
            "['a', 's', 'o', 'a', 'a', 'o']\n"
          ],
          "name": "stdout"
        }
      ]
    },
    {
      "cell_type": "markdown",
      "metadata": {
        "id": "xZFxabFnc0lT"
      },
      "source": [
        "<p><a name=\"lpc\"></a></p>\n",
        "\n",
        "### **Listas por comprensión**\n",
        "\n",
        "Las listas por comprensión son simplemente una forma de comprimir un ciclo de construcción de listas en una sola línea corta y legible. La sintáxis es de la forma\n",
        "\n",
        ">  \n",
        "\n",
        "    [expresion for var in secuencia if cond] \n",
        "\n",
        "\n",
        "donde *expresion* es cualquier expresión válida, *var* es la variable de iteración, *secuencia* es cualquier objeto de Python iterable, y *cond* es alguna condición que se imponga sobre la variable de iteración. Por ejemplo, para construir una lista con el cuadrado de los primeros 5 enteros positivos podríamos escribir lo siguiente:"
      ]
    },
    {
      "cell_type": "code",
      "metadata": {
        "id": "DetUhoLhcxkF",
        "colab": {
          "base_uri": "https://localhost:8080/"
        },
        "outputId": "3f2292b1-70c9-4a0c-a7eb-76a86c1a4712"
      },
      "source": [
        "l = []\n",
        "for i in range(1,6):\n",
        "  l.append( i **2 )\n",
        "print(l)"
      ],
      "execution_count": null,
      "outputs": [
        {
          "output_type": "stream",
          "text": [
            "[1, 4, 9, 16, 25]\n"
          ],
          "name": "stdout"
        }
      ]
    },
    {
      "cell_type": "markdown",
      "metadata": {
        "id": "B0atXShUdIi9"
      },
      "source": [
        "La lista por comprensión equivalente es la siguiente:"
      ]
    },
    {
      "cell_type": "code",
      "metadata": {
        "id": "uL9ZdUmqdJCE",
        "colab": {
          "base_uri": "https://localhost:8080/"
        },
        "outputId": "0b407437-87e3-4915-88cd-8fd467e40070"
      },
      "source": [
        "l2 = [i ** 2 for i in range(1, 6)]\n",
        "print(l2) "
      ],
      "execution_count": null,
      "outputs": [
        {
          "output_type": "stream",
          "text": [
            "[1, 4, 9, 16, 25]\n"
          ],
          "name": "stdout"
        }
      ]
    },
    {
      "cell_type": "code",
      "metadata": {
        "id": "xvOFOH4XkaHs",
        "colab": {
          "base_uri": "https://localhost:8080/"
        },
        "outputId": "aaa178a8-6009-4efa-9846-d386be95a8ec"
      },
      "source": [
        "l_imp = [i for i in range(1, 20, 2)]\n",
        "print(l_imp)"
      ],
      "execution_count": null,
      "outputs": [
        {
          "output_type": "stream",
          "text": [
            "[1, 3, 5, 7, 9, 11, 13, 15, 17, 19]\n"
          ],
          "name": "stdout"
        }
      ]
    },
    {
      "cell_type": "markdown",
      "metadata": {
        "id": "IQQm9SZwdRpd"
      },
      "source": [
        "Observe las equivalencias entre ambos bloques de código. Al igual que con muchas sentencias de Python, casi podemos leer el significado de esta sentencia: \"construya una lista que consista en el cuadrado de `i` para cada `i` desde 1 hasta 5\". \n",
        "\n",
        "A veces vamos a querer crear una lista no solo a partir de un valor, sino a partir de dos. Por ejemplo:\n"
      ]
    },
    {
      "cell_type": "code",
      "metadata": {
        "id": "IScS_vXadLbs",
        "colab": {
          "base_uri": "https://localhost:8080/"
        },
        "outputId": "cf808fa4-fbe2-44e6-95cf-e385cbbc211c"
      },
      "source": [
        "L = []\n",
        "for i in range(2):\n",
        "  for j in range(2):\n",
        "    L.append((i,j))\n",
        "print(L)"
      ],
      "execution_count": null,
      "outputs": [
        {
          "output_type": "stream",
          "text": [
            "[(0, 0), (0, 1), (1, 0), (1, 1)]\n"
          ],
          "name": "stdout"
        }
      ]
    },
    {
      "cell_type": "markdown",
      "metadata": {
        "id": "XeAtAvRvdXzM"
      },
      "source": [
        "Este tipo de ciclos aninados se pueden incluir en una lista por comprensión simplemente añadiendo otro ciclo `for`:"
      ]
    },
    {
      "cell_type": "code",
      "metadata": {
        "id": "Q5lwEmuhdWPF",
        "colab": {
          "base_uri": "https://localhost:8080/"
        },
        "outputId": "d26ea63c-78fa-41ce-f84d-aca61eca6dbd"
      },
      "source": [
        "L_comp = [(i,j) for i in range(2) for j in range(2)]\n",
        "print(L_comp)"
      ],
      "execution_count": null,
      "outputs": [
        {
          "output_type": "stream",
          "text": [
            "[(0, 0), (0, 1), (1, 0), (1, 1)]\n"
          ],
          "name": "stdout"
        }
      ]
    },
    {
      "cell_type": "markdown",
      "metadata": {
        "id": "NUV2M7REdbqX"
      },
      "source": [
        "Podemos controlar aún más la iteración agregando un condicional al final de la expresión. Por ejemplo, podríamos escribir el ejemplo 1 con listas por comprensión de la siguiente manera:\n"
      ]
    },
    {
      "cell_type": "code",
      "metadata": {
        "id": "NLiFaIi8dZw7",
        "colab": {
          "base_uri": "https://localhost:8080/"
        },
        "outputId": "248c6894-8786-47f3-8adf-077d21d599f2"
      },
      "source": [
        "l_par = [i for i in range(2, 11, 2)]\n",
        "print(l_par)"
      ],
      "execution_count": null,
      "outputs": [
        {
          "output_type": "stream",
          "text": [
            "[2, 4, 6, 8, 10]\n"
          ],
          "name": "stdout"
        }
      ]
    },
    {
      "cell_type": "markdown",
      "metadata": {
        "id": "BB1MIUYBFmq8"
      },
      "source": [
        "O alternativamente"
      ]
    },
    {
      "cell_type": "code",
      "metadata": {
        "id": "j7KlCmHwFpAF",
        "colab": {
          "base_uri": "https://localhost:8080/"
        },
        "outputId": "cd5622d0-c8f8-4f0e-c31d-12ba4312b6ab"
      },
      "source": [
        "[i for i in range(1, 11) if i % 2 == 0]"
      ],
      "execution_count": null,
      "outputs": [
        {
          "output_type": "execute_result",
          "data": {
            "text/plain": [
              "[2, 4, 6, 8, 10]"
            ]
          },
          "metadata": {},
          "execution_count": 69
        }
      ]
    },
    {
      "cell_type": "markdown",
      "metadata": {
        "id": "pq_9YE89dl2b"
      },
      "source": [
        "Incluso podemos añadir las sentencias `if` y `else` para tener mayor control sobre los elementos de la lista. \n",
        "\n",
        "Por ejemplo, si quisieramos construir una lista con 10 elementos, tal que sus primeros cinco elementos sean los primeros cinco números enteros positivos, y que el resto de elementos sean el cuadrado de los enteros 6,7,8,9 y 10, prodríamos escribir:"
      ]
    },
    {
      "cell_type": "code",
      "metadata": {
        "id": "UswOqn-4l-0t",
        "colab": {
          "base_uri": "https://localhost:8080/"
        },
        "outputId": "e65aaa33-cc61-4830-e5f5-2d70e62bca75"
      },
      "source": [
        "x = 5\n",
        "\n",
        "y =200 if x == 0 else -30\n",
        "print(x, y)"
      ],
      "execution_count": null,
      "outputs": [
        {
          "output_type": "stream",
          "text": [
            "5 -30\n"
          ],
          "name": "stdout"
        }
      ]
    },
    {
      "cell_type": "code",
      "metadata": {
        "id": "UNGXHV4CmWgV",
        "colab": {
          "base_uri": "https://localhost:8080/"
        },
        "outputId": "90c8f7b4-0343-4d2c-ccf4-0e68a66f99a0"
      },
      "source": [
        "x = 0\n",
        "\n",
        "y = 200 if x == 0 else -30\n",
        "print(x, y)"
      ],
      "execution_count": null,
      "outputs": [
        {
          "output_type": "stream",
          "text": [
            "0 200\n"
          ],
          "name": "stdout"
        }
      ]
    },
    {
      "cell_type": "code",
      "metadata": {
        "colab": {
          "base_uri": "https://localhost:8080/"
        },
        "id": "GTRZvQR78n3b",
        "outputId": "9ae73fd8-8609-4296-fea2-c523081f6d51"
      },
      "source": [
        "l_comp = []\n",
        "for num in range(1,11):\n",
        "  s = num if num < 6 else num ** 2\n",
        "  l_comp.append(s)\n",
        "print(l_comp)"
      ],
      "execution_count": null,
      "outputs": [
        {
          "output_type": "stream",
          "text": [
            "[1, 2, 3, 4, 5, 36, 49, 64, 81, 100]\n"
          ],
          "name": "stdout"
        }
      ]
    },
    {
      "cell_type": "code",
      "metadata": {
        "id": "eCGMW3b1djbD",
        "colab": {
          "base_uri": "https://localhost:8080/"
        },
        "outputId": "14ad7b06-a247-4f09-a42c-887007f57f5c"
      },
      "source": [
        "l_comp = []\n",
        "for num in range(1,11):\n",
        "  if num < 6:\n",
        "    l_comp.append(num)\n",
        "  else:\n",
        "    l_comp.append( num ** 2)\n",
        "print(l_comp)"
      ],
      "execution_count": null,
      "outputs": [
        {
          "output_type": "stream",
          "text": [
            "[1, 2, 3, 4, 5, 36, 49, 64, 81, 100]\n"
          ],
          "name": "stdout"
        }
      ]
    },
    {
      "cell_type": "code",
      "metadata": {
        "colab": {
          "base_uri": "https://localhost:8080/"
        },
        "id": "Bbzi3G3O7WXp",
        "outputId": "3b4b1958-43a6-4c57-980e-74579463aea6"
      },
      "source": [
        "l = [i if i < 6 else i ** 2 for i in range(1,11)]\n",
        "print(l)"
      ],
      "execution_count": null,
      "outputs": [
        {
          "output_type": "stream",
          "text": [
            "[1, 2, 3, 4, 5, 36, 49, 64, 81, 100]\n"
          ],
          "name": "stdout"
        }
      ]
    },
    {
      "cell_type": "markdown",
      "metadata": {
        "id": "ixPYGlDmdrnm"
      },
      "source": [
        "**Ejercicio 4:** Resuelva el ejercicio 3 utilizando listas por comprensión."
      ]
    },
    {
      "cell_type": "code",
      "metadata": {
        "colab": {
          "base_uri": "https://localhost:8080/"
        },
        "id": "BQXBXiyZ-Nkn",
        "outputId": "82fd21a1-65b2-4254-b0bb-4651a7523a04"
      },
      "source": [
        "primera=[]\n",
        "ultima=[]\n",
        "alumnos = ['Ana', 'Luis', 'Pedro', 'Marta', 'Nerea', 'Pablo']\n",
        "\n",
        "[primera.append(alumno[0]) for alumno in alumnos]\n",
        "[ultima.append(alumno[-1]) for alumno in alumnos]"
      ],
      "execution_count": null,
      "outputs": [
        {
          "output_type": "execute_result",
          "data": {
            "text/plain": [
              "[None, None, None, None, None, None]"
            ]
          },
          "metadata": {},
          "execution_count": 80
        }
      ]
    },
    {
      "cell_type": "code",
      "metadata": {
        "id": "WWBACv1BdnnC"
      },
      "source": [
        "alumnos = ['Ana', 'Luis', 'Pedro', 'Marta', 'Nerea', 'Pablo']\n",
        "\n",
        "primera = [alumno[0] for alumno in alumnos] \n",
        "ultima = [alumno[-1] for alumno in alumnos]"
      ],
      "execution_count": null,
      "outputs": []
    },
    {
      "cell_type": "code",
      "metadata": {
        "colab": {
          "base_uri": "https://localhost:8080/",
          "height": 132
        },
        "id": "mDsrg1YV-9fe",
        "outputId": "565ebd67-a5c1-4c95-941d-069596abeb24"
      },
      "source": [
        "nombres= ['Ana', 'Luis', 'Pedro', 'Marta', 'Nerea', 'Pablo']\n",
        "pl=[]\n",
        "ul=[]\n",
        "pl,ul=([i[0] for i in nombres], [j[-1] for j in nombres])\n",
        "print(pl,ul)"
      ],
      "execution_count": null,
      "outputs": [
        {
          "output_type": "error",
          "ename": "SyntaxError",
          "evalue": "ignored",
          "traceback": [
            "\u001b[0;36m  File \u001b[0;32m\"<ipython-input-84-b565d1098e1a>\"\u001b[0;36m, line \u001b[0;32m4\u001b[0m\n\u001b[0;31m    pl,ul= ([alumno[0]], [alumno[-1]] for alumno in nombres)\u001b[0m\n\u001b[0m                                        ^\u001b[0m\n\u001b[0;31mSyntaxError\u001b[0m\u001b[0;31m:\u001b[0m invalid syntax\n"
          ]
        }
      ]
    },
    {
      "cell_type": "code",
      "metadata": {
        "colab": {
          "base_uri": "https://localhost:8080/"
        },
        "id": "UJgOZFlk_vNB",
        "outputId": "06d48949-7cd7-4e78-95e1-68d7a876e594"
      },
      "source": [
        "tuple(i for i in range(10))"
      ],
      "execution_count": null,
      "outputs": [
        {
          "output_type": "execute_result",
          "data": {
            "text/plain": [
              "(0, 1, 2, 3, 4, 5, 6, 7, 8, 9)"
            ]
          },
          "metadata": {},
          "execution_count": 86
        }
      ]
    },
    {
      "cell_type": "markdown",
      "metadata": {
        "id": "CfA8C6idgFyd"
      },
      "source": [
        "<p><a name=\"tup\"></a></p>\n",
        "\n",
        "# **Tuplas**\n",
        "\n",
        "Las tuplas son en muchos aspectos similares a las listas, pero se definen entre paréntesis en lugar de corchetes, o separando los elementos por una coma:"
      ]
    },
    {
      "cell_type": "code",
      "metadata": {
        "id": "x7wSYTh1gP6V",
        "colab": {
          "base_uri": "https://localhost:8080/"
        },
        "outputId": "c8966923-255a-4ec1-c379-b8f00f42d3a4"
      },
      "source": [
        "tup = (1, 2)\n",
        "print(tup)"
      ],
      "execution_count": null,
      "outputs": [
        {
          "output_type": "stream",
          "text": [
            "(1, 2)\n"
          ],
          "name": "stdout"
        }
      ]
    },
    {
      "cell_type": "code",
      "metadata": {
        "colab": {
          "base_uri": "https://localhost:8080/"
        },
        "id": "eTx_xjU1_-KP",
        "outputId": "72d5900a-40b6-4fe1-9f47-399f49805744"
      },
      "source": [
        "type(tup)"
      ],
      "execution_count": null,
      "outputs": [
        {
          "output_type": "execute_result",
          "data": {
            "text/plain": [
              "tuple"
            ]
          },
          "metadata": {},
          "execution_count": 88
        }
      ]
    },
    {
      "cell_type": "markdown",
      "metadata": {
        "id": "po2q60kZbDga"
      },
      "source": [
        "O solo separando los elementos sin el paréntesis"
      ]
    },
    {
      "cell_type": "code",
      "metadata": {
        "id": "kMlXgGJtgR_M",
        "colab": {
          "base_uri": "https://localhost:8080/"
        },
        "outputId": "429d2b33-ba19-4a7a-d10b-ebf066c0a4fa"
      },
      "source": [
        "t = 4, 5, 6, 7, 8\n",
        "print(t)\n",
        "type(t)"
      ],
      "execution_count": null,
      "outputs": [
        {
          "output_type": "stream",
          "text": [
            "(4, 5, 6, 7, 8)\n"
          ],
          "name": "stdout"
        },
        {
          "output_type": "execute_result",
          "data": {
            "text/plain": [
              "tuple"
            ]
          },
          "metadata": {},
          "execution_count": 89
        }
      ]
    },
    {
      "cell_type": "markdown",
      "metadata": {
        "id": "8XMV8vqHghIl"
      },
      "source": [
        "Vemos que en Python las tuplas son un objeto de tipo `tuple`. Al igual que las listas, las tuplas tienen una noción de longitud y de orden, por lo que podremos indexar y segmentar estos objetos:"
      ]
    },
    {
      "cell_type": "code",
      "metadata": {
        "id": "KPsdJ3magl09",
        "colab": {
          "base_uri": "https://localhost:8080/"
        },
        "outputId": "be826a12-1885-4568-b30e-bdda54813cbf"
      },
      "source": [
        "t[2]"
      ],
      "execution_count": null,
      "outputs": [
        {
          "output_type": "execute_result",
          "data": {
            "text/plain": [
              "6"
            ]
          },
          "metadata": {},
          "execution_count": 90
        }
      ]
    },
    {
      "cell_type": "code",
      "metadata": {
        "colab": {
          "base_uri": "https://localhost:8080/"
        },
        "id": "gpOl-lB2AM8D",
        "outputId": "53eaae1e-860b-4ce8-e70d-4375d8e05165"
      },
      "source": [
        "t[2:5]"
      ],
      "execution_count": null,
      "outputs": [
        {
          "output_type": "execute_result",
          "data": {
            "text/plain": [
              "(6, 7, 8)"
            ]
          },
          "metadata": {},
          "execution_count": 91
        }
      ]
    },
    {
      "cell_type": "markdown",
      "metadata": {
        "id": "u7yTZx71gmLj"
      },
      "source": [
        "La principal característica distintiva de las tuplas es que son estructuras de datos inmutables, lo cual significa que una vez que se crean, no es posible modificar su tamaño y contenido. Si intentamos modificar un elemento de la tupla obtendremos un error:"
      ]
    },
    {
      "cell_type": "code",
      "metadata": {
        "id": "C01F-2yootol",
        "colab": {
          "base_uri": "https://localhost:8080/"
        },
        "outputId": "5deb6103-af31-485b-eaa9-538f1fa86322"
      },
      "source": [
        "try:\n",
        "  t[0] = 100\n",
        "except Exception as e:\n",
        "  print(e)"
      ],
      "execution_count": null,
      "outputs": [
        {
          "output_type": "stream",
          "text": [
            "'tuple' object does not support item assignment\n"
          ],
          "name": "stdout"
        }
      ]
    },
    {
      "cell_type": "code",
      "metadata": {
        "id": "5NbqmUF_gqvs",
        "colab": {
          "base_uri": "https://localhost:8080/"
        },
        "outputId": "b93bba60-05cc-4e62-9807-6ec92c9f90c4"
      },
      "source": [
        "t = 100, 5, 6, 7, 8\n",
        "print(t)"
      ],
      "execution_count": null,
      "outputs": [
        {
          "output_type": "stream",
          "text": [
            "(100, 5, 6, 7, 8)\n"
          ],
          "name": "stdout"
        }
      ]
    },
    {
      "cell_type": "markdown",
      "metadata": {
        "id": "IOrrwsJLgwN0"
      },
      "source": [
        "**Unpacking**\n",
        "\n",
        "Las tuplas cumplen una función doble: pueden usarse como listas inmutables y también para almacenar información sin una etiqueta explícita. Por ejemplo, supongamos que queremos almacenar la informacion de un punto en el plano cartesiano $(x,y)$. Podríamos tener esta información en una tupla, donde se usará la posición dentro de la tupla para referenciar los puntos\n",
        "\n"
      ]
    },
    {
      "cell_type": "markdown",
      "metadata": {
        "id": "b52ltvRBhD4B"
      },
      "source": [
        "La forma más usada del *unpacking* es la asignación paralela, es decir, la asignación de elementos de un objeto iterable a una tupla de variables:\n"
      ]
    },
    {
      "cell_type": "code",
      "metadata": {
        "id": "SZ8-vheEg1bq",
        "colab": {
          "base_uri": "https://localhost:8080/"
        },
        "outputId": "7dece93a-8da8-4db5-e8f9-627dae023f69"
      },
      "source": [
        "coordenadas = (4, 5)\n",
        "\n",
        "x, y = coordenadas\n",
        "print(x)"
      ],
      "execution_count": null,
      "outputs": [
        {
          "output_type": "stream",
          "text": [
            "4\n"
          ],
          "name": "stdout"
        }
      ]
    },
    {
      "cell_type": "code",
      "metadata": {
        "id": "66Bn0J_JpMqw",
        "colab": {
          "base_uri": "https://localhost:8080/"
        },
        "outputId": "d5bdc421-5d3e-4f40-956f-0997b1532dcf"
      },
      "source": [
        "x = 15\n",
        "print(x, y, coordenadas)\n"
      ],
      "execution_count": null,
      "outputs": [
        {
          "output_type": "stream",
          "text": [
            "15 5 (4, 5)\n"
          ],
          "name": "stdout"
        }
      ]
    },
    {
      "cell_type": "markdown",
      "metadata": {
        "id": "Tp-Sl0HGg3Xe"
      },
      "source": [
        "Note que en esta expresión, ordenar la tupla destruiría la información ya que el significado de cada elemento está dado por su posición en la tupla. Esto funciona particularmente bien en las tuplas debido al mecanismo de *unpacking* de estos objetos. Veámoslo con un ejemplo: \n"
      ]
    },
    {
      "cell_type": "markdown",
      "metadata": {
        "id": "nWxnX3pUg9TT"
      },
      "source": [
        "Note que hemos asignado `(\"Carlos\", 45, \"Medellin\")` a `nombre`, `edad` y `ciudad`, respectivamente, en una sola sentencia. A este tipo de procesos se hace referencia cuando se habla del mecanismo de *unpacking* de las tuplas. Por ejemplo, este es el mecanismo que nos permite definir múltiples variables en una sola sentencia\n",
        "\n",
        "\n",
        "   "
      ]
    },
    {
      "cell_type": "code",
      "metadata": {
        "id": "t6GvOh5Kg35Q",
        "colab": {
          "base_uri": "https://localhost:8080/"
        },
        "outputId": "f6906451-9a6c-44f4-d042-78f3176c1a07"
      },
      "source": [
        "nombre, edad , ciudad = (\"Carlos\", 45, \"Medellin\")\n",
        "\n",
        "print(nombre)"
      ],
      "execution_count": null,
      "outputs": [
        {
          "output_type": "stream",
          "text": [
            "Carlos\n"
          ],
          "name": "stdout"
        }
      ]
    },
    {
      "cell_type": "markdown",
      "metadata": {
        "id": "HpfyzLMtGP0E"
      },
      "source": [
        "Este mecanismo también permite \"desempaquetar\" listas:"
      ]
    },
    {
      "cell_type": "code",
      "metadata": {
        "id": "_oNa6ZcEhKah",
        "colab": {
          "base_uri": "https://localhost:8080/"
        },
        "outputId": "f0c2f999-35b4-4898-e313-77833e448819"
      },
      "source": [
        "x = [1, 2, 3]\n",
        "\n",
        "x1,x2,x3 = x\n",
        "print(x1,x2,x3)"
      ],
      "execution_count": null,
      "outputs": [
        {
          "output_type": "stream",
          "text": [
            "1 2 3\n"
          ],
          "name": "stdout"
        }
      ]
    },
    {
      "cell_type": "code",
      "metadata": {
        "colab": {
          "base_uri": "https://localhost:8080/"
        },
        "id": "gdaconG0BWxJ",
        "outputId": "ae458098-0433-478e-99e9-704d325f414d"
      },
      "source": [
        "x2 = 7\n",
        "\n",
        "print(x1, x2, x3, x)"
      ],
      "execution_count": null,
      "outputs": [
        {
          "output_type": "stream",
          "text": [
            "1 7 3 [1, 2, 3]\n"
          ],
          "name": "stdout"
        }
      ]
    },
    {
      "cell_type": "markdown",
      "metadata": {
        "id": "Vi3B1ajUhbP4"
      },
      "source": [
        "Si, por ejemplo, solo queremos tomar una parte de la tupla, podemos utilizar una variable como `_` de la siguiente manera: "
      ]
    },
    {
      "cell_type": "code",
      "metadata": {
        "id": "fOW-PDUuhj4y",
        "colab": {
          "base_uri": "https://localhost:8080/"
        },
        "outputId": "4e79a549-a334-442a-aa79-a22a94966c3c"
      },
      "source": [
        "codigo_postal = [('USA',21315), ('COL',15648),('BRA',48915)]\n",
        "\n",
        "for pais, _ in codigo_postal:\n",
        "  print(pais)"
      ],
      "execution_count": null,
      "outputs": [
        {
          "output_type": "stream",
          "text": [
            "USA\n",
            "COL\n",
            "BRA\n"
          ],
          "name": "stdout"
        }
      ]
    },
    {
      "cell_type": "code",
      "metadata": {
        "id": "OU-pek1cqIVh",
        "colab": {
          "base_uri": "https://localhost:8080/"
        },
        "outputId": "2c3486a6-d318-4c73-9cb6-e5aef60ba11f"
      },
      "source": [
        "print(_)"
      ],
      "execution_count": null,
      "outputs": [
        {
          "output_type": "stream",
          "text": [
            "48915\n"
          ],
          "name": "stdout"
        }
      ]
    },
    {
      "cell_type": "markdown",
      "metadata": {
        "id": "XEVKs1YyePpm"
      },
      "source": [
        "Podemos bien pensar entonces en un conjunto de ordenadas de pais y código postal, si queremos obtener entonces los paises podemos iterar por ambos y extraer solo el pais"
      ]
    },
    {
      "cell_type": "code",
      "metadata": {
        "id": "dDJ-AQ7uhb4k"
      },
      "source": [
        ""
      ],
      "execution_count": null,
      "outputs": []
    },
    {
      "cell_type": "markdown",
      "metadata": {
        "id": "XZcQWl9kewmv"
      },
      "source": [
        "<p><a name=\"dic\"></a></p>\n",
        "\n",
        "# **Diccionarios**\n",
        "\n",
        "Los diccionarios son mapeos extremadamente flexibles de claves a valores, y forman la base de gran parte de la implementación interna de Python. Se pueden crear mediante una lista separada por comas de pares `clave:valor` dentro de llaves:"
      ]
    },
    {
      "cell_type": "code",
      "metadata": {
        "id": "H8UkBFZ1fQLi",
        "colab": {
          "base_uri": "https://localhost:8080/"
        },
        "outputId": "b3c5d354-8f66-4206-c3d6-47ddf6b44080"
      },
      "source": [
        "diccio = {'uno': 1, 'dos': 2, \"tres\": 3}\n",
        "print(diccio)"
      ],
      "execution_count": null,
      "outputs": [
        {
          "output_type": "stream",
          "text": [
            "{'uno': 1, 'dos': 2, 'tres': 3}\n"
          ],
          "name": "stdout"
        }
      ]
    },
    {
      "cell_type": "code",
      "metadata": {
        "id": "fglc-nv4r6ME",
        "colab": {
          "base_uri": "https://localhost:8080/"
        },
        "outputId": "48f1b66d-abd9-4a5d-ecb7-f968ccf3894c"
      },
      "source": [
        "type(diccio)"
      ],
      "execution_count": null,
      "outputs": [
        {
          "output_type": "execute_result",
          "data": {
            "text/plain": [
              "dict"
            ]
          },
          "metadata": {},
          "execution_count": 103
        }
      ]
    },
    {
      "cell_type": "markdown",
      "metadata": {
        "id": "fKLMqt1QfWBn"
      },
      "source": [
        "a cada par `clave:valor` se le conoce como un *item*. \n",
        "\n",
        "Alternativamente, podemos crear un objeto tipo `dict` directamente con el constructor `dict`"
      ]
    },
    {
      "cell_type": "code",
      "metadata": {
        "id": "9rAgLNcffT3u",
        "colab": {
          "base_uri": "https://localhost:8080/"
        },
        "outputId": "fb8afd3b-b8cf-4236-d3bb-0528ddcce356"
      },
      "source": [
        "print(dict(uno = 1, dos = 2, tres = 3))"
      ],
      "execution_count": null,
      "outputs": [
        {
          "output_type": "stream",
          "text": [
            "{'uno': 1, 'dos': 2, 'tres': 3}\n"
          ],
          "name": "stdout"
        }
      ]
    },
    {
      "cell_type": "markdown",
      "metadata": {
        "id": "NHMh-ewKGu7h"
      },
      "source": [
        "Otra forma de construir diccionarios es pasarlo como una lista de tuplas ante el constructor \n",
        "\n",
        "```dict([(x,y),...,(a,b)])```"
      ]
    },
    {
      "cell_type": "code",
      "metadata": {
        "id": "rRLeAjBafbvE",
        "colab": {
          "base_uri": "https://localhost:8080/"
        },
        "outputId": "b4860293-48dc-4334-8fce-fac2e0750668"
      },
      "source": [
        "print(dict([('uno', 1), ('dos', 2), (\"tres\", 3)]))"
      ],
      "execution_count": null,
      "outputs": [
        {
          "output_type": "stream",
          "text": [
            "{'uno': 1, 'dos': 2, 'tres': 3}\n"
          ],
          "name": "stdout"
        }
      ]
    },
    {
      "cell_type": "markdown",
      "metadata": {
        "id": "LDvXt0J7hvTA"
      },
      "source": [
        "Supongamos que queremos construir un diccionario a partir de `codigo_postal`"
      ]
    },
    {
      "cell_type": "code",
      "metadata": {
        "id": "231dKN4Kfe40",
        "colab": {
          "base_uri": "https://localhost:8080/"
        },
        "outputId": "312a035e-bb3a-431f-b63e-d5a3ab3e3c18"
      },
      "source": [
        "print(codigo_postal)"
      ],
      "execution_count": null,
      "outputs": [
        {
          "output_type": "stream",
          "text": [
            "[('USA', 21315), ('COL', 15648), ('BRA', 48915)]\n"
          ],
          "name": "stdout"
        }
      ]
    },
    {
      "cell_type": "markdown",
      "metadata": {
        "id": "p0AwArU7hz4Q"
      },
      "source": [
        "donde las claves sean el país y los valores los códigos asociados. Utilizando el constructor `dict` esto se puede realizar fácilmente:"
      ]
    },
    {
      "cell_type": "code",
      "metadata": {
        "id": "Nq-9gL7chyBc",
        "colab": {
          "base_uri": "https://localhost:8080/"
        },
        "outputId": "63cde681-fe52-4b8f-fe37-762d9fd62d81"
      },
      "source": [
        "dc = dict(codigo_postal)\n",
        "print(dc)"
      ],
      "execution_count": null,
      "outputs": [
        {
          "output_type": "stream",
          "text": [
            "{'USA': 21315, 'COL': 15648, 'BRA': 48915}\n"
          ],
          "name": "stdout"
        }
      ]
    },
    {
      "cell_type": "markdown",
      "metadata": {
        "id": "6VcqBm2Gh737"
      },
      "source": [
        "En el caso de la variable `codigos`"
      ]
    },
    {
      "cell_type": "code",
      "metadata": {
        "id": "03338Ppvh3UT"
      },
      "source": [
        "codigos = [(86,'China'), (78, 'India'), (2,'Indonesia')]"
      ],
      "execution_count": null,
      "outputs": []
    },
    {
      "cell_type": "markdown",
      "metadata": {
        "id": "tKoMIn0Kh_Z-"
      },
      "source": [
        "esto no será posible debido a que que las posiciones de país y código están intercambiadas"
      ]
    },
    {
      "cell_type": "code",
      "metadata": {
        "id": "-Hc7JhLDiA4f",
        "colab": {
          "base_uri": "https://localhost:8080/"
        },
        "outputId": "9d5c79f7-99f2-418e-f87e-af01bf0b74a9"
      },
      "source": [
        "dict(codigos)"
      ],
      "execution_count": null,
      "outputs": [
        {
          "output_type": "execute_result",
          "data": {
            "text/plain": [
              "{2: 'Indonesia', 78: 'India', 86: 'China'}"
            ]
          },
          "metadata": {},
          "execution_count": 111
        }
      ]
    },
    {
      "cell_type": "markdown",
      "metadata": {
        "id": "6V8jcfi7iE0u"
      },
      "source": [
        "Para construir el diccionario en la forma requerida, podemos construirlo como un \"diccionario por comprensión\" como `{i:j for i,j in expresion}`"
      ]
    },
    {
      "cell_type": "code",
      "metadata": {
        "id": "g7wP4qDMiBni",
        "colab": {
          "base_uri": "https://localhost:8080/"
        },
        "outputId": "ecacb7ef-38d4-4ebd-bcb6-3f32279573ca"
      },
      "source": [
        "dc2 = {pais: codigo for codigo, pais in codigos}\n",
        "print(dc2)"
      ],
      "execution_count": null,
      "outputs": [
        {
          "output_type": "stream",
          "text": [
            "{'China': 86, 'India': 78, 'Indonesia': 2}\n"
          ],
          "name": "stdout"
        }
      ]
    },
    {
      "cell_type": "markdown",
      "metadata": {
        "id": "GVAN2brjiJSp"
      },
      "source": [
        "otro ejemplo, podemos construir las claves con cadenas f:"
      ]
    },
    {
      "cell_type": "code",
      "metadata": {
        "id": "em9jL3meiGhy",
        "colab": {
          "base_uri": "https://localhost:8080/"
        },
        "outputId": "c50ad7f0-918b-4294-83fe-b64fa7ca08da"
      },
      "source": [
        "{f'Clave{i}': i ** 2 for i in range(1,5)}"
      ],
      "execution_count": null,
      "outputs": [
        {
          "output_type": "execute_result",
          "data": {
            "text/plain": [
              "{'Clave1': 1, 'Clave2': 4, 'Clave3': 9, 'Clave4': 16}"
            ]
          },
          "metadata": {},
          "execution_count": 114
        }
      ]
    },
    {
      "cell_type": "markdown",
      "metadata": {
        "id": "h07lYIApiVDO"
      },
      "source": [
        "A diferencia de los elementos dentro de una lista o tupla, los items del diccionario no tienen una noción de orden o posición. \n"
      ]
    },
    {
      "cell_type": "code",
      "metadata": {
        "id": "v6N_5GIsiM7a",
        "colab": {
          "base_uri": "https://localhost:8080/"
        },
        "outputId": "75081cb4-c68f-4de7-ae6b-c9c95ebd9e63"
      },
      "source": [
        "try:\n",
        "  dc[2]\n",
        "except :\n",
        "  print(\"Los diccionarios no son ordenados\")"
      ],
      "execution_count": null,
      "outputs": [
        {
          "output_type": "stream",
          "text": [
            "Los diccionarios no son ordenados\n"
          ],
          "name": "stdout"
        }
      ]
    },
    {
      "cell_type": "markdown",
      "metadata": {
        "id": "HFV37sBwiZSX"
      },
      "source": [
        "Podemos acceder o definir un item del diccionario mediante la sintaxis de indexación utilizada para las listas y tuplas, excepto que el índice no es numérico sino una clave válida dentro del diccionario:"
      ]
    },
    {
      "cell_type": "code",
      "metadata": {
        "id": "fGYPMiJ7iXNA",
        "colab": {
          "base_uri": "https://localhost:8080/"
        },
        "outputId": "7a2bc543-cef5-4de9-ffa9-8abbbd70e963"
      },
      "source": [
        "print(diccio['uno'])\n",
        "print(diccio)"
      ],
      "execution_count": null,
      "outputs": [
        {
          "output_type": "stream",
          "text": [
            "1\n",
            "{'uno': 1, 'dos': 2, 'tres': 3}\n"
          ],
          "name": "stdout"
        }
      ]
    },
    {
      "cell_type": "markdown",
      "metadata": {
        "id": "wnL5KzzZkao6"
      },
      "source": [
        "Podemos incluso pasarle un nuevo `key` a nuestro diccionario, y asignarle un valo"
      ]
    },
    {
      "cell_type": "code",
      "metadata": {
        "id": "MqOwuZIYicvJ",
        "colab": {
          "base_uri": "https://localhost:8080/"
        },
        "outputId": "54dd17f0-35c6-4295-a74e-1d5e7c8b7595"
      },
      "source": [
        "diccio['cuatro'] = 4\n",
        "print(diccio)"
      ],
      "execution_count": null,
      "outputs": [
        {
          "output_type": "stream",
          "text": [
            "{'uno': 1, 'dos': 2, 'tres': 3, 'cuatro': 4}\n"
          ],
          "name": "stdout"
        }
      ]
    },
    {
      "cell_type": "code",
      "metadata": {
        "colab": {
          "base_uri": "https://localhost:8080/"
        },
        "id": "VzdvJAXBEE9-",
        "outputId": "9e20b6eb-777d-4c87-8c6c-c3f9e7b87ad8"
      },
      "source": [
        "diccio['uno'] = 0.99999999999\n",
        "print(diccio)"
      ],
      "execution_count": null,
      "outputs": [
        {
          "output_type": "stream",
          "text": [
            "{'uno': 0.99999999999, 'dos': 2, 'tres': 3, 'cuatro': 4}\n"
          ],
          "name": "stdout"
        }
      ]
    },
    {
      "cell_type": "markdown",
      "metadata": {
        "id": "B5a2QmTNihAV"
      },
      "source": [
        "Al igual que con las listas y tuplas, podemos crear diccionarios vacios para luego agregarles las tuplas `(clave:valor)`"
      ]
    },
    {
      "cell_type": "code",
      "metadata": {
        "id": "HaD6fS_yieko"
      },
      "source": [
        "dc_empty = {}"
      ],
      "execution_count": null,
      "outputs": []
    },
    {
      "cell_type": "markdown",
      "metadata": {
        "id": "cpjb4gquio-N"
      },
      "source": [
        "Tenga en cuenta que las claves son únicas dentro de un diccionario, mientras que los valores pueden no serlo. Los valores de un diccionario pueden ser de cualquier tipo, pero las claves deben ser de un tipo de dato inmutable, como cadenas, números o tuplas. De manera que podemos construir estructuras más complejas como la siguiente:"
      ]
    },
    {
      "cell_type": "code",
      "metadata": {
        "id": "TuXxSxugilRY",
        "colab": {
          "base_uri": "https://localhost:8080/"
        },
        "outputId": "73476feb-9150-4dc8-9f0c-bb04c41df8b1"
      },
      "source": [
        "dicc = {\"nombres\": [\"Daniel\", \"Camila\", \"Julian\"], \"edades\": [22, 28, 19]}\n",
        "print(dicc)"
      ],
      "execution_count": null,
      "outputs": [
        {
          "output_type": "stream",
          "text": [
            "{'nombres': ['Daniel', 'Camila', 'Julian'], 'edades': [22, 28, 19]}\n"
          ],
          "name": "stdout"
        }
      ]
    },
    {
      "cell_type": "markdown",
      "metadata": {
        "id": "JZWIqK7LizKE"
      },
      "source": [
        "En este caso vamos a acceder a los diferentes elementos del diccionario individualmente o al *item* completo si así lo necesitamos. Esto se puede realizar utilizando los métodos `keys`, `values` y `items`, respectivamente. "
      ]
    },
    {
      "cell_type": "code",
      "metadata": {
        "id": "oEYSwMBfiwyA",
        "colab": {
          "base_uri": "https://localhost:8080/"
        },
        "outputId": "4dcbf5d4-a4ca-41bf-fec6-1ec17e571c8a"
      },
      "source": [
        "dicc.keys()"
      ],
      "execution_count": null,
      "outputs": [
        {
          "output_type": "execute_result",
          "data": {
            "text/plain": [
              "dict_keys(['nombres', 'edades'])"
            ]
          },
          "metadata": {},
          "execution_count": 124
        }
      ]
    },
    {
      "cell_type": "code",
      "metadata": {
        "id": "BwIwQcMki3Wi",
        "colab": {
          "base_uri": "https://localhost:8080/"
        },
        "outputId": "f4ae1c40-0b11-4e5b-cd21-83958c5ec0df"
      },
      "source": [
        "dicc.values()"
      ],
      "execution_count": null,
      "outputs": [
        {
          "output_type": "execute_result",
          "data": {
            "text/plain": [
              "dict_values([['Daniel', 'Camila', 'Julian'], [22, 28, 19]])"
            ]
          },
          "metadata": {},
          "execution_count": 125
        }
      ]
    },
    {
      "cell_type": "code",
      "metadata": {
        "id": "yp8qK0dwi4PR",
        "colab": {
          "base_uri": "https://localhost:8080/"
        },
        "outputId": "4c516eaa-36d5-41ee-f2f8-ecaae015d584"
      },
      "source": [
        "dicc.items()"
      ],
      "execution_count": null,
      "outputs": [
        {
          "output_type": "execute_result",
          "data": {
            "text/plain": [
              "dict_items([('nombres', ['Daniel', 'Camila', 'Julian']), ('edades', [22, 28, 19])])"
            ]
          },
          "metadata": {},
          "execution_count": 126
        }
      ]
    },
    {
      "cell_type": "markdown",
      "metadata": {
        "id": "0WstQN28i8KM"
      },
      "source": [
        "Podemos utilizar estos métodos para iterar sobre alguno de los elementos"
      ]
    },
    {
      "cell_type": "code",
      "metadata": {
        "id": "jkUn-whLi5qu",
        "colab": {
          "base_uri": "https://localhost:8080/"
        },
        "outputId": "cb3129fb-7e1b-4cd0-80ff-d5fe0d810e1e"
      },
      "source": [
        "for i in dicc.keys():\n",
        "  print(i)"
      ],
      "execution_count": null,
      "outputs": [
        {
          "output_type": "stream",
          "text": [
            "nombres\n",
            "edades\n"
          ],
          "name": "stdout"
        }
      ]
    },
    {
      "cell_type": "markdown",
      "metadata": {
        "id": "-sSK_7jzHPek"
      },
      "source": [
        "Note que por defecto, si iteramos sobre el diccionario, estaremos iterando sobre las claves, por lo que en este caso no hay necesidad de utilizar el método `keys`"
      ]
    },
    {
      "cell_type": "code",
      "metadata": {
        "id": "ig8NmEKCHGun",
        "colab": {
          "base_uri": "https://localhost:8080/"
        },
        "outputId": "9debdc54-062f-40a0-e9e3-298707eaf240"
      },
      "source": [
        "for i in dicc:\n",
        "  print(i)"
      ],
      "execution_count": null,
      "outputs": [
        {
          "output_type": "stream",
          "text": [
            "nombres\n",
            "edades\n"
          ],
          "name": "stdout"
        }
      ]
    },
    {
      "cell_type": "code",
      "metadata": {
        "id": "g56E7gqUi-cY",
        "colab": {
          "base_uri": "https://localhost:8080/"
        },
        "outputId": "fd089199-4e23-44c7-f22b-b7b7437aff36"
      },
      "source": [
        "for i in dicc.values():\n",
        "  print(i)"
      ],
      "execution_count": null,
      "outputs": [
        {
          "output_type": "stream",
          "text": [
            "['Daniel', 'Camila', 'Julian']\n",
            "[22, 28, 19]\n"
          ],
          "name": "stdout"
        }
      ]
    },
    {
      "cell_type": "code",
      "metadata": {
        "id": "0nAbCtNXjFWW",
        "colab": {
          "base_uri": "https://localhost:8080/"
        },
        "outputId": "ed233efe-5e08-41f3-fbb4-d18d51636b19"
      },
      "source": [
        "for clave, valor in dicc.items():\n",
        "  print(clave, valor)"
      ],
      "execution_count": null,
      "outputs": [
        {
          "output_type": "stream",
          "text": [
            "nombres ['Daniel', 'Camila', 'Julian']\n",
            "edades [22, 28, 19]\n"
          ],
          "name": "stdout"
        }
      ]
    },
    {
      "cell_type": "markdown",
      "metadata": {
        "id": "qcRnTYv2jKkw"
      },
      "source": [
        "**Ejercicio 5:** Dado el diccionario\n",
        "\n",
        "> \n",
        "    notas = {'Ana':9, 'Luis':7, 'Pedro':2, 'Marta':5, 'Nerea':4, 'Pablo':6}\n",
        "\n",
        "  1) cree una lista que contenga notas mayores o iguales a 5.\n",
        "\n",
        "  2) cree una lista que contenga los nombres de los estudiantes que contengan la letra \"a\".\n",
        "\n",
        "  3) cree una lista que contenga los nombres de los estudiantes que aprobaron (nota >= 5) "
      ]
    },
    {
      "cell_type": "code",
      "metadata": {
        "id": "e5t2HcI-jHIe"
      },
      "source": [
        ""
      ],
      "execution_count": null,
      "outputs": []
    },
    {
      "cell_type": "markdown",
      "metadata": {
        "id": "d6b1p5WfkoMj"
      },
      "source": [
        "**Ejercicio 6:** Dada la siguiente lista, itere sobre ella y cuente la aparición de cada elemento y cree un diccionario para mostrar el recuento de cada elemento\n",
        "\n",
        "> \n",
        "    Lista = [11, 45, 8, 11, 23, 45, 23, 45, 89]"
      ]
    },
    {
      "cell_type": "code",
      "metadata": {
        "id": "MGg-_4RWPYc7"
      },
      "source": [
        ""
      ],
      "execution_count": null,
      "outputs": []
    },
    {
      "cell_type": "code",
      "metadata": {
        "id": "mr6XuFx1dM52"
      },
      "source": [
        ""
      ],
      "execution_count": null,
      "outputs": []
    }
  ]
}