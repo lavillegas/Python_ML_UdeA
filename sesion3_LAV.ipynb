{
  "nbformat": 4,
  "nbformat_minor": 0,
  "metadata": {
    "colab": {
      "name": "sesion3.ipynb",
      "provenance": [],
      "collapsed_sections": [],
      "include_colab_link": true
    },
    "kernelspec": {
      "name": "python3",
      "display_name": "Python 3"
    }
  },
  "cells": [
    {
      "cell_type": "markdown",
      "metadata": {
        "id": "view-in-github",
        "colab_type": "text"
      },
      "source": [
        "<a href=\"https://colab.research.google.com/github/lavillegas/Python_ML_UdeA/blob/main/sesion3_LAV.ipynb\" target=\"_parent\"><img src=\"https://colab.research.google.com/assets/colab-badge.svg\" alt=\"Open In Colab\"/></a>"
      ]
    },
    {
      "cell_type": "markdown",
      "metadata": {
        "id": "kUkIpVtwGNZX"
      },
      "source": [
        "<p><img alt=\"Colaboratory logo\" height=\"140px\" src=\"https://upload.wikimedia.org/wikipedia/commons/archive/f/fb/20161010213812%21Escudo-UdeA.svg\" align=\"left\" hspace=\"10px\" vspace=\"0px\"></p>\n",
        "\n",
        "# **Diplomado de Análisis de datos y Machine Learning en Python**\n",
        "\n",
        "\n",
        "El presente diplomado hace parte del centro de Big Data de la facultad de ciencias exactas y naturales (FCEN) de la Universidad de Antioquia.\n",
        "\n",
        "## **Sesión 3**\n",
        "\n",
        "## **Contenido**\n",
        "\n",
        "- <a href=\"#io\"> Entrada y salida</a><br>   \n",
        "- <a href=\"#ecf\"> Estructuras de control de flujo</a><br>\n",
        "  - <a href=\"#sci\"> Sentencias condicionales `if`, `elif` y `else`</a><br>\n",
        "- <a href=\"#cic\"> Ciclos, iteraciones e interrupciones de flujo</a><br>\n",
        "  - <a href=\"#whi\"> Ciclo `while`</a><br>\n",
        "  - <a href=\"#for\"> Ciclo `for`</a><br>\n",
        "  - <a href=\"#scf\"> Sentencias de control de flujo `break` y `continue`</a><br>\n",
        "\n",
        "\n"
      ]
    },
    {
      "cell_type": "markdown",
      "metadata": {
        "id": "van7zDVKNUi8"
      },
      "source": [
        "<p><a name=\"io\"></a></p>\n",
        "\n",
        "# **Entrada y salida**\n",
        "\n",
        "\n",
        "Para tomar datos por parte de un usuario externo hacemos uso de la función propia de Python `input`, que opcionalmente toma un string como argumento"
      ]
    },
    {
      "cell_type": "code",
      "metadata": {
        "id": "B78KUY4oNVdW",
        "colab": {
          "base_uri": "https://localhost:8080/",
          "height": 52
        },
        "outputId": "70edb2db-ff45-41fe-a4c6-61190ad150f4"
      },
      "source": [
        "input(\"Dame un número entero \")"
      ],
      "execution_count": 3,
      "outputs": [
        {
          "output_type": "stream",
          "text": [
            "Dame un número entero 12\n"
          ],
          "name": "stdout"
        },
        {
          "output_type": "execute_result",
          "data": {
            "application/vnd.google.colaboratory.intrinsic+json": {
              "type": "string"
            },
            "text/plain": [
              "'12'"
            ]
          },
          "metadata": {},
          "execution_count": 3
        }
      ]
    },
    {
      "cell_type": "markdown",
      "metadata": {
        "id": "AF8kLVJv2S1T"
      },
      "source": [
        "Note que esta función siempre devuelve una variable de tipo `str`"
      ]
    },
    {
      "cell_type": "code",
      "metadata": {
        "id": "dwsyJtyQ2ZoG",
        "colab": {
          "base_uri": "https://localhost:8080/"
        },
        "outputId": "24c8d3fa-2b36-4d82-ca9d-4f14dd0f306b"
      },
      "source": [
        "edad = input(\"Ingrese su edad \\n\")"
      ],
      "execution_count": 4,
      "outputs": [
        {
          "output_type": "stream",
          "text": [
            "Ingrese su edada \n",
            "27\n"
          ],
          "name": "stdout"
        }
      ]
    },
    {
      "cell_type": "code",
      "metadata": {
        "id": "USjayXB1bdYB",
        "outputId": "c5267367-7191-449a-c1ce-a50b65501321",
        "colab": {
          "base_uri": "https://localhost:8080/"
        }
      },
      "source": [
        "print(edad, type(edad))"
      ],
      "execution_count": 5,
      "outputs": [
        {
          "output_type": "stream",
          "text": [
            "27 <class 'str'>\n"
          ],
          "name": "stdout"
        }
      ]
    },
    {
      "cell_type": "code",
      "metadata": {
        "id": "eZG-RnIgbqlo",
        "outputId": "a09f96c8-d43b-4bc3-cefb-09f0167a7346",
        "colab": {
          "base_uri": "https://localhost:8080/"
        }
      },
      "source": [
        "# Sirve para capturar errores pero que no pare la ejecución, que siga con la ejecución del código\n",
        "try:\n",
        "  print(edad +5)\n",
        "except Exception as e:\n",
        "  print(e)\n",
        "\n",
        "print(\"Adios\")"
      ],
      "execution_count": 6,
      "outputs": [
        {
          "output_type": "stream",
          "text": [
            "can only concatenate str (not \"int\") to str\n",
            "Adios\n"
          ],
          "name": "stdout"
        }
      ]
    },
    {
      "cell_type": "markdown",
      "metadata": {
        "id": "F7JPzzxb2eO8"
      },
      "source": [
        "Para transformar la variable al tipo indicado podemos utilizar las funciones de transformación que ya vimos. Por ejemplo, en este caso, queremos que la variable sea de tipo `int`, por lo que podemos escribir:"
      ]
    },
    {
      "cell_type": "code",
      "metadata": {
        "id": "eE3fSCR020vw",
        "colab": {
          "base_uri": "https://localhost:8080/"
        },
        "outputId": "b0d30e96-b25e-4bbf-a075-ad6972d86b76"
      },
      "source": [
        "edad = int(input(\"Ingrese su edad \\n\"))\n",
        "print(edad, type(edad), edad +5)\n",
        "print(f\"Mi edad es {edad} años y en 5 años tendré {edad +5} años\")"
      ],
      "execution_count": 9,
      "outputs": [
        {
          "output_type": "stream",
          "text": [
            "Ingrese su edad \n",
            "37\n",
            "37 <class 'int'> 42\n",
            "Mi edad es 37 años y en 5 años tendré 42 años\n"
          ],
          "name": "stdout"
        }
      ]
    },
    {
      "cell_type": "markdown",
      "metadata": {
        "id": "78Al5hXIOPYT"
      },
      "source": [
        "\n",
        "\n",
        "Para mostrar algo en pantalla podemos utilizar la función propia de Python `print`, que toma como argumento la(s) variable(s) que queramos mostrar. Podemos separar cada variable por una coma, como se muestra a continuación:"
      ]
    },
    {
      "cell_type": "code",
      "metadata": {
        "id": "WC0HE6oxOY2D",
        "colab": {
          "base_uri": "https://localhost:8080/",
          "height": 34
        },
        "outputId": "ba2e0879-f188-4fbe-a619-5721eca2d12c"
      },
      "source": [
        ""
      ],
      "execution_count": null,
      "outputs": [
        {
          "output_type": "stream",
          "text": [
            "El número entero es 1 y su cuadrado es 1\n"
          ],
          "name": "stdout"
        }
      ]
    },
    {
      "cell_type": "markdown",
      "metadata": {
        "id": "OHFemolf3k-b"
      },
      "source": [
        "Antes de Python 3.6, teníamos dos formas de incrustar expresiones de Python dentro de literales de cadena para *formatear*: `formateo con %` y `str.format()`. \n",
        "\n",
        "\n",
        "**Formateo con %**\n",
        "\n",
        "Los objetos de tipo cadena tienen una operación integrada que utiliza el operador `%`, que puede usarse para formatear cadenas. Veamos un ejemplo:"
      ]
    },
    {
      "cell_type": "code",
      "metadata": {
        "id": "wGrur9803nzI",
        "colab": {
          "base_uri": "https://localhost:8080/"
        },
        "outputId": "f8990789-cb71-4a60-fd2c-0bf9a1f44434"
      },
      "source": [
        "nombre = \"Luis\"\n",
        "\n",
        "print(\"Mi nombre es %s\" %nombre)"
      ],
      "execution_count": 10,
      "outputs": [
        {
          "output_type": "stream",
          "text": [
            "Mi nombre es Luis\n"
          ],
          "name": "stdout"
        }
      ]
    },
    {
      "cell_type": "markdown",
      "metadata": {
        "id": "RAU0d4wi3-cF"
      },
      "source": [
        "Note que se utiliza el operador `%` seguido de una `s`, para indicar que en esa posición queremos tener la variable nombre (que se referencia fuera de la cadena con el mismo operador `%`) seguido de una `s`, que hace referencia al formato en el que se quiere mostrar la variable, en este caso, un *string* (utilizamos `d` para los enteros y `f` para los números de punto flotante)."
      ]
    },
    {
      "cell_type": "code",
      "metadata": {
        "id": "iY-xHxO94DRi",
        "colab": {
          "base_uri": "https://localhost:8080/"
        },
        "outputId": "f10704a5-ad71-4f78-c8cf-61829e2aebe1"
      },
      "source": [
        "print(\"Tengo %d años\" %edad)"
      ],
      "execution_count": 11,
      "outputs": [
        {
          "output_type": "stream",
          "text": [
            "Tengo 37 años\n"
          ],
          "name": "stdout"
        }
      ]
    },
    {
      "cell_type": "markdown",
      "metadata": {
        "id": "jIqVfB8N4Fpb"
      },
      "source": [
        "Para referenciar múltiples variables, se utiliza una tupla (que ya estudiaremos) para referenciar las dos variables:"
      ]
    },
    {
      "cell_type": "code",
      "metadata": {
        "id": "757_AzCd4GQK",
        "colab": {
          "base_uri": "https://localhost:8080/"
        },
        "outputId": "00d4905e-c968-4ef6-c0e0-3c5f3ccdf3ab"
      },
      "source": [
        "print(\"Me llamo %s y tengo %d años\" %(nombre, edad))"
      ],
      "execution_count": 12,
      "outputs": [
        {
          "output_type": "stream",
          "text": [
            "Me llamo Luis y tengo 37 años\n"
          ],
          "name": "stdout"
        }
      ]
    },
    {
      "cell_type": "markdown",
      "metadata": {
        "id": "zIaF5VN04JyO"
      },
      "source": [
        "También podemos elegir un nivel de precisión particular de la siguiente manera:"
      ]
    },
    {
      "cell_type": "code",
      "metadata": {
        "id": "nMmJW17J4Kmc",
        "colab": {
          "base_uri": "https://localhost:8080/"
        },
        "outputId": "d3b4d888-fa1a-4706-9202-0cb7398b9752"
      },
      "source": [
        "pi=3.14159\n",
        "\n",
        "print(\"Imprimiendo pi con dos cifras decimales: %.2f\" %pi)\n",
        "print(\"Imprimiendo pi con cuatro cifras decimales: %.4f\" %pi)"
      ],
      "execution_count": 13,
      "outputs": [
        {
          "output_type": "stream",
          "text": [
            "Imprimiendo pi con dos cifras decimales: 3.14\n",
            "Imprimiendo pi con cuatro cifras decimales: 3.1416\n"
          ],
          "name": "stdout"
        }
      ]
    },
    {
      "cell_type": "markdown",
      "metadata": {
        "id": "UdM4uoie4RlK"
      },
      "source": [
        "Estos ejemplos son lo suficientemente legibles. Sin embargo, una vez que comencemos a usar un número mayor de variables y cadenas más largas, el código ya no será tan fácil de leer. Además, encontraremos problemas cuando queramos referenciar estructuras de datos más complejos (por ejemplo los diccionarios). \n",
        "\n",
        "**str.format()**\n",
        " \n",
        "Esta es una forma de realizar formateo de cadenas introducido a partir de Python 2.6, la cual es una mejora del formateo con `%`. Con `str.format()`, las referencias se realizan con llaves de la siguiente manera:"
      ]
    },
    {
      "cell_type": "code",
      "metadata": {
        "id": "SaMxygoU4Ujw",
        "colab": {
          "base_uri": "https://localhost:8080/"
        },
        "outputId": "869af979-f7a4-46e7-b65c-5c6b3be8e8e4"
      },
      "source": [
        "print(\"Mi nombre es {}\".format(nombre))"
      ],
      "execution_count": 15,
      "outputs": [
        {
          "output_type": "stream",
          "text": [
            "Mi nombre es Luis\n"
          ],
          "name": "stdout"
        }
      ]
    },
    {
      "cell_type": "markdown",
      "metadata": {
        "id": "_xYlXSqy4fgt"
      },
      "source": [
        "Note que en este caso las variables se muestran de acuerdo al orden en el que aparecen en `.format()`. Podemos referenciar la variable utilizando el índice (posición en la que aparecen las variables en `.format()`) de las variables:"
      ]
    },
    {
      "cell_type": "code",
      "metadata": {
        "id": "Ui_pqGnZ4gXi",
        "colab": {
          "base_uri": "https://localhost:8080/"
        },
        "outputId": "a461e692-c259-4493-cf1a-ede78b367b5f"
      },
      "source": [
        "print(\"Me llamo {} y tengo {} años\".format(nombre, edad))"
      ],
      "execution_count": 16,
      "outputs": [
        {
          "output_type": "stream",
          "text": [
            "Me llamo Luis y tengo 37 años\n"
          ],
          "name": "stdout"
        }
      ]
    },
    {
      "cell_type": "markdown",
      "metadata": {
        "id": "kzs3MTFG4k3B"
      },
      "source": [
        "Y la precisión se elige de la siguiente manera:"
      ]
    },
    {
      "cell_type": "code",
      "metadata": {
        "id": "91puqFIw4lWy",
        "colab": {
          "base_uri": "https://localhost:8080/"
        },
        "outputId": "84077bf4-2dd3-457c-d01b-cc11989b4fb9"
      },
      "source": [
        "print(\"Imprimiendo pi con dos cifras decimales: {:.2f}\".format(pi))\n",
        "print(\"Imprimiendo pi con cuatro cifras decimales: {:.4f}\".format(pi))"
      ],
      "execution_count": 19,
      "outputs": [
        {
          "output_type": "stream",
          "text": [
            "Imprimiendo pi con dos cifras decimales: 3.14\n",
            "Imprimiendo pi con cuatro cifras decimales: 3.1416\n"
          ],
          "name": "stdout"
        }
      ]
    },
    {
      "cell_type": "markdown",
      "metadata": {
        "id": "f882bfxb4nod"
      },
      "source": [
        "`str.format()` es definitivamente una mejora en comparación con el formateo con `%` para operaciones más complejas. Sin embargo, vamos a encontrar el mismo problema que en el caso anterior: cuando utilicemos más variables y cadenas más largas el código no será tan fácil de leer. \n",
        "\n",
        "Pensemos que en ambos casos, para mostrar las variables dentro de la cadena, debemos utilizar la referencia dentro de la cadena y luego referenciar la variable fuera de la cadena, algo que puede hacerse con una única referencia utilizando las cadenas *f*."
      ]
    },
    {
      "cell_type": "markdown",
      "metadata": {
        "id": "ffr_3FaQJxRn"
      },
      "source": [
        "\n",
        "\n",
        "**Cadenas *f***\n",
        "\n",
        "Las cadenas *f* (o *f-strings* en inglés) son literales de cadena que tienen una `f` al principio y llaves que contienen expresiones que serán reemplazadas por sus valores. La sintáxis es la siguiente\n",
        "\n",
        ">\n",
        "    f\".. {var} ..\"\n",
        "\n",
        "Donde `var` es la variable que queremos referenciar. De esta forma, podemos referenciar las variables dentro de la cadena directamente"
      ]
    },
    {
      "cell_type": "code",
      "metadata": {
        "id": "CztCL08H4xhq",
        "colab": {
          "base_uri": "https://localhost:8080/"
        },
        "outputId": "acb5608d-9d4b-47de-98ef-d7e5402228c8"
      },
      "source": [
        "print(f\"Te llamas {nombre} y tienes {edad} años\")"
      ],
      "execution_count": 20,
      "outputs": [
        {
          "output_type": "stream",
          "text": [
            "Te llamas Luis y tienes 37 años\n"
          ],
          "name": "stdout"
        }
      ]
    },
    {
      "cell_type": "markdown",
      "metadata": {
        "id": "_-uUltUC40vH"
      },
      "source": [
        "La precisión se indica de la siguiente manera:"
      ]
    },
    {
      "cell_type": "code",
      "metadata": {
        "id": "nSS2gSMg414f",
        "colab": {
          "base_uri": "https://localhost:8080/"
        },
        "outputId": "f0e44aad-fa05-46c1-b08e-7d2c3180d554"
      },
      "source": [
        "print(f\"Imprimiendo pi con dos cifras de precisión: {pi:.2f}\")\n",
        "print(f\"Imprimiendo pi con cuatro cifras de precisión: {pi:.4f}\")"
      ],
      "execution_count": 23,
      "outputs": [
        {
          "output_type": "stream",
          "text": [
            "Imprimiendo pi con dos cifras de precisión: 3.14\n",
            "Imprimiendo pi con cuatro cifras de precisión: 3.1416\n"
          ],
          "name": "stdout"
        }
      ]
    },
    {
      "cell_type": "markdown",
      "metadata": {
        "id": "3zTowV_C460h"
      },
      "source": [
        "Podemos realizar cualquier tipo de operación válida sobre las variables. Por ejemplo:"
      ]
    },
    {
      "cell_type": "code",
      "metadata": {
        "id": "zF-WakhTGJo6",
        "colab": {
          "base_uri": "https://localhost:8080/"
        },
        "outputId": "a0338acb-9cab-4a1f-a961-3b8a9e0b148a"
      },
      "source": [
        "num = 2\n",
        "print(f\"El número entero es {num} y su cuadrado es {num**2}\")"
      ],
      "execution_count": 25,
      "outputs": [
        {
          "output_type": "stream",
          "text": [
            "El número entero es 2 y su cuadrado es 4\n"
          ],
          "name": "stdout"
        }
      ]
    },
    {
      "cell_type": "code",
      "metadata": {
        "id": "YSALgwhO2hA5",
        "colab": {
          "base_uri": "https://localhost:8080/"
        },
        "outputId": "9ab0126d-5740-4692-9f98-0e553b6029da"
      },
      "source": [
        "print(f\"Mi nombre es {nombre.upper()}\")"
      ],
      "execution_count": 24,
      "outputs": [
        {
          "output_type": "stream",
          "text": [
            "Mi nombre es LUIS\n"
          ],
          "name": "stdout"
        }
      ]
    },
    {
      "cell_type": "markdown",
      "metadata": {
        "id": "Z9lOjs-WKhBK"
      },
      "source": [
        "Este será el tipo de formateo de cadenas que utilizaremos de ahora en adelante debido a su facilida de uso y eficiencia."
      ]
    },
    {
      "cell_type": "markdown",
      "metadata": {
        "id": "2Jm7IByaRh7v"
      },
      "source": [
        "**Ejercicio 1:** Cree un programa que le pida al usuario que ingrese su nombre, edad y año actual. Imprima un mensaje en pantalla en el que le diga el año en que cumplirá 100 años."
      ]
    },
    {
      "cell_type": "code",
      "metadata": {
        "id": "wvlzij38VFKo",
        "colab": {
          "base_uri": "https://localhost:8080/"
        },
        "outputId": "3541c8e5-c816-4272-d236-661eb29c8ae3"
      },
      "source": [
        "nom=input(\"Ingrese su nombre: \\n\")\n",
        "ed=int(input(\"Ingrese su edad: \\n\"))\n",
        "anno=int(input(\"Ingrese el año actual: \\n\"))\n",
        "print(f\"{nom}, El año en que usted cumplirá 100 años es {100 -ed + anno}\")"
      ],
      "execution_count": 29,
      "outputs": [
        {
          "output_type": "stream",
          "text": [
            "Ingrese su nombre: \n",
            "Luis\n",
            "Ingrese su edad: \n",
            "37\n",
            "Ingrese el año actual: \n",
            "2021\n",
            "Luis, El año en que usted cumplirá 100 años es 2084\n"
          ],
          "name": "stdout"
        }
      ]
    },
    {
      "cell_type": "markdown",
      "metadata": {
        "id": "h99Vci4PQBNY"
      },
      "source": [
        "<p><a name=\"ecf\"></a></p>\n",
        "\n",
        "# **Estructuras de control de flujo**\n",
        "\n",
        "Sin las estructuras de control de flujo, un programa es simplemente una lista de sentencias que se ejecutan secuencialmente. Controlando el flujo del programa, podemos ejecutar ciertos bloques de código condicionalmente y/o repetidamente. Veremos las diferentes sentencias condicionales, ciclos e interrupciones de flujo.\n",
        "\n",
        "<p><a name=\"sci\"></a></p>\n",
        "\n",
        "## **Sentencias condicionales** `if`, `elif` y `else`\n",
        "\n",
        "Una sentencia `if` consiste en una expresión booleana seguida de una o más sentencias indentadas:\n",
        "> \n",
        "    if expresion:\n",
        "      sentencia(s)\n",
        "\n",
        "Si la expresión booleana se evalúa como `True`, se ejecuta el bloque de sentencias dentro de la sentencia `if`. Recordemos que en Python, las declaraciones en un bloque están indentadas uniformemente después del símbolo dos puntos `:`"
      ]
    },
    {
      "cell_type": "code",
      "metadata": {
        "id": "7fjMna_NQNVI",
        "colab": {
          "base_uri": "https://localhost:8080/"
        },
        "outputId": "0ca8cbc0-e54a-4cd1-e7a9-6422d7992dc5"
      },
      "source": [
        "condicion = True\n",
        "if condicion:\n",
        "  print(f\"la condición tenia un valor {condicion}\")\n",
        "print(\"Adios\")"
      ],
      "execution_count": 32,
      "outputs": [
        {
          "output_type": "stream",
          "text": [
            "la condición tenia un valor True\n",
            "Adios\n"
          ],
          "name": "stdout"
        }
      ]
    },
    {
      "cell_type": "markdown",
      "metadata": {
        "id": "OsnAsLwC5sLA"
      },
      "source": [
        "En este caso como la expresión booleana `exp` es `True`, entonces se ejecuta la sentencia luego del `if`. Una vez ejecutada la sentencia del bloque de código se ejecuta la siguiente línea en el flujo del código. Ahora, en el caso que la expresión a evaluar sea `False`, no se ejecutará el bloque de código que sigue al `if`, como se muestra a continuación"
      ]
    },
    {
      "cell_type": "code",
      "metadata": {
        "id": "31rke9b_5wBh",
        "colab": {
          "base_uri": "https://localhost:8080/",
          "height": 34
        },
        "outputId": "dfae2517-dcc5-4aa7-8093-abcb70a00cdc"
      },
      "source": [
        ""
      ],
      "execution_count": null,
      "outputs": [
        {
          "output_type": "stream",
          "text": [
            "¡adiós!\n"
          ],
          "name": "stdout"
        }
      ]
    },
    {
      "cell_type": "markdown",
      "metadata": {
        "id": "smYzO6QaQTEp"
      },
      "source": [
        "La sentencia `else` se puede combinar con una sentencia `if` para tener más control del flujo del programa. Una instrucción `else` contiene un bloque de código que se ejecuta si la expresión condicional en la instrucción `if` toma el valor `False`. La sintáxis es la siguiente:\n",
        "\n",
        "> \n",
        "    if expresion:\n",
        "      sentencia(s)\n",
        "    else:\n",
        "      sentencia(s)\n",
        "\n",
        "Veamos un ejemplo:\n"
      ]
    },
    {
      "cell_type": "code",
      "metadata": {
        "id": "IAMa-jNiQWEz",
        "colab": {
          "base_uri": "https://localhost:8080/"
        },
        "outputId": "90cb968a-6991-48a8-d94b-b26247974125"
      },
      "source": [
        "condicion = True\n",
        "if condicion:\n",
        "  print(f\"la condición tenia un valor {condicion}\")\n",
        "else:\n",
        "  print(\"la condición no se cumplía\")\n",
        "print(\"Adios\")"
      ],
      "execution_count": 36,
      "outputs": [
        {
          "output_type": "stream",
          "text": [
            "la condición tenia un valor True\n",
            "Adios\n"
          ],
          "name": "stdout"
        }
      ]
    },
    {
      "cell_type": "code",
      "metadata": {
        "id": "eQyu3vGb6Aa0",
        "colab": {
          "base_uri": "https://localhost:8080/",
          "height": 51
        },
        "outputId": "7d851358-f263-49d6-b3fa-0f24f5b88ed4"
      },
      "source": [
        ""
      ],
      "execution_count": null,
      "outputs": [
        {
          "output_type": "stream",
          "text": [
            "La expresión tiene un valor booleano Falso\n",
            "Adios\n"
          ],
          "name": "stdout"
        }
      ]
    },
    {
      "cell_type": "markdown",
      "metadata": {
        "id": "-UR2WpNfQZ3A"
      },
      "source": [
        "De esta manera podemos ejecutar una instrucción para los dos posibles valores que tome la expresión booleana. Note que como expresión podemos evaluar cualquier tipo de operación de comparación que nos devuelva un valor booleano.\n",
        "\n",
        "\n",
        "\n"
      ]
    },
    {
      "cell_type": "markdown",
      "metadata": {
        "id": "BG50_7JAU4kU"
      },
      "source": [
        "**Ejercicio 2:**  Pida al usuario un número entero. Dependiendo de si el número es par o impar, imprima un mensaje apropiado para el usuario en pantalla."
      ]
    },
    {
      "cell_type": "code",
      "metadata": {
        "id": "g1-mKdptU3Pw",
        "colab": {
          "base_uri": "https://localhost:8080/"
        },
        "outputId": "8b17f0fc-81f7-4749-a5a1-931336640270"
      },
      "source": [
        "nume = int(input(\"Dame un número entero \\n\"))\n",
        "\n",
        "if nume % 2 == 0:\n",
        "  print(f\"el numero {nume} es par\")\n",
        "else:\n",
        "  print(f\"el numero {nume} es impar\")"
      ],
      "execution_count": 40,
      "outputs": [
        {
          "output_type": "stream",
          "text": [
            "Dame un número entero \n",
            "15\n",
            "el numero 15 es impar\n"
          ],
          "name": "stdout"
        }
      ]
    },
    {
      "cell_type": "markdown",
      "metadata": {
        "id": "K1xVQVQppKKn"
      },
      "source": [
        "**Ejercicio 3:** Un año es bisiesto si es múltiplo de 4, exceptuando los múltiplos de 100, que sólo son bisiestos cuando son múltiplos además de 400, por ejemplo el año 1900 no fue bisiesto, pero el año 2000 si lo será. Escribir un programa que, dado un año por parte de un usuario, muestre un mensaje en pantalla apropiado de acuerdo a si dicho año es o no bisiesto."
      ]
    },
    {
      "cell_type": "code",
      "metadata": {
        "id": "FjZTUqS6-h4M",
        "colab": {
          "base_uri": "https://localhost:8080/"
        },
        "outputId": "7afad434-7503-4b29-f262-a9a05c0e5fd8"
      },
      "source": [
        "anio = int(input(\"Digite el año \\n\"))\n",
        "if (anio % 400 == 0) or (anio % 100 != 0 and anio % 4 == 0):\n",
        "  print(f\"El año {anio} es bisiesto\")\n",
        "else:\n",
        "  print(f\"El año {anio} no es bisiesto\")"
      ],
      "execution_count": 55,
      "outputs": [
        {
          "output_type": "stream",
          "text": [
            "Digite el año \n",
            "2020\n",
            "El año 2020 es bisiesto\n"
          ],
          "name": "stdout"
        }
      ]
    },
    {
      "cell_type": "markdown",
      "metadata": {
        "id": "dlQvvrChU2nk"
      },
      "source": [
        "La sentencia `elif` (else if) permite verificar múltiples expresiones y ejecutar un bloque de código tan pronto como una de las condiciones se evalúe como `True`. Al igual que `else`, la sentencia `elif` es opcional. Sin embargo, a diferencia de `else`, para el cual puede haber como máximo una declaración, puede haber un número arbitrario de sentencias `elif` después de un `if`. Veamos los posibles casos cuando se evaluan dos condiciones:"
      ]
    },
    {
      "cell_type": "code",
      "metadata": {
        "id": "8NHf3Gb5QWvX",
        "colab": {
          "base_uri": "https://localhost:8080/"
        },
        "outputId": "b8194d89-9a03-4888-a4c5-93528ebe682a"
      },
      "source": [
        "exp_1 = True\n",
        "exp_2 = False\n",
        "\n",
        "if exp_1:\n",
        "  print(\"exp_1 es True\")\n",
        "elif exp_2:\n",
        "  print(\"exp_2 es True\")\n",
        "else:\n",
        "  print(\"ambas son False\")"
      ],
      "execution_count": 56,
      "outputs": [
        {
          "output_type": "stream",
          "text": [
            "exp_1 es True\n"
          ],
          "name": "stdout"
        }
      ]
    },
    {
      "cell_type": "code",
      "metadata": {
        "id": "J1fi0oWN6n0d",
        "colab": {
          "base_uri": "https://localhost:8080/"
        },
        "outputId": "82523d0a-c7d0-4e26-8a32-159c664ae2c9"
      },
      "source": [
        "exp_1 = True\n",
        "exp_2 = True\n",
        "\n",
        "if exp_1:\n",
        "  print(\"exp_1 es True\")\n",
        "if exp_2:\n",
        "  print(\"exp_2 es True\")\n",
        "else:\n",
        "  print(\"ambas son False\")"
      ],
      "execution_count": 57,
      "outputs": [
        {
          "output_type": "stream",
          "text": [
            "exp_1 es True\n",
            "exp_2 es True\n"
          ],
          "name": "stdout"
        }
      ]
    },
    {
      "cell_type": "code",
      "metadata": {
        "id": "_oC7AI1R6s-E",
        "colab": {
          "base_uri": "https://localhost:8080/"
        },
        "outputId": "c66e7cbc-e388-4998-f872-36d028b18bc5"
      },
      "source": [
        "exp_1 = False\n",
        "exp_2 = False\n",
        "\n",
        "if exp_1:\n",
        "  print(\"exp_1 es True\")\n",
        "if exp_2:\n",
        "  print(\"exp_2 es True\")\n",
        "else:\n",
        "  print(\"ambas son False\")"
      ],
      "execution_count": 58,
      "outputs": [
        {
          "output_type": "stream",
          "text": [
            "ambas son False\n"
          ],
          "name": "stdout"
        }
      ]
    },
    {
      "cell_type": "code",
      "metadata": {
        "id": "ul5ijGB86wDR",
        "colab": {
          "base_uri": "https://localhost:8080/",
          "height": 51
        },
        "outputId": "e66a1089-bd17-4b56-ac19-405ed9fe9dec"
      },
      "source": [
        ""
      ],
      "execution_count": null,
      "outputs": [
        {
          "output_type": "stream",
          "text": [
            "exp_1 es True\n",
            "Adios\n"
          ],
          "name": "stdout"
        }
      ]
    },
    {
      "cell_type": "markdown",
      "metadata": {
        "id": "OJb_HgDa63U9"
      },
      "source": [
        "Note que en el caso donde ambas expresiones son `True`, se ejecuta solo la sentencia que primero se evalúe como `True`"
      ]
    },
    {
      "cell_type": "markdown",
      "metadata": {
        "id": "OU_d67LJQqaO"
      },
      "source": [
        " **Ejercicio 4:** Acepte tres números del usuario. Imprima en pantalla el mayor de los tres con dos cifras decimales"
      ]
    },
    {
      "cell_type": "code",
      "metadata": {
        "id": "Q2uI6xHNQjIV",
        "colab": {
          "base_uri": "https://localhost:8080/"
        },
        "outputId": "c0550f65-6934-40f4-adad-11bea6f9c4e3"
      },
      "source": [
        "n1, n2, n3 = [int(input(\"Ingrese un número \\n\" )) for i in range(3)]\n",
        "\n",
        "if n1 >= n2 and n1 >= n3:\n",
        "  print(f\"El número mayor es {n1:.2f}\")\n",
        "elif n2 >= n1 and n2 >= n3:\n",
        "  print(f\"El número mayor es {n2:.2f}\")\n",
        "else:\n",
        "  print(f\"El número mayor es {n3:.2f}\")"
      ],
      "execution_count": 63,
      "outputs": [
        {
          "output_type": "stream",
          "text": [
            "Ingrese un número \n",
            "10\n",
            "Ingrese un número \n",
            "7\n",
            "Ingrese un número \n",
            "5\n",
            "El número mayor es 10.00\n"
          ],
          "name": "stdout"
        }
      ]
    },
    {
      "cell_type": "markdown",
      "metadata": {
        "id": "rvgC45t1VVcf"
      },
      "source": [
        "Finalmente, podemos utilizar estas sentencias para definir una variable con dos posibles valores. Por ejemplo, si quisieramos asignar a una variable dos posibles valores, digamos 1 y 0, de acuerdo a alguna condición, podemos utilizar las sentencias `if` y `else` de la siguiente manera"
      ]
    },
    {
      "cell_type": "code",
      "metadata": {
        "id": "wAej54bXVXK4",
        "colab": {
          "base_uri": "https://localhost:8080/"
        },
        "outputId": "965b0b1b-97e9-41d7-b477-925dbdc7293b"
      },
      "source": [
        "x = 100\n",
        "\n",
        "y = 0 if x == 10 else 1\n",
        "\n",
        "print(x,y)"
      ],
      "execution_count": 64,
      "outputs": [
        {
          "output_type": "stream",
          "text": [
            "100 1\n"
          ],
          "name": "stdout"
        }
      ]
    },
    {
      "cell_type": "markdown",
      "metadata": {
        "id": "g4NetrJP7ysy"
      },
      "source": [
        "En este caso, como la condición que seguía al `if` devuelve `True`, se asigna el primer valor. En el caso contrario, se asignaría el valor que sigue al `else`:"
      ]
    },
    {
      "cell_type": "code",
      "metadata": {
        "id": "KKBMOtXM7w6e",
        "colab": {
          "base_uri": "https://localhost:8080/"
        },
        "outputId": "0c51da2c-7e10-45e4-ccc8-0f44ff3102d2"
      },
      "source": [
        "x = 47\n",
        "\n",
        "y = 0 if x == 47 else 1\n",
        "\n",
        "print(x,y)"
      ],
      "execution_count": 65,
      "outputs": [
        {
          "output_type": "stream",
          "text": [
            "47 0\n"
          ],
          "name": "stdout"
        }
      ]
    },
    {
      "cell_type": "markdown",
      "metadata": {
        "id": "zQzNg0cURRAW"
      },
      "source": [
        "<p><a name=\"cic\"></a></p>\n",
        "\n",
        "# **Ciclos, iteraciones e interrupciones de flujo**\n",
        "\n",
        "En general, las instrucciones se ejecutan secuencialmente. Puede haber una situación en la que se necesite ejecutar un bloque de código varias veces. Una sentencia de ciclo o bucle nos permite ejecutar una o un grupo de sentencias repetidas veces"
      ]
    },
    {
      "cell_type": "markdown",
      "metadata": {
        "id": "g8TUS45vSLMY"
      },
      "source": [
        "<p><a name=\"whi\"></a></p>\n",
        "\n",
        "### **Ciclo `while`**\n",
        "\n",
        "Una sentencia de ciclo `while` ejecuta repetidamente una sentencia siempre que una condición dada sea `True`. La sintáxis es la siguiente:\n",
        "\n",
        "> \n",
        "    while condicion:\n",
        "\n",
        "      sentencia(s)\n",
        "\n",
        "El ciclo itera mientras la condición sea `True`. Un punto clave del ciclo while es que el ciclo podría no ejecutarse nunca. Cuando se prueba la condición y el resultado es `False`, se omitirá el cuerpo del ciclo y se ejecutará la primera instrucción después del ciclo while\n"
      ]
    },
    {
      "cell_type": "code",
      "metadata": {
        "id": "71LuiEqWQvcU",
        "colab": {
          "base_uri": "https://localhost:8080/"
        },
        "outputId": "52fe54d5-0c6a-4098-89a6-620054f501e3"
      },
      "source": [
        "contador = 0\n",
        "\n",
        "while contador < 10:\n",
        "  print(f\"el contador es {contador}\")\n",
        "  contador += 1\n",
        "\n",
        "print(\"Adios\")"
      ],
      "execution_count": 68,
      "outputs": [
        {
          "output_type": "stream",
          "text": [
            "el contador es 0\n",
            "el contador es 1\n",
            "el contador es 2\n",
            "el contador es 3\n",
            "el contador es 4\n",
            "el contador es 5\n",
            "el contador es 6\n",
            "el contador es 7\n",
            "el contador es 8\n",
            "el contador es 9\n",
            "Adios\n"
          ],
          "name": "stdout"
        }
      ]
    },
    {
      "cell_type": "markdown",
      "metadata": {
        "id": "BSg839BQ8P1F"
      },
      "source": [
        "Note que en este caso no se tiene una variable de iteración, sino que la iteración se realiza siempre que la condición evaluada (que la variable `contador` sea menor a 5) sea `True`. Una vez la condición se evalue como `False` se pasa a la siguiente línea de código (`print(\"Adiós\")`) en el flujo del programa. \n",
        "\n",
        "Debido a esta naturaleza del ciclo `while`, debe tener cuidado con la condición que evalue, dado que si la condición siempre es `True` se entrará en un ciclo infinito."
      ]
    },
    {
      "cell_type": "markdown",
      "metadata": {
        "id": "W8pA-RwiSaN1"
      },
      "source": [
        "<p><a name=\"for\"></a></p>\n",
        "\n",
        "### **Ciclo `for`**\n",
        "\n",
        "La sentencia `for` en Python tiene la capacidad de iterar sobre los elementos de cualquier secuencia\n",
        "\n",
        "> \n",
        "    for var_iter in secuencia:\n",
        "\n",
        "        sentencia(s)\n",
        "\n",
        "Observe la simplicidad del ciclo for: especificamos la variable de iteración que queremos usar `var_iter`, la secuencia que queremos recorrer y usamos el operador `in` para vincularlos de manera intuitiva y legible. Más precisamente, el objeto a la derecha de `in` puede ser cualquier objeto iterable de Python. \n",
        "\n",
        "Ahora, se entiende por secuencia cualquier objeto de Python que pueda ser iterable. Estos objetos iterables tienen algo en común: todos ellos contienen el método especial `__iter__` (Recuerde que puede examinar los métodos de un objeto mediante la función propia de Python `dir`).\n",
        "\n",
        "Por ejemplo, uno de los iteradores más utilizados en Python es el objeto `range`, que genera una secuencia de números en un rango especificado:\n",
        "\n",
        "\n",
        "Por ejemplo, uno de los objetos iterables más utilizados en Python es el proporcionado por la función propia de Python `range`, que genera una secuencia de números en un rango específico.\n",
        "\n"
      ]
    },
    {
      "cell_type": "code",
      "metadata": {
        "id": "gm_JdPUsWAcj",
        "colab": {
          "base_uri": "https://localhost:8080/"
        },
        "outputId": "a35f3408-af03-4db0-d712-a3a7dd3eb237"
      },
      "source": [
        "dir(range)"
      ],
      "execution_count": 69,
      "outputs": [
        {
          "output_type": "execute_result",
          "data": {
            "text/plain": [
              "['__bool__',\n",
              " '__class__',\n",
              " '__contains__',\n",
              " '__delattr__',\n",
              " '__dir__',\n",
              " '__doc__',\n",
              " '__eq__',\n",
              " '__format__',\n",
              " '__ge__',\n",
              " '__getattribute__',\n",
              " '__getitem__',\n",
              " '__gt__',\n",
              " '__hash__',\n",
              " '__init__',\n",
              " '__init_subclass__',\n",
              " '__iter__',\n",
              " '__le__',\n",
              " '__len__',\n",
              " '__lt__',\n",
              " '__ne__',\n",
              " '__new__',\n",
              " '__reduce__',\n",
              " '__reduce_ex__',\n",
              " '__repr__',\n",
              " '__reversed__',\n",
              " '__setattr__',\n",
              " '__sizeof__',\n",
              " '__str__',\n",
              " '__subclasshook__',\n",
              " 'count',\n",
              " 'index',\n",
              " 'start',\n",
              " 'step',\n",
              " 'stop']"
            ]
          },
          "metadata": {},
          "execution_count": 69
        }
      ]
    },
    {
      "cell_type": "code",
      "metadata": {
        "id": "RnpoAKRHsdND",
        "outputId": "bcfe7c87-9e7e-4554-b39a-c79af8e191ac",
        "colab": {
          "base_uri": "https://localhost:8080/"
        }
      },
      "source": [
        "lista = [1, 17, 4]\n",
        "for elemento in lista:\n",
        "  print(elemento)\n",
        "\n",
        "print(f\"El último elemento de la iteración fue {elemento}\")"
      ],
      "execution_count": 71,
      "outputs": [
        {
          "output_type": "stream",
          "text": [
            "1\n",
            "17\n",
            "4\n",
            "El último elemento de la iteración fue 4\n"
          ],
          "name": "stdout"
        }
      ]
    },
    {
      "cell_type": "code",
      "metadata": {
        "id": "nLrwyOm2F8Tk",
        "colab": {
          "base_uri": "https://localhost:8080/"
        },
        "outputId": "7b2aebf0-dc08-48d5-9a8a-c540b146f085"
      },
      "source": [
        "for elemento in range(1,20,3):\n",
        "  print(elemento)\n",
        "\n",
        "print(f\"El último elemento de la iteración fue {elemento}\")"
      ],
      "execution_count": 75,
      "outputs": [
        {
          "output_type": "stream",
          "text": [
            "1\n",
            "4\n",
            "7\n",
            "10\n",
            "13\n",
            "16\n",
            "19\n",
            "El último elemento de la iteración fue 19\n"
          ],
          "name": "stdout"
        }
      ]
    },
    {
      "cell_type": "markdown",
      "metadata": {
        "id": "zzd4Yc2W84aV"
      },
      "source": [
        "En este caso la secuencia es (0, 1, 2). Note que la variable de iteración, en este caso `i`, toma cada uno de estos valores en cada iteración. \n",
        "\n",
        "Tenga en cuenta que la secuencia comienza en cero de forma predeterminada y que, por convención, el valor final del `range` no se incluye en la secuencia. La función `range` admite más parámetros para una secuencia más compleja. La sintáxis es la siguiente:\n",
        "\n",
        ">\n",
        "\n",
        "    range(inicio, final, paso)\n",
        "\n",
        "En el primer ejemplo, como hemos pasamos solo un argumento a la función `range`, este se tomará por defecto como el final del rango (que no se incluye), y se generará la secuencia con paso 1. Si pasamos solo dos argumentos, estos se tomarán como el inicio y el final del rango:\n"
      ]
    },
    {
      "cell_type": "code",
      "metadata": {
        "id": "535TdkOnFSTH",
        "colab": {
          "base_uri": "https://localhost:8080/",
          "height": 100
        },
        "outputId": "8a3df02b-dcd9-4b57-a94c-534128f9a765"
      },
      "source": [
        ""
      ],
      "execution_count": null,
      "outputs": [
        {
          "output_type": "stream",
          "text": [
            "10\n",
            "11\n",
            "12\n",
            "13\n",
            "14\n"
          ],
          "name": "stdout"
        }
      ]
    },
    {
      "cell_type": "markdown",
      "metadata": {
        "id": "96Rb6_Pu9FwF"
      },
      "source": [
        "Ahora, pasando los tres argumentos podemos generar secuencias más complejas:"
      ]
    },
    {
      "cell_type": "code",
      "metadata": {
        "id": "T2BF7fr9SXcl",
        "colab": {
          "base_uri": "https://localhost:8080/",
          "height": 100
        },
        "outputId": "a739b123-b3ab-4430-a524-63c9d7d0186b"
      },
      "source": [
        ""
      ],
      "execution_count": null,
      "outputs": [
        {
          "output_type": "stream",
          "text": [
            "10\n",
            "12\n",
            "14\n",
            "16\n",
            "18\n"
          ],
          "name": "stdout"
        }
      ]
    },
    {
      "cell_type": "code",
      "metadata": {
        "id": "dPIekCWl9KNr",
        "colab": {
          "base_uri": "https://localhost:8080/",
          "height": 102
        },
        "outputId": "8c8ef82a-6f38-4125-aaae-c9888d7ff224"
      },
      "source": [
        ""
      ],
      "execution_count": null,
      "outputs": [
        {
          "output_type": "stream",
          "text": [
            "1\n",
            "5\n",
            "9\n",
            "13\n",
            "17\n"
          ],
          "name": "stdout"
        }
      ]
    },
    {
      "cell_type": "markdown",
      "metadata": {
        "id": "JKYFsgBO9NZM"
      },
      "source": [
        "En algunas ocaciones no vamos a utilizar la variable de iteración en el bloque de código siguiente, por lo que podemos escribir la variable de iteración de la siguiente manera:"
      ]
    },
    {
      "cell_type": "code",
      "metadata": {
        "id": "b_JFcK9mFEsn",
        "colab": {
          "base_uri": "https://localhost:8080/"
        },
        "outputId": "604a1baa-eea9-427d-92ba-a01a7b8579da"
      },
      "source": [
        "for _ in range(5):\n",
        "  print(\"Hola\")"
      ],
      "execution_count": 77,
      "outputs": [
        {
          "output_type": "stream",
          "text": [
            "Hola\n",
            "Hola\n",
            "Hola\n",
            "Hola\n",
            "Hola\n"
          ],
          "name": "stdout"
        }
      ]
    },
    {
      "cell_type": "markdown",
      "metadata": {
        "id": "qPEWUTke9RNk"
      },
      "source": [
        "El caracter `_` en Python se utiliza cuando se debe declarar una variable pero esta no se usará en ningún proceso posterior (como en el ejemplo anterior), de manera que no se desperdicie espacio de memoria.\n",
        "\n",
        "Las listas y las cadenas de caracteres también son objetos iterables:"
      ]
    },
    {
      "cell_type": "code",
      "metadata": {
        "id": "TEzl-AW0GQCF",
        "colab": {
          "base_uri": "https://localhost:8080/",
          "height": 67
        },
        "outputId": "45a14a24-2d11-4fe2-e63f-7eaf1ab44aab"
      },
      "source": [
        ""
      ],
      "execution_count": null,
      "outputs": [
        {
          "output_type": "stream",
          "text": [
            "1\n",
            "2\n",
            "3\n"
          ],
          "name": "stdout"
        }
      ]
    },
    {
      "cell_type": "code",
      "metadata": {
        "id": "ZP1nOd2PGg__",
        "colab": {
          "base_uri": "https://localhost:8080/"
        },
        "outputId": "fe0b03a6-85d1-4015-827d-fccfe95e02b3"
      },
      "source": [
        "vocales =\"aeiou\"\n",
        "for vocal in vocales:\n",
        "  print(vocal)"
      ],
      "execution_count": 78,
      "outputs": [
        {
          "output_type": "stream",
          "text": [
            "a\n",
            "e\n",
            "i\n",
            "o\n",
            "u\n"
          ],
          "name": "stdout"
        }
      ]
    },
    {
      "cell_type": "markdown",
      "metadata": {
        "id": "RdSg6O7cUD_8"
      },
      "source": [
        "<p><a name=\"scf\"></a></p>\n",
        "\n",
        "## **Sentencias de control de flujo `break` y `continue`**\n",
        "\n",
        "Existen algunas sentencias útiles que se pueden usar dentro de los ciclos para ajustar como estos se ejecutan:\n",
        "\n",
        "**`break`**:\n",
        "\n",
        "La sentencia de control `break` termina el ciclo y transfiere la ejecución a la línea de código que sigue inmediatamente a este. La siguiente figura ilustra este proceso:\n",
        "\n",
        "<p><img alt=\"Colaboratory logo\" height=\"450px\" src=\"https://i.imgur.com/CoZLUcX.png\" align=\"left\" hspace=\"0px\" vspace=\"0px\"></p>\n",
        "\n"
      ]
    },
    {
      "cell_type": "markdown",
      "metadata": {
        "id": "ordNbhyG9mKA"
      },
      "source": [
        "Veamos esto en un ejemplo concreto: las variables de tipo cadena, también pueden ser utilizadas como secuencias para una iteración:"
      ]
    },
    {
      "cell_type": "code",
      "metadata": {
        "id": "az4VyIJvIQTB",
        "colab": {
          "base_uri": "https://localhost:8080/"
        },
        "outputId": "bd88cbf0-738e-46c3-efb1-ad5d5c28827f"
      },
      "source": [
        "for vocal in vocales:\n",
        "  if vocal == 'o':\n",
        "    break\n",
        "  else:\n",
        "    print(vocal)"
      ],
      "execution_count": 79,
      "outputs": [
        {
          "output_type": "stream",
          "text": [
            "a\n",
            "e\n",
            "i\n"
          ],
          "name": "stdout"
        }
      ]
    },
    {
      "cell_type": "markdown",
      "metadata": {
        "id": "4aCuzLmqV-B9"
      },
      "source": [
        "Note que el ciclo se termina una vez se ejecute la sentencia `break` y se pasa a la siguiente línea en el flujo del programa. También podemos utilizar esta sentencia de control dentro de un ciclo `while`. En este caso terminaremos el ciclo una vez la variable `contador` sea igual a tres:"
      ]
    },
    {
      "cell_type": "code",
      "metadata": {
        "id": "_p0_AWuUV6Dp",
        "colab": {
          "base_uri": "https://localhost:8080/"
        },
        "outputId": "c1feae86-dea4-4a64-9167-8519f13fe052"
      },
      "source": [
        "contador = 0\n",
        "\n",
        "while contador < 10:\n",
        "  contador += 1\n",
        "  if contador == 7:\n",
        "    break\n",
        "  else:\n",
        "    print(f\"el contador es {contador}\")\n",
        "    \n",
        "print(\"Adios\")"
      ],
      "execution_count": 80,
      "outputs": [
        {
          "output_type": "stream",
          "text": [
            "el contador es 1\n",
            "el contador es 2\n",
            "el contador es 3\n",
            "el contador es 4\n",
            "el contador es 5\n",
            "el contador es 6\n",
            "Adios\n"
          ],
          "name": "stdout"
        }
      ]
    },
    {
      "cell_type": "markdown",
      "metadata": {
        "id": "6Bv5ORy7WIdj"
      },
      "source": [
        "**`continue`:**\n",
        "\n",
        "La sentencia de control `continue` no termina por completo el ciclo sino que omite las sentencias restantes de la iteración actual y pasa a la siguiente. Veamos una representación de este proceso:\n",
        "\n",
        "<p><img alt=\"Colaboratory logo\" height=\"450px\" src=\"https://i.imgur.com/i98Dewt.png\" align=\"left\" hspace=\"0px\" vspace=\"0px\"></p>"
      ]
    },
    {
      "cell_type": "markdown",
      "metadata": {
        "id": "Fg9w0bd79zp2"
      },
      "source": [
        "Veamos esta sentencia en uno de los ejemplos anteriores:"
      ]
    },
    {
      "cell_type": "code",
      "metadata": {
        "id": "w55-7-5IWBgP",
        "colab": {
          "base_uri": "https://localhost:8080/"
        },
        "outputId": "c5fc53d6-5701-400a-e634-deaffeb4a689"
      },
      "source": [
        "contador = 0\n",
        "\n",
        "while contador < 10:\n",
        "  contador += 1\n",
        "  if contador == 7:\n",
        "    continue\n",
        "  else:\n",
        "    print(f\"el contador es {contador}\")\n",
        "    \n",
        "print(\"Adios\")"
      ],
      "execution_count": 81,
      "outputs": [
        {
          "output_type": "stream",
          "text": [
            "el contador es 1\n",
            "el contador es 2\n",
            "el contador es 3\n",
            "el contador es 4\n",
            "el contador es 5\n",
            "el contador es 6\n",
            "el contador es 8\n",
            "el contador es 9\n",
            "el contador es 10\n",
            "Adios\n"
          ],
          "name": "stdout"
        }
      ]
    },
    {
      "cell_type": "markdown",
      "metadata": {
        "id": "09T2wyEu93mU"
      },
      "source": [
        "Note que, a diferencia del caso anterior, no se terminó el ciclo una vez se llegó a la vocal \"o\" sino que se pasó a la siguiente iteración ignorando la línea restante en el ciclo."
      ]
    },
    {
      "cell_type": "markdown",
      "metadata": {
        "id": "amBKoTABmWwK"
      },
      "source": [
        "**Ejercicio 5:** Escriba un programa que calcule el factorial de un número entero n"
      ]
    },
    {
      "cell_type": "code",
      "metadata": {
        "id": "g57hdhi4maUW"
      },
      "source": [
        ""
      ],
      "execution_count": null,
      "outputs": []
    }
  ]
}