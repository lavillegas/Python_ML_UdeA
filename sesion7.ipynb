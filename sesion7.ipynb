{
  "nbformat": 4,
  "nbformat_minor": 0,
  "metadata": {
    "colab": {
      "name": "sesion7.ipynb",
      "provenance": [],
      "collapsed_sections": [],
      "include_colab_link": true
    },
    "kernelspec": {
      "name": "python3",
      "display_name": "Python 3"
    }
  },
  "cells": [
    {
      "cell_type": "markdown",
      "metadata": {
        "id": "view-in-github",
        "colab_type": "text"
      },
      "source": [
        "<a href=\"https://colab.research.google.com/github/lavillegas/Python_ML_UdeA/blob/main/sesion7.ipynb\" target=\"_parent\"><img src=\"https://colab.research.google.com/assets/colab-badge.svg\" alt=\"Open In Colab\"/></a>"
      ]
    },
    {
      "cell_type": "markdown",
      "metadata": {
        "id": "guIPjdo3SHak"
      },
      "source": [
        "<p><img alt=\"Colaboratory logo\" height=\"140px\" src=\"https://upload.wikimedia.org/wikipedia/commons/archive/f/fb/20161010213812%21Escudo-UdeA.svg\" align=\"left\" hspace=\"10px\" vspace=\"0px\"></p>\n",
        "\n",
        "# **Diplomado de Análisis de datos y Machine Learning en Python**\n",
        "\n",
        "\n",
        "El presente diplomado hace parte del centro de Big Data de la facultad de ciencias exactas y naturales (FCEN) de la Universidad de Antioquia.\n",
        "\n",
        "## **Sesión 7**\n",
        "\n",
        "## **Contenido**\n",
        "\n",
        "- <a href=\"#con\"> Concatenación de arreglos</a><br> \n",
        "- <a href=\"#ind\"> Indexación y segmentación</a><br>\n",
        "- <a href=\"#enm\"> Enmascaramiento\n",
        "- <a href=\"#sof\"> Indexación sofisticada</a><br></a><br>\n",
        "\n",
        "\n",
        "\n",
        "\n",
        "\n"
      ]
    },
    {
      "cell_type": "markdown",
      "metadata": {
        "id": "TL2iIrOSr-vS"
      },
      "source": [
        "# **Concatenación de arreglos**\n",
        "\n",
        "\n",
        "La concatenación, o unión de dos arreglos en NumPy, se realiza principalmente a través de la función `concatenate`:"
      ]
    },
    {
      "cell_type": "code",
      "metadata": {
        "id": "30pTH355WHzt",
        "colab": {
          "base_uri": "https://localhost:8080/"
        },
        "outputId": "14cc4717-9bfa-4d6b-f653-84c2e200a770"
      },
      "source": [
        "x = [1, 2, 3]\n",
        "y = [4, 5, 6]\n",
        "\n",
        "print(x + y)"
      ],
      "execution_count": null,
      "outputs": [
        {
          "output_type": "stream",
          "name": "stdout",
          "text": [
            "[1, 2, 3, 4, 5, 6]\n"
          ]
        }
      ]
    },
    {
      "cell_type": "code",
      "metadata": {
        "id": "Uz_G-Xb4sBYh",
        "colab": {
          "base_uri": "https://localhost:8080/"
        },
        "outputId": "3a5f12dc-693d-4485-eb0a-70b504864d62"
      },
      "source": [
        "import numpy as np\n",
        "\n",
        "xa = np.array(x)\n",
        "ya = np.array(y)\n",
        "\n",
        "np.concatenate((xa, ya))"
      ],
      "execution_count": null,
      "outputs": [
        {
          "output_type": "execute_result",
          "data": {
            "text/plain": [
              "array([1, 2, 3, 4, 5, 6])"
            ]
          },
          "metadata": {},
          "execution_count": 2
        }
      ]
    },
    {
      "cell_type": "markdown",
      "metadata": {
        "id": "zcNOU4kSsC1b"
      },
      "source": [
        "Podemos concatenar más de dos arreglos al tiempo:"
      ]
    },
    {
      "cell_type": "code",
      "metadata": {
        "id": "K7f86U0GsEIW",
        "colab": {
          "base_uri": "https://localhost:8080/"
        },
        "outputId": "a10b3574-c4dc-446f-d72b-ffb27575ea2e"
      },
      "source": [
        "za = np.array([7, 8, 9])\n",
        "\n",
        "np.concatenate([xa, ya, za])"
      ],
      "execution_count": null,
      "outputs": [
        {
          "output_type": "execute_result",
          "data": {
            "text/plain": [
              "array([1, 2, 3, 4, 5, 6, 7, 8, 9])"
            ]
          },
          "metadata": {},
          "execution_count": 3
        }
      ]
    },
    {
      "cell_type": "markdown",
      "metadata": {
        "id": "VPqoXckzsGa-"
      },
      "source": [
        "`concatenate` también se puede usar para arreglos bidimensionales. Recuerde que las filas corresponden al eje 1 (axis = 1) y las columnas al eje 0 (axis = 0)\n",
        "\n",
        "\n",
        "<p><img alt=\"Colaboratory logo\" height=\"300px\" src=\"https://i.imgur.com/KYPgvhf.png\" align=\"left\" hspace=\"10px\" vspace=\"0px\"></p>"
      ]
    },
    {
      "cell_type": "code",
      "metadata": {
        "id": "rAFfAXkIsG96",
        "colab": {
          "base_uri": "https://localhost:8080/"
        },
        "outputId": "e983da61-d90c-4a78-fbd4-292668f08174"
      },
      "source": [
        "a = np.arange(8,14).reshape(3,2)\n",
        "print(a)"
      ],
      "execution_count": null,
      "outputs": [
        {
          "output_type": "stream",
          "name": "stdout",
          "text": [
            "[[ 8  9]\n",
            " [10 11]\n",
            " [12 13]]\n"
          ]
        }
      ]
    },
    {
      "cell_type": "code",
      "metadata": {
        "id": "Q25jz3A3sSwA",
        "colab": {
          "base_uri": "https://localhost:8080/"
        },
        "outputId": "8639c1bf-422b-47b7-f406-67502172a431"
      },
      "source": [
        "np.concatenate([a, a], axis = 0)"
      ],
      "execution_count": null,
      "outputs": [
        {
          "output_type": "execute_result",
          "data": {
            "text/plain": [
              "array([[ 8,  9],\n",
              "       [10, 11],\n",
              "       [12, 13],\n",
              "       [ 8,  9],\n",
              "       [10, 11],\n",
              "       [12, 13]])"
            ]
          },
          "metadata": {},
          "execution_count": 6
        }
      ]
    },
    {
      "cell_type": "markdown",
      "metadata": {
        "id": "RzHXLfyOsUvW"
      },
      "source": [
        "Si queremos realizar la concatenación a lo largo del eje 1, debemos especificar el eje por medio de un argumento por palabra clave:"
      ]
    },
    {
      "cell_type": "code",
      "metadata": {
        "id": "VLr5NQ4ksWXQ",
        "colab": {
          "base_uri": "https://localhost:8080/"
        },
        "outputId": "07ef5d3c-377a-4c67-cf3e-ab5ad37e3119"
      },
      "source": [
        "np.concatenate([a, a], axis = 1)"
      ],
      "execution_count": null,
      "outputs": [
        {
          "output_type": "execute_result",
          "data": {
            "text/plain": [
              "array([[ 8,  9,  8,  9],\n",
              "       [10, 11, 10, 11],\n",
              "       [12, 13, 12, 13]])"
            ]
          },
          "metadata": {},
          "execution_count": 7
        }
      ]
    },
    {
      "cell_type": "markdown",
      "metadata": {
        "id": "MZE1_jAJsYle"
      },
      "source": [
        "La función `vstack()` es equivalente a la concatenación a lo largo del primer eje (axis=0). Al igual que `concatenate()`, recibe como argumento una secuencia de arreglos que, en este caso, deben tener la misma forma a lo largo de todos los ejes, excepto el primero. Los arreglos unidimensionales deben tener la misma longitud:"
      ]
    },
    {
      "cell_type": "code",
      "metadata": {
        "id": "ksN9Gjr3sZM_",
        "colab": {
          "base_uri": "https://localhost:8080/"
        },
        "outputId": "cba9eb3b-e5fc-4eb6-ba5a-378820716c16"
      },
      "source": [
        "a = np.array([1, 2, 3])\n",
        "b = np.array([[3, 4, 5],\n",
        "              [6, 7, 8]])\n",
        "print(a)\n",
        "print(b)\n",
        "\n",
        "np.vstack([a,b])"
      ],
      "execution_count": null,
      "outputs": [
        {
          "output_type": "stream",
          "name": "stdout",
          "text": [
            "[1 2 3]\n",
            "[[3 4 5]\n",
            " [6 7 8]]\n"
          ]
        },
        {
          "output_type": "execute_result",
          "data": {
            "text/plain": [
              "array([[1, 2, 3],\n",
              "       [3, 4, 5],\n",
              "       [6, 7, 8]])"
            ]
          },
          "metadata": {},
          "execution_count": 8
        }
      ]
    },
    {
      "cell_type": "code",
      "metadata": {
        "id": "x3_6Q_2FscYp"
      },
      "source": [
        "a = np.array([[1],\n",
        "              [2]])\n",
        "b = np.array([[3],\n",
        "              [4],\n",
        "              [5]])"
      ],
      "execution_count": null,
      "outputs": []
    },
    {
      "cell_type": "code",
      "metadata": {
        "id": "Nt3cnr7Sseuw",
        "colab": {
          "base_uri": "https://localhost:8080/"
        },
        "outputId": "ec6de3c6-3a2f-4062-b894-3d9369d53546"
      },
      "source": [
        "np.vstack([a,b])"
      ],
      "execution_count": null,
      "outputs": [
        {
          "output_type": "execute_result",
          "data": {
            "text/plain": [
              "array([[1],\n",
              "       [2],\n",
              "       [3],\n",
              "       [4],\n",
              "       [5]])"
            ]
          },
          "metadata": {},
          "execution_count": 10
        }
      ]
    },
    {
      "cell_type": "markdown",
      "metadata": {
        "id": "rNg0TU0asy7E"
      },
      "source": [
        "Similarmente, la función `hstack()` realiza una concatenación a lo largo del segundo eje (axis=1), y los arreglos que toma como argumento deben coincidir en la forma a lo largo de este eje. Los arreglos unidimensionales pueden ser de cualquier longitud"
      ]
    },
    {
      "cell_type": "code",
      "metadata": {
        "id": "KF_CvPe0s0n7",
        "colab": {
          "base_uri": "https://localhost:8080/"
        },
        "outputId": "0cc759c7-ae68-491c-c8c9-2df9c4d23ae3"
      },
      "source": [
        "a = np.array([1, 2, 3])\n",
        "b = np.arange(4, 8)\n",
        "\n",
        "print(a.shape, b.shape)\n",
        "try:\n",
        "  np.vstack([a,b])\n",
        "except Exception as e:\n",
        "  print(e)"
      ],
      "execution_count": null,
      "outputs": [
        {
          "output_type": "stream",
          "name": "stdout",
          "text": [
            "(3,) (4,)\n",
            "all the input array dimensions for the concatenation axis must match exactly, but along dimension 1, the array at index 0 has size 3 and the array at index 1 has size 4\n"
          ]
        }
      ]
    },
    {
      "cell_type": "code",
      "metadata": {
        "id": "rX6Xkep0s26E",
        "colab": {
          "base_uri": "https://localhost:8080/"
        },
        "outputId": "55181f21-28bb-44e5-9db1-550674354045"
      },
      "source": [
        "a =np.arange(1,5).reshape(2,2)\n",
        "b = np.arange(5, 11).reshape(2, 3)\n",
        "\n",
        "print(a.shape, b.shape)\n",
        "np.hstack((a,b))"
      ],
      "execution_count": null,
      "outputs": [
        {
          "output_type": "stream",
          "name": "stdout",
          "text": [
            "(2, 2) (2, 3)\n"
          ]
        },
        {
          "output_type": "execute_result",
          "data": {
            "text/plain": [
              "array([[ 1,  2,  5,  6,  7],\n",
              "       [ 3,  4,  8,  9, 10]])"
            ]
          },
          "metadata": {},
          "execution_count": 15
        }
      ]
    },
    {
      "cell_type": "markdown",
      "metadata": {
        "id": "5OoDp82DSLz7"
      },
      "source": [
        "<p><a name=\"ind\"></a></p>\n",
        "\n",
        "# **Indexación y segmentación**\n",
        "\n",
        "Los arreglos de NumPy tienen la misma semántica de indexación y segmentación que las listas de Python cuando se trata de acceder a elementos o subarreglos. \n",
        "\n",
        "\n"
      ]
    },
    {
      "cell_type": "code",
      "metadata": {
        "id": "_2_lSiHvR999",
        "colab": {
          "base_uri": "https://localhost:8080/"
        },
        "outputId": "df2b3a61-853c-4624-cc9e-9811dc8b2aba"
      },
      "source": [
        "a = np.arange(9)\n",
        "\n",
        "print(f\"a: {a}\")\n",
        "print(f\"a[2]: {a[2]}\")\n",
        "print(f\"a[1:4]: {a[1:4]}\")"
      ],
      "execution_count": null,
      "outputs": [
        {
          "output_type": "stream",
          "name": "stdout",
          "text": [
            "a: [0 1 2 3 4 5 6 7 8]\n",
            "a[2]: 2\n",
            "a[1:4]: [1 2 3]\n"
          ]
        }
      ]
    },
    {
      "cell_type": "markdown",
      "metadata": {
        "id": "-3pHD5tKTCLn"
      },
      "source": [
        "Debido a que los arreglos de NumPy son n-dimensionales, podemos segmentar a lo largo de todos y cada uno de los ejes. Consideremos la siguiente lista de listas en Python"
      ]
    },
    {
      "cell_type": "code",
      "metadata": {
        "id": "1ytHY5PwTD4f"
      },
      "source": [
        "L = [[1, 2, 3], [4, 5, 6], [7, 8, 9]]"
      ],
      "execution_count": null,
      "outputs": []
    },
    {
      "cell_type": "markdown",
      "metadata": {
        "id": "8z8_19cnTGlH"
      },
      "source": [
        "Por ejemplo, si queremos crear una lista de Python que contenga todas las filas y las primeras dos columnas de la lista L podríamos escribir"
      ]
    },
    {
      "cell_type": "code",
      "metadata": {
        "id": "Qjkk0-MdTI6U",
        "colab": {
          "base_uri": "https://localhost:8080/"
        },
        "outputId": "d423e5c3-0e51-4653-fafc-0aaee22921b2"
      },
      "source": [
        "[element[:2] for element in L]"
      ],
      "execution_count": null,
      "outputs": [
        {
          "output_type": "execute_result",
          "data": {
            "text/plain": [
              "[[1, 2], [4, 5], [7, 8]]"
            ]
          },
          "metadata": {},
          "execution_count": 18
        }
      ]
    },
    {
      "cell_type": "markdown",
      "metadata": {
        "id": "8_atGVc5TM__"
      },
      "source": [
        "El número de ciclos `for` anidados que se necesita para segmentar listas de listas es igual al número de dimensiones menos uno (en este caso $2-1=1$). \n",
        "\n",
        "En NumPy, en lugar de indexar por un segmento, podemos indexar por una tupla de segmentos, cada uno de los cuales actúa en sus propias dimensiones. Definamos el arreglo `L` con NumPy y realicemos la segmentación anterior:\n"
      ]
    },
    {
      "cell_type": "code",
      "metadata": {
        "id": "kqTeXNAuTNjD",
        "colab": {
          "base_uri": "https://localhost:8080/"
        },
        "outputId": "b6358895-c0b6-4633-8b8b-095373dd50f3"
      },
      "source": [
        "L = np.array(L)\n",
        "print(L)"
      ],
      "execution_count": null,
      "outputs": [
        {
          "output_type": "stream",
          "name": "stdout",
          "text": [
            "[[1 2 3]\n",
            " [4 5 6]\n",
            " [7 8 9]]\n"
          ]
        }
      ]
    },
    {
      "cell_type": "code",
      "metadata": {
        "id": "i2A0j-1GTO7t",
        "colab": {
          "base_uri": "https://localhost:8080/"
        },
        "outputId": "f78cbe09-3978-445e-9cf0-44088747afec"
      },
      "source": [
        "L[:,:2]"
      ],
      "execution_count": null,
      "outputs": [
        {
          "output_type": "execute_result",
          "data": {
            "text/plain": [
              "array([[1, 2],\n",
              "       [4, 5],\n",
              "       [7, 8]])"
            ]
          },
          "metadata": {},
          "execution_count": 20
        }
      ]
    },
    {
      "cell_type": "markdown",
      "metadata": {
        "id": "1Yn9MMLfTkv2"
      },
      "source": [
        "Los ciclos `for` para la segmentación multidimensional son manejados implícitamente por NumPy. Esto hace que realizar segmentaciones complejas sea mucho más rápido que escribir los ciclos `for` explícitamente en Python. Veamos algunos ejemplos:"
      ]
    },
    {
      "cell_type": "code",
      "metadata": {
        "id": "_FI0H0UrTRUm",
        "colab": {
          "base_uri": "https://localhost:8080/"
        },
        "outputId": "4603f190-a1b9-493b-da50-e5d0cb5d47ed"
      },
      "source": [
        "a = np.arange(1, 17).reshape(4,4)\n",
        "print(a)"
      ],
      "execution_count": null,
      "outputs": [
        {
          "output_type": "stream",
          "name": "stdout",
          "text": [
            "[[ 1  2  3  4]\n",
            " [ 5  6  7  8]\n",
            " [ 9 10 11 12]\n",
            " [13 14 15 16]]\n"
          ]
        }
      ]
    },
    {
      "cell_type": "code",
      "metadata": {
        "id": "CpT39DIrTpYJ",
        "colab": {
          "base_uri": "https://localhost:8080/"
        },
        "outputId": "f017a210-b494-4f87-bfb1-18df6f97c626"
      },
      "source": [
        "#Primera Fila\n",
        "print(a[0])"
      ],
      "execution_count": null,
      "outputs": [
        {
          "output_type": "stream",
          "name": "stdout",
          "text": [
            "[1 2 3 4]\n"
          ]
        }
      ]
    },
    {
      "cell_type": "code",
      "metadata": {
        "id": "Th1ugrBuTqzE",
        "colab": {
          "base_uri": "https://localhost:8080/"
        },
        "outputId": "a0c608c7-f309-4dd0-e080-f565cc75c71e"
      },
      "source": [
        "#Primera Columna\n",
        "print(a[:,0])"
      ],
      "execution_count": null,
      "outputs": [
        {
          "output_type": "stream",
          "name": "stdout",
          "text": [
            "[ 1  5  9 13]\n"
          ]
        }
      ]
    },
    {
      "cell_type": "code",
      "metadata": {
        "id": "2StElYzbTrzk",
        "colab": {
          "base_uri": "https://localhost:8080/"
        },
        "outputId": "3a5278e5-4aa4-476c-bed9-bdd3511b6158"
      },
      "source": [
        "#Filas pares y columnas impares\n",
        "print(a[::2, 1::2])"
      ],
      "execution_count": null,
      "outputs": [
        {
          "output_type": "stream",
          "name": "stdout",
          "text": [
            "[[ 2  4]\n",
            " [10 12]]\n"
          ]
        }
      ]
    },
    {
      "cell_type": "code",
      "metadata": {
        "id": "eLuGgkGjTs8S",
        "colab": {
          "base_uri": "https://localhost:8080/"
        },
        "outputId": "a5326b8f-dd05-4f0f-ec01-b194f2600f81"
      },
      "source": [
        "#Matriz interna 2x2\n",
        "print(a[1:3,1:3])"
      ],
      "execution_count": null,
      "outputs": [
        {
          "output_type": "stream",
          "name": "stdout",
          "text": [
            "[[ 6  7]\n",
            " [10 11]]\n"
          ]
        }
      ]
    },
    {
      "cell_type": "code",
      "metadata": {
        "id": "2jad8UutTueC",
        "colab": {
          "base_uri": "https://localhost:8080/"
        },
        "outputId": "b3aadd54-9e8a-4c03-b1ea-f19971f05bf9"
      },
      "source": [
        "#Invertir 3 primeras filas tomando 3 primeras columnas\n",
        "a[2::-1, :3]"
      ],
      "execution_count": null,
      "outputs": [
        {
          "output_type": "execute_result",
          "data": {
            "text/plain": [
              "array([[ 9, 10, 11],\n",
              "       [ 5,  6,  7],\n",
              "       [ 1,  2,  3]])"
            ]
          },
          "metadata": {},
          "execution_count": 29
        }
      ]
    },
    {
      "cell_type": "markdown",
      "metadata": {
        "id": "yEZpoKy_U9on"
      },
      "source": [
        "**Ejercicio 1**: Escriba un programa para crear un nuevo arreglo que sea el promedio de cada triplete consecutivo de elementos del siguiente arreglo\n",
        "\n",
        "<p><img alt=\"Colaboratory logo\" height=\"70px\" src=\"https://i.imgur.com/XoHovZd.png\" align=\"left\" hspace=\"10px\" vspace=\"0px\"></p>"
      ]
    },
    {
      "cell_type": "code",
      "metadata": {
        "colab": {
          "base_uri": "https://localhost:8080/"
        },
        "id": "R7avXy5snNHM",
        "outputId": "40b02f84-f670-4703-b8c6-36f337c264cf"
      },
      "source": [
        "a = np.array([1, 2, 3, 2, 4, 6, 1, 2, 12, 0, -12,6])\n",
        "b = a.reshape(4,3)\n",
        "\n",
        "#calcula el promedio de las filas\n",
        "m = np.mean(b, axis =1)\n",
        "print(m)"
      ],
      "execution_count": null,
      "outputs": [
        {
          "output_type": "stream",
          "name": "stdout",
          "text": [
            "[ 2.  4.  5. -2.]\n"
          ]
        }
      ]
    },
    {
      "cell_type": "markdown",
      "metadata": {
        "id": "H_gSDAOvUPOO"
      },
      "source": [
        "<p><a name=\"enm\"></a></p>\n",
        "\n",
        "## **Enmascaramiento**\n",
        "\n",
        "El enmascaramiento aparece cuando deseamos extraer, modificar, o manipular valores en un arreglo de acuerdo con algún criterio.\n",
        "\n",
        "Ya vimos cómo utilizar ufuncs para operaciones aritméticas básicas y otro tipo de operaciones más complejas. NumPy implementa también operadores de comparación como ufuncs:"
      ]
    },
    {
      "cell_type": "code",
      "metadata": {
        "id": "VVuxGalrTvjC",
        "colab": {
          "base_uri": "https://localhost:8080/"
        },
        "outputId": "39ea09ac-d5ca-4725-d729-b51a4bfcda4c"
      },
      "source": [
        "x = np.arange(0,9).reshape(3, 3)\n",
        "print(x)"
      ],
      "execution_count": null,
      "outputs": [
        {
          "output_type": "stream",
          "name": "stdout",
          "text": [
            "[[0 1 2]\n",
            " [3 4 5]\n",
            " [6 7 8]]\n"
          ]
        }
      ]
    },
    {
      "cell_type": "code",
      "metadata": {
        "id": "sWHELIYFUaZ8",
        "colab": {
          "base_uri": "https://localhost:8080/"
        },
        "outputId": "697705e9-0d45-453c-c6f1-d8815ace551f"
      },
      "source": [
        "x > 6"
      ],
      "execution_count": null,
      "outputs": [
        {
          "output_type": "execute_result",
          "data": {
            "text/plain": [
              "array([[False, False, False],\n",
              "       [False, False, False],\n",
              "       [False,  True,  True]])"
            ]
          },
          "metadata": {},
          "execution_count": 34
        }
      ]
    },
    {
      "cell_type": "markdown",
      "metadata": {
        "id": "vXHEYVLkUeBa"
      },
      "source": [
        "El resultado es un arreglo booleano. Dado un arreglo booleano, hay una serie de operaciones útiles que podemos implementar. \n",
        "\n",
        "Podemos utilizar la función `np.sum` junto con los operadores de comparación para realizar conteos dentro del arreglo:"
      ]
    },
    {
      "cell_type": "code",
      "metadata": {
        "id": "uozlXFWHUcdX",
        "colab": {
          "base_uri": "https://localhost:8080/"
        },
        "outputId": "84cc4bee-f9eb-4009-98d9-168957c0fe85"
      },
      "source": [
        "np.sum(x > 6)"
      ],
      "execution_count": null,
      "outputs": [
        {
          "output_type": "execute_result",
          "data": {
            "text/plain": [
              "2"
            ]
          },
          "metadata": {},
          "execution_count": 35
        }
      ]
    },
    {
      "cell_type": "markdown",
      "metadata": {
        "id": "oVPqEJ-JUhso"
      },
      "source": [
        "Con `np.sum` podemos realizar este tipo de conteos a lo largo de las filas o columnas, utilizando el argumento por palabra clave `axis`:"
      ]
    },
    {
      "cell_type": "code",
      "metadata": {
        "id": "04aIRcFfUhQX",
        "colab": {
          "base_uri": "https://localhost:8080/"
        },
        "outputId": "d279382b-e941-4ad2-c600-6d1c9854f096"
      },
      "source": [
        "np.sum(x > 6, axis= 0)"
      ],
      "execution_count": null,
      "outputs": [
        {
          "output_type": "execute_result",
          "data": {
            "text/plain": [
              "array([0, 1, 1])"
            ]
          },
          "metadata": {},
          "execution_count": 38
        }
      ]
    },
    {
      "cell_type": "code",
      "metadata": {
        "id": "QHUMFUXRUjnx",
        "colab": {
          "base_uri": "https://localhost:8080/"
        },
        "outputId": "da6b5904-1b3a-4669-f60f-c6e36f524195"
      },
      "source": [
        "np.sum(x > 6, axis= 1)"
      ],
      "execution_count": null,
      "outputs": [
        {
          "output_type": "execute_result",
          "data": {
            "text/plain": [
              "array([0, 0, 2])"
            ]
          },
          "metadata": {},
          "execution_count": 39
        }
      ]
    },
    {
      "cell_type": "markdown",
      "metadata": {
        "id": "C-t07HoyUl_p"
      },
      "source": [
        "Podemos también tener múltiples condiciones en un conteo, utilizando los operadores lógicos `&` (and) y `|` (or)"
      ]
    },
    {
      "cell_type": "code",
      "metadata": {
        "id": "prKpmML_UkpK",
        "colab": {
          "base_uri": "https://localhost:8080/"
        },
        "outputId": "ce93bf54-24a2-405e-b0ff-c493aa116c31"
      },
      "source": [
        "np.sum((x > 1) & (x < 5) ) "
      ],
      "execution_count": null,
      "outputs": [
        {
          "output_type": "execute_result",
          "data": {
            "text/plain": [
              "3"
            ]
          },
          "metadata": {},
          "execution_count": 41
        }
      ]
    },
    {
      "cell_type": "code",
      "metadata": {
        "id": "0U2206s0UpKm",
        "colab": {
          "base_uri": "https://localhost:8080/"
        },
        "outputId": "c1787120-7443-4681-ca20-36c746ff34fc"
      },
      "source": [
        "np.sum((x > 6) | (x < 2) ) "
      ],
      "execution_count": null,
      "outputs": [
        {
          "output_type": "execute_result",
          "data": {
            "text/plain": [
              "4"
            ]
          },
          "metadata": {},
          "execution_count": 42
        }
      ]
    },
    {
      "cell_type": "markdown",
      "metadata": {
        "id": "jjAJOIelUt2w"
      },
      "source": [
        "Una herramienta muy poderosa es usar los arreglos booleanos como máscaras, para seleccionar subconjuntos particulares de los datos mismos. \n",
        "\n",
        "Volviendo a nuestra arreglo `x` anterior, supongamos que queremos un arreglo de todos los valores en `x` que sean menores que, digamos, 5. Para seleccionar estos valores del arreglo, simplemente podemos indexar con este arreglo booleano; esto se conoce como una operación de enmascaramiento:"
      ]
    },
    {
      "cell_type": "code",
      "metadata": {
        "id": "6qgYD78ZZg-9",
        "colab": {
          "base_uri": "https://localhost:8080/"
        },
        "outputId": "974afe7e-182e-4a72-87c8-536d1325bf2a"
      },
      "source": [
        "np.prod((x > 6) | (x < 2) ) "
      ],
      "execution_count": null,
      "outputs": [
        {
          "output_type": "execute_result",
          "data": {
            "text/plain": [
              "0"
            ]
          },
          "metadata": {},
          "execution_count": 43
        }
      ]
    },
    {
      "cell_type": "code",
      "metadata": {
        "colab": {
          "base_uri": "https://localhost:8080/"
        },
        "id": "bQ9I88SJqXB_",
        "outputId": "a9cf6767-3c87-40de-8813-1b9cabacbaf7"
      },
      "source": [
        "x[x < 6]"
      ],
      "execution_count": null,
      "outputs": [
        {
          "output_type": "execute_result",
          "data": {
            "text/plain": [
              "array([0, 1, 2, 3, 4, 5])"
            ]
          },
          "metadata": {},
          "execution_count": 45
        }
      ]
    },
    {
      "cell_type": "markdown",
      "metadata": {
        "id": "nA9nv0TWUxCI"
      },
      "source": [
        "Lo que se devuelve es un arreglo unidimensional con todos los valores que cumplen la condición; en otras palabras, todos los valores en las posiciones en las que el arreglo de máscara es `True`."
      ]
    },
    {
      "cell_type": "markdown",
      "metadata": {
        "id": "CyRtn9p6n4jl"
      },
      "source": [
        "**Ejercicio 2:** Escriba una función que, dado un número entero `n`, muestre:\n",
        "\n",
        "* Un arreglo con los primeros números pares hasta `n`.\n",
        "* Un arreglo con los primeros números múltiplos de tres hasta `n`."
      ]
    },
    {
      "cell_type": "code",
      "metadata": {
        "id": "jrEWPzNZn4C3",
        "colab": {
          "base_uri": "https://localhost:8080/"
        },
        "outputId": "2f440649-8ab1-4df5-d28c-3c71d661e18d"
      },
      "source": [
        "def arreglos(n):\n",
        "  a = np.arange(1, n +1)\n",
        "  pares = a[a % 2 == 0]\n",
        "  mul3 = a[a % 3 == 0]\n",
        "  print(f\"Los pares hasta {n} son: {pares}\")\n",
        "  print(f\"Los multiplos de 3 hasta {n} son: {mul3}\")\n",
        "\n",
        "arreglos(11)"
      ],
      "execution_count": null,
      "outputs": [
        {
          "output_type": "stream",
          "name": "stdout",
          "text": [
            "Los pares hasta 11 son: [ 2  4  6  8 10]\n",
            "Los multiplos de 3 hasta 11 son: [3 6 9]\n"
          ]
        }
      ]
    },
    {
      "cell_type": "markdown",
      "metadata": {
        "id": "1W5g7B-kUzzY"
      },
      "source": [
        "**Ejercicio 3:** Escribir un programa que lea `n` números enteros, calcule y muestre la suma de los pares y el producto de los impares."
      ]
    },
    {
      "cell_type": "code",
      "metadata": {
        "id": "Tnr_GC3AdgwV"
      },
      "source": [
        "def F(n):\n",
        "    arr = np.array([int(input('Ingrese un entero: ')) for i in range(n)])\n",
        "    \n",
        "    suma_pares = np.sum(arr[arr%2==0])\n",
        "    print(f'suma_pares: {suma_pares}')\n",
        "    \n",
        "    producto_impares = np.prod(arr[arr%2!=0])\n",
        "    print(f'producto_impares: {producto_impares}')"
      ],
      "execution_count": null,
      "outputs": []
    },
    {
      "cell_type": "markdown",
      "metadata": {
        "id": "hLAwh9cHWewl"
      },
      "source": [
        "<p><a name=\"sof\"></a></p>\n",
        "\n",
        "# **Indexación sofisticada**\n",
        "\n",
        "Anteriormente vimos cómo acceder y modificar porciones de arreglos usando índices simples (por ejemplo, `arr[0]`), segmentos (por ejemplo, `arr[: 5]`) y máscaras booleanas (por ejemplo, `arr[arr> 0]`). Veremos ahora otro estilo de indexación de arreglos, conocido como *indexación sofisticada*, la cual nos permite acceder y modificar muy rápidamente subconjuntos complicados de los valores de un arreglo.\n",
        "\n",
        "La indexación sofisticada es conceptualmente simple: significa pasar una lista de índices en lugar de un entero, para acceder a múltiples elementos del arreglo a la vez. Veamos un ejemplo:"
      ]
    },
    {
      "cell_type": "code",
      "metadata": {
        "id": "7jlRBNX1WoKL",
        "colab": {
          "base_uri": "https://localhost:8080/"
        },
        "outputId": "b01ee67e-b651-48b7-aed1-763d3b9df81b"
      },
      "source": [
        "a = np.arange(00,100,10)\n",
        "print(a)"
      ],
      "execution_count": null,
      "outputs": [
        {
          "output_type": "stream",
          "name": "stdout",
          "text": [
            "[ 0 10 20 30 40 50 60 70 80 90]\n"
          ]
        }
      ]
    },
    {
      "cell_type": "code",
      "metadata": {
        "id": "6xTl6MX0Wt1a",
        "colab": {
          "base_uri": "https://localhost:8080/"
        },
        "outputId": "663d93e8-f010-4090-af9b-e22b6bf44be4"
      },
      "source": [
        "np.array([a[1], a[3], a[7]])"
      ],
      "execution_count": null,
      "outputs": [
        {
          "output_type": "execute_result",
          "data": {
            "text/plain": [
              "array([10, 30, 70])"
            ]
          },
          "metadata": {},
          "execution_count": 56
        }
      ]
    },
    {
      "cell_type": "code",
      "metadata": {
        "id": "L_2zmfWBWvQ_",
        "colab": {
          "base_uri": "https://localhost:8080/"
        },
        "outputId": "3e9a1949-437f-4e55-df1e-61ffcda1d0f5"
      },
      "source": [
        "indices = [1, 3, 7]\n",
        "\n",
        "a[indices]"
      ],
      "execution_count": null,
      "outputs": [
        {
          "output_type": "execute_result",
          "data": {
            "text/plain": [
              "array([10, 30, 70])"
            ]
          },
          "metadata": {},
          "execution_count": 57
        }
      ]
    },
    {
      "cell_type": "markdown",
      "metadata": {
        "id": "ZO2EuXhtWz7J"
      },
      "source": [
        "Con el indexado sofisticado, la forma del resultado refleja la forma del arreglo de índices más que la forma del arreglo que se está indexando:"
      ]
    },
    {
      "cell_type": "code",
      "metadata": {
        "id": "nOAWL1uxWxnA",
        "colab": {
          "base_uri": "https://localhost:8080/"
        },
        "outputId": "ebae2a2f-42b8-4fb9-95a4-48cd8f4fdb56"
      },
      "source": [
        "indi = np.array([[3, 7],\n",
        "                 [5, 4]])\n",
        "\n",
        "a[indi]"
      ],
      "execution_count": null,
      "outputs": [
        {
          "output_type": "execute_result",
          "data": {
            "text/plain": [
              "array([[30, 70],\n",
              "       [50, 40]])"
            ]
          },
          "metadata": {},
          "execution_count": 59
        }
      ]
    },
    {
      "cell_type": "code",
      "metadata": {
        "id": "dhPwr2k3u4LX"
      },
      "source": [
        ""
      ],
      "execution_count": null,
      "outputs": []
    },
    {
      "cell_type": "code",
      "metadata": {
        "id": "nyPpXUySW1sX",
        "colab": {
          "base_uri": "https://localhost:8080/"
        },
        "outputId": "06f82cc6-7e1f-48e7-f4eb-c8a539a444fc"
      },
      "source": [
        "a = np.arange(1, 13).reshape(3,4)\n",
        "print(a)"
      ],
      "execution_count": null,
      "outputs": [
        {
          "output_type": "stream",
          "name": "stdout",
          "text": [
            "[[ 1  2  3  4]\n",
            " [ 5  6  7  8]\n",
            " [ 9 10 11 12]]\n"
          ]
        }
      ]
    },
    {
      "cell_type": "markdown",
      "metadata": {
        "id": "xDL95LxEW9Ga"
      },
      "source": [
        "El indexado sofisticado funciona también en múltiples dimensiones. Veámoslo en el siguiente ejemplo:"
      ]
    },
    {
      "cell_type": "code",
      "metadata": {
        "id": "gxoO0ii-W3MX",
        "colab": {
          "base_uri": "https://localhost:8080/"
        },
        "outputId": "29dc37e0-7490-4136-e43b-0a9539196926"
      },
      "source": [
        "fila = [0, 1, 2]\n",
        "colu = [2, 1, 3]\n",
        "\n",
        "print(a[fila, colu])"
      ],
      "execution_count": null,
      "outputs": [
        {
          "output_type": "stream",
          "name": "stdout",
          "text": [
            "[ 3  6 12]\n"
          ]
        }
      ]
    },
    {
      "cell_type": "markdown",
      "metadata": {
        "id": "qjcf6cTeXEQj"
      },
      "source": [
        "Como en la indexación estándar, el primer índice hace referencia a las filas y el segundo a las columnas:"
      ]
    },
    {
      "cell_type": "code",
      "metadata": {
        "id": "pDNq6310XC3k",
        "colab": {
          "base_uri": "https://localhost:8080/"
        },
        "outputId": "8a01883e-0e00-42a2-8597-1b0be7085435"
      },
      "source": [
        "a"
      ],
      "execution_count": null,
      "outputs": [
        {
          "output_type": "execute_result",
          "data": {
            "text/plain": [
              "array([[ 1,  2,  3,  4],\n",
              "       [ 5,  6,  7,  8],\n",
              "       [ 9, 10, 11, 12]])"
            ]
          },
          "metadata": {},
          "execution_count": 62
        }
      ]
    },
    {
      "cell_type": "markdown",
      "metadata": {
        "id": "svQbapXQXNwa"
      },
      "source": [
        "Los valores el en arreglo corresponden a `a[0,2]`, `a[1,1]` y `a[2,3]` respectivamente. "
      ]
    }
  ]
}