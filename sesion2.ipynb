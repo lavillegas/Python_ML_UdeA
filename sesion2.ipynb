{
  "nbformat": 4,
  "nbformat_minor": 0,
  "metadata": {
    "colab": {
      "name": "sesion2.ipynb",
      "provenance": [],
      "collapsed_sections": [],
      "include_colab_link": true
    },
    "kernelspec": {
      "name": "python3",
      "display_name": "Python 3"
    }
  },
  "cells": [
    {
      "cell_type": "markdown",
      "metadata": {
        "id": "view-in-github",
        "colab_type": "text"
      },
      "source": [
        "<a href=\"https://colab.research.google.com/github/lavillegas/Python_ML_UdeA/blob/main/sesion2.ipynb\" target=\"_parent\"><img src=\"https://colab.research.google.com/assets/colab-badge.svg\" alt=\"Open In Colab\"/></a>"
      ]
    },
    {
      "cell_type": "markdown",
      "metadata": {
        "id": "VZSV2ejaAulh"
      },
      "source": [
        "<p><img alt=\"Colaboratory logo\" height=\"140px\" src=\"https://upload.wikimedia.org/wikipedia/commons/archive/f/fb/20161010213812%21Escudo-UdeA.svg\" align=\"left\" hspace=\"10px\" vspace=\"0px\"></p>\n",
        "\n",
        "# **Diplomado de Análisis de datos y Machine Learning en Python**\n",
        "\n",
        "\n",
        "El presente diplomado hace parte del centro de Big Data de la facultad de ciencias exactas y naturales (FCEN) de la Universidad de Antioquia.\n",
        "\n",
        "## **Sesión 2**\n",
        "\n",
        "## **Contenido**\n",
        "   \n",
        "- <a href=\"#int\"> Introducción a Python</a><br>\n",
        "- <a href=\"#sin\"> Sintáxis de Python</a><br>\n",
        "- <a href=\"#sem\"> Semántica de Python</a><br>\n",
        "  - <a href=\"#var\"> Variables</a><br>\n",
        "  - <a href=\"#ope\"> Operadores</a><br>\n",
        "    - <a href=\"#opa\"> Operadores aritméticos</a><br>\n",
        "    - <a href=\"#opc\"> Operadores de comparación</a><br>\n",
        "    - <a href=\"#opb\"> Operaciones booleanas</a><br>\n",
        "    - <a href=\"#opm\"> Operadores de identidad y membresía</a><br>"
      ]
    },
    {
      "cell_type": "markdown",
      "metadata": {
        "id": "5ZZDpNjzBnTo"
      },
      "source": [
        "<p><a name=\"int\"></a></p>\n",
        "\n",
        "# **Introducción a Python**\n",
        "\n",
        "Creado en los 80's por Guido Van Rossum, Python se ha convertido desde entonces en una herramienta esencial para muchos programadores, ingenieros, investigadores y científicos de datos, tanto en la academia como en la industria.\n",
        "\n",
        "El atractivo de Python radica en su simplicidad, así como en el gran ecosistema de herramientas específicas que se han construido sobre este. Por ejemplo, la mayor parte del código de Python en ciencia de datos se basa en un grupo de paquetes útiles: Numpy, Matplotlib, SciPy, Pandas y Scikit-Learn. No menos importantes son las numerosas otras herramientas y paquetes que acompañan a estos: si hay una tarea científica que deseemos realizar, es probable que encontremos un paquete que realice dicha tarea. Sin embargo, para aprovechar el poder de este ecosistema, primero debemos familiarizarnos con el lenguaje Python por sí solo.\n",
        "\n",
        "Python es un lenguaje de programación de alto nivel (sintaxis simple), interpretado, interactivo y orientado a objetos:\n",
        "\n",
        "* **Interpretado**: Python es procesado al momento de la ejecución por el interpretador. No se necesita de un proceso previo de compilación para la posterior ejecución del programa.\n",
        "\n",
        "* **Interactivo**: Podemos interactuar con el intérprete directamente para escribir los programas.\n",
        "\n",
        "* **Orientado a objetos**: Python es un lenguaje orientado a objetos, una técnica de programación que encapsula el código dentro de objetos.\n",
        "\n",
        "**Ejecutando código de Python**\n",
        "\n",
        "Python es un lenguaje flexible y existen varias formas de usarlo. Una característica que distingue a Python de otros lenguajes de programación es que este es un lenguaje *interpreado*. Esto significa que se ejecuta línea por línea, lo que permite que la programación sea interactiva de una manera que no es directamente posible con lenguajes compilados como C++ o Java.\n",
        "\n",
        "Existen diferentes maneras de ejecutar código de Python. Nosotros usaremos un enfoque interactivo proporcionado por los *cuadernos de Jupyter*. \n",
        "\n",
        "**¿Qué es un Cuaderno?**\n",
        "\n",
        "Es un formato de documento que permite combinar código ejecutable, texto, gráficos e incluso características interactivas en un solo documento. Una excelente alternativa es **Google Colaboratory**, el cual es un servicio en la nube, que nos provee de un cuaderno de Jupyter al que podemos acceder con un navegador web sin importar el sistema operativo. Tiene como grandes ventajas:\n",
        "\n",
        "* Posibilidad de activar diferentes procesadores: GPU (unidad de procesamiento gráfico) o TPU (unidad de procesamiento tensorial)\n",
        "* Podemos crear cuaderdos de Python 3: Debido a que Python 2 fue oficialmente descontinuado el primero de enero del 2020, nos centraremos exclusivamente en Python 3.\n",
        "* Tiene preinstaladas las librerías comunes \n",
        "* La posibilidad de enlazar con nuestra cuenta de Google Drive, podemos leer desde ahí archivos csv de entrada o guardar imágenes de salida, etc.\n",
        "\n",
        "\n",
        "\n",
        "\n",
        "\n"
      ]
    },
    {
      "cell_type": "markdown",
      "metadata": {
        "id": "KSIBv3h9aKjg"
      },
      "source": [
        "<p><a name=\"sin\"></a></p>\n",
        "\n",
        "# **Sintáxis de Python**\n",
        "\n",
        " Comencemos discutiendo las características principales de la sintaxis de Python.\n",
        "\n",
        "La sintaxis se refiere a la estructura del lenguaje (es decir, lo que constituye un programa formado correctamente). Por el momento, no nos centraremos en la semántica, el significado de las palabras y los símbolos dentro de la sintaxis, sino que volveremos a esto más adelante"
      ]
    },
    {
      "cell_type": "code",
      "metadata": {
        "id": "sng9sdMQ_fB3",
        "colab": {
          "base_uri": "https://localhost:8080/"
        },
        "outputId": "94d013fd-b4dd-45f8-e469-cb87a3cd1101"
      },
      "source": [
        "print(\"Hello World\")"
      ],
      "execution_count": null,
      "outputs": [
        {
          "output_type": "stream",
          "text": [
            "Hello World\n"
          ],
          "name": "stdout"
        }
      ]
    },
    {
      "cell_type": "code",
      "metadata": {
        "id": "YZQ_lBTKWLj4",
        "colab": {
          "base_uri": "https://localhost:8080/"
        },
        "outputId": "c0119522-19bb-41bd-dbc6-b32da690d655"
      },
      "source": [
        "print(4)"
      ],
      "execution_count": null,
      "outputs": [
        {
          "output_type": "stream",
          "text": [
            "4\n"
          ],
          "name": "stdout"
        }
      ]
    },
    {
      "cell_type": "markdown",
      "metadata": {
        "id": "hSgkNc5Yakqa"
      },
      "source": [
        "**Los comentarios en Python se marcan con #**\n"
      ]
    },
    {
      "cell_type": "code",
      "metadata": {
        "id": "KgA3rjKSai9a",
        "colab": {
          "base_uri": "https://localhost:8080/"
        },
        "outputId": "ec17f60a-fe50-4924-ec55-9b745ebfa7bd"
      },
      "source": [
        "print(\"Los comentarios son importantes\")  #Acá estoy haciendo una impresión con un mensaje profundo"
      ],
      "execution_count": null,
      "outputs": [
        {
          "output_type": "stream",
          "text": [
            "Los comentarios son importantes\n"
          ],
          "name": "stdout"
        }
      ]
    },
    {
      "cell_type": "markdown",
      "metadata": {
        "id": "a2FMxcJIaoG6"
      },
      "source": [
        "Los comentarios en Python se indican con un signo de número `#`. El intérprete ignora cualquier cosa en la línea que siga al signo de número"
      ]
    },
    {
      "cell_type": "code",
      "metadata": {
        "id": "OztWmCezapab",
        "colab": {
          "base_uri": "https://localhost:8080/"
        },
        "outputId": "37f295cd-3c1d-4846-d5d2-e40864ab53ef"
      },
      "source": [
        "2 + 4 #Suma mostrada en pantalla sin un print"
      ],
      "execution_count": null,
      "outputs": [
        {
          "output_type": "execute_result",
          "data": {
            "text/plain": [
              "6"
            ]
          },
          "metadata": {},
          "execution_count": 6
        }
      ]
    },
    {
      "cell_type": "markdown",
      "metadata": {
        "id": "XHFktA-XarWR"
      },
      "source": [
        " Si queremos comentar un bloque de líneas, podemos utilizar `\"\"\"` de la siguiente manera:"
      ]
    },
    {
      "cell_type": "code",
      "metadata": {
        "id": "qgyyc3nFar9T",
        "colab": {
          "base_uri": "https://localhost:8080/"
        },
        "outputId": "4424571f-cefe-4173-ad99-e55dcaffe040"
      },
      "source": [
        "print(\"Mi nombre es Tomas\")\n",
        "\n",
        "\"\"\"\n",
        "Acá Hacemos un comentario multilinea\n",
        "Como lo pueden ver\n",
        "\"\"\"\n",
        "\n",
        "print(\"Fin del comunicado\")"
      ],
      "execution_count": null,
      "outputs": [
        {
          "output_type": "stream",
          "text": [
            "Mi nombre es Tomas\n",
            "Fin del comunicado\n"
          ],
          "name": "stdout"
        }
      ]
    },
    {
      "cell_type": "markdown",
      "metadata": {
        "id": "RkVCkOxUav8x"
      },
      "source": [
        "**El final de línea termina una sentencia**\n",
        "\n",
        "La siguiente línea en el código es"
      ]
    },
    {
      "cell_type": "code",
      "metadata": {
        "id": "O6qwqImLawxi"
      },
      "source": [
        "variable = 5 #Así se declara una variable"
      ],
      "execution_count": null,
      "outputs": []
    },
    {
      "cell_type": "code",
      "metadata": {
        "id": "2T_rslEDBDMl",
        "colab": {
          "base_uri": "https://localhost:8080/"
        },
        "outputId": "955bfaa0-2c2e-4264-f50c-52661b6e2a9d"
      },
      "source": [
        "print(variable)"
      ],
      "execution_count": null,
      "outputs": [
        {
          "output_type": "stream",
          "text": [
            "5\n"
          ],
          "name": "stdout"
        }
      ]
    },
    {
      "cell_type": "code",
      "metadata": {
        "id": "r7TtLN_6BDJb",
        "colab": {
          "base_uri": "https://localhost:8080/"
        },
        "outputId": "aee9daf0-38bb-4b6a-ab32-e64afada9bd0"
      },
      "source": [
        "variable = 4\n",
        "print(variable)"
      ],
      "execution_count": null,
      "outputs": [
        {
          "output_type": "stream",
          "text": [
            "4\n"
          ],
          "name": "stdout"
        }
      ]
    },
    {
      "cell_type": "code",
      "metadata": {
        "colab": {
          "base_uri": "https://localhost:8080/"
        },
        "id": "wypQDRstvfrT",
        "outputId": "768348a5-f175-47c4-9da6-08af5dd3c3e3"
      },
      "source": [
        "print(u\"Cien \\u00A2 son un dolar\")"
      ],
      "execution_count": null,
      "outputs": [
        {
          "output_type": "stream",
          "text": [
            "Cien ¢ son un dolar\n"
          ],
          "name": "stdout"
        }
      ]
    },
    {
      "cell_type": "code",
      "metadata": {
        "id": "lgyN3rb5ZcSu",
        "colab": {
          "base_uri": "https://localhost:8080/"
        },
        "outputId": "3588062f-6206-4318-b273-6a20f378fc96"
      },
      "source": [
        "texto = \"En un lugar de la Mancha, de cuyo nombre no quiero acordarme,\\n\\\n",
        "no ha mucho tiempo que vivía un hidalgo de los de lanza en astillero,\\n\\\n",
        "adarga antigua, rocín flaco y galgo corredor\"\n",
        "\n",
        "print(texto)"
      ],
      "execution_count": null,
      "outputs": [
        {
          "output_type": "stream",
          "text": [
            "En un lugar de la Mancha, de cuyo nombre no quiero acordarme,\n",
            "no ha mucho tiempo que vivía un hidalgo de los de lanza en astillero,\n",
            "adarga antigua, rocín flaco y galgo corredor\n"
          ],
          "name": "stdout"
        }
      ]
    },
    {
      "cell_type": "markdown",
      "metadata": {
        "id": "Y6mNyOWDa3hZ"
      },
      "source": [
        "Esta es una operación de asignación, donde creamos una variable llamada `variable_ejemplo1` y le asignamos el valor 5. Observe que el final de esta sentencia simplemente está marcado por el final de la línea. Si queremos seguir en la siguiente línea tenemos dos opciones: utilizar el marcador `\\` para indicar un salto de línea"
      ]
    },
    {
      "cell_type": "code",
      "metadata": {
        "id": "cSzxsl77aOhH",
        "colab": {
          "base_uri": "https://localhost:8080/"
        },
        "outputId": "1395a821-6002-49ba-afdb-431d7a5463e9"
      },
      "source": [
        "var_num = 1 + 2 + 3\\\n",
        "+4 + 5 + 6\n",
        "\n",
        "print(var_num)"
      ],
      "execution_count": null,
      "outputs": [
        {
          "output_type": "stream",
          "text": [
            "21\n"
          ],
          "name": "stdout"
        }
      ]
    },
    {
      "cell_type": "markdown",
      "metadata": {
        "id": "Wls0Rpjwa61D"
      },
      "source": [
        "o incluir toda la expresión entre paréntesis:1"
      ]
    },
    {
      "cell_type": "code",
      "metadata": {
        "id": "m8YUmkPpa3vC",
        "colab": {
          "base_uri": "https://localhost:8080/"
        },
        "outputId": "a5ef2057-1121-4f4e-b43d-c3ce485fa3ad"
      },
      "source": [
        "var_num2 = (1 + 2 + 3\n",
        "            +4 + 5 + 6 + 7)\n",
        "\n",
        "print(var_num2)"
      ],
      "execution_count": null,
      "outputs": [
        {
          "output_type": "stream",
          "text": [
            "28\n"
          ],
          "name": "stdout"
        }
      ]
    },
    {
      "cell_type": "markdown",
      "metadata": {
        "id": "gFo1ByAJbA0o"
      },
      "source": [
        "A veces puede ser útil tener varias declaraciones en una sola línea. La siguiente parte del código es"
      ]
    },
    {
      "cell_type": "code",
      "metadata": {
        "id": "hUM3HSM_bBSr",
        "colab": {
          "base_uri": "https://localhost:8080/"
        },
        "outputId": "04dd35bd-46f2-407b-b4d3-295f26e5ffb4"
      },
      "source": [
        "cuatro = 4      #Sentencia por linea\n",
        "cinco = 5\n",
        "\n",
        "print(cuatro, cinco)"
      ],
      "execution_count": null,
      "outputs": [
        {
          "output_type": "stream",
          "text": [
            "4 5\n"
          ],
          "name": "stdout"
        }
      ]
    },
    {
      "cell_type": "code",
      "metadata": {
        "id": "Pb96Q0RLDmAt",
        "colab": {
          "base_uri": "https://localhost:8080/"
        },
        "outputId": "24d3815c-f509-42c2-e24f-7df358e5889e"
      },
      "source": [
        "nueve = 9 ; ocho = 8 #Varias \n",
        "\n",
        "print(nueve, ocho)"
      ],
      "execution_count": null,
      "outputs": [
        {
          "output_type": "stream",
          "text": [
            "9 8\n"
          ],
          "name": "stdout"
        }
      ]
    },
    {
      "cell_type": "markdown",
      "metadata": {
        "id": "XCcDUKJ1bD2K"
      },
      "source": [
        "Con lo cual se ilustra que el punto y coma (`;`) puede terminar una sentencia. Lo anterior es completamente equivalente a"
      ]
    },
    {
      "cell_type": "code",
      "metadata": {
        "id": "USI9O5RtbF8q",
        "colab": {
          "base_uri": "https://localhost:8080/"
        },
        "outputId": "cff18fc5-c446-44f9-e63d-01f0ed767188"
      },
      "source": [
        "var1, var2 = 9.8, 3.14 #Tuplas\n",
        "\n",
        "print(var1, var2)"
      ],
      "execution_count": null,
      "outputs": [
        {
          "output_type": "stream",
          "text": [
            "9.8 3.14\n"
          ],
          "name": "stdout"
        }
      ]
    },
    {
      "cell_type": "markdown",
      "metadata": {
        "id": "8KX6jTh-bHg6"
      },
      "source": [
        "**Indentación: ¡El espacio en blanco es importante!**\n",
        "\n",
        "Llegamos al bloque de código principal:"
      ]
    },
    {
      "cell_type": "code",
      "metadata": {
        "id": "zdLIbQ76bKAe",
        "colab": {
          "base_uri": "https://localhost:8080/"
        },
        "outputId": "626c3127-2706-460d-d637-6ea613084768"
      },
      "source": [
        "low = []; high= []\n",
        "la_mitad = 5\n",
        "for i in range(0,10):\n",
        "  if i < 5:\n",
        "    low.append(i)\n",
        "  else: \n",
        "    high.append(i)\n",
        "\n",
        "print(low, high)"
      ],
      "execution_count": null,
      "outputs": [
        {
          "output_type": "stream",
          "text": [
            "[0, 1, 2, 3, 4] [5, 6, 7, 8, 9]\n"
          ],
          "name": "stdout"
        }
      ]
    },
    {
      "cell_type": "code",
      "metadata": {
        "id": "OFv4mzdiFDQN",
        "colab": {
          "base_uri": "https://localhost:8080/"
        },
        "outputId": "b884d4a7-f5ed-425e-c73a-9594dab4c197"
      },
      "source": [
        "for j in range(5,10):\n",
        "  print(j)"
      ],
      "execution_count": null,
      "outputs": [
        {
          "output_type": "stream",
          "text": [
            "5\n",
            "6\n",
            "7\n",
            "8\n",
            "9\n"
          ],
          "name": "stdout"
        }
      ]
    },
    {
      "cell_type": "markdown",
      "metadata": {
        "id": "O3P-fIeYbUyw"
      },
      "source": [
        "En python, los bloques de código se denotan por la indentación"
      ]
    },
    {
      "cell_type": "markdown",
      "metadata": {
        "id": "dl82l4UubaDP"
      },
      "source": [
        "En Python, los bloques de código indentados siempre van precedidos de dos puntos (`:`) en la línea anterior. \n",
        "\n",
        "El uso de espacios en blanco por parte de Python a menudo es sorprendente para los programadores que están acostumbrados a otros lenguajes, pero en la práctica puede conducir a un código mucho más coherente y legible que los lenguajes que no imponen indentación para los bloques de código, aunque no siempre es el caso. "
      ]
    },
    {
      "cell_type": "markdown",
      "metadata": {
        "id": "qzUy5XmzbdO3"
      },
      "source": [
        "**El espacio en blanco dentro de las líneas no importa**\n",
        "\n",
        "Como vimos, el espacio en blanco es significativo para indicar un bloque de código. El espacio en blanco dentro de las líneas de código no importa. Por ejemplo, las siguientes tres expresiones son equivalentes:"
      ]
    },
    {
      "cell_type": "code",
      "metadata": {
        "id": "5-etl17PbaqB",
        "colab": {
          "base_uri": "https://localhost:8080/"
        },
        "outputId": "a0225b4a-34a8-4be1-8ac2-45439c590d92"
      },
      "source": [
        "variable_1 =        17\n",
        "print(variable_1)"
      ],
      "execution_count": null,
      "outputs": [
        {
          "output_type": "stream",
          "text": [
            "17\n"
          ],
          "name": "stdout"
        }
      ]
    },
    {
      "cell_type": "code",
      "metadata": {
        "id": "qjtdgCk2f28h",
        "colab": {
          "base_uri": "https://localhost:8080/"
        },
        "outputId": "e6683f13-529a-41dd-9d61-84a3f8fbfd2b"
      },
      "source": [
        "variable_2         =      \"Hola\"\n",
        "print(variable_2)"
      ],
      "execution_count": null,
      "outputs": [
        {
          "output_type": "stream",
          "text": [
            "Hola\n"
          ],
          "name": "stdout"
        }
      ]
    },
    {
      "cell_type": "markdown",
      "metadata": {
        "id": "zzzn9f1abmFt"
      },
      "source": [
        "Abusar de esta flexibilidad puede conducir a problemas en la lectura del código. El uso efectivo de espacios en blanco puede conducir a un código mucho más legible. \n"
      ]
    },
    {
      "cell_type": "markdown",
      "metadata": {
        "id": "J5WKXpGEbqaf"
      },
      "source": [
        "**Los paréntesis son para agrupar o llamar**\n",
        "\n",
        "Los paréntesis se usan, principalmente, para dos tareas. Primero, se pueden usar de la manera típica para agrupar enunciados u operaciones matemáticas:\n"
      ]
    },
    {
      "cell_type": "code",
      "metadata": {
        "id": "UKof1X2sbsS6",
        "colab": {
          "base_uri": "https://localhost:8080/"
        },
        "outputId": "06a850aa-eb52-4242-baa2-bfa07a0a5cef"
      },
      "source": [
        "lista_prueba = [1,2]\n",
        "lista_prueba.append(-4)\n",
        "print(lista_prueba)"
      ],
      "execution_count": null,
      "outputs": [
        {
          "output_type": "stream",
          "text": [
            "[1, 2, -4]\n"
          ],
          "name": "stdout"
        }
      ]
    },
    {
      "cell_type": "markdown",
      "metadata": {
        "id": "FgRJnzSvbvBG"
      },
      "source": [
        "También se pueden usar para indicar que se está llamando a una función. En el siguiente fragmento, la función propia de Python `print()` se utiliza para mostrar el contenido de una variable. La llamada a la función se indica mediante un par de paréntesis de apertura y cierre, con los argumentos de la función contenidos en ellos."
      ]
    },
    {
      "cell_type": "code",
      "metadata": {
        "id": "xHuedlJvbv2_",
        "colab": {
          "base_uri": "https://localhost:8080/"
        },
        "outputId": "1af612aa-abc1-401b-85ff-9dfc164a7c16"
      },
      "source": [
        "print(\"Este es el argumento de la función print\")"
      ],
      "execution_count": null,
      "outputs": [
        {
          "output_type": "stream",
          "text": [
            "Este es el argumento de la función print\n"
          ],
          "name": "stdout"
        }
      ]
    },
    {
      "cell_type": "markdown",
      "metadata": {
        "id": "nAGX4Y7vb2d2"
      },
      "source": [
        "Algunas funciones (métodos) pueden invocarse sin ningún argumento, en cuyo caso los paréntesis de apertura y cierre deben usarse para indicar la evaluación de la función. Este es el caso del método sort() para una lista."
      ]
    },
    {
      "cell_type": "code",
      "metadata": {
        "id": "m7mZUKNAb4uO",
        "colab": {
          "base_uri": "https://localhost:8080/"
        },
        "outputId": "2b81de02-a7f5-4857-bc0d-8bb7f23cb936"
      },
      "source": [
        "lista_prueba.sort(reverse= True)\n",
        "print(lista_prueba)"
      ],
      "execution_count": null,
      "outputs": [
        {
          "output_type": "stream",
          "text": [
            "[2, 1, -4]\n"
          ],
          "name": "stdout"
        }
      ]
    },
    {
      "cell_type": "markdown",
      "metadata": {
        "id": "yjHIlqdDb8uO"
      },
      "source": [
        "<p><a name=\"sem\"></a></p>\n",
        "\n",
        "# **Semántica de Python**\n",
        "\n",
        "En esta sección comenzaremos a cubrir la semántica básica de Python. A diferencia de la sintaxis cubierta en la sección anterior, la semántica de un lenguaje implica el significado de las declaraciones. Al igual que con nuestra discusión sobre la sintaxis, aquí veremos algunas de las construcciones semánticas esenciales en Python para dar un mejor marco de referencia para comprender el código en las siguientes secciones"
      ]
    },
    {
      "cell_type": "markdown",
      "metadata": {
        "id": "Jx7e731a06l_"
      },
      "source": [
        "Existen reglas de comunidad para la declaración de variables y para la implementación de código llamada [PEP8](https://www.python.org/dev/peps/pep-0008/)"
      ]
    },
    {
      "cell_type": "markdown",
      "metadata": {
        "id": "J6dGPVEmdoPR"
      },
      "source": [
        "<p><a name=\"var\"></a></p>\n",
        "\n",
        "## **Variables**\n",
        "\n",
        "Los nombres de las variables en Python pueden contener caracteres alfanuméricos *a-z*, *A-Z*, *0-9* y algunos caracteres especiales como _. Los nombres de las variables deben comenzar con una letra. Por convención, los nombres de las variables comienzan con letras minúsculas. Adicionalmente, existe un número de palabras claves que no pueden ser usadas como nombres de variables. Estas palabras claves son:\n",
        "\n",
        "> `and, as, assert, break, class, continue, def, del, elif, else, except, exec, finally, for, from, global, if, import, in, is, lambda, not, or, pass, print, raise, return, try, while, with, yield`\n",
        "\n",
        "En Python, las variables fundamentales son \n",
        "\n",
        "\n"
      ]
    },
    {
      "cell_type": "code",
      "metadata": {
        "id": "jUHgprud1YFh"
      },
      "source": [
        "continue_ = 3"
      ],
      "execution_count": null,
      "outputs": []
    },
    {
      "cell_type": "code",
      "metadata": {
        "id": "0GIiBkVEfMo2"
      },
      "source": [
        "# Tipo    # ejemplo     # Descripción\n",
        "int       x = 1         # integer: números enteros \n",
        "float     x = 3.1415    # floating point number: números de punto flotante (números reales)\n",
        "complex   x = 1 + 2j    # complex: números complejos (números con parte real e imaginaria)\n",
        "bool      x = True      # boolean: dos posibles valores: verdadero o falso (True o False)\n",
        "str       x = \"aeiou\"   # string: caracteres o texto\n",
        "None      x = None      # Objeto especial que indica valores nulos"
      ],
      "execution_count": null,
      "outputs": []
    },
    {
      "cell_type": "markdown",
      "metadata": {
        "id": "ZSf3Ug4PfR4C"
      },
      "source": [
        "Adicionalmente tenemos variables compuestas, las cuales se construyen a partir de estas variables fundamentales. Un ejemplo son las variables de tipo lista que vimos en la sección anterior y que estudiaremos más a fondo en las próximas sesiones.\n",
        "\n",
        "***(el número `j` es lo que en matemáticas se llama $i = \\sqrt{-1}$ )***\n",
        "\n",
        "Podemos acceder al tipo de variable utilizando la función nativa de Python `type`:"
      ]
    },
    {
      "cell_type": "code",
      "metadata": {
        "id": "dFIfsoX4mzg0",
        "colab": {
          "base_uri": "https://localhost:8080/"
        },
        "outputId": "c086a725-7a7e-4f15-8fd4-3ea13d2762fd"
      },
      "source": [
        "type(2)"
      ],
      "execution_count": null,
      "outputs": [
        {
          "output_type": "execute_result",
          "data": {
            "text/plain": [
              "int"
            ]
          },
          "metadata": {},
          "execution_count": 55
        }
      ]
    },
    {
      "cell_type": "code",
      "metadata": {
        "id": "pA3cDi4LIskm",
        "colab": {
          "base_uri": "https://localhost:8080/"
        },
        "outputId": "4aa40602-e1d8-4cc7-8755-81b11ee1c4ba"
      },
      "source": [
        "type(\"2\")"
      ],
      "execution_count": null,
      "outputs": [
        {
          "output_type": "execute_result",
          "data": {
            "text/plain": [
              "str"
            ]
          },
          "metadata": {},
          "execution_count": 56
        }
      ]
    },
    {
      "cell_type": "code",
      "metadata": {
        "id": "ZOc-iZh4fYPf",
        "colab": {
          "base_uri": "https://localhost:8080/"
        },
        "outputId": "23a7a982-6d3d-485b-dbdc-ec5e156e191f"
      },
      "source": [
        "type(2.0)"
      ],
      "execution_count": null,
      "outputs": [
        {
          "output_type": "execute_result",
          "data": {
            "text/plain": [
              "float"
            ]
          },
          "metadata": {},
          "execution_count": 57
        }
      ]
    },
    {
      "cell_type": "code",
      "metadata": {
        "colab": {
          "base_uri": "https://localhost:8080/"
        },
        "id": "f7eNais92PnQ",
        "outputId": "3b33a144-b582-4df2-b476-9a2b48942e7b"
      },
      "source": [
        "entero = 2000\n",
        "flotante = 2000.0\n",
        "\n",
        "print(type(entero), entero)\n",
        "print(type(flotante), flotante)\n",
        "print(f\"La diferencia entre los dos números es {entero - flotante}, que es de tipo {type(entero - flotante)}\")"
      ],
      "execution_count": null,
      "outputs": [
        {
          "output_type": "stream",
          "text": [
            "<class 'int'> 2000\n",
            "<class 'float'> 2000.0\n",
            "La diferencia entre los dos números es 0.0, que es de tipo <class 'float'>\n"
          ],
          "name": "stdout"
        }
      ]
    },
    {
      "cell_type": "code",
      "metadata": {
        "colab": {
          "base_uri": "https://localhost:8080/"
        },
        "id": "Fd6WhyQH2yX4",
        "outputId": "4f13c976-70af-4521-fb18-37b49fd5717e"
      },
      "source": [
        "entero  == flotante"
      ],
      "execution_count": null,
      "outputs": [
        {
          "output_type": "execute_result",
          "data": {
            "text/plain": [
              "True"
            ]
          },
          "metadata": {},
          "execution_count": 59
        }
      ]
    },
    {
      "cell_type": "code",
      "metadata": {
        "colab": {
          "base_uri": "https://localhost:8080/"
        },
        "id": "yGfusd922yLt",
        "outputId": "48b4d3e3-e398-4ef9-f9ca-b94c1a223f47"
      },
      "source": [
        "entero is flotante"
      ],
      "execution_count": null,
      "outputs": [
        {
          "output_type": "execute_result",
          "data": {
            "text/plain": [
              "False"
            ]
          },
          "metadata": {},
          "execution_count": 60
        }
      ]
    },
    {
      "cell_type": "markdown",
      "metadata": {
        "id": "hG6G5sXxk6BI"
      },
      "source": [
        "Podemos utilizar las funciones nativas de Python que aparecen en la columna \"Tipo\" para realizar conversiones entre los diferentes tipos de variable:"
      ]
    },
    {
      "cell_type": "markdown",
      "metadata": {
        "id": "mYS9RHXhl16k"
      },
      "source": [
        "### **Todo en Python es un objeto**\n",
        "\n",
        "Sin embargo, los tipos están vinculados no a los nombres de las variables sino a *los objetos mismos.* En lenguajes de programación orientados a objetos como Python, un objeto es una entidad que contiene datos junto con funcionalidades asociadas. \n",
        "\n",
        "Este concepto no se diferencia mucho del concepto de objeto en la vida real. Pensemos por ejemplo en un Robot: es un objeto con ciertas características (nombre, color, peso, etc) y ciertas funcionalidades (hablar, mover un brazo, mover una pierna, etc).\n",
        "\n",
        "\n",
        "En Python, todo es un objeto, lo que significa que cada entidad tiene algunas características (llamados atributos) y funcionalidades asociadas (llamados métodos). Veamos un ejemplo: creemos un objeto del tipo `complex`:"
      ]
    },
    {
      "cell_type": "code",
      "metadata": {
        "id": "iL9u_VvKl_8X"
      },
      "source": [
        "z = 4+2j "
      ],
      "execution_count": null,
      "outputs": []
    },
    {
      "cell_type": "markdown",
      "metadata": {
        "id": "dRNyFNoPl_tD"
      },
      "source": [
        "como ya se mencionó, este objeto tiene ciertos atributos (características) y métodos asociados (funcionalidades). Por ejemplo, los atributos `real` e `imag` contienen información de la parte real y la parte imaginaria del objeto. Para acceder a estos atributos utilizamos la sintáxis de punto `.` :"
      ]
    },
    {
      "cell_type": "code",
      "metadata": {
        "id": "4nbW6EtCmGp9",
        "colab": {
          "base_uri": "https://localhost:8080/"
        },
        "outputId": "2219d92e-5983-4618-c09d-108c811afa9d"
      },
      "source": [
        "r = z.real\n",
        "im = z.imag\n",
        "\n",
        "print(r, im)"
      ],
      "execution_count": null,
      "outputs": [
        {
          "output_type": "stream",
          "text": [
            "4.0 2.0\n"
          ],
          "name": "stdout"
        }
      ]
    },
    {
      "cell_type": "markdown",
      "metadata": {
        "id": "XSub_l4bmOVc"
      },
      "source": [
        "Los métodos son como atributos, excepto que son funciones que se pueden llamar utilizando un par de paréntesis de apertura y cierre. Por ejemplo, los objetos de tipo `float` tienen un método llamado `is_integer()` que verifica si el valor es un entero:"
      ]
    },
    {
      "cell_type": "code",
      "metadata": {
        "id": "gEx1Ir44mPX5",
        "colab": {
          "base_uri": "https://localhost:8080/"
        },
        "outputId": "1b5521a1-0dd1-4de0-c77f-fbf07bba76a3"
      },
      "source": [
        "numero = 3.00\n",
        "\n",
        "numero.is_integer()"
      ],
      "execution_count": null,
      "outputs": [
        {
          "output_type": "execute_result",
          "data": {
            "text/plain": [
              "True"
            ]
          },
          "metadata": {},
          "execution_count": 64
        }
      ]
    },
    {
      "cell_type": "markdown",
      "metadata": {
        "id": "ReMmRTznmXEU"
      },
      "source": [
        "Cuando decimos que todo en Python es un objeto, realmente queremos decir que todo es un objeto, incluso los atributos y métodos de los objetos son en sí mismos objetos con su propia información de tipo"
      ]
    },
    {
      "cell_type": "markdown",
      "metadata": {
        "id": "U0xPS-N_oAtB"
      },
      "source": [
        "Para explorar los métodos y atributos de un objeto, podemos utilizar las funciones nativas de Python `dir` y `help` (o alternativamente, si ponemos un punto `.` luego del objeto se desplegará una lista con los métodos y atributos del objeto)\n",
        "\n",
        "También podemos poner  un `?` al final de un método para leer algo de documentación sobre este"
      ]
    },
    {
      "cell_type": "code",
      "metadata": {
        "id": "8CBme7SW3bOl"
      },
      "source": [
        "complex?"
      ],
      "execution_count": null,
      "outputs": []
    },
    {
      "cell_type": "code",
      "metadata": {
        "id": "BmS01le_oYXz",
        "colab": {
          "base_uri": "https://localhost:8080/"
        },
        "outputId": "2f3f05ad-6a1b-495a-90b4-b67d4a3c6bfa"
      },
      "source": [
        "help(numero)"
      ],
      "execution_count": null,
      "outputs": [
        {
          "output_type": "stream",
          "text": [
            "Help on float object:\n",
            "\n",
            "class float(object)\n",
            " |  float(x=0, /)\n",
            " |  \n",
            " |  Convert a string or number to a floating point number, if possible.\n",
            " |  \n",
            " |  Methods defined here:\n",
            " |  \n",
            " |  __abs__(self, /)\n",
            " |      abs(self)\n",
            " |  \n",
            " |  __add__(self, value, /)\n",
            " |      Return self+value.\n",
            " |  \n",
            " |  __bool__(self, /)\n",
            " |      self != 0\n",
            " |  \n",
            " |  __divmod__(self, value, /)\n",
            " |      Return divmod(self, value).\n",
            " |  \n",
            " |  __eq__(self, value, /)\n",
            " |      Return self==value.\n",
            " |  \n",
            " |  __float__(self, /)\n",
            " |      float(self)\n",
            " |  \n",
            " |  __floordiv__(self, value, /)\n",
            " |      Return self//value.\n",
            " |  \n",
            " |  __format__(self, format_spec, /)\n",
            " |      Formats the float according to format_spec.\n",
            " |  \n",
            " |  __ge__(self, value, /)\n",
            " |      Return self>=value.\n",
            " |  \n",
            " |  __getattribute__(self, name, /)\n",
            " |      Return getattr(self, name).\n",
            " |  \n",
            " |  __getnewargs__(self, /)\n",
            " |  \n",
            " |  __gt__(self, value, /)\n",
            " |      Return self>value.\n",
            " |  \n",
            " |  __hash__(self, /)\n",
            " |      Return hash(self).\n",
            " |  \n",
            " |  __int__(self, /)\n",
            " |      int(self)\n",
            " |  \n",
            " |  __le__(self, value, /)\n",
            " |      Return self<=value.\n",
            " |  \n",
            " |  __lt__(self, value, /)\n",
            " |      Return self<value.\n",
            " |  \n",
            " |  __mod__(self, value, /)\n",
            " |      Return self%value.\n",
            " |  \n",
            " |  __mul__(self, value, /)\n",
            " |      Return self*value.\n",
            " |  \n",
            " |  __ne__(self, value, /)\n",
            " |      Return self!=value.\n",
            " |  \n",
            " |  __neg__(self, /)\n",
            " |      -self\n",
            " |  \n",
            " |  __pos__(self, /)\n",
            " |      +self\n",
            " |  \n",
            " |  __pow__(self, value, mod=None, /)\n",
            " |      Return pow(self, value, mod).\n",
            " |  \n",
            " |  __radd__(self, value, /)\n",
            " |      Return value+self.\n",
            " |  \n",
            " |  __rdivmod__(self, value, /)\n",
            " |      Return divmod(value, self).\n",
            " |  \n",
            " |  __repr__(self, /)\n",
            " |      Return repr(self).\n",
            " |  \n",
            " |  __rfloordiv__(self, value, /)\n",
            " |      Return value//self.\n",
            " |  \n",
            " |  __rmod__(self, value, /)\n",
            " |      Return value%self.\n",
            " |  \n",
            " |  __rmul__(self, value, /)\n",
            " |      Return value*self.\n",
            " |  \n",
            " |  __round__(self, ndigits=None, /)\n",
            " |      Return the Integral closest to x, rounding half toward even.\n",
            " |      \n",
            " |      When an argument is passed, work like built-in round(x, ndigits).\n",
            " |  \n",
            " |  __rpow__(self, value, mod=None, /)\n",
            " |      Return pow(value, self, mod).\n",
            " |  \n",
            " |  __rsub__(self, value, /)\n",
            " |      Return value-self.\n",
            " |  \n",
            " |  __rtruediv__(self, value, /)\n",
            " |      Return value/self.\n",
            " |  \n",
            " |  __str__(self, /)\n",
            " |      Return str(self).\n",
            " |  \n",
            " |  __sub__(self, value, /)\n",
            " |      Return self-value.\n",
            " |  \n",
            " |  __truediv__(self, value, /)\n",
            " |      Return self/value.\n",
            " |  \n",
            " |  __trunc__(self, /)\n",
            " |      Return the Integral closest to x between 0 and x.\n",
            " |  \n",
            " |  as_integer_ratio(self, /)\n",
            " |      Return integer ratio.\n",
            " |      \n",
            " |      Return a pair of integers, whose ratio is exactly equal to the original float\n",
            " |      and with a positive denominator.\n",
            " |      \n",
            " |      Raise OverflowError on infinities and a ValueError on NaNs.\n",
            " |      \n",
            " |      >>> (10.0).as_integer_ratio()\n",
            " |      (10, 1)\n",
            " |      >>> (0.0).as_integer_ratio()\n",
            " |      (0, 1)\n",
            " |      >>> (-.25).as_integer_ratio()\n",
            " |      (-1, 4)\n",
            " |  \n",
            " |  conjugate(self, /)\n",
            " |      Return self, the complex conjugate of any float.\n",
            " |  \n",
            " |  hex(self, /)\n",
            " |      Return a hexadecimal representation of a floating-point number.\n",
            " |      \n",
            " |      >>> (-0.1).hex()\n",
            " |      '-0x1.999999999999ap-4'\n",
            " |      >>> 3.14159.hex()\n",
            " |      '0x1.921f9f01b866ep+1'\n",
            " |  \n",
            " |  is_integer(self, /)\n",
            " |      Return True if the float is an integer.\n",
            " |  \n",
            " |  ----------------------------------------------------------------------\n",
            " |  Class methods defined here:\n",
            " |  \n",
            " |  __getformat__(typestr, /) from builtins.type\n",
            " |      You probably don't want to use this function.\n",
            " |      \n",
            " |        typestr\n",
            " |          Must be 'double' or 'float'.\n",
            " |      \n",
            " |      It exists mainly to be used in Python's test suite.\n",
            " |      \n",
            " |      This function returns whichever of 'unknown', 'IEEE, big-endian' or 'IEEE,\n",
            " |      little-endian' best describes the format of floating point numbers used by the\n",
            " |      C type named by typestr.\n",
            " |  \n",
            " |  __set_format__(typestr, fmt, /) from builtins.type\n",
            " |      You probably don't want to use this function.\n",
            " |      \n",
            " |        typestr\n",
            " |          Must be 'double' or 'float'.\n",
            " |        fmt\n",
            " |          Must be one of 'unknown', 'IEEE, big-endian' or 'IEEE, little-endian',\n",
            " |          and in addition can only be one of the latter two if it appears to\n",
            " |          match the underlying C reality.\n",
            " |      \n",
            " |      It exists mainly to be used in Python's test suite.\n",
            " |      \n",
            " |      Override the automatic determination of C-level floating point type.\n",
            " |      This affects how floats are converted to and from binary strings.\n",
            " |  \n",
            " |  fromhex(string, /) from builtins.type\n",
            " |      Create a floating-point number from a hexadecimal string.\n",
            " |      \n",
            " |      >>> float.fromhex('0x1.ffffp10')\n",
            " |      2047.984375\n",
            " |      >>> float.fromhex('-0x1p-1074')\n",
            " |      -5e-324\n",
            " |  \n",
            " |  ----------------------------------------------------------------------\n",
            " |  Static methods defined here:\n",
            " |  \n",
            " |  __new__(*args, **kwargs) from builtins.type\n",
            " |      Create and return a new object.  See help(type) for accurate signature.\n",
            " |  \n",
            " |  ----------------------------------------------------------------------\n",
            " |  Data descriptors defined here:\n",
            " |  \n",
            " |  imag\n",
            " |      the imaginary part of a complex number\n",
            " |  \n",
            " |  real\n",
            " |      the real part of a complex number\n",
            "\n"
          ],
          "name": "stdout"
        }
      ]
    },
    {
      "cell_type": "code",
      "metadata": {
        "id": "S3wHeXirof78",
        "colab": {
          "base_uri": "https://localhost:8080/"
        },
        "outputId": "b0cc5bfe-0235-4924-e51b-4e2c7b022aba"
      },
      "source": [
        "z.conjugate()"
      ],
      "execution_count": null,
      "outputs": [
        {
          "output_type": "execute_result",
          "data": {
            "text/plain": [
              "(4-2j)"
            ]
          },
          "metadata": {},
          "execution_count": 69
        }
      ]
    },
    {
      "cell_type": "code",
      "metadata": {
        "id": "l8rvg7winuG0",
        "colab": {
          "base_uri": "https://localhost:8080/"
        },
        "outputId": "3003eda7-c971-46bf-feeb-c3c7940637f6"
      },
      "source": [
        "z"
      ],
      "execution_count": null,
      "outputs": [
        {
          "output_type": "execute_result",
          "data": {
            "text/plain": [
              "(4+2j)"
            ]
          },
          "metadata": {},
          "execution_count": 70
        }
      ]
    },
    {
      "cell_type": "markdown",
      "metadata": {
        "id": "6X3FAL_tfLer"
      },
      "source": [
        "### **Las variables de Python son punteros**\n",
        "\n",
        "\n",
        "\n",
        "Como ya vimos, asignar variables en Python es tan fácil como poner un nombre de variable a la izquierda del signo igual `=`:"
      ]
    },
    {
      "cell_type": "markdown",
      "metadata": {
        "id": "KQwjkuC2uf4e"
      },
      "source": [
        "Esto puede parecer sencillo, pero si se tiene el modelo mental equivocado de lo que hace esta operación, la forma en que funciona Python puede parecer confusa.\n",
        "\n",
        "En muchos lenguajes de programación, las variables se consideran como contenedores en los que se colocan datos."
      ]
    },
    {
      "cell_type": "markdown",
      "metadata": {
        "id": "U1WByWRcu_eg"
      },
      "source": [
        "Esencialmente, se está definiendo un \"depósito de memoria\" con un tipo definido (int) llamado `x`, y colocando el valor `2337` en él. Gráficamente, podemos representar esto de la siguiente manera:\n",
        "\n",
        "![variables in C](https://i.imgur.com/0RQOTQ0.png)\n",
        "\n"
      ]
    },
    {
      "cell_type": "markdown",
      "metadata": {
        "id": "TaZyzDAvvYQW"
      },
      "source": [
        "En Python, por el contrario, las variables se consideran no como contenedores sino como *punteros*. \n",
        "\n",
        "Un puntero es un objeto cuyo valor *apunta* a otro valor almacenado en otra parte de la memoria del ordenador utilizando su dirección. En pocas palabras, un puntero hace referencia a una ubicación en memoria. Por lo tanto, cuando escribimos en Python"
      ]
    },
    {
      "cell_type": "code",
      "metadata": {
        "id": "Mky7EBCVvb2n"
      },
      "source": [
        "x = 2337"
      ],
      "execution_count": null,
      "outputs": []
    },
    {
      "cell_type": "markdown",
      "metadata": {
        "id": "L6-ygfvEv0QJ"
      },
      "source": [
        "básicamente se está definiendo un puntero llamado `x` que apunta a algún otro depósito de memoria que contiene el valor 2337. Como consecuencia, debido a que las variables de Python apuntan a varios *objetos*, no hay necesidad de \"declarar\" la variable (como sí se hace en el caso de C, donde para utilizar una variable se debe declarar previamente tanto su tipo como su valor), ¡o incluso requerir que la variable siempre apunte a información del mismo tipo! Este es el sentido en el que se dice que Python es de *tipado dinámico*: los nombres de las variables pueden apuntar a objetos de cualquier tipo.\n",
        "\n",
        "![](https://i.imgur.com/F3IQqwE.png)"
      ]
    },
    {
      "cell_type": "markdown",
      "metadata": {
        "id": "AHvjAQx_wKgL"
      },
      "source": [
        "Hay una consecuencia de este enfoque de \"variable como puntero\" que se debe tener en cuenta. Cada objeto en Python contiene al menos tres datos, como vimos en la figura anterior:\n",
        "\n",
        "* Tipo\n",
        "* Valor\n",
        "* Conteo de referencia\n",
        "\n",
        "Sin embargo, no todos los objetos son iguales. Hay otra distinción importante que debemos tener en cuenta: objetos inmutables vs objetos mutables.\n",
        "\n",
        "* **Objeto inmutable**: No puede ser cambiado.\n",
        "* **Objeto mutable**: Puede ser cambiado.\n",
        "\n",
        "Por ejemplo, todas las variables fundamentales que vimos son objetos inmutables. Variables compuestas como las listas o los diccionarios son objetos mutables.\n",
        "\n",
        "Veamos cómo esto afecta la declaración de variables. Para aclarar estos conceptos, realicemos un paralelo entre las variables en C y las variables en Python.\n",
        "\n",
        "Volvamos a la variable en C que definimos anteriormente:"
      ]
    },
    {
      "cell_type": "code",
      "metadata": {
        "id": "4c2bcc33xNLY"
      },
      "source": [
        "# codigo en C\n",
        "int x = 2337 ;"
      ],
      "execution_count": null,
      "outputs": []
    },
    {
      "cell_type": "markdown",
      "metadata": {
        "id": "FgTiFsObxR0R"
      },
      "source": [
        "Cuando se ejecuta esta línea se hace lo siguiente:\n",
        "\n",
        "* Alojar la memoria necesaria para un entero\n",
        "* Asignar el valor 2337 en esa dirección de memoria\n",
        "* Indicar que x apunta a ese valor\n",
        "\n",
        "![variables in C](https://i.imgur.com/0RQOTQ0.png)"
      ]
    },
    {
      "cell_type": "markdown",
      "metadata": {
        "id": "5AfMTdO3xTek"
      },
      "source": [
        "Si luego en el programa quisieramos modificar el valor de `x`, podríamos escribir los siguiente"
      ]
    },
    {
      "cell_type": "code",
      "metadata": {
        "id": "rXyZcv4FyA0S"
      },
      "source": [
        "# codigo en C\n",
        "x = 2338 ;"
      ],
      "execution_count": null,
      "outputs": []
    },
    {
      "cell_type": "markdown",
      "metadata": {
        "id": "DnCjCuGoyG_a"
      },
      "source": [
        "El código anterior asigna un nuevo valor (2338) a la variable `x`, sobrescribiendo así el valor anterior. Esto significa que la variable `x` es *mutable*\n",
        "\n",
        "![](https://i.imgur.com/aeLoUM5.png)\n",
        "\n",
        "Observe que la ubicación de `x` no cambió, solo el valor en sí. Significa que `x` es la ubicación de la memoria, no solo un nombre para ella. Si quisieramos crear otra variable `y`, a partir de `x`, podríamos escribir:\n",
        "\n"
      ]
    },
    {
      "cell_type": "code",
      "metadata": {
        "id": "4RZxbxDbyyl8"
      },
      "source": [
        "# codigo en C\n",
        "int y = x;"
      ],
      "execution_count": null,
      "outputs": []
    },
    {
      "cell_type": "markdown",
      "metadata": {
        "id": "iOb8ivUay3fK"
      },
      "source": [
        "Este código crea un nuevo \"cuadro\" llamado `y` y copia el valor de `x` en el cuadro\n",
        "\n",
        "![](https://i.imgur.com/evHZpub.png)\n"
      ]
    },
    {
      "cell_type": "markdown",
      "metadata": {
        "id": "9vBuVNcVzGkg"
      },
      "source": [
        "Observe la nueva ubicación 0x7f5 de `y`. Aunque el valor de `x` se copió a `y`, la variable `y` posee una nueva dirección en memoria. Por lo tanto, podríamos sobrescribir el valor de `y` sin afectar a `x`\n"
      ]
    },
    {
      "cell_type": "code",
      "metadata": {
        "id": "FdwxfDH8zWUI"
      },
      "source": [
        "# codigo en C\n",
        "y = 2339;"
      ],
      "execution_count": null,
      "outputs": []
    },
    {
      "cell_type": "markdown",
      "metadata": {
        "id": "ivP8HDRfza-l"
      },
      "source": [
        "En memoria esto se vería como\n",
        "\n",
        "![](https://i.imgur.com/5XJhHyZ.png)\n",
        "\n",
        "Note que se ha modificado el valor en `y`, pero no su ubicación. Además, no ha afectado la variable `x` original en absoluto.\n",
        "\n",
        "Este comportamiento es muy diferente al que encontramos en Python. Veamos ahora estas mismas operaciones en Python. Para mirar de forma explícita la dirección en memoria, podemos utilizar la función propia de Python `id` para acceder a la dirección en memoria de la variable.\n"
      ]
    },
    {
      "cell_type": "code",
      "metadata": {
        "id": "qAlkZANUz6lx",
        "colab": {
          "base_uri": "https://localhost:8080/"
        },
        "outputId": "893f3c73-60bc-461d-b909-8ed5b2a6613c"
      },
      "source": [
        "print(x,id(x))"
      ],
      "execution_count": null,
      "outputs": [
        {
          "output_type": "stream",
          "text": [
            "2337 140170309876272\n"
          ],
          "name": "stdout"
        }
      ]
    },
    {
      "cell_type": "markdown",
      "metadata": {
        "id": "AiaQwJO30Gid"
      },
      "source": [
        "Cuando ejecutamos esta línea, se hace lo siguiente:\n",
        "\n",
        "* Crear un PyObject (No es un objeto como tal, representa la estructura base para todos los objetos de Python)\n",
        "* Asignar el tipo de variable para el PyObject \n",
        "* Asignar el valor 2237 al PyObject \n",
        "* Crear un nombre `x` \n",
        "* Hacer que `x` apunte al nuevo PyObject \n",
        "* Incrementar el conteo de referencia del PyObject en 1 \n",
        "\n",
        "![](https://i.imgur.com/F3IQqwE.png)\n",
        "\n",
        "Note la diferencia respecto a lo que encontrabamos en C. Si quisieramos asignar un nuevo valor a la variable `x` podríamos escribir:"
      ]
    },
    {
      "cell_type": "code",
      "metadata": {
        "colab": {
          "base_uri": "https://localhost:8080/"
        },
        "id": "CpEGOD6RRNiO",
        "outputId": "74c02295-0c3f-4d3d-ebb7-5de75fe26bb4"
      },
      "source": [
        "print(x,id(x))"
      ],
      "execution_count": null,
      "outputs": [
        {
          "output_type": "stream",
          "text": [
            "2337 140170309876272\n"
          ],
          "name": "stdout"
        }
      ]
    },
    {
      "cell_type": "markdown",
      "metadata": {
        "id": "vuB7v49-1cJH"
      },
      "source": [
        "En este caso lo que se hace es:\n",
        "\n",
        "* Crear un PyObject \n",
        "* Asignar el tipo de variable para el PyObject \n",
        "* Asignar el valor 2237 al PyObject \n",
        "* Crear un nombre `x` \n",
        "* Hacer que `x` apunte al nuevo PyObject \n",
        "* Incrementar el conteo de referencia del nuevo PyObject en 1 \n",
        "* Reducir el conteo de referencia del viejo PyObject en 1 \n",
        "\n",
        "![](https://i.imgur.com/QDXLdoa.png)\n",
        "\n",
        "Este diagrama ilustra que `x` apunta a una referencia a un objeto y no posee el espacio de memoria como tal. También muestra que el comando `x = 2338` no es una asignación, sino que vincula el nombre `x` a una referencia.\n",
        "\n",
        "Podríamos introducir un nuevo nombre, `y`, como en el ejemplo de C:\n",
        "\n"
      ]
    },
    {
      "cell_type": "code",
      "metadata": {
        "id": "R3EnYpAR2L0L",
        "colab": {
          "base_uri": "https://localhost:8080/"
        },
        "outputId": "202473d1-daa6-400e-f070-c398affa7591"
      },
      "source": [
        "print(x,id(x))\n",
        "x = 2338\n",
        "print(x,id(x))"
      ],
      "execution_count": null,
      "outputs": [
        {
          "output_type": "stream",
          "text": [
            "2337 140170309876272\n",
            "2338 140170309875024\n"
          ],
          "name": "stdout"
        }
      ]
    },
    {
      "cell_type": "markdown",
      "metadata": {
        "id": "XErmTQq_2z4D"
      },
      "source": [
        "En memoria tendremos un nuevo nombre, pero no necesariamente un nuevo objeto:\n",
        "\n",
        "![](https://i.imgur.com/jrPj3n9.png)\n",
        "\n",
        "Podemos verificar la igualdad de identidad de los objetos para confirmar que son iguales:\n",
        "\n",
        "\n"
      ]
    },
    {
      "cell_type": "code",
      "metadata": {
        "id": "ooWWvhna3m1N",
        "colab": {
          "base_uri": "https://localhost:8080/"
        },
        "outputId": "0b855eca-329b-4984-a177-2730d84e7fab"
      },
      "source": [
        "print(x,id(x))\n",
        "y = x\n",
        "print(x,id(x))\n",
        "print(y,id(y))"
      ],
      "execution_count": null,
      "outputs": [
        {
          "output_type": "stream",
          "text": [
            "2338 140170309875024\n",
            "2338 140170309875024\n",
            "2338 140170309875024\n"
          ],
          "name": "stdout"
        }
      ]
    },
    {
      "cell_type": "markdown",
      "metadata": {
        "id": "QHo2Tzzm3nHR"
      },
      "source": [
        "Podemos ver que no se ha creado un nuevo objeto, solo un nuevo nombre que apunta al mismo objeto. Además, el conteo de referencia del objeto ha aumentado en uno. \n",
        "\n",
        "Hay que tener en cuenta que `y`, siendo una variable de tipo entero, sigue siendo inmutable: Si modificamos su valor se crea un nuevo objeto:"
      ]
    },
    {
      "cell_type": "code",
      "metadata": {
        "id": "YhVjwgqP3-Ye",
        "colab": {
          "base_uri": "https://localhost:8080/"
        },
        "outputId": "18b849f3-af3d-406b-dcbb-b0e4b63c9b1e"
      },
      "source": [
        "print(x,id(x))\n",
        "print(y,id(y))\n",
        "y = 2339\n",
        "print(x,id(x))\n",
        "print(y,id(y))"
      ],
      "execution_count": null,
      "outputs": [
        {
          "output_type": "stream",
          "text": [
            "2338 140170309875024\n",
            "2338 140170309875024\n",
            "2338 140170309875024\n",
            "2339 140170309876176\n"
          ],
          "name": "stdout"
        }
      ]
    },
    {
      "cell_type": "markdown",
      "metadata": {
        "id": "u7AKJdlN4E1g"
      },
      "source": [
        "en memoria veríamos esto como: \n",
        "\n",
        "![](https://i.imgur.com/LhSikZI.png)"
      ]
    },
    {
      "cell_type": "markdown",
      "metadata": {
        "id": "p9JsBg1R4icy"
      },
      "source": [
        "Hay una consecuencia de este enfoque de \"variable como puntero\" que se debe tener en cuenta. Si tenemos dos nombres de variables que apuntan al mismo objeto mutable, ¡cambiar uno también cambiará al otro! Veamos:"
      ]
    },
    {
      "cell_type": "code",
      "metadata": {
        "id": "MhyrvFGp4qlI",
        "colab": {
          "base_uri": "https://localhost:8080/"
        },
        "outputId": "6b7f7db4-701a-4e19-ed95-a94149da33b0"
      },
      "source": [
        "a = 1\n",
        "b = 1\n",
        "\n",
        "id(a), id(b)"
      ],
      "execution_count": null,
      "outputs": [
        {
          "output_type": "execute_result",
          "data": {
            "text/plain": [
              "(94647832881664, 94647832881664)"
            ]
          },
          "metadata": {},
          "execution_count": 78
        }
      ]
    },
    {
      "cell_type": "code",
      "metadata": {
        "colab": {
          "base_uri": "https://localhost:8080/"
        },
        "id": "v2wSHUoj6Bc2",
        "outputId": "e46f598d-47f8-414d-c36a-a0d6a4c050cd"
      },
      "source": [
        "a = b\n",
        "print(id(a), id(b))\n",
        "b = 3\n",
        "print(id(a), id(b))"
      ],
      "execution_count": null,
      "outputs": [
        {
          "output_type": "stream",
          "text": [
            "94647832881664 94647832881664\n",
            "94647832881664 94647832881728\n"
          ],
          "name": "stdout"
        }
      ]
    },
    {
      "cell_type": "markdown",
      "metadata": {
        "id": "0rnZaogC42lZ"
      },
      "source": [
        "Hemos creado dos variables `l1` y `l2`, ambas apuntando al mismo objeto. Debido a esto, si modificamos la lista a través de uno de sus nombres, debido a que la listas son objetos mutables, ambas se modificarán, por ejemplo agreguemos un item a l2:"
      ]
    },
    {
      "cell_type": "code",
      "metadata": {
        "id": "SP5jrXjf5PR0",
        "colab": {
          "base_uri": "https://localhost:8080/"
        },
        "outputId": "481863ab-5050-47d4-f57a-d2804f40e60a"
      },
      "source": [
        "l1 = [1, 2, 3]\n",
        "l2 = l1\n",
        "id(l1), id(l2)"
      ],
      "execution_count": null,
      "outputs": [
        {
          "output_type": "execute_result",
          "data": {
            "text/plain": [
              "(140170309663632, 140170309663632)"
            ]
          },
          "metadata": {},
          "execution_count": 80
        }
      ]
    },
    {
      "cell_type": "markdown",
      "metadata": {
        "id": "NguaS6jk52qa"
      },
      "source": [
        "Este comportamiento puede parecer confuso si se piensa erróneamente que las variables son depositos que contienen datos. Pero si se piensa correctamente en las variables como punteros a objetos, y se tiene en cuenta el concepto de mutabilidad, entonces este comportamiento tiene sentido.\n",
        "\n",
        "\n"
      ]
    },
    {
      "cell_type": "code",
      "metadata": {
        "colab": {
          "base_uri": "https://localhost:8080/"
        },
        "id": "WTot8iwy6jUl",
        "outputId": "15474538-318d-4b2f-ec3f-5941bb5d921b"
      },
      "source": [
        "id(l1)"
      ],
      "execution_count": null,
      "outputs": [
        {
          "output_type": "execute_result",
          "data": {
            "text/plain": [
              "140170309663632"
            ]
          },
          "metadata": {},
          "execution_count": 83
        }
      ]
    },
    {
      "cell_type": "code",
      "metadata": {
        "id": "RY59zUZv65ZW",
        "colab": {
          "base_uri": "https://localhost:8080/"
        },
        "outputId": "0bdeade3-8034-4cf6-9205-c88c6b1758a1"
      },
      "source": [
        "l1[1] = 5\n",
        "print(l1)"
      ],
      "execution_count": null,
      "outputs": [
        {
          "output_type": "stream",
          "text": [
            "[1, 5, 3]\n"
          ],
          "name": "stdout"
        }
      ]
    },
    {
      "cell_type": "code",
      "metadata": {
        "colab": {
          "base_uri": "https://localhost:8080/"
        },
        "id": "30ozltbJSjrN",
        "outputId": "c7f9ec06-63eb-4cec-ffd6-47be200356bf"
      },
      "source": [
        "print(l2)"
      ],
      "execution_count": null,
      "outputs": [
        {
          "output_type": "stream",
          "text": [
            "[1, 5, 3]\n"
          ],
          "name": "stdout"
        }
      ]
    },
    {
      "cell_type": "code",
      "metadata": {
        "id": "1MXyjMtKDCjB",
        "colab": {
          "base_uri": "https://localhost:8080/"
        },
        "outputId": "cf3f418d-00b8-4dad-9af3-0796d647bdeb"
      },
      "source": [
        "l2[0] = 41\n",
        "print(l1)"
      ],
      "execution_count": null,
      "outputs": [
        {
          "output_type": "stream",
          "text": [
            "[41, 5, 3]\n"
          ],
          "name": "stdout"
        }
      ]
    },
    {
      "cell_type": "code",
      "metadata": {
        "id": "u3sy-n7TDJKu",
        "colab": {
          "base_uri": "https://localhost:8080/"
        },
        "outputId": "f28b4eb0-a4c7-41f8-f4f9-13cf467858a7"
      },
      "source": [
        "l1 = [1, 2, 3]\n",
        "l2 = l1.copy()\n",
        "print(id(l1), id(l2))\n",
        "print(l1, l2)"
      ],
      "execution_count": null,
      "outputs": [
        {
          "output_type": "stream",
          "text": [
            "140170309464784 140170309269056\n",
            "[1, 2, 3] [1, 2, 3]\n"
          ],
          "name": "stdout"
        }
      ]
    },
    {
      "cell_type": "code",
      "metadata": {
        "colab": {
          "base_uri": "https://localhost:8080/"
        },
        "id": "WM_8hk_mS-Kr",
        "outputId": "d8dc1e83-769c-4607-8d65-13e01a61eec1"
      },
      "source": [
        "l1[0] = 2e3\n",
        "print(id(l1), id(l2))\n",
        "print(l1, l2)"
      ],
      "execution_count": null,
      "outputs": [
        {
          "output_type": "stream",
          "text": [
            "140170309464784 140170309269056\n",
            "[2000.0, 2, 3] [1, 2, 3]\n"
          ],
          "name": "stdout"
        }
      ]
    },
    {
      "cell_type": "markdown",
      "metadata": {
        "id": "59zMGQME64uN"
      },
      "source": [
        "Debemos tener mucho cuidado cuando trabajemos con objetos mutables. Si quisieramos crear un nuevo objeto mutable a partir de otro, pero no queremos que estos apunten al mismo objeto (de manera que al modificar esto no afecte al otro), podemos crear el nuevo objeto como una copia del anterior, utilizando el método `copy` de los objetos tipo lista:"
      ]
    },
    {
      "cell_type": "markdown",
      "metadata": {
        "id": "4cEKofEn6qOa"
      },
      "source": [
        "Note que de esta manera ahora ambas variables apuntan a objetos diferentes."
      ]
    },
    {
      "cell_type": "markdown",
      "metadata": {
        "id": "bBvJUcSZnunp"
      },
      "source": [
        "<p><a name=\"ope\"></a></p>\n",
        "\n",
        "# **Operadores**\n",
        "\n",
        "En la sección anterior, comenzamos a observar la semántica de las variables y objetos de Python; aquí profundizaremos en la semántica de los distintos operadores incluidos en el lenguaje\n",
        "\n"
      ]
    },
    {
      "cell_type": "markdown",
      "metadata": {
        "id": "Fm55Als973hf"
      },
      "source": [
        "<p><a name=\"opa\"></a></p>\n",
        "\n",
        "### **Operadores aritméticos**\n",
        "\n",
        "\n",
        "Python implementa siete operadores aritméticos binarios básicos, dos de los cuales (+ y -) pueden funcionar como operadores unarios\n",
        "\n"
      ]
    },
    {
      "cell_type": "code",
      "metadata": {
        "id": "RSAAsT8oFROj"
      },
      "source": [
        "a = 17\n",
        "b = 5"
      ],
      "execution_count": null,
      "outputs": []
    },
    {
      "cell_type": "code",
      "metadata": {
        "id": "3cCkrIu98PNi",
        "colab": {
          "base_uri": "https://localhost:8080/"
        },
        "outputId": "5ae3ee51-5c1b-4e6e-8092-c94e2287c76e"
      },
      "source": [
        "print(a + b)   # suma\n",
        "print(a - b)   # resta\n",
        "print(a * b)   # multiplicacion\n",
        "print(a / b)   # division\n",
        "print(a // b)  # division entera\n",
        "print(a % b)   # modulo\n",
        "print(a ** b)  # exponenciacion\n",
        "print( -a )      # unario negativo (negacion)\n",
        "print(+a)      # unario positivo (sin cambio)"
      ],
      "execution_count": null,
      "outputs": [
        {
          "output_type": "stream",
          "text": [
            "22\n",
            "12\n",
            "85\n",
            "3.4\n",
            "3\n",
            "2\n",
            "1419857\n",
            "-17\n",
            "17\n"
          ],
          "name": "stdout"
        }
      ]
    },
    {
      "cell_type": "markdown",
      "metadata": {
        "id": "DOYv4RNg8Oc3"
      },
      "source": [
        "Estos operadores se pueden usar y combinar de manera intuitiva, usando paréntesis estándar para agrupar operaciones:"
      ]
    },
    {
      "cell_type": "markdown",
      "metadata": {
        "id": "zhyx9Ly1v5QA"
      },
      "source": [
        "Hemos visto que las variables se pueden asignar con el operador `=`. Por ejemplo:"
      ]
    },
    {
      "cell_type": "code",
      "metadata": {
        "id": "2tfpBgUjv8qx"
      },
      "source": [
        "b = 10"
      ],
      "execution_count": null,
      "outputs": []
    },
    {
      "cell_type": "code",
      "metadata": {
        "id": "E077-iDzEaef",
        "colab": {
          "base_uri": "https://localhost:8080/"
        },
        "outputId": "7e583799-220d-404f-ca17-254216ae7b43"
      },
      "source": [
        "b = b + 1\n",
        "print(b)"
      ],
      "execution_count": null,
      "outputs": [
        {
          "output_type": "stream",
          "text": [
            "11\n"
          ],
          "name": "stdout"
        }
      ]
    },
    {
      "cell_type": "code",
      "metadata": {
        "colab": {
          "base_uri": "https://localhost:8080/"
        },
        "id": "4SwIh7HuUefi",
        "outputId": "9b1c3394-5c73-4224-e676-1cb562656c76"
      },
      "source": [
        "b = 10\n",
        "b += 1\n",
        "\n",
        "print(b)"
      ],
      "execution_count": null,
      "outputs": [
        {
          "output_type": "stream",
          "text": [
            "11\n"
          ],
          "name": "stdout"
        }
      ]
    },
    {
      "cell_type": "markdown",
      "metadata": {
        "id": "4Lf-N2mdwKGZ"
      },
      "source": [
        "Es posible que queramos actualizar la variable `x` con este nuevo valor. En este caso, podríamos combinar la suma y la asignación y escribir `x = x + 2`. Debido a que este tipo de operación y asignación combinadas es tan común, Python incluye operadores de actualización integrados para todas las operaciones aritméticas:"
      ]
    },
    {
      "cell_type": "markdown",
      "metadata": {
        "id": "V1mJfqIIw12y"
      },
      "source": [
        "Este tipo de abreviaciones funcionan con las siguientes operaciones: \n",
        "\n",
        "`+= -= /= *=`"
      ]
    },
    {
      "cell_type": "markdown",
      "metadata": {
        "id": "5Nqe-prAxNYN"
      },
      "source": [
        "<p><a name=\"opc\"></a></p>\n",
        "\n",
        "### **Operadores de comparación**\n",
        "\n",
        "Otro tipo de operación que puede ser muy útil es la comparación de diferentes valores. Para esto, Python implementa operadores de comparación estándar, que devuelven valores booleanos `True` y `False`.\n",
        "\n"
      ]
    },
    {
      "cell_type": "code",
      "metadata": {
        "colab": {
          "base_uri": "https://localhost:8080/"
        },
        "id": "dlXCz4ef8w5i",
        "outputId": "e387aea8-a4f1-4dbb-9f18-c11054d6eee1"
      },
      "source": [
        "print(a,b)"
      ],
      "execution_count": null,
      "outputs": [
        {
          "output_type": "stream",
          "text": [
            "17 11\n"
          ],
          "name": "stdout"
        }
      ]
    },
    {
      "cell_type": "code",
      "metadata": {
        "id": "J68FjBvb8to8",
        "colab": {
          "base_uri": "https://localhost:8080/"
        },
        "outputId": "79605957-fe35-4910-a04f-d51eb8420d53"
      },
      "source": [
        "print(a == b)    #a igual a b\n",
        "print(a != b)    #a diferente de b\n",
        "print(a < b)     #a menor a b\n",
        "print(a > b)     #a mayor a b\n",
        "print(a <= b)    #a menor igual a b\n",
        "print(a >= b)    #a mayor igual a b"
      ],
      "execution_count": null,
      "outputs": [
        {
          "output_type": "stream",
          "text": [
            "False\n",
            "True\n",
            "False\n",
            "True\n",
            "False\n",
            "True\n"
          ],
          "name": "stdout"
        }
      ]
    },
    {
      "cell_type": "markdown",
      "metadata": {
        "id": "_cHrhnQs8t8g"
      },
      "source": [
        "Estos operadores de comparación se pueden combinar con los operadores aritméticos para expresar un rango prácticamente ilimitado de pruebas para los números"
      ]
    },
    {
      "cell_type": "markdown",
      "metadata": {
        "id": "F4Dw5QQfxacE"
      },
      "source": [
        "Podemos unir varias comparaciones para verificar relaciones más complejas:\n"
      ]
    },
    {
      "cell_type": "code",
      "metadata": {
        "id": "wYV9AY-xxWke",
        "colab": {
          "base_uri": "https://localhost:8080/"
        },
        "outputId": "afa0a9c6-7353-4c58-cca3-1cf3d33cc144"
      },
      "source": [
        "22 < b < 18000"
      ],
      "execution_count": null,
      "outputs": [
        {
          "output_type": "execute_result",
          "data": {
            "text/plain": [
              "False"
            ]
          },
          "metadata": {},
          "execution_count": 99
        }
      ]
    },
    {
      "cell_type": "markdown",
      "metadata": {
        "id": "inzYYWBZxr8Q"
      },
      "source": [
        "<p><a name=\"opb\"></a></p>\n",
        "\n",
        "### **Operaciones booleanas**\n",
        "\n",
        "Al trabajar con valores booleanos, Python proporciona operadores para combinar los valores utilizando los conceptos estándar de \"and\", \"or\" y \"not\". Como es de esperarse, estos operadores se expresan usando las palabras `and`, `or`, y `not`:\n",
        "\n",
        "`and`: Este operador da como resultado True si y sólo si sus dos operandos son True:"
      ]
    },
    {
      "cell_type": "code",
      "metadata": {
        "id": "iik4P6RYxtyY"
      },
      "source": [
        "var1 = True #Es estudiante\n",
        "var2 = False #Tiene alas\n",
        "var3 = False #Tiene 100 años"
      ],
      "execution_count": null,
      "outputs": []
    },
    {
      "cell_type": "code",
      "metadata": {
        "colab": {
          "base_uri": "https://localhost:8080/"
        },
        "id": "c3VyydCl9hRM",
        "outputId": "b4ed9c37-3f48-4132-bab2-1af139b38862"
      },
      "source": [
        "var1 and var2"
      ],
      "execution_count": null,
      "outputs": [
        {
          "output_type": "execute_result",
          "data": {
            "text/plain": [
              "False"
            ]
          },
          "metadata": {},
          "execution_count": 102
        }
      ]
    },
    {
      "cell_type": "markdown",
      "metadata": {
        "id": "ewGTR_dnx6fx"
      },
      "source": [
        "`or`: Este operador da como resultado True si algún operando es True:"
      ]
    },
    {
      "cell_type": "code",
      "metadata": {
        "id": "tsGz0pesx7Cj",
        "colab": {
          "base_uri": "https://localhost:8080/"
        },
        "outputId": "9b5c686b-8f19-4db3-8ee9-1d0a962e72d3"
      },
      "source": [
        "var1 or var3"
      ],
      "execution_count": null,
      "outputs": [
        {
          "output_type": "execute_result",
          "data": {
            "text/plain": [
              "True"
            ]
          },
          "metadata": {},
          "execution_count": 103
        }
      ]
    },
    {
      "cell_type": "markdown",
      "metadata": {
        "id": "z6pBjdJTx94J"
      },
      "source": [
        "`not`: Este operador da como resultado True si y sólo si su argumento es False:"
      ]
    },
    {
      "cell_type": "code",
      "metadata": {
        "id": "ZYrn3no6x-ar",
        "colab": {
          "base_uri": "https://localhost:8080/"
        },
        "outputId": "fbc2b6d2-6c8b-4138-bb4f-a3f22b27a888"
      },
      "source": [
        "not var3"
      ],
      "execution_count": null,
      "outputs": [
        {
          "output_type": "execute_result",
          "data": {
            "text/plain": [
              "True"
            ]
          },
          "metadata": {},
          "execution_count": 104
        }
      ]
    },
    {
      "cell_type": "markdown",
      "metadata": {
        "id": "UUB92XSVykIS"
      },
      "source": [
        "Este tipo de operaciones booleanas se volverán extremadamente útiles cuando comencemos a discutir las declaraciones de flujo de control, como los condicionales y los ciclos."
      ]
    },
    {
      "cell_type": "markdown",
      "metadata": {
        "id": "TSxpZ0t8ym3i"
      },
      "source": [
        "<p><a name=\"opm\"></a></p>\n",
        "\n",
        "###  **Operadores de identidad y membresía**\n",
        "\n",
        "Python también contiene operadores para verificar *identidad* y *membresía*."
      ]
    },
    {
      "cell_type": "code",
      "metadata": {
        "id": "9AbuHx1Oyo3h"
      },
      "source": [
        "a is b      # a es b\n",
        "a is not b  # a no es en b\n",
        "a in b      # a está en b\n",
        "a not in b  # a no está en b"
      ],
      "execution_count": null,
      "outputs": []
    },
    {
      "cell_type": "markdown",
      "metadata": {
        "id": "cwY6psKIy59Q"
      },
      "source": [
        "Los operadores de identidad, `is` e `is not`, verifican la identidad del objeto. La identidad del objeto es diferente a la igualdad, como podemos ver aquí:"
      ]
    },
    {
      "cell_type": "code",
      "metadata": {
        "id": "nfMH4vAzy8Ag",
        "colab": {
          "base_uri": "https://localhost:8080/"
        },
        "outputId": "5bf2ce96-98ff-4cf1-e1a6-c782ffddf7de"
      },
      "source": [
        "print(entero, flotante)"
      ],
      "execution_count": null,
      "outputs": [
        {
          "output_type": "stream",
          "text": [
            "2000 2000.0\n"
          ],
          "name": "stdout"
        }
      ]
    },
    {
      "cell_type": "code",
      "metadata": {
        "id": "FrY8bFXxy-mp",
        "colab": {
          "base_uri": "https://localhost:8080/"
        },
        "outputId": "a1cbd4cd-060e-432f-88f6-a6653b81a5d5"
      },
      "source": [
        "entero == flotante"
      ],
      "execution_count": null,
      "outputs": [
        {
          "output_type": "execute_result",
          "data": {
            "text/plain": [
              "True"
            ]
          },
          "metadata": {},
          "execution_count": 106
        }
      ]
    },
    {
      "cell_type": "code",
      "metadata": {
        "id": "wlBf3ptQzAJY",
        "colab": {
          "base_uri": "https://localhost:8080/"
        },
        "outputId": "1ad3f390-15a4-4caf-9683-7f33d657fd84"
      },
      "source": [
        "entero is flotante"
      ],
      "execution_count": null,
      "outputs": [
        {
          "output_type": "execute_result",
          "data": {
            "text/plain": [
              "False"
            ]
          },
          "metadata": {},
          "execution_count": 107
        }
      ]
    },
    {
      "cell_type": "markdown",
      "metadata": {
        "id": "t5CBYPO9zDdY"
      },
      "source": [
        "¿Cómo son los objetos idénticos?"
      ]
    },
    {
      "cell_type": "markdown",
      "metadata": {
        "id": "_WduyhJxzjnf"
      },
      "source": [
        "Los operadores de membresía `in` y `not in` verifican la membresía dentro de los objetos compuestos. Entonces, por ejemplo, podemos escribir:"
      ]
    },
    {
      "cell_type": "code",
      "metadata": {
        "id": "XQbYUlhIzlHY",
        "colab": {
          "base_uri": "https://localhost:8080/"
        },
        "outputId": "ccec568c-9ac2-4119-8360-cf7b4cad1888"
      },
      "source": [
        "lista_prueba"
      ],
      "execution_count": null,
      "outputs": [
        {
          "output_type": "execute_result",
          "data": {
            "text/plain": [
              "[2, 1, -4]"
            ]
          },
          "metadata": {},
          "execution_count": 108
        }
      ]
    },
    {
      "cell_type": "code",
      "metadata": {
        "colab": {
          "base_uri": "https://localhost:8080/"
        },
        "id": "mNIZ4tNA-D9M",
        "outputId": "e004f825-e004-4cda-9020-34b128bcec06"
      },
      "source": [
        "1 in lista_prueba"
      ],
      "execution_count": null,
      "outputs": [
        {
          "output_type": "execute_result",
          "data": {
            "text/plain": [
              "True"
            ]
          },
          "metadata": {},
          "execution_count": 109
        }
      ]
    },
    {
      "cell_type": "code",
      "metadata": {
        "colab": {
          "base_uri": "https://localhost:8080/"
        },
        "id": "BNac-Q7Y-GeQ",
        "outputId": "d1b13858-aad7-4afd-bfc7-af8f073fafd2"
      },
      "source": [
        "[2,1] in lista_prueba"
      ],
      "execution_count": null,
      "outputs": [
        {
          "output_type": "execute_result",
          "data": {
            "text/plain": [
              "False"
            ]
          },
          "metadata": {},
          "execution_count": 110
        }
      ]
    },
    {
      "cell_type": "code",
      "metadata": {
        "colab": {
          "base_uri": "https://localhost:8080/"
        },
        "id": "eC81fp97-NAF",
        "outputId": "4502443b-234a-4c77-d398-8f24275c8c13"
      },
      "source": [
        "lista_prueba.append([2,1])\n",
        "[2,1] in lista_prueba"
      ],
      "execution_count": null,
      "outputs": [
        {
          "output_type": "execute_result",
          "data": {
            "text/plain": [
              "True"
            ]
          },
          "metadata": {},
          "execution_count": 111
        }
      ]
    },
    {
      "cell_type": "code",
      "metadata": {
        "colab": {
          "base_uri": "https://localhost:8080/"
        },
        "id": "rY6deZOB-S2i",
        "outputId": "85471d2c-98e3-4809-b6b1-1987dcb62d60"
      },
      "source": [
        "lista_prueba"
      ],
      "execution_count": null,
      "outputs": [
        {
          "output_type": "execute_result",
          "data": {
            "text/plain": [
              "[2, 1, -4, [2, 1]]"
            ]
          },
          "metadata": {},
          "execution_count": 112
        }
      ]
    },
    {
      "cell_type": "markdown",
      "metadata": {
        "id": "Fopx24gO9SgG"
      },
      "source": [
        "podemos usar el `not in`"
      ]
    },
    {
      "cell_type": "markdown",
      "metadata": {
        "id": "GRT4uSyN9cZf"
      },
      "source": [
        "O con `str`"
      ]
    },
    {
      "cell_type": "code",
      "metadata": {
        "id": "HQCDKYTgzogO",
        "colab": {
          "base_uri": "https://localhost:8080/"
        },
        "outputId": "9a237b35-03b0-4976-f49e-1e3d19abcff4"
      },
      "source": [
        "nombre = \"Tomas\"\n",
        "nombre is \"TOMAS\""
      ],
      "execution_count": null,
      "outputs": [
        {
          "output_type": "execute_result",
          "data": {
            "text/plain": [
              "False"
            ]
          },
          "metadata": {},
          "execution_count": 113
        }
      ]
    },
    {
      "cell_type": "code",
      "metadata": {
        "id": "5ryMbSg_zrG2",
        "colab": {
          "base_uri": "https://localhost:8080/"
        },
        "outputId": "863c08b4-4466-46f0-9ac5-31a0007cfcf3"
      },
      "source": [
        "\"T\" in nombre"
      ],
      "execution_count": null,
      "outputs": [
        {
          "output_type": "execute_result",
          "data": {
            "text/plain": [
              "True"
            ]
          },
          "metadata": {},
          "execution_count": 114
        }
      ]
    },
    {
      "cell_type": "code",
      "metadata": {
        "id": "5lEXp86QAnKT"
      },
      "source": [
        "texto.split()"
      ],
      "execution_count": null,
      "outputs": []
    },
    {
      "cell_type": "code",
      "metadata": {
        "id": "Kr-kdqbLWmfT",
        "colab": {
          "base_uri": "https://localhost:8080/"
        },
        "outputId": "c0c6101e-429d-4e9e-cebd-f1b488502682"
      },
      "source": [
        "\"To\" in nombre"
      ],
      "execution_count": null,
      "outputs": [
        {
          "output_type": "execute_result",
          "data": {
            "text/plain": [
              "True"
            ]
          },
          "metadata": {},
          "execution_count": 115
        }
      ]
    }
  ]
}