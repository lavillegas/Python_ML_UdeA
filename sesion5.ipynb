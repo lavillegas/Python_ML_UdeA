{
  "nbformat": 4,
  "nbformat_minor": 0,
  "metadata": {
    "colab": {
      "name": "sesion5.ipynb",
      "provenance": [],
      "collapsed_sections": [],
      "include_colab_link": true
    },
    "kernelspec": {
      "name": "python3",
      "display_name": "Python 3"
    }
  },
  "cells": [
    {
      "cell_type": "markdown",
      "metadata": {
        "id": "view-in-github",
        "colab_type": "text"
      },
      "source": [
        "<a href=\"https://colab.research.google.com/github/lavillegas/Python_ML_UdeA/blob/main/sesion5.ipynb\" target=\"_parent\"><img src=\"https://colab.research.google.com/assets/colab-badge.svg\" alt=\"Open In Colab\"/></a>"
      ]
    },
    {
      "cell_type": "markdown",
      "metadata": {
        "id": "n_x1aqGyE3NV"
      },
      "source": [
        "<p><img alt=\"Colaboratory logo\" height=\"140px\" src=\"https://upload.wikimedia.org/wikipedia/commons/archive/f/fb/20161010213812%21Escudo-UdeA.svg\" align=\"left\" hspace=\"10px\" vspace=\"0px\"></p>\n",
        "\n",
        "# **Diplomado de Análisis de datos y Machine Learning en Python**\n",
        "\n",
        "\n",
        "El presente diplomado hace parte del centro de Big Data de la facultad de ciencias exactas y naturales (FCEN) de la Universidad de Antioquia.\n",
        "\n",
        "## **Sesión 5**\n",
        "\n",
        "## **Contenido**\n",
        "  \n",
        "- <a href=\"#fun\"> Funciones</a><br>\n",
        "- <a href=\"#arg\"> Argumentos de la función</a><br>\n",
        "  - <a href=\"#req\"> Argumentos requeridos</a><br>\n",
        "  - <a href=\"#pre\"> Argumentos predeterminados</a><br>\n",
        "  - <a href=\"#lon\"> Argumentos de longitud variable</a><br>\n",
        "- <a href=\"#lam\"> Funciones anónimas</a><br>\n",
        "\n",
        "\n",
        "\n",
        "\n"
      ]
    },
    {
      "cell_type": "markdown",
      "metadata": {
        "id": "76BDLG7hE5sW"
      },
      "source": [
        "<p><a name=\"fun\"></a></p>\n",
        "\n",
        "# **Funciones**\n",
        "\n",
        "Hasta ahora, nuestros programas han sido bloques de código simples y de un solo uso. Una forma de organizar nuestro código de Python y hacerlo más legible y reutilizable es descomponer piezas útiles en funciones reutilizables. Ya hemos visto funciones antes. Por ejemplo, `print()` es una función:"
      ]
    },
    {
      "cell_type": "code",
      "metadata": {
        "id": "YcVlO57REma2",
        "colab": {
          "base_uri": "https://localhost:8080/"
        },
        "outputId": "98866c26-4168-4572-c2a4-5b15bbdb7470"
      },
      "source": [
        "print(\"abc\")"
      ],
      "execution_count": null,
      "outputs": [
        {
          "output_type": "stream",
          "name": "stdout",
          "text": [
            "abc\n"
          ]
        }
      ]
    },
    {
      "cell_type": "markdown",
      "metadata": {
        "id": "D4vRwfbSLA5O"
      },
      "source": [
        "aquí `print` es el nombre de la función, y `\"abc\"` es el *argumento* de la función. Adicionalmente, existen los *argumentos por palabra clave* (keyword arguments o kwargs) que se especifican por el nombre. Por ejemplo, un kwarg disponible para la función `print` es `end` que controla qué caracter añadir al final del último valor "
      ]
    },
    {
      "cell_type": "code",
      "metadata": {
        "id": "vEhd-2aCK_aC",
        "colab": {
          "base_uri": "https://localhost:8080/"
        },
        "outputId": "c9915610-59ec-4b3c-dbaa-c983f986af50"
      },
      "source": [
        "print(1, 2, 3, end= \".\")"
      ],
      "execution_count": null,
      "outputs": [
        {
          "output_type": "stream",
          "name": "stdout",
          "text": [
            "1 2 3."
          ]
        }
      ]
    },
    {
      "cell_type": "markdown",
      "metadata": {
        "id": "_PncQbyBLE2Q"
      },
      "source": [
        "o el kwarg `sep`, que controla qué caracter utilizar para separar los diferentes valores"
      ]
    },
    {
      "cell_type": "code",
      "metadata": {
        "id": "-V_sd1LnLFL7",
        "colab": {
          "base_uri": "https://localhost:8080/"
        },
        "outputId": "a93ec8e3-75c9-472c-a630-3f77368bd2ca"
      },
      "source": [
        "print(1, 2, 3, sep= \".\")"
      ],
      "execution_count": null,
      "outputs": [
        {
          "output_type": "stream",
          "name": "stdout",
          "text": [
            "1.2.3\n"
          ]
        }
      ]
    },
    {
      "cell_type": "code",
      "metadata": {
        "colab": {
          "base_uri": "https://localhost:8080/"
        },
        "id": "czvzV3NPdU5C",
        "outputId": "1fcf63f4-949e-491d-8910-5e7149105b9d"
      },
      "source": [
        "print(1, 2, 3, sep= \"-\", end = \".\")"
      ],
      "execution_count": null,
      "outputs": [
        {
          "output_type": "stream",
          "name": "stdout",
          "text": [
            "1-2-3."
          ]
        }
      ]
    },
    {
      "cell_type": "markdown",
      "metadata": {
        "id": "DwORKluJLMop"
      },
      "source": [
        "Las funciones se vuelven aún más útiles cuando comenzamos a definir las nuestras. La sintáxis general para crear una función es la siguiente\n",
        "\n",
        ">  \n",
        "\n",
        "    def Funcion( argumentos ):\n",
        "\n",
        "      sentencia(s) \n",
        "            \n",
        "      return expresion\n",
        "    \n",
        "     \n",
        "* Los bloques de funciones comienzan con la palabra clave `def` seguida del nombre de la función y paréntesis ().\n",
        "* Cualquier parámetro o argumento de entrada debe colocarse entre los paréntesis.\n",
        "* El bloque de código dentro de cada función comienza con dos puntos (:) y está indentado.\n",
        "* La declaración final `return expresion` es opcional. Al incluirla, una vez se llame la función, esta tomará el valor definido en `expresion`.\n",
        "\n",
        "Por ejemplo, podemos definir la función $f(x)=x^2$ en Python como:"
      ]
    },
    {
      "cell_type": "code",
      "metadata": {
        "id": "pxojrLEtLHDd"
      },
      "source": [
        "def elevar_cuadrado(x):\n",
        "  f = x ** 2\n",
        "  return f"
      ],
      "execution_count": null,
      "outputs": []
    },
    {
      "cell_type": "markdown",
      "metadata": {
        "id": "0xz8apSyLY73"
      },
      "source": [
        "y la podemos llamar de la siguiente manera"
      ]
    },
    {
      "cell_type": "code",
      "metadata": {
        "id": "AhRSQY6mHcJl",
        "colab": {
          "base_uri": "https://localhost:8080/"
        },
        "outputId": "ddc738b4-e129-449d-9522-0f934dac993f"
      },
      "source": [
        "elevar_cuadrado(4.0)"
      ],
      "execution_count": null,
      "outputs": [
        {
          "output_type": "execute_result",
          "data": {
            "text/plain": [
              "16.0"
            ]
          },
          "metadata": {},
          "execution_count": 7
        }
      ]
    },
    {
      "cell_type": "code",
      "metadata": {
        "id": "agjLENNiepfz"
      },
      "source": [
        "def identidad(x):\n",
        "  return x"
      ],
      "execution_count": null,
      "outputs": []
    },
    {
      "cell_type": "code",
      "metadata": {
        "id": "GdB4WLfXLXoN"
      },
      "source": [
        "def multiplicar_por_3(F, x):\n",
        "  y = 3 * F(x)\n",
        "  return y"
      ],
      "execution_count": null,
      "outputs": []
    },
    {
      "cell_type": "code",
      "metadata": {
        "id": "4JgXGhnGGrps",
        "colab": {
          "base_uri": "https://localhost:8080/"
        },
        "outputId": "2200f104-4722-449b-c3d5-f70476ed6dae"
      },
      "source": [
        "multiplicar_por_3(identidad, 2)"
      ],
      "execution_count": null,
      "outputs": [
        {
          "output_type": "execute_result",
          "data": {
            "text/plain": [
              "6"
            ]
          },
          "metadata": {},
          "execution_count": 11
        }
      ]
    },
    {
      "cell_type": "code",
      "metadata": {
        "colab": {
          "base_uri": "https://localhost:8080/"
        },
        "id": "-2vuPmYGf1KE",
        "outputId": "ab032d15-3917-4e18-e223-1c237107cd9c"
      },
      "source": [
        "a = 5\n",
        "b = 3\n",
        "c = 1\n",
        "\n",
        "def lachicharronera(a,b,c):\n",
        "  x1 = (-b + (b**2 - 4 * a* c)**0.5) / (2 * a)\n",
        "  x2 = (-b - (b**2 - 4 * a* c)**0.5) / (2 * a)\n",
        "\n",
        "  return x1, x2\n",
        "\n",
        "lachicharronera(a,b,c)\n",
        "\n",
        "print(\"función finalizada\")"
      ],
      "execution_count": null,
      "outputs": [
        {
          "output_type": "stream",
          "name": "stdout",
          "text": [
            "función finalizada\n"
          ]
        }
      ]
    },
    {
      "cell_type": "markdown",
      "metadata": {
        "id": "yXi0a3qkLdMe"
      },
      "source": [
        "La posibilidad de definir nuestras propias funciones nos ayudará de diversas maneras:\n",
        "\n",
        "* Cuando estemos escribiendo un programa y veamos que estamos escribiendo el mismo código más de una vez, probablemente sea mejor definir una función con el código repetido. Luego podremos llamar a la función tantas veces como sea necesario en lugar de reescribir el código una y otra vez. Es importante que evitemos escribir el mismo código más de una vez en nuestros programas.\n",
        "\n",
        "* Si escribimos el mismo código más de una vez y cometemos un error, debemos corregir ese error en cada lugar donde copiamos el código. Si por el contrario, tenemos el código en un solo lugar, definido en una función, podremos resolver el error solo en este lugar y olvidarnos del resto de lugares. \n",
        "\n",
        "  Si cometemos un error al escribir una función, y luego corregimos el código en la función, habremos corregido automáticamente el código en cada lugar que utiliza la función. Este principio de programación modular es un concepto muy importante.\n",
        "\n",
        "* Las funciones también ayudan a que nuestro código sea más fácil de leer. Cuando usamos buenos nombres para las variables y funciones en nuestros programas, podemos leer el código y comprender lo que hemos escrito, no solo mientras lo escribimos, sino tiempo después, cuando necesitemos mirar el código que escribimos nuevamente. \n",
        "\n",
        "Las funciones son pues una forma de organizar nuestro código y hacerlo más legible y reutilizable. Cuando escribamos una función debemos tener presentes los siguientes puntos:\n",
        "\n",
        " * ¿Cómo deberíamos llamar nuestra función? Deberíamos darle un nombre que tenga sentido y describa lo que hace la función. Como una función hace algo, el nombre de una función suele ser un verbo o una descripción de lo que devuelve la función. Puede ser una palabra o varias palabras.\n",
        " * ¿Qué debemos pasarle a nuestra función? En otras palabras, ¿qué argumentos pasaremos a la función? Al pensar en argumentos para pasarle a una función, debemos pensar cómo se usará la función y qué argumentos la harían más útil.\n",
        " * ¿Qué debe hacer la función? ¿Cual es su propósito? La función debe tener un propósito claramente definido. ¿Debería devolver un valor particular o debería realizar alguna tarea secundaria?\n",
        " * Finalmente, ¿qué debe devolver nuestra función? Se debe considerar el tipo y el valor a devolver. Si la función va a devolver un valor, debebemos decidir qué tipo de valor deberá devolver.\n",
        " \n",
        "Al considerar estas preguntas y responderlas, podemos asegurarnos de que nuestras funciones tengan sentido antes de escribirlas.\n"
      ]
    },
    {
      "cell_type": "markdown",
      "metadata": {
        "id": "zDzz3yI3LjgV"
      },
      "source": [
        "<p><a name=\"arg\"></a></p>\n",
        "\n",
        "# **Argumentos de la función**\n",
        "\n",
        "Podemos llamar una función utilizando los siguientes tipos de argumentos formales:\n",
        "\n",
        "* Argumentos requeridos.\n",
        "* Argumentos predeterminados.\n",
        "* Argumentos de longitud variable."
      ]
    },
    {
      "cell_type": "code",
      "metadata": {
        "id": "dyGi25h0Jkpv",
        "colab": {
          "base_uri": "https://localhost:8080/"
        },
        "outputId": "a4f6c745-a7af-45de-ee97-d5c78166e3fe"
      },
      "source": [
        "def saludo_generico():\n",
        "  None\n",
        "\n",
        "saludo_generico()\n",
        "\n",
        "print(\"Hola Mundo\")"
      ],
      "execution_count": null,
      "outputs": [
        {
          "output_type": "stream",
          "name": "stdout",
          "text": [
            "Hola Mundo\n"
          ]
        }
      ]
    },
    {
      "cell_type": "markdown",
      "metadata": {
        "id": "YgpN3fCELlkP"
      },
      "source": [
        "<p><a name=\"req\"></a></p>\n",
        "\n",
        "## **Argumentos requeridos**\n",
        "\n",
        "Los argumentos requeridos son argumentos pasados a una función, que tienen un carácter obligatorio y se dan en el **orden posicional correcto**. Veamos un ejemplo: creemos una función que, dados dos parámetros, nos devuelva la resta de estos:"
      ]
    },
    {
      "cell_type": "code",
      "metadata": {
        "id": "jSu30nQbLbG9",
        "colab": {
          "base_uri": "https://localhost:8080/"
        },
        "outputId": "ad66cf17-9bd4-4c81-a0e6-91177b0972b5"
      },
      "source": [
        "def resta(a, b):\n",
        "  return b - a\n",
        "\n",
        "resta(2,3)"
      ],
      "execution_count": null,
      "outputs": [
        {
          "output_type": "execute_result",
          "data": {
            "text/plain": [
              "1"
            ]
          },
          "metadata": {},
          "execution_count": 30
        }
      ]
    },
    {
      "cell_type": "markdown",
      "metadata": {
        "id": "sjXX9CG5MD7M"
      },
      "source": [
        "Aquí, el número de argumentos en la llamada a la función debe coincidir exactamente con el número de argumentos definidos en la función. En este caso, para llamar la función `Resta`, debemos pasar obligatoriamente los dos parámetros `a` y `b` con los que se ha definido:"
      ]
    },
    {
      "cell_type": "code",
      "metadata": {
        "id": "1GagUV3gMCnK",
        "colab": {
          "base_uri": "https://localhost:8080/"
        },
        "outputId": "2a8a5ca5-6a58-4c77-a0e1-8ffac9a53888"
      },
      "source": [
        "try:\n",
        "  resta(2)\n",
        "except Exception as E:\n",
        "  print(E)"
      ],
      "execution_count": null,
      "outputs": [
        {
          "output_type": "stream",
          "name": "stdout",
          "text": [
            "resta() missing 1 required positional argument: 'b'\n"
          ]
        }
      ]
    },
    {
      "cell_type": "markdown",
      "metadata": {
        "id": "VtHK_hdWMGpF"
      },
      "source": [
        "Si cambiamos el orden en el que pasamos los parámetros naturalmente cambiará la salida:"
      ]
    },
    {
      "cell_type": "markdown",
      "metadata": {
        "id": "vvRWmvfJMLx_"
      },
      "source": [
        "Si los parámetros los pasamos como argumentos por palabra clave no importará el orden. En este caso podríamos usar `Resta(b = x, a = y)`."
      ]
    },
    {
      "cell_type": "code",
      "metadata": {
        "id": "q9a4O2kdMJ-C",
        "colab": {
          "base_uri": "https://localhost:8080/"
        },
        "outputId": "0d70a277-abe5-4592-97d4-33f7f909d37c"
      },
      "source": [
        "x = int(input(\"ingrese un valor \"))\n",
        "y = int(input(\"ingrese un valor \"))\n",
        "\n",
        "resta(b = x, a = y)"
      ],
      "execution_count": null,
      "outputs": [
        {
          "name": "stdout",
          "output_type": "stream",
          "text": [
            "ingrese un valor 15\n",
            "ingrese un valor 17\n"
          ]
        },
        {
          "output_type": "execute_result",
          "data": {
            "text/plain": [
              "-2"
            ]
          },
          "metadata": {},
          "execution_count": 28
        }
      ]
    },
    {
      "cell_type": "markdown",
      "metadata": {
        "id": "QUqnTM2NMO3d"
      },
      "source": [
        "Ahora, ¿recuerda la descripción de las funciones que obtuvimos mediante la función propia de Python `help` o mediante el caractér `?`? Esta descripción  se define mediante lo que se conoce como el *Docstring*, que se puede definir dentro de una función encerrando el texto descriptivo entre tres comillas:"
      ]
    },
    {
      "cell_type": "code",
      "metadata": {
        "id": "xJmO7JGaMa0v",
        "colab": {
          "base_uri": "https://localhost:8080/"
        },
        "outputId": "92333c36-f685-4c34-cd66-ad289618d3c4"
      },
      "source": [
        "help(resta)"
      ],
      "execution_count": null,
      "outputs": [
        {
          "output_type": "stream",
          "name": "stdout",
          "text": [
            "Help on function resta in module __main__:\n",
            "\n",
            "resta(a, b)\n",
            "\n"
          ]
        }
      ]
    },
    {
      "cell_type": "markdown",
      "metadata": {
        "id": "2-EYY5jC9LCs"
      },
      "source": [
        "Hagamos un *Doctring* para nuestra función Resta."
      ]
    },
    {
      "cell_type": "code",
      "metadata": {
        "id": "Db_FfuNx8w3g",
        "colab": {
          "base_uri": "https://localhost:8080/"
        },
        "outputId": "afc31152-5740-471b-aac8-e6971ee7d59b"
      },
      "source": [
        "def resta(a, b):\n",
        "  \"\"\"\n",
        "  Devuelve la resta de el valor a al valor b.\n",
        "  Ej: \n",
        "    in[0]: resta(7, 3)\n",
        "    out[0]: -4\n",
        "\n",
        "    in[1]: resta(3, 8)\n",
        "    out[1]: 5\n",
        "  \"\"\"\n",
        "  return b - a\n",
        "\n",
        "resta(2,3)"
      ],
      "execution_count": null,
      "outputs": [
        {
          "output_type": "execute_result",
          "data": {
            "text/plain": [
              "1"
            ]
          },
          "metadata": {},
          "execution_count": 32
        }
      ]
    },
    {
      "cell_type": "code",
      "metadata": {
        "id": "uky1uzQ0Mdxp",
        "colab": {
          "base_uri": "https://localhost:8080/"
        },
        "outputId": "68d22d94-7c39-4971-e7f1-366d6cd9363b"
      },
      "source": [
        "help(resta)"
      ],
      "execution_count": null,
      "outputs": [
        {
          "output_type": "stream",
          "name": "stdout",
          "text": [
            "Help on function resta in module __main__:\n",
            "\n",
            "resta(a, b)\n",
            "    Devuelve la resta de el valor a al valor b.\n",
            "    Ej: \n",
            "      in[0]: resta(7, 3)\n",
            "      out[0]: -4\n",
            "    \n",
            "      in[1]: resta(3, 8)\n",
            "      out[1]: 5\n",
            "\n"
          ]
        }
      ]
    },
    {
      "cell_type": "markdown",
      "metadata": {
        "id": "wK2Bzqm3Mjvk"
      },
      "source": [
        "Recuerde que a la hora de llamar la función esta toma el valor definido en el `return` con el tipo de dato correspondiente:"
      ]
    },
    {
      "cell_type": "code",
      "metadata": {
        "colab": {
          "base_uri": "https://localhost:8080/"
        },
        "id": "IAyzRoWPkoPN",
        "outputId": "39b8f8f6-5387-430e-8417-523f46c0e3fd"
      },
      "source": [
        "type(resta(3.0,2))"
      ],
      "execution_count": null,
      "outputs": [
        {
          "output_type": "execute_result",
          "data": {
            "text/plain": [
              "float"
            ]
          },
          "metadata": {},
          "execution_count": 35
        }
      ]
    },
    {
      "cell_type": "code",
      "metadata": {
        "id": "5i9d7ZCWMlbn",
        "colab": {
          "base_uri": "https://localhost:8080/"
        },
        "outputId": "aa803d08-9004-4ef7-a63f-3cb40842549f"
      },
      "source": [
        "type(resta(3,2))"
      ],
      "execution_count": null,
      "outputs": [
        {
          "output_type": "execute_result",
          "data": {
            "text/plain": [
              "int"
            ]
          },
          "metadata": {},
          "execution_count": 34
        }
      ]
    },
    {
      "cell_type": "code",
      "metadata": {
        "colab": {
          "base_uri": "https://localhost:8080/"
        },
        "id": "ZNzfqNPrkqR9",
        "outputId": "43aa53f9-9c15-42fd-ca0c-2ef4d1144a8f"
      },
      "source": [
        "type(resta)"
      ],
      "execution_count": null,
      "outputs": [
        {
          "output_type": "execute_result",
          "data": {
            "text/plain": [
              "function"
            ]
          },
          "metadata": {},
          "execution_count": 36
        }
      ]
    },
    {
      "cell_type": "markdown",
      "metadata": {
        "id": "yeDRAkC5Mm8R"
      },
      "source": [
        "Por lo que podremos tratar la llamada de la función como si fuera del tipo que se ha definido en el `return`. Por ejemplo, si definimos una función que nos devuelva un dato de tipo `str`, podremos aplicarle métodos de este objeto a la hora de llamar la función:"
      ]
    },
    {
      "cell_type": "code",
      "metadata": {
        "id": "nCi7e5YNMoY2",
        "colab": {
          "base_uri": "https://localhost:8080/"
        },
        "outputId": "4df3c718-7f60-4fa0-989c-56a5f2cceb39"
      },
      "source": [
        "def hola_mundo():\n",
        "  return \"Hello world\"\n",
        "\n",
        "print(hola_mundo().upper())"
      ],
      "execution_count": null,
      "outputs": [
        {
          "output_type": "stream",
          "name": "stdout",
          "text": [
            "HELLO WORLD\n"
          ]
        }
      ]
    },
    {
      "cell_type": "markdown",
      "metadata": {
        "id": "pFonjgMhMxAm"
      },
      "source": [
        "<p><a name=\"pre\"></a></p>\n",
        "\n",
        "## **Argumentos predeterminados**\n",
        "\n",
        "A menudo, al definir una función, hay ciertos valores que queremos que la función use la mayor parte del tiempo, pero también nos gustaría tener cierta flexibilidad en la elección de estos valores. En tal caso, podemos usar valores predeterminados para los argumentos. Redefinamos la función `Saludo` de manera que el argumento `nombre` tome un valor por defecto"
      ]
    },
    {
      "cell_type": "code",
      "metadata": {
        "id": "HrXTFiElMuOQ",
        "colab": {
          "base_uri": "https://localhost:8080/"
        },
        "outputId": "5cae88a8-e01e-41e2-9e26-0844b345267d"
      },
      "source": [
        "def saludo(nombre = \"señor o señora\"):\n",
        "  print(f\"Saludo {nombre}\")\n",
        "\n",
        "saludo()"
      ],
      "execution_count": null,
      "outputs": [
        {
          "output_type": "stream",
          "name": "stdout",
          "text": [
            "Saludo señor o señora\n"
          ]
        }
      ]
    },
    {
      "cell_type": "markdown",
      "metadata": {
        "id": "JVu0lXdKM8np"
      },
      "source": [
        "De esta manera, el parámetro `nombre` no es requerido al momento de llamar la función"
      ]
    },
    {
      "cell_type": "code",
      "metadata": {
        "id": "Z_ULFS9VM7W4",
        "colab": {
          "base_uri": "https://localhost:8080/"
        },
        "outputId": "171ff860-3ad4-4aaf-89b3-622a73d45438"
      },
      "source": [
        "saludo(\"Tomas\")"
      ],
      "execution_count": null,
      "outputs": [
        {
          "output_type": "stream",
          "name": "stdout",
          "text": [
            "Saludo Tomas\n"
          ]
        }
      ]
    },
    {
      "cell_type": "code",
      "metadata": {
        "colab": {
          "base_uri": "https://localhost:8080/"
        },
        "id": "q814ppi2lkJQ",
        "outputId": "ff3dc46a-fcf9-4b83-8ec5-9f438dad1ab7"
      },
      "source": [
        "saludo(nombre=\"Tomas\")"
      ],
      "execution_count": null,
      "outputs": [
        {
          "output_type": "stream",
          "name": "stdout",
          "text": [
            "Saludo Tomas\n"
          ]
        }
      ]
    },
    {
      "cell_type": "markdown",
      "metadata": {
        "id": "bKqvtQ05M_SG"
      },
      "source": [
        "Cuando en una función uno de sus argumentos lleva un valor por defecto, éste se convierte automáticamente en un kwarg. Por lo tanto, puede ser especificado indicando su nombre al momento de llamar la función"
      ]
    },
    {
      "cell_type": "code",
      "metadata": {
        "id": "BMEg5ARLM_7m",
        "colab": {
          "base_uri": "https://localhost:8080/"
        },
        "outputId": "23d9dc3e-d5ba-4e1e-d907-bf7ee0130583"
      },
      "source": [
        "def presentacion(edad, nombre = \"yo\"):\n",
        "  print(f\"Hola, soy {nombre} y tengo {edad} años\")\n",
        "\n",
        "presentacion(21, \"Tomas\")"
      ],
      "execution_count": null,
      "outputs": [
        {
          "output_type": "stream",
          "name": "stdout",
          "text": [
            "Hola, soy Tomas y tengo 21 años\n"
          ]
        }
      ]
    },
    {
      "cell_type": "markdown",
      "metadata": {
        "id": "7A6aw0g5UdnT"
      },
      "source": [
        "O utilizando simplemente la posición del argumento"
      ]
    },
    {
      "cell_type": "code",
      "metadata": {
        "id": "_RwEFQCZUVCt",
        "colab": {
          "base_uri": "https://localhost:8080/"
        },
        "outputId": "298591b9-5a9f-4d74-deb6-781980c90eb0"
      },
      "source": [
        "presentacion(21, nombre= \"Tomas\")"
      ],
      "execution_count": null,
      "outputs": [
        {
          "output_type": "stream",
          "name": "stdout",
          "text": [
            "Hola, soy Tomas y tengo 21 años\n"
          ]
        }
      ]
    },
    {
      "cell_type": "markdown",
      "metadata": {
        "id": "f3pMkmLmNE2z"
      },
      "source": [
        "Debemos tener en cuenta que a la hora de definir los argumentos de la función y de la llamada de esta, todos los argumentos requeridos deben definirse antes de los predeterminados.\n"
      ]
    },
    {
      "cell_type": "code",
      "metadata": {
        "id": "Q538WFGCNGf-",
        "colab": {
          "base_uri": "https://localhost:8080/",
          "height": 128
        },
        "outputId": "1313e281-c03c-449a-f3ec-1b6d278fa751"
      },
      "source": [
        "def presentacion( nombre = \"yo\", edad):\n",
        "  print(f\"Hola, soy {nombre} y tengo {edad} años\")\n",
        "\n",
        "presentacion(21, \"Tomas\")"
      ],
      "execution_count": null,
      "outputs": [
        {
          "output_type": "error",
          "ename": "SyntaxError",
          "evalue": "ignored",
          "traceback": [
            "\u001b[0;36m  File \u001b[0;32m\"<ipython-input-49-ecfde87d1d3d>\"\u001b[0;36m, line \u001b[0;32m1\u001b[0m\n\u001b[0;31m    def presentacion( nombre = \"yo\", edad):\u001b[0m\n\u001b[0m                     ^\u001b[0m\n\u001b[0;31mSyntaxError\u001b[0m\u001b[0;31m:\u001b[0m non-default argument follows default argument\n"
          ]
        }
      ]
    },
    {
      "cell_type": "code",
      "metadata": {
        "id": "zbuTr2kTPJ5r",
        "colab": {
          "base_uri": "https://localhost:8080/",
          "height": 128
        },
        "outputId": "2b343b35-11a0-46e0-e42b-5fa49e0801ad"
      },
      "source": [
        "presentacion(nombre= \"Tomas\", 21)"
      ],
      "execution_count": null,
      "outputs": [
        {
          "output_type": "error",
          "ename": "SyntaxError",
          "evalue": "ignored",
          "traceback": [
            "\u001b[0;36m  File \u001b[0;32m\"<ipython-input-51-f9b636a75585>\"\u001b[0;36m, line \u001b[0;32m1\u001b[0m\n\u001b[0;31m    presentacion(nombre= \"Tomas\", 21)\u001b[0m\n\u001b[0m                                 ^\u001b[0m\n\u001b[0;31mSyntaxError\u001b[0m\u001b[0;31m:\u001b[0m positional argument follows keyword argument\n"
          ]
        }
      ]
    },
    {
      "cell_type": "code",
      "metadata": {
        "id": "lP2dwJ0wO_sD"
      },
      "source": [
        ""
      ],
      "execution_count": null,
      "outputs": []
    },
    {
      "cell_type": "markdown",
      "metadata": {
        "id": "3qde-VOuNKly"
      },
      "source": [
        "**Ejemplo 1:** Escriba una función que devuelva `True` si una frase dada es un palíndromo o `False` si no lo es"
      ]
    },
    {
      "cell_type": "code",
      "metadata": {
        "id": "VapkBWbQNMen",
        "colab": {
          "base_uri": "https://localhost:8080/"
        },
        "outputId": "7ac8db4e-fc74-4821-d2b0-593ae47978d7"
      },
      "source": [
        "def es_palindromo(frase):\n",
        "    frase = frase.replace(' ', '').lower()\n",
        "    if frase == frase[ : :-1]:\n",
        "        return True\n",
        "    else:\n",
        "        return False\n",
        "\n",
        "es_palindromo(\"anita lava la Tina\")"
      ],
      "execution_count": null,
      "outputs": [
        {
          "output_type": "execute_result",
          "data": {
            "text/plain": [
              "True"
            ]
          },
          "metadata": {},
          "execution_count": 54
        }
      ]
    },
    {
      "cell_type": "markdown",
      "metadata": {
        "id": "oRD3z8DrNQN7"
      },
      "source": [
        "**Ejemplo 2:** Pida al usuario un número entero. Dependiendo de si el número es par o impar, imprima un mensaje apropiado para el usuario en pantalla."
      ]
    },
    {
      "cell_type": "code",
      "metadata": {
        "id": "D7PUutrjNQu_",
        "colab": {
          "base_uri": "https://localhost:8080/"
        },
        "outputId": "5882a3bb-e86d-4004-8493-4e3832210222"
      },
      "source": [
        "def ParImpar():\n",
        "  n= int(input('Ingrese un número: '))\n",
        "  print('Es par' if n%2==0 else \"Es impar\")\n",
        "  \n",
        "ParImpar()"
      ],
      "execution_count": null,
      "outputs": [
        {
          "output_type": "stream",
          "name": "stdout",
          "text": [
            "Ingrese un número: 78\n",
            "Es par\n"
          ]
        }
      ]
    },
    {
      "cell_type": "markdown",
      "metadata": {
        "id": "8fmxrPGPNoIK"
      },
      "source": [
        "**Ejercicio 3:** Escriba un programa que calcule el factorial de un número natural $n$.\n",
        "\n",
        "Hallemos $n!$ de forma recursiva utilizando la propiedad $n! = n \\cdot (n-1)!$\n",
        "\n",
        "$$ n! = n* (n-1) * (n-2)*...* 3*2 *1 $$\n",
        "\n",
        "1. Utilizando la función misma para el proceso recursivo:"
      ]
    },
    {
      "cell_type": "code",
      "metadata": {
        "id": "wfEpDfi3NpbM",
        "colab": {
          "base_uri": "https://localhost:8080/"
        },
        "outputId": "0f84592b-85e7-47df-ef70-6d13f2ee304f"
      },
      "source": [
        "def Factorial1(n):\n",
        "  if n == 0:\n",
        "    return 1\n",
        "  else:\n",
        "    return n * Factorial1(n - 1)\n",
        "\n",
        "Factorial1(4), Factorial1(5)"
      ],
      "execution_count": null,
      "outputs": [
        {
          "output_type": "execute_result",
          "data": {
            "text/plain": [
              "(24, 120)"
            ]
          },
          "metadata": {},
          "execution_count": 61
        }
      ]
    },
    {
      "cell_type": "markdown",
      "metadata": {
        "id": "LS8agRwnNyjC"
      },
      "source": [
        "2. Realizando el proceso recursivo utilizando una lista"
      ]
    },
    {
      "cell_type": "code",
      "metadata": {
        "id": "pFvXrj3XNwuY",
        "colab": {
          "base_uri": "https://localhost:8080/"
        },
        "outputId": "94876c5f-aef9-4489-89cc-0e95694c462f"
      },
      "source": [
        "def Factorial2(n):\n",
        "  fact = [1]\n",
        "  for i in range(1, n+1):\n",
        "    fact.append(i * fact[i-1])\n",
        "  return fact[i]\n",
        "\n",
        "Factorial2(5)"
      ],
      "execution_count": null,
      "outputs": [
        {
          "output_type": "execute_result",
          "data": {
            "text/plain": [
              "120"
            ]
          },
          "metadata": {},
          "execution_count": 62
        }
      ]
    },
    {
      "cell_type": "markdown",
      "metadata": {
        "id": "pcTSbU6AN3QO"
      },
      "source": [
        "Podemos ver que la segunda forma es más eficiente"
      ]
    },
    {
      "cell_type": "code",
      "metadata": {
        "id": "kUnwB9oNN1bl",
        "colab": {
          "base_uri": "https://localhost:8080/"
        },
        "outputId": "7b7a1bd5-b2d5-4d40-8079-8295983e0825"
      },
      "source": [
        "%time Factorial1(50)"
      ],
      "execution_count": null,
      "outputs": [
        {
          "output_type": "stream",
          "name": "stdout",
          "text": [
            "CPU times: user 38 µs, sys: 0 ns, total: 38 µs\n",
            "Wall time: 42.2 µs\n"
          ]
        },
        {
          "output_type": "execute_result",
          "data": {
            "text/plain": [
              "30414093201713378043612608166064768844377641568960512000000000000"
            ]
          },
          "metadata": {},
          "execution_count": 63
        }
      ]
    },
    {
      "cell_type": "code",
      "metadata": {
        "id": "EpSAwaDlN5LX",
        "colab": {
          "base_uri": "https://localhost:8080/"
        },
        "outputId": "297a5962-eaa6-4ec5-c573-f11a46e4d807"
      },
      "source": [
        "%time Factorial2(50)"
      ],
      "execution_count": null,
      "outputs": [
        {
          "output_type": "stream",
          "name": "stdout",
          "text": [
            "CPU times: user 20 µs, sys: 2 µs, total: 22 µs\n",
            "Wall time: 28.6 µs\n"
          ]
        },
        {
          "output_type": "execute_result",
          "data": {
            "text/plain": [
              "30414093201713378043612608166064768844377641568960512000000000000"
            ]
          },
          "metadata": {},
          "execution_count": 64
        }
      ]
    },
    {
      "cell_type": "markdown",
      "metadata": {
        "id": "Mn6d1--FN_qd"
      },
      "source": [
        "**Ejercicio 4:** La sucesión de Fibonacci está dada por: $$f_{n} = f_{n-1} + f_{n-2}$$ con $f_0 = 0$ y $f_1=1$. Escriba un programa que calcule de forma recursiva $f_n$."
      ]
    },
    {
      "cell_type": "code",
      "metadata": {
        "id": "T47pCtm8Or8U"
      },
      "source": [
        ""
      ],
      "execution_count": null,
      "outputs": []
    },
    {
      "cell_type": "code",
      "metadata": {
        "id": "l6z_pswPXr8-"
      },
      "source": [
        ""
      ],
      "execution_count": null,
      "outputs": []
    },
    {
      "cell_type": "code",
      "metadata": {
        "id": "graJ0Ad8xEFW"
      },
      "source": [
        ""
      ],
      "execution_count": null,
      "outputs": []
    },
    {
      "cell_type": "markdown",
      "metadata": {
        "id": "YRORvAlXOdAV"
      },
      "source": [
        "<p><a name=\"lon\"></a></p>\n",
        "\n",
        "## **Argumentos de longitud variable**\n",
        "\n",
        "Es posible que necesitemos ejecutar una función en la que en principio no sabemos cuántos argumentos se pasarán a la función. En este caso, podemos utilizar una clase especial de argumentos, denominados argumentos de longitud variable, con los que podemos capturar todos los argumentos que se pasen a la función.\n",
        "\n",
        "**args**: El argumento de longitud variable `*args` permite capturar una serie de argumentos sin necesidad de especificar en un principio su número"
      ]
    },
    {
      "cell_type": "code",
      "metadata": {
        "id": "aE75liH5N6ec",
        "colab": {
          "base_uri": "https://localhost:8080/"
        },
        "outputId": "863999f5-dc9c-447c-f8e7-4d8854d2dc59"
      },
      "source": [
        "def my_print(*x):\n",
        "  print(x)\n",
        "\n",
        "my_print(1, 2, 3, 4)"
      ],
      "execution_count": null,
      "outputs": [
        {
          "output_type": "stream",
          "name": "stdout",
          "text": [
            "(1, 2, 3, 4)\n"
          ]
        }
      ]
    },
    {
      "cell_type": "markdown",
      "metadata": {
        "id": "s_3u1OmyPQBw"
      },
      "source": [
        "O alternativamente podemos iterar sobre estos argumentos"
      ]
    },
    {
      "cell_type": "code",
      "metadata": {
        "id": "bljtaRwCPReM",
        "colab": {
          "base_uri": "https://localhost:8080/"
        },
        "outputId": "5eebe5d5-9575-4870-dc2e-73204f0478b6"
      },
      "source": [
        "def my_print(*args):\n",
        "  for arg in args:\n",
        "    print(arg)\n",
        "\n",
        "my_print(1, 2, 3, 4)"
      ],
      "execution_count": null,
      "outputs": [
        {
          "output_type": "stream",
          "name": "stdout",
          "text": [
            "1\n",
            "2\n",
            "3\n",
            "4\n"
          ]
        }
      ]
    },
    {
      "cell_type": "markdown",
      "metadata": {
        "id": "F5tKpPUxPalX"
      },
      "source": [
        "Lo importante aquí no es el nombre `args`, sino el caracter `*` que lo precede. `args` es solo el nombre que se usa por convención. Un solo `*` antes de una variable significa *expandir esto como una secuencia*. \n"
      ]
    },
    {
      "cell_type": "markdown",
      "metadata": {
        "id": "UQCftnXrpsEQ"
      },
      "source": [
        "De hecho, esta sintáxis puede utilizarse no solo en la definición de la función, sino también a la hora de llamar la función:"
      ]
    },
    {
      "cell_type": "code",
      "metadata": {
        "id": "nc8C8Ro7PSjo",
        "colab": {
          "base_uri": "https://localhost:8080/"
        },
        "outputId": "4eae8186-5ad9-4b0f-a33d-6bf3f3c0c363"
      },
      "source": [
        "l = [1, 2, 3]\n",
        "\n",
        "my_print(l[0], l[1], l[2])"
      ],
      "execution_count": null,
      "outputs": [
        {
          "output_type": "stream",
          "name": "stdout",
          "text": [
            "(1, 2, 3)\n"
          ]
        }
      ]
    },
    {
      "cell_type": "code",
      "metadata": {
        "colab": {
          "base_uri": "https://localhost:8080/"
        },
        "id": "ZLc9nCEAsKp2",
        "outputId": "f594e6bb-6ae6-4334-e822-87d250611056"
      },
      "source": [
        "my_print(*l)"
      ],
      "execution_count": null,
      "outputs": [
        {
          "output_type": "stream",
          "name": "stdout",
          "text": [
            "1 2 3\n"
          ]
        }
      ]
    },
    {
      "cell_type": "markdown",
      "metadata": {
        "id": "-p3Z0kgoPmra"
      },
      "source": [
        "Podemos aprovecharnos de este hecho para modificar la función `my_print` a la hora de la llamada de la función `print`:"
      ]
    },
    {
      "cell_type": "code",
      "metadata": {
        "id": "7zbIof5ePiNY",
        "colab": {
          "base_uri": "https://localhost:8080/"
        },
        "outputId": "d9fa7ca6-046f-474d-8c7c-a0c03512380f"
      },
      "source": [
        "def my_print(*args):\n",
        "  print(*args)\n",
        "\n",
        "my_print(*l)"
      ],
      "execution_count": null,
      "outputs": [
        {
          "output_type": "stream",
          "name": "stdout",
          "text": [
            "1 2 3\n"
          ]
        }
      ]
    },
    {
      "cell_type": "markdown",
      "metadata": {
        "id": "YcT-YRRnPvDz"
      },
      "source": [
        "Cabe resaltar que la llamada de una función con esta sintáxis funciona independientemente de si se ha declarado la función con `*args` o no:"
      ]
    },
    {
      "cell_type": "code",
      "metadata": {
        "id": "WKgGY5dMPqI_",
        "colab": {
          "base_uri": "https://localhost:8080/"
        },
        "outputId": "a01741c8-f2ce-46af-de9f-d92221634851"
      },
      "source": [
        "l2 = [4, 8]\n",
        "resta(*l2)"
      ],
      "execution_count": null,
      "outputs": [
        {
          "output_type": "execute_result",
          "data": {
            "text/plain": [
              "4"
            ]
          },
          "metadata": {},
          "execution_count": 81
        }
      ]
    },
    {
      "cell_type": "markdown",
      "metadata": {
        "id": "AmcjRXFeP9h4"
      },
      "source": [
        "**Ejercicio 5:** Escriba un programa que calcule el promedio de n números enteros."
      ]
    },
    {
      "cell_type": "code",
      "metadata": {
        "id": "80BYPIeEP3b6",
        "colab": {
          "base_uri": "https://localhost:8080/"
        },
        "outputId": "d9ca18db-3c11-4798-e265-86949af34415"
      },
      "source": [
        "def Promedio(*numeros):\n",
        "  s = 0\n",
        "  for i in numeros:\n",
        "    s += i\n",
        "  return s/len(numeros)\n",
        "\n",
        "n = int(input(\"Ingrese el número de enteros a los cuales le va a hallar el promedio \"))\n",
        "print(f\"Ingrese sus {n} números enteros\")\n",
        "nums = [int(input()) for i in range(n)]\n",
        "\n",
        "print(f\"El promedio de sus números es : {Promedio(*nums)}\")"
      ],
      "execution_count": null,
      "outputs": [
        {
          "output_type": "stream",
          "name": "stdout",
          "text": [
            "Ingrese el número de enteros a los cuales le va a hallar el promedio 2\n",
            "Ingrese sus 2 números enteros\n",
            "1\n",
            "2\n",
            "El promedio de sus números es : 1.5\n"
          ]
        }
      ]
    },
    {
      "cell_type": "markdown",
      "metadata": {
        "id": "_BRBvSn5QGqa"
      },
      "source": [
        "**Ejercicio 6:** Escriba un programa que tome un número n de palabras de un usuario externo, las almacene en un lista y muestre cuáles palabras son un palíndromo."
      ]
    },
    {
      "cell_type": "code",
      "metadata": {
        "id": "CvzNDcqSQTeR"
      },
      "source": [
        ""
      ],
      "execution_count": null,
      "outputs": []
    },
    {
      "cell_type": "markdown",
      "metadata": {
        "id": "yvRclc-RQWCe"
      },
      "source": [
        "**kwargs**: Al igual que con `*args`, podemos utilizar el argumento por longitud variable `*kwargs` para capturar un número indefinido de argumentos por palabra clave. \n",
        "\n",
        "Un doble `**` antes de una variable significa *expandir esto como un diccionario*"
      ]
    },
    {
      "cell_type": "code",
      "metadata": {
        "id": "bPbnBKE4QZp0",
        "colab": {
          "base_uri": "https://localhost:8080/"
        },
        "outputId": "5296bdb1-7313-4485-95d2-4ed37a89342f"
      },
      "source": [
        "def my_print(**kwargs):\n",
        "  print(kwargs)\n",
        "\n",
        "my_print(nombre = \"Julián\", edad = 18)"
      ],
      "execution_count": null,
      "outputs": [
        {
          "output_type": "stream",
          "name": "stdout",
          "text": [
            "{'nombre': 'Julián', 'edad': 18}\n"
          ]
        }
      ]
    },
    {
      "cell_type": "markdown",
      "metadata": {
        "id": "nbEkUxjtQh1Z"
      },
      "source": [
        "similarmente, podemos utilizar esta sintáxis a la hora de llamar la función:"
      ]
    },
    {
      "cell_type": "code",
      "metadata": {
        "id": "nPBy72nhQd1_",
        "colab": {
          "base_uri": "https://localhost:8080/"
        },
        "outputId": "cb9ed276-985d-4a01-e64b-26fd1308f198"
      },
      "source": [
        "di = dict(nombre = \"Julián\", edad = 18, pais = \"Colombia\")\n",
        "\n",
        "my_print(**di)"
      ],
      "execution_count": null,
      "outputs": [
        {
          "output_type": "stream",
          "name": "stdout",
          "text": [
            "{'nombre': 'Julián', 'edad': 18, 'pais': 'Colombia'}\n"
          ]
        }
      ]
    },
    {
      "cell_type": "markdown",
      "metadata": {
        "id": "jHUVZNVdBDnx"
      },
      "source": [
        "<p><a name=\"lam\"></a></p>\n",
        "\n",
        "# **Funciones Anónimas**\n",
        "\n",
        "Estas funciones se denominan anónimas porque no se declaran de la manera estándar utilizando la palabra clave `def`. Podemos usar la palabra clave `lambda` para crear pequeñas funciones anónimas. La sintáxis general es de la forma:\n",
        "\n",
        "> \n",
        "  `(lambda arg1, arg2, ... : expresion)(arg1, arg2, ...)`\n",
        "\n",
        "Por ejemplo, definamos una función que realice la suma de dos números "
      ]
    },
    {
      "cell_type": "code",
      "metadata": {
        "id": "0GgbQm4MBHP1",
        "colab": {
          "base_uri": "https://localhost:8080/"
        },
        "outputId": "22fe2e04-1ddb-4306-e36b-b3a0960eac82"
      },
      "source": [
        "def suma(x, y):\n",
        "  return x + y\n",
        "\n",
        "print(suma(3, 5))"
      ],
      "execution_count": null,
      "outputs": [
        {
          "output_type": "stream",
          "name": "stdout",
          "text": [
            "8\n"
          ]
        }
      ]
    },
    {
      "cell_type": "code",
      "metadata": {
        "colab": {
          "base_uri": "https://localhost:8080/"
        },
        "id": "IqX8ywuxvi_A",
        "outputId": "b963cb31-9b15-41ac-d32e-196613c0c4fc"
      },
      "source": [
        "print(suma)"
      ],
      "execution_count": null,
      "outputs": [
        {
          "output_type": "stream",
          "name": "stdout",
          "text": [
            "<function suma at 0x7f923d8878c0>\n"
          ]
        }
      ]
    },
    {
      "cell_type": "code",
      "metadata": {
        "colab": {
          "base_uri": "https://localhost:8080/"
        },
        "id": "6ZqsC5_Ivi3x",
        "outputId": "a757000a-4618-4fc2-c78a-77bc1ac01906"
      },
      "source": [
        "(lambda x, y: x + y)(6 , 9)"
      ],
      "execution_count": null,
      "outputs": [
        {
          "output_type": "execute_result",
          "data": {
            "text/plain": [
              "15"
            ]
          },
          "metadata": {},
          "execution_count": 94
        }
      ]
    },
    {
      "cell_type": "code",
      "metadata": {
        "id": "DT4TPxxdv766"
      },
      "source": [
        "suma2 = lambda x, y: x + y"
      ],
      "execution_count": null,
      "outputs": []
    },
    {
      "cell_type": "markdown",
      "metadata": {
        "id": "s3F_EgXIBMoC"
      },
      "source": [
        "Con una función anónima o función Lambda, lo \n",
        "\n",
        "\n",
        "\n",
        "anterior tomaría la forma:"
      ]
    },
    {
      "cell_type": "code",
      "metadata": {
        "colab": {
          "base_uri": "https://localhost:8080/"
        },
        "id": "zrqnp_6Iv-6C",
        "outputId": "dd980c91-b58b-4f9e-edeb-27093f0e23e8"
      },
      "source": [
        "suma2(6,9)"
      ],
      "execution_count": null,
      "outputs": [
        {
          "output_type": "execute_result",
          "data": {
            "text/plain": [
              "15"
            ]
          },
          "metadata": {},
          "execution_count": 96
        }
      ]
    },
    {
      "cell_type": "markdown",
      "metadata": {
        "id": "xvRoVDlRBTTm"
      },
      "source": [
        "Note la equivalencia entre ambas sintáxis. Note además que la función creada de forma estándar tiene como nombre `suma`, mientras que las funciones anónimas tienen como nombre `<lambda>`, de ahí que se conozcan como *funciones anónimas*.\n",
        "\n",
        "Con esta nueva sintáxis podemos utilizar tanto los argumentos requeridos como argumentos por palabra clave, así como los argumentos de longitud variable"
      ]
    },
    {
      "cell_type": "code",
      "metadata": {
        "id": "1ro5H3fPBPy_",
        "colab": {
          "base_uri": "https://localhost:8080/"
        },
        "outputId": "a7dd5617-0e85-4601-94d3-2e1c714d6c5f"
      },
      "source": [
        "f = lambda *args, **kwargs: print(args, kwargs)\n",
        "\n",
        "f(1, 2, 3, a = \"Hola\", b = \"mundo\")"
      ],
      "execution_count": null,
      "outputs": [
        {
          "output_type": "stream",
          "name": "stdout",
          "text": [
            "(1, 2, 3) {'a': 'Hola', 'b': 'mundo'}\n"
          ]
        }
      ]
    },
    {
      "cell_type": "code",
      "metadata": {
        "id": "OJVOvK7LBYIX"
      },
      "source": [
        ""
      ],
      "execution_count": null,
      "outputs": []
    },
    {
      "cell_type": "code",
      "metadata": {
        "id": "ugrNXzs3Bbkf"
      },
      "source": [
        ""
      ],
      "execution_count": null,
      "outputs": []
    }
  ]
}