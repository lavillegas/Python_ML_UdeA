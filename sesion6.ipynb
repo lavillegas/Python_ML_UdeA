{
  "nbformat": 4,
  "nbformat_minor": 0,
  "metadata": {
    "colab": {
      "name": "sesion6.ipynb",
      "provenance": [],
      "collapsed_sections": [
        "-OvIOX4zj2TO"
      ],
      "include_colab_link": true
    },
    "kernelspec": {
      "name": "python3",
      "display_name": "Python 3"
    }
  },
  "cells": [
    {
      "cell_type": "markdown",
      "metadata": {
        "id": "view-in-github",
        "colab_type": "text"
      },
      "source": [
        "<a href=\"https://colab.research.google.com/github/lavillegas/Python_ML_UdeA/blob/main/sesion6.ipynb\" target=\"_parent\"><img src=\"https://colab.research.google.com/assets/colab-badge.svg\" alt=\"Open In Colab\"/></a>"
      ]
    },
    {
      "cell_type": "markdown",
      "metadata": {
        "id": "MmUU_s3VVUqe"
      },
      "source": [
        "<p><img alt=\"Colaboratory logo\" height=\"140px\" src=\"https://upload.wikimedia.org/wikipedia/commons/archive/f/fb/20161010213812%21Escudo-UdeA.svg\" align=\"left\" hspace=\"10px\" vspace=\"0px\"></p>\n",
        "\n",
        "# **Diplomado de Análisis de datos y Machine Learning en Python**\n",
        "\n",
        "El presente diplomado hace parte del centro de Big Data de la facultad de ciencias exactas y naturales (FCEN) de la Universidad de Antioquia.\n",
        "\n",
        "## **Sesión 6**\n",
        "\n",
        "## **Contenido**\n",
        "  \n",
        "- <a href=\"#num\"> NumPy</a><br>\n",
        "- <a href=\"#arr\"> Arreglos en NumPy</a><br>\n",
        "- <a href=\"#ope\"> Operaciones sobre los arreglos</a><br>\n",
        "- <a href=\"#apeA\"> Apéndice A: Iteradores útiles</a><br>\n",
        "\n",
        "\n",
        "\n",
        "\n",
        "\n",
        "\n",
        "\n",
        "\n",
        "\n"
      ]
    },
    {
      "cell_type": "markdown",
      "metadata": {
        "id": "_xWT5B3cZ5ks"
      },
      "source": [
        "\n",
        "\n",
        "La implementación estándar de Python está escrita en C. Esto significa que cada objeto de Python es simplemente una estructura de C, que contiene no solo su valor, sino también otra información. Ya hemos visto que cuando definimos una variable, esta es en realidad un puntero a una estructura compuesta de C, que contiene ciertos valores diferentes: referencia, tipo, tamaño, valor, etc."
      ]
    },
    {
      "cell_type": "markdown",
      "metadata": {
        "id": "B5RKnXOzfP5s"
      },
      "source": [
        "![variables in C](https://i.imgur.com/0RQOTQ0.png)"
      ]
    },
    {
      "cell_type": "markdown",
      "metadata": {
        "id": "8_zvefG5f0Za"
      },
      "source": [
        "![](https://i.imgur.com/F3IQqwE.png)"
      ]
    },
    {
      "cell_type": "markdown",
      "metadata": {
        "id": "S1_inYh9aNRD"
      },
      "source": [
        "Recordemos que en Python, al ser un lenguaje de tipado dinámico, podemos generar listas donde cada uno de sus elementos pueden ser de cualquier tipo"
      ]
    },
    {
      "cell_type": "code",
      "metadata": {
        "id": "f5AnsypNaN6E",
        "colab": {
          "base_uri": "https://localhost:8080/"
        },
        "outputId": "5bb324fc-80d7-4240-89a2-aaa69380740f"
      },
      "source": [
        "L = [True, \"2\", 3.0, 4]\n",
        "[type(i) for i in L]"
      ],
      "execution_count": null,
      "outputs": [
        {
          "output_type": "execute_result",
          "data": {
            "text/plain": [
              "[bool, str, float, int]"
            ]
          },
          "metadata": {},
          "execution_count": 1
        }
      ]
    },
    {
      "cell_type": "markdown",
      "metadata": {
        "id": "Wke-LRAzaLsy"
      },
      "source": [
        "Esta flexibilidad tiene un costo: cada elemento de la lista debe contener su propia información, es decir, cada elemento es un objeto completo de Python. En el caso especial en que todas las variables sean del mismo tipo, gran parte de esta información es redundante: puede ser mucho más eficiente almacenar datos en una lista de tipo homogéneo. Python ofrece diferentes opciones para almacenar datos de esta manera (por ejemplo a través del módulo `array`). Sin embargo, la mejor manera de generar este tipo de objetos es a través de la libreria NumPy.\n",
        "\n"
      ]
    },
    {
      "cell_type": "markdown",
      "metadata": {
        "id": "UnwBij2FYLC8"
      },
      "source": [
        "<p><a name=\"num\"></a></p>\n",
        "\n",
        "# **NumPy** (Numerical Python)\n",
        "\n",
        "En el núcleo de la mayoría de los problemas encontramos un **arreglo**. Desde el punto de vista computacional, un arreglo es un bloque contiguo de memoria donde cada elemento tiene el mismo tipo.\n",
        "\n",
        "Los diferentes lenguajes de programación utilizados en computación científica tienen alguna noción de manejo de datos basado en arreglos, ya sea integrado en el lenguaje propio o a través de paquetes proporcionados por terceros.\n",
        "\n",
        "NumPy es el paquete fundamental para la computación científica en Python. Es una libreria de Python que proporciona herramientas para la generación de arreglos y una variedad de funcionalidades para realizar operaciones sobre estos, que generalmente se realizan de una manera más eficiente que lo que se puede lograr con funcionalidades propias de Python. NumPy sirve como bloque básico para una gran cantidad de paquetes científicos y de análisis de datos.\n",
        "\n",
        "En el núcleo de NumPy, está el objeto `ndarray` (n-dimensional array). Este encapsula arreglos n-dimensionales de tipos de datos homogéneos, con muchas operaciones que se realizan en código compilado, con lo cual se mejora el rendimiento significativamente. La diferencia entre una lista de tipo dinámico y un arreglo de tipo fijo (al estilo NumPy) se ilustra en la siguiente figura:\n",
        "\n"
      ]
    },
    {
      "cell_type": "markdown",
      "metadata": {
        "id": "DubMLI8uYZsv"
      },
      "source": [
        "<p><img alt=\"Colaboratory logo\" height=\"350px\" src=\"https://i.imgur.com/8EbyB0c.png\" align=\"left\" hspace=\"10px\" vspace=\"0px\"></p>"
      ]
    },
    {
      "cell_type": "markdown",
      "metadata": {
        "id": "23kiqlTudyki"
      },
      "source": [
        "Al nivel de implementación, el arreglo contiene esencialmente un puntero único a un bloque contiguo de datos. La lista de Python, por otro lado, contiene un puntero a un bloque de punteros, cada uno de los cuales a su vez apunta a un objeto completo de Python como el entero de Python que vimos anteriormente.\n",
        "\n",
        "En resumen, estas son las diferencias más importantes entre los arreglos de NumPy y las secuencias estándar de Python:\n",
        "\n",
        "* Todos los elementos en un arreglo de NumPy deben ser del mismo tipo de dato y, por lo tanto, tendrán el mismo tamaño en memoria.\n",
        "* Los arreglos de NumPy tienen un tamaño fijo en la creación, a diferencia de las listas de Python (que pueden crecer dinámicamente). Cambiar el tamaño de un `ndarray` creará un nuevo arreglo y eliminará el original.\n",
        "* Los arreglos de NumPy facilitan operaciones avanzadas matemáticas y de otro tipo en grandes cantidades de datos. Típicamente, tales operaciones se ejecutan de manera más eficiente que usando las secuencias integradas de Python.\n",
        "\n"
      ]
    },
    {
      "cell_type": "markdown",
      "metadata": {
        "id": "epJPd5nVibfR"
      },
      "source": [
        "<p><a name=\"arr\"></a></p>\n",
        "\n",
        "# **Arreglos en Numpy**\n",
        "\n",
        "Por convención, la librería NumPy se import con el alias `np`"
      ]
    },
    {
      "cell_type": "code",
      "metadata": {
        "id": "jayLcM0ugkUT"
      },
      "source": [
        "# from numpy import *\n",
        "# from numpy import array"
      ],
      "execution_count": null,
      "outputs": []
    },
    {
      "cell_type": "code",
      "metadata": {
        "id": "uzi2rEa5jtcj"
      },
      "source": [
        "import numpy as np"
      ],
      "execution_count": null,
      "outputs": []
    },
    {
      "cell_type": "markdown",
      "metadata": {
        "id": "HaDPZCKyiiHx"
      },
      "source": [
        "Podemos construir un objeto `ndarray`, a partir de una lista de Python, mediante el constructor `array`:\n"
      ]
    },
    {
      "cell_type": "code",
      "metadata": {
        "id": "3WVZXH0Hikpx"
      },
      "source": [
        "arr = np.array([1, 2, 3])"
      ],
      "execution_count": null,
      "outputs": []
    },
    {
      "cell_type": "code",
      "metadata": {
        "id": "i02ZlSioZHiJ",
        "colab": {
          "base_uri": "https://localhost:8080/"
        },
        "outputId": "99061bc5-5f4e-4a66-f843-01cd0660c773"
      },
      "source": [
        "print(arr)"
      ],
      "execution_count": null,
      "outputs": [
        {
          "output_type": "stream",
          "name": "stdout",
          "text": [
            "[1 2 3]\n"
          ]
        }
      ]
    },
    {
      "cell_type": "code",
      "metadata": {
        "id": "vf6J7l6YecI_",
        "colab": {
          "base_uri": "https://localhost:8080/"
        },
        "outputId": "d4948609-476c-4b91-f29b-0eb9fc71d8ee"
      },
      "source": [
        "type(arr)"
      ],
      "execution_count": null,
      "outputs": [
        {
          "output_type": "execute_result",
          "data": {
            "text/plain": [
              "numpy.ndarray"
            ]
          },
          "metadata": {},
          "execution_count": 8
        }
      ]
    },
    {
      "cell_type": "markdown",
      "metadata": {
        "id": "eM0gLkqZiqps"
      },
      "source": [
        "El objeto `ndarray` representa efectivamente un bloque de memoria de tamaño fijo, el cual contiene una serie de atributos y métodos que definen su estructura. Veamos algunos de los atributos más importantes de este objeto:\n",
        "\n",
        "### **dtype:** \n",
        "\n",
        "El tipo de dato (data type) es el atributo más importante. Este determina el tamaño y el significado de cada elemento del arreglo. El sistema predeterminado de dtypes que proporciona NumPy (ver siguiente imagen) es más preciso y más amplio para los tipos básicos que el sistema de tipos que implementa el lenguaje Python. Podemos ver el data type como `arreglo.dtype`"
      ]
    },
    {
      "cell_type": "code",
      "metadata": {
        "id": "ELCQ7Lwmi3mh",
        "colab": {
          "base_uri": "https://localhost:8080/"
        },
        "outputId": "249ea030-c614-4ce9-e15d-7d6da708eb0c"
      },
      "source": [
        "arr.dtype"
      ],
      "execution_count": null,
      "outputs": [
        {
          "output_type": "execute_result",
          "data": {
            "text/plain": [
              "dtype('int64')"
            ]
          },
          "metadata": {},
          "execution_count": 9
        }
      ]
    },
    {
      "cell_type": "markdown",
      "metadata": {
        "id": "UJ7-gnp7iyxz"
      },
      "source": [
        "<p><img alt=\"Colaboratory logo\" height=\"400px\" src=\"https://i.imgur.com/2RpU9w1.png\" align=\"left\" hspace=\"10px\" vspace=\"0px\"></p>"
      ]
    },
    {
      "cell_type": "code",
      "metadata": {
        "id": "ecUM9kPZemaR",
        "colab": {
          "base_uri": "https://localhost:8080/"
        },
        "outputId": "58e93f76-e507-44a6-ffdd-018914c68acd"
      },
      "source": [
        "arr = np.array([1, 2, 3], dtype='float64')\n",
        "arr.dtype"
      ],
      "execution_count": null,
      "outputs": [
        {
          "output_type": "execute_result",
          "data": {
            "text/plain": [
              "dtype('float64')"
            ]
          },
          "metadata": {},
          "execution_count": 13
        }
      ]
    },
    {
      "cell_type": "code",
      "metadata": {
        "colab": {
          "base_uri": "https://localhost:8080/"
        },
        "id": "iCGsodDq1DoF",
        "outputId": "280ecc69-babf-4137-ae7b-9e8faec2342a"
      },
      "source": [
        "print(arr)"
      ],
      "execution_count": null,
      "outputs": [
        {
          "output_type": "stream",
          "name": "stdout",
          "text": [
            "[1. 2. 3.]\n"
          ]
        }
      ]
    },
    {
      "cell_type": "markdown",
      "metadata": {
        "id": "zRymWwMTiz1Z"
      },
      "source": [
        "### **shape:** \n",
        "\n",
        "Atributo que devuelve una tupla de enteros que representa el rango a lo largo de cada dimensión de los arreglos n-dimensionales."
      ]
    },
    {
      "cell_type": "code",
      "metadata": {
        "id": "g6i1EdbJbSho",
        "colab": {
          "base_uri": "https://localhost:8080/"
        },
        "outputId": "1ace092f-cbc3-4503-edad-b40c3b6f84ec"
      },
      "source": [
        "l = [[1, 2], [3, 4]]\n",
        "arr2 = np.array(l)\n",
        "arr3 = np.array([1,2,3,4])\n",
        "arr3.shape"
      ],
      "execution_count": null,
      "outputs": [
        {
          "output_type": "execute_result",
          "data": {
            "text/plain": [
              "(4,)"
            ]
          },
          "metadata": {},
          "execution_count": 12
        }
      ]
    },
    {
      "cell_type": "code",
      "metadata": {
        "colab": {
          "base_uri": "https://localhost:8080/"
        },
        "id": "38dgXJ3C1wDi",
        "outputId": "cc24e9c2-c59a-4c4b-cda7-89cf454408bc"
      },
      "source": [
        "arr2.shape"
      ],
      "execution_count": null,
      "outputs": [
        {
          "output_type": "execute_result",
          "data": {
            "text/plain": [
              "(2, 2)"
            ]
          },
          "metadata": {},
          "execution_count": 15
        }
      ]
    },
    {
      "cell_type": "markdown",
      "metadata": {
        "id": "yd60isKPjCuB"
      },
      "source": [
        "La forma `(4,)`, nos dice que `l` es un arreglo unidimensional, donde la dimensión tiene un rango 4. La dimensión y el número de elementos del arreglo se pueden obtener mediante los atributos `ndim` y `size`, respectivamente:"
      ]
    },
    {
      "cell_type": "code",
      "metadata": {
        "id": "zdrD74A-jGhR",
        "colab": {
          "base_uri": "https://localhost:8080/"
        },
        "outputId": "67e2e9e0-a929-4192-b1a8-539d702e6098"
      },
      "source": [
        "len(arr2)"
      ],
      "execution_count": null,
      "outputs": [
        {
          "output_type": "execute_result",
          "data": {
            "text/plain": [
              "2"
            ]
          },
          "metadata": {},
          "execution_count": 17
        }
      ]
    },
    {
      "cell_type": "code",
      "metadata": {
        "id": "NdvtadvbjKOH",
        "colab": {
          "base_uri": "https://localhost:8080/"
        },
        "outputId": "558733e8-dd32-43e8-b5cc-3f62f205f185"
      },
      "source": [
        "arr2.size"
      ],
      "execution_count": null,
      "outputs": [
        {
          "output_type": "execute_result",
          "data": {
            "text/plain": [
              "4"
            ]
          },
          "metadata": {},
          "execution_count": 18
        }
      ]
    },
    {
      "cell_type": "code",
      "metadata": {
        "id": "7pjljBLJcYrO",
        "colab": {
          "base_uri": "https://localhost:8080/"
        },
        "outputId": "7f2e9d70-4287-4f64-fc04-402c72e3b72c"
      },
      "source": [
        "arr2.ndim"
      ],
      "execution_count": null,
      "outputs": [
        {
          "output_type": "execute_result",
          "data": {
            "text/plain": [
              "2"
            ]
          },
          "metadata": {},
          "execution_count": 19
        }
      ]
    },
    {
      "cell_type": "markdown",
      "metadata": {
        "id": "BcNv1blEjN0X"
      },
      "source": [
        "Podemos modificar la forma del arreglo modificando el atributo shape:"
      ]
    },
    {
      "cell_type": "code",
      "metadata": {
        "id": "iv2T4d-cjO2J",
        "colab": {
          "base_uri": "https://localhost:8080/"
        },
        "outputId": "1b5bb68b-4a09-441f-af64-c536a22a52df"
      },
      "source": [
        "print(arr3)"
      ],
      "execution_count": null,
      "outputs": [
        {
          "output_type": "stream",
          "name": "stdout",
          "text": [
            "[1 2 3 4]\n"
          ]
        }
      ]
    },
    {
      "cell_type": "code",
      "metadata": {
        "id": "qv0SmUP7c3-l",
        "colab": {
          "base_uri": "https://localhost:8080/"
        },
        "outputId": "34ef3288-0e40-46fd-e945-0745c1187a8a"
      },
      "source": [
        "arr3.shape = (2,2)\n",
        "print(arr3)"
      ],
      "execution_count": null,
      "outputs": [
        {
          "output_type": "stream",
          "name": "stdout",
          "text": [
            "[[1 2]\n",
            " [3 4]]\n"
          ]
        }
      ]
    },
    {
      "cell_type": "markdown",
      "metadata": {
        "id": "Jn_0QNSHjlPY"
      },
      "source": [
        "Alternativamente, NumPy proporciona el método `reshape`, con el cual podemos cambiar la forma de un arreglo. Este toma como argumento el arreglo a modificar y un entero o tupla que represente la nueva forma. \n",
        "\n",
        "Esta nueva forma debe ser compatible con el número de elementos que tenga el arreglo. Cambiemos la forma de `l` para tener un vector fila:"
      ]
    },
    {
      "cell_type": "code",
      "metadata": {
        "id": "fGoTIUW0DZ_l",
        "colab": {
          "base_uri": "https://localhost:8080/"
        },
        "outputId": "8130800e-bb3f-4c8d-c92e-429065427fb6"
      },
      "source": [
        "arr2.reshape(4,)\n",
        "#print(arr2)"
      ],
      "execution_count": null,
      "outputs": [
        {
          "output_type": "execute_result",
          "data": {
            "text/plain": [
              "array([1, 2, 3, 4])"
            ]
          },
          "metadata": {},
          "execution_count": 24
        }
      ]
    },
    {
      "cell_type": "markdown",
      "metadata": {
        "id": "IPeVXHXZjrTO"
      },
      "source": [
        "NumPy nos permite pasar una de las dimensiones como `-1`. De esta manera, Numpy se encargará de que el rango en esa dimensión sea compatible con el arreglo original y con el rango de la dimensión que se fijó:"
      ]
    },
    {
      "cell_type": "code",
      "metadata": {
        "id": "tAkaZSHug3Lw",
        "colab": {
          "base_uri": "https://localhost:8080/"
        },
        "outputId": "a152f338-0386-4d47-b220-e47f86eff03f"
      },
      "source": [
        "np.array([i for i in range(1,7)]).reshape(3,2)"
      ],
      "execution_count": null,
      "outputs": [
        {
          "output_type": "execute_result",
          "data": {
            "text/plain": [
              "array([[1, 2],\n",
              "       [3, 4],\n",
              "       [5, 6]])"
            ]
          },
          "metadata": {},
          "execution_count": 26
        }
      ]
    },
    {
      "cell_type": "code",
      "metadata": {
        "id": "sWZJnig8jsGW",
        "colab": {
          "base_uri": "https://localhost:8080/"
        },
        "outputId": "8ef6a5f0-40a9-4b7c-e9c3-d662457ecd59"
      },
      "source": [
        "arr3 = arr3.reshape(4,)\n"
      ],
      "execution_count": null,
      "outputs": [
        {
          "output_type": "execute_result",
          "data": {
            "text/plain": [
              "array([1, 2, 3, 4])"
            ]
          },
          "metadata": {},
          "execution_count": 30
        }
      ]
    },
    {
      "cell_type": "code",
      "metadata": {
        "id": "2mezeZk6eayH",
        "colab": {
          "base_uri": "https://localhost:8080/"
        },
        "outputId": "03296d5c-6e7f-45ad-9e50-63e220d5e31e"
      },
      "source": [
        "arr3.reshape(1, 4)"
      ],
      "execution_count": null,
      "outputs": [
        {
          "output_type": "execute_result",
          "data": {
            "text/plain": [
              "array([[1, 2, 3, 4]])"
            ]
          },
          "metadata": {},
          "execution_count": 33
        }
      ]
    },
    {
      "cell_type": "code",
      "metadata": {
        "colab": {
          "base_uri": "https://localhost:8080/"
        },
        "id": "GCpYq_k43l2_",
        "outputId": "daa33d7f-1f45-4e95-ab51-4e37b56749bb"
      },
      "source": [
        "arr3.reshape(-1, 1)"
      ],
      "execution_count": null,
      "outputs": [
        {
          "output_type": "execute_result",
          "data": {
            "text/plain": [
              "array([[1],\n",
              "       [2],\n",
              "       [3],\n",
              "       [4]])"
            ]
          },
          "metadata": {},
          "execution_count": 38
        }
      ]
    },
    {
      "cell_type": "markdown",
      "metadata": {
        "id": "-OvIOX4zj2TO"
      },
      "source": [
        "## **Formas alternativas de construir arreglos:** \n",
        "\n",
        "NumPy proporciona formas alternativas de crear arreglos. Las funciones más comunes son `arange`, `linspace` `zeros`, `ones`, `full` y `empty`. "
      ]
    },
    {
      "cell_type": "markdown",
      "metadata": {
        "id": "9LRVTgs2hTYN"
      },
      "source": [
        "##**Tarea**\n",
        "\n",
        "Consultar cómo construir arreglos con números aleatorios. ¿Se puede construir un arreglo con números aleatorios que sigan una distribución normal, exponencial?"
      ]
    },
    {
      "cell_type": "markdown",
      "metadata": {
        "id": "JjxW0LPCkG-G"
      },
      "source": [
        "* La función `arange()` toma un inicio, final y un paso como la función `range()` de Python, excepto que devuelve un `ndarray` y que el paso puede ser un número real."
      ]
    },
    {
      "cell_type": "code",
      "metadata": {
        "id": "vCkbV5l6kLTX",
        "colab": {
          "base_uri": "https://localhost:8080/"
        },
        "outputId": "75306aec-82a6-4038-bf3e-53dd3832b4f3"
      },
      "source": [
        "np.arange(1, 10, 0.2)"
      ],
      "execution_count": null,
      "outputs": [
        {
          "output_type": "execute_result",
          "data": {
            "text/plain": [
              "array([1. , 1.2, 1.4, 1.6, 1.8, 2. , 2.2, 2.4, 2.6, 2.8, 3. , 3.2, 3.4,\n",
              "       3.6, 3.8, 4. , 4.2, 4.4, 4.6, 4.8, 5. , 5.2, 5.4, 5.6, 5.8, 6. ,\n",
              "       6.2, 6.4, 6.6, 6.8, 7. , 7.2, 7.4, 7.6, 7.8, 8. , 8.2, 8.4, 8.6,\n",
              "       8.8, 9. , 9.2, 9.4, 9.6, 9.8])"
            ]
          },
          "metadata": {},
          "execution_count": 43
        }
      ]
    },
    {
      "cell_type": "markdown",
      "metadata": {
        "id": "zeBulLrykGeD"
      },
      "source": [
        "- La función `linspace` crea una serie de puntos uniformemente entre un límite inferior y superior que incluye ambos extremos. Su sintáxis es de la forma:\n",
        "\n",
        "> \n",
        "    linspace(inicio, final, numero de puntos)"
      ]
    },
    {
      "cell_type": "code",
      "metadata": {
        "id": "IHfXdV-_kXjk",
        "colab": {
          "base_uri": "https://localhost:8080/"
        },
        "outputId": "c0bfe6ad-565f-4610-dd2e-5def0d7d9de4"
      },
      "source": [
        "np.linspace(1, 50, endpoint=True)"
      ],
      "execution_count": null,
      "outputs": [
        {
          "output_type": "execute_result",
          "data": {
            "text/plain": [
              "array([ 1.,  2.,  3.,  4.,  5.,  6.,  7.,  8.,  9., 10., 11., 12., 13.,\n",
              "       14., 15., 16., 17., 18., 19., 20., 21., 22., 23., 24., 25., 26.,\n",
              "       27., 28., 29., 30., 31., 32., 33., 34., 35., 36., 37., 38., 39.,\n",
              "       40., 41., 42., 43., 44., 45., 46., 47., 48., 49., 50.])"
            ]
          },
          "metadata": {},
          "execution_count": 49
        }
      ]
    },
    {
      "cell_type": "code",
      "metadata": {
        "id": "BAn4hcILjCnS",
        "colab": {
          "base_uri": "https://localhost:8080/"
        },
        "outputId": "f292cb7f-f174-4572-dcb7-e10698ad43d0"
      },
      "source": [
        "np.linspace(1, 50, 15, endpoint=True,retstep=True, dtype='float32')"
      ],
      "execution_count": null,
      "outputs": [
        {
          "output_type": "execute_result",
          "data": {
            "text/plain": [
              "(array([ 1. ,  4.5,  8. , 11.5, 15. , 18.5, 22. , 25.5, 29. , 32.5, 36. ,\n",
              "        39.5, 43. , 46.5, 50. ], dtype=float32), 3.5)"
            ]
          },
          "metadata": {},
          "execution_count": 54
        }
      ]
    },
    {
      "cell_type": "markdown",
      "metadata": {
        "id": "xN7t7lV_kaO7"
      },
      "source": [
        "- Las funciones `zeros()` y `ones()` toman un entero o una tupla de enteros como argumento y devuelven un `ndarray` cuya forma coincide con la de la tupla y cuyos elementos son cero o uno:"
      ]
    },
    {
      "cell_type": "code",
      "metadata": {
        "id": "u227SC6dkcEN",
        "colab": {
          "base_uri": "https://localhost:8080/"
        },
        "outputId": "1324118c-3f08-4dcd-c1ae-d970074f203c"
      },
      "source": [
        "np.zeros((2,3))"
      ],
      "execution_count": null,
      "outputs": [
        {
          "output_type": "execute_result",
          "data": {
            "text/plain": [
              "array([[0., 0., 0.],\n",
              "       [0., 0., 0.]])"
            ]
          },
          "metadata": {},
          "execution_count": 55
        }
      ]
    },
    {
      "cell_type": "code",
      "metadata": {
        "id": "1W_hZKHfkePe",
        "colab": {
          "base_uri": "https://localhost:8080/"
        },
        "outputId": "22e4f82d-a3e1-4370-a9b4-3716c3175f45"
      },
      "source": [
        "np.ones((5,2))"
      ],
      "execution_count": null,
      "outputs": [
        {
          "output_type": "execute_result",
          "data": {
            "text/plain": [
              "array([[1., 1.],\n",
              "       [1., 1.],\n",
              "       [1., 1.],\n",
              "       [1., 1.],\n",
              "       [1., 1.]])"
            ]
          },
          "metadata": {},
          "execution_count": 56
        }
      ]
    },
    {
      "cell_type": "markdown",
      "metadata": {
        "id": "n6qMLb1zkjO4"
      },
      "source": [
        "- La función `full()` funciona de manera similar a `zeros()` y `ones()`, solo que podemos llenar el arreglo con cualquier valor:"
      ]
    },
    {
      "cell_type": "code",
      "metadata": {
        "id": "U23eQk_ekj3E",
        "colab": {
          "base_uri": "https://localhost:8080/"
        },
        "outputId": "64664641-e6d0-4004-bb8e-22cac080a591"
      },
      "source": [
        "np.full((2,3),13)"
      ],
      "execution_count": null,
      "outputs": [
        {
          "output_type": "execute_result",
          "data": {
            "text/plain": [
              "array([[13, 13, 13],\n",
              "       [13, 13, 13]])"
            ]
          },
          "metadata": {},
          "execution_count": 58
        }
      ]
    },
    {
      "cell_type": "markdown",
      "metadata": {
        "id": "1MJPr6X84Pme"
      },
      "source": [
        "- La función `empty()`, por otro lado, asignará memoria sin asignarle ningún valor. Esto significa que el contenido de un arreglo vacío será lo que esté en la memoria en ese momento. Esto es particularmente útil cuando creamos un arreglo cuyos valores serán modificados posteriormente."
      ]
    },
    {
      "cell_type": "code",
      "metadata": {
        "id": "QEZOaCCZ4SZh",
        "colab": {
          "base_uri": "https://localhost:8080/"
        },
        "outputId": "47aa7fd6-2465-423a-8eff-ef42317ef923"
      },
      "source": [
        "np.empty((4,))"
      ],
      "execution_count": null,
      "outputs": [
        {
          "output_type": "execute_result",
          "data": {
            "text/plain": [
              "array([4.67862020e-310, 2.14321575e-312, 0.00000000e+000, 0.00000000e+000])"
            ]
          },
          "metadata": {},
          "execution_count": 59
        }
      ]
    },
    {
      "cell_type": "markdown",
      "metadata": {
        "id": "jfaapXg_nRMo"
      },
      "source": [
        "<p><a name=\"ope\"></a></p>\n",
        "\n",
        "# **Operaciones sobre los arreglos**\n",
        "\n",
        "Ahora que hemos visto cómo definir arreglos de NumPy, podemos discutir cómo realizar operaciones sobre los arreglos. La clave para hacer estas operaciones de una forma rápida y eficiente es usar operaciones **vectorizadas**, implementadas a través de las funciones universales de NumPy (ufuncs).\n",
        "\n",
        "Recordemos que la operación de sumar dos listas de Python resulta en la concatenación de dichas listas:\n",
        "\n"
      ]
    },
    {
      "cell_type": "code",
      "metadata": {
        "id": "4LZtf2OEnh_9",
        "colab": {
          "base_uri": "https://localhost:8080/"
        },
        "outputId": "a77266f3-3b98-4f85-ccf8-33ec4a826b19"
      },
      "source": [
        "l1 = [1, 2, 3, 4]\n",
        "l2 = [i for i in range(5,9)]\n",
        "print(l1 + l2)"
      ],
      "execution_count": null,
      "outputs": [
        {
          "output_type": "stream",
          "name": "stdout",
          "text": [
            "[1, 2, 3, 4, 5, 6, 7, 8]\n"
          ]
        }
      ]
    },
    {
      "cell_type": "markdown",
      "metadata": {
        "id": "H3ucSUHN7pQ8"
      },
      "source": [
        "Si quisieramos sumar elemento a elemento, debemos hacer explícito un ciclo `for` con la función `zip()` para dos variables de la siguiente manera (ver **Apéndice A**):"
      ]
    },
    {
      "cell_type": "code",
      "metadata": {
        "id": "53ldvSZ9lFmP",
        "colab": {
          "base_uri": "https://localhost:8080/"
        },
        "outputId": "bb083d0d-f0a3-4031-9e1a-d391f13370ca"
      },
      "source": [
        "l3 = []\n",
        "for i in range(len(l1)):\n",
        "  l3.append(l1[i] + l2[i])\n",
        "print(l3)"
      ],
      "execution_count": null,
      "outputs": [
        {
          "output_type": "stream",
          "name": "stdout",
          "text": [
            "[6, 8, 10, 12]\n"
          ]
        }
      ]
    },
    {
      "cell_type": "code",
      "metadata": {
        "colab": {
          "base_uri": "https://localhost:8080/"
        },
        "id": "HrBln7Ss7sk_",
        "outputId": "ebfce9b1-0e1a-40b2-d562-8ced76c2c4b9"
      },
      "source": [
        "for i in l1:\n",
        "  for j in l2:\n",
        "    print(i + j)"
      ],
      "execution_count": null,
      "outputs": [
        {
          "output_type": "stream",
          "name": "stdout",
          "text": [
            "6\n",
            "7\n",
            "8\n",
            "9\n",
            "7\n",
            "8\n",
            "9\n",
            "10\n",
            "8\n",
            "9\n",
            "10\n",
            "11\n",
            "9\n",
            "10\n",
            "11\n",
            "12\n"
          ]
        }
      ]
    },
    {
      "cell_type": "code",
      "metadata": {
        "id": "CDxSTUYslAY8",
        "colab": {
          "base_uri": "https://localhost:8080/"
        },
        "outputId": "265497c1-75aa-48ab-b1b1-a105a965e463"
      },
      "source": [
        "for i, j in zip(l1,l2):\n",
        "  print(i + j)"
      ],
      "execution_count": null,
      "outputs": [
        {
          "output_type": "stream",
          "name": "stdout",
          "text": [
            "6\n",
            "8\n",
            "10\n",
            "12\n"
          ]
        }
      ]
    },
    {
      "cell_type": "markdown",
      "metadata": {
        "id": "UaS38kSWn4pl"
      },
      "source": [
        "Si realizamos esta misma operación con arreglos de Numpy, obtendremos otra salida:"
      ]
    },
    {
      "cell_type": "code",
      "metadata": {
        "id": "9q3IZtF97gum",
        "colab": {
          "base_uri": "https://localhost:8080/"
        },
        "outputId": "d68bc0f7-8713-486a-9b3a-59968f233bef"
      },
      "source": [
        "arr1 = np.array(l1)\n",
        "arr2 = np.array(l2)\n",
        "\n",
        "print(arr1 + arr2)"
      ],
      "execution_count": null,
      "outputs": [
        {
          "output_type": "stream",
          "name": "stdout",
          "text": [
            "[ 6  8 10 12]\n"
          ]
        }
      ]
    },
    {
      "cell_type": "code",
      "metadata": {
        "id": "zoKWkWGuW7J6",
        "colab": {
          "base_uri": "https://localhost:8080/"
        },
        "outputId": "14953a50-9ee7-42c6-8c0f-0ed279733751"
      },
      "source": [
        "np.add(l1, l2)"
      ],
      "execution_count": null,
      "outputs": [
        {
          "output_type": "execute_result",
          "data": {
            "text/plain": [
              "array([ 6,  8, 10, 12])"
            ]
          },
          "metadata": {},
          "execution_count": 65
        }
      ]
    },
    {
      "cell_type": "code",
      "metadata": {
        "id": "cI_eeqL1mJz6",
        "colab": {
          "base_uri": "https://localhost:8080/"
        },
        "outputId": "eb915479-8b2b-4bed-e811-23886ba09137"
      },
      "source": [
        "np.add(arr1, arr2)"
      ],
      "execution_count": null,
      "outputs": [
        {
          "output_type": "execute_result",
          "data": {
            "text/plain": [
              "array([ 6,  8, 10, 12])"
            ]
          },
          "metadata": {},
          "execution_count": 66
        }
      ]
    },
    {
      "cell_type": "markdown",
      "metadata": {
        "id": "zKgpb0_qn-HU"
      },
      "source": [
        "Como los arreglos son de NumPy, se está realizando lo que se conoce como una operación **vectorizada**, la cual es una operación sobre los arreglos que se realiza **elemento a elemento**, mediante lo que conocemos como funciones universales (ufuncs) de Numpy. \n",
        "\n",
        "Las ufuncs de NumPy se sienten muy naturales de usar porque hacen uso de los operadores aritméticos nativos de Python. \n",
        "\n",
        "La siguiente tabla nos muestra algunas de las funciones universales disponibles en Numpy (ver [documentación](https://numpy.org/doc/stable/reference/ufuncs.html#ufunc))\n",
        "\n",
        "\n",
        "\n",
        "\n",
        "\n",
        " "
      ]
    },
    {
      "cell_type": "markdown",
      "metadata": {
        "id": "O30aQ1F3oDGJ"
      },
      "source": [
        "![picture](https://i.imgur.com/8HaZzxg.png)"
      ]
    },
    {
      "cell_type": "markdown",
      "metadata": {
        "id": "QRY6DxB2oE_b"
      },
      "source": [
        "Note que estas se muestran en dos versiones: mediante un operador y su correspondiente función universal. Por ejemplo `+` y `np.add`. Como en el ejemplo anterior, si los arreglos son de NumPy, el operador que utilicemos para realizar las operaciones representará la función universal. Si el arreglo no se define como uno de NumPy, y si queremos aplicar una función universal, debemos utilizar la forma explícita de la función universal"
      ]
    },
    {
      "cell_type": "markdown",
      "metadata": {
        "id": "y7KNncF9oRRY"
      },
      "source": [
        "En el caso de la multiplicacion en Python, la multiplicación de un número entero $n$ por una lista $l$, nos arroja una lista que contiene los elementos de $l$ $n$ veces:\n",
        "\n"
      ]
    },
    {
      "cell_type": "code",
      "metadata": {
        "id": "WUwzi26woNfP",
        "colab": {
          "base_uri": "https://localhost:8080/"
        },
        "outputId": "d53a80b6-a329-4703-9c95-e29dcebe14f5"
      },
      "source": [
        "n = 3\n",
        "\n",
        "print(l1 * n)"
      ],
      "execution_count": null,
      "outputs": [
        {
          "output_type": "stream",
          "name": "stdout",
          "text": [
            "[1, 2, 3, 4, 1, 2, 3, 4, 1, 2, 3, 4]\n"
          ]
        }
      ]
    },
    {
      "cell_type": "markdown",
      "metadata": {
        "id": "fcTyaQuqoXWD"
      },
      "source": [
        "Si quisieramos multiplicar el entero por cada uno de los elementos de la lista $l$ debemos incluir un ciclo for:"
      ]
    },
    {
      "cell_type": "code",
      "metadata": {
        "id": "eehb3jVroUXv",
        "colab": {
          "base_uri": "https://localhost:8080/"
        },
        "outputId": "efb7bb8f-4183-4497-baff-3fb1dada5b35"
      },
      "source": [
        "[n * elemento for elemento in l1]"
      ],
      "execution_count": null,
      "outputs": [
        {
          "output_type": "execute_result",
          "data": {
            "text/plain": [
              "[3, 6, 9, 12]"
            ]
          },
          "metadata": {},
          "execution_count": 70
        }
      ]
    },
    {
      "cell_type": "markdown",
      "metadata": {
        "id": "4On1dnhAocf1"
      },
      "source": [
        "Además, la operación de multiplicación entre listas no está definida:"
      ]
    },
    {
      "cell_type": "code",
      "metadata": {
        "id": "znHi4VqIoZIX",
        "colab": {
          "base_uri": "https://localhost:8080/"
        },
        "outputId": "81a0d046-8a04-4d4c-c2df-29b9f1129508"
      },
      "source": [
        "try:\n",
        "  print(l1 * l2)\n",
        "except:\n",
        "  print(\"Yo no sé multiplicar listas\")"
      ],
      "execution_count": null,
      "outputs": [
        {
          "output_type": "stream",
          "name": "stdout",
          "text": [
            "Yo no sé multiplicar listas\n"
          ]
        }
      ]
    },
    {
      "cell_type": "markdown",
      "metadata": {
        "id": "4bpFYr2aohJI"
      },
      "source": [
        "En NumPy, ambas operaciones se hacen de forma vectorizada:"
      ]
    },
    {
      "cell_type": "code",
      "metadata": {
        "id": "Blkne33JoeWH",
        "colab": {
          "base_uri": "https://localhost:8080/"
        },
        "outputId": "b411b9bd-0db1-45ea-ad21-27087561d2e3"
      },
      "source": [
        "n * arr1"
      ],
      "execution_count": null,
      "outputs": [
        {
          "output_type": "execute_result",
          "data": {
            "text/plain": [
              "array([ 3,  6,  9, 12])"
            ]
          },
          "metadata": {},
          "execution_count": 73
        }
      ]
    },
    {
      "cell_type": "code",
      "metadata": {
        "id": "ErVbZnjqok0Z",
        "colab": {
          "base_uri": "https://localhost:8080/"
        },
        "outputId": "31eef1ec-7ba9-43c3-d592-ac153de1a28f"
      },
      "source": [
        "np.multiply(n, arr1)"
      ],
      "execution_count": null,
      "outputs": [
        {
          "output_type": "execute_result",
          "data": {
            "text/plain": [
              "array([ 3,  6,  9, 12])"
            ]
          },
          "metadata": {},
          "execution_count": 74
        }
      ]
    },
    {
      "cell_type": "code",
      "metadata": {
        "colab": {
          "base_uri": "https://localhost:8080/"
        },
        "id": "DB8vZGfN9J0E",
        "outputId": "2fd62f30-54e9-4f47-e353-baedc6e4b38e"
      },
      "source": [
        "arr1 * arr2"
      ],
      "execution_count": null,
      "outputs": [
        {
          "output_type": "execute_result",
          "data": {
            "text/plain": [
              "array([ 5, 12, 21, 32])"
            ]
          },
          "metadata": {},
          "execution_count": 75
        }
      ]
    },
    {
      "cell_type": "code",
      "metadata": {
        "colab": {
          "base_uri": "https://localhost:8080/"
        },
        "id": "rpt7igpO9Kpk",
        "outputId": "5c0b65d9-0951-438b-896f-427fb696fad3"
      },
      "source": [
        "np.multiply(l1, l2)"
      ],
      "execution_count": null,
      "outputs": [
        {
          "output_type": "execute_result",
          "data": {
            "text/plain": [
              "array([ 5, 12, 21, 32])"
            ]
          },
          "metadata": {},
          "execution_count": 76
        }
      ]
    },
    {
      "cell_type": "markdown",
      "metadata": {
        "id": "-rfxd2U2oo_Y"
      },
      "source": [
        "Note que ambas operaciones se hacen elemento a elemento, caracteriztica de las operaciones vectorizadas implementadas a través de ufuncs. Note además, que en el caso de la multiplicación de arreglos, la salida no corresponde a lo que conocemos como producto punto. Para realizar esta operación, tanto en arreglos unidimensionales como n-dimensionales, podemos utilizar la función universal `np.dot` o su operador asociado `@`:"
      ]
    },
    {
      "cell_type": "code",
      "metadata": {
        "colab": {
          "base_uri": "https://localhost:8080/"
        },
        "id": "M2716q3p9nrE",
        "outputId": "a0c470d5-8724-4db4-b223-ed8135c4a26d"
      },
      "source": [
        "arr1.reshape(2,2)"
      ],
      "execution_count": null,
      "outputs": [
        {
          "output_type": "execute_result",
          "data": {
            "text/plain": [
              "array([[1, 2],\n",
              "       [3, 4]])"
            ]
          },
          "metadata": {},
          "execution_count": 79
        }
      ]
    },
    {
      "cell_type": "code",
      "metadata": {
        "id": "U1_Rn5l_om-e",
        "colab": {
          "base_uri": "https://localhost:8080/"
        },
        "outputId": "dc1092fa-139c-41c7-fdc5-7adf20a51ee6"
      },
      "source": [
        "id = np.array([[1, 0], [0, 1]])\n",
        "print(arr1.reshape(2,2) @ id)"
      ],
      "execution_count": null,
      "outputs": [
        {
          "output_type": "stream",
          "name": "stdout",
          "text": [
            "[[1 2]\n",
            " [3 4]]\n"
          ]
        }
      ]
    },
    {
      "cell_type": "code",
      "metadata": {
        "colab": {
          "base_uri": "https://localhost:8080/"
        },
        "id": "PWwREn-z9p5y",
        "outputId": "082523fc-f9e9-486e-9be5-f33a8e1d4d06"
      },
      "source": [
        "np.dot(arr1.reshape(2,2), id)"
      ],
      "execution_count": null,
      "outputs": [
        {
          "output_type": "execute_result",
          "data": {
            "text/plain": [
              "array([[1, 2],\n",
              "       [3, 4]])"
            ]
          },
          "metadata": {},
          "execution_count": 80
        }
      ]
    },
    {
      "cell_type": "markdown",
      "metadata": {
        "id": "blW_wxEMo2n_"
      },
      "source": [
        "Es importante mencionar que el uso de operaciones vectorizadas no solo significa la utilización de funciones universales para la realización de las operaciones elemento a elemento.\n",
        "\n",
        "En el contexto de lenguajes de alto nivel como Python, el término **vectorización** representa el uso de código optimizado y precompilado escrito en lenguajes de bajo nivel (por ejemplo C) para realizar operaciones matemáticas en una secuencia de datos. Esto se realiza en lugar de una iteración explicita escrita en código nativo, como ya vimos en el ejemplo de la multiplicacion, que hace que las operaciones sean más eficientes. \n",
        "\n",
        "**Ejercicio**\n",
        "\n",
        "Veamos un ejemplo con el cual se ilustra la eficiencia computacional que se alcanza con las operaciones vectorizadas de NumPy: Construyamos una función que calcule el recíproco de una lista"
      ]
    },
    {
      "cell_type": "code",
      "metadata": {
        "id": "Zn-mpy3uovu2",
        "colab": {
          "base_uri": "https://localhost:8080/"
        },
        "outputId": "cfd69a07-3769-41ab-db1b-3b93cf0d5fb4"
      },
      "source": [
        "def lista_reci(lista):\n",
        "  salida = []\n",
        "  for elemento in lista:\n",
        "    salida.append(1/elemento)\n",
        "  return salida\n",
        "\n",
        "lista_reci([1,2, 3])"
      ],
      "execution_count": null,
      "outputs": [
        {
          "output_type": "execute_result",
          "data": {
            "text/plain": [
              "[1.0, 0.5, 0.3333333333333333]"
            ]
          },
          "metadata": {},
          "execution_count": 81
        }
      ]
    },
    {
      "cell_type": "code",
      "metadata": {
        "id": "iN6Wod1Ml-2u"
      },
      "source": [
        "a = list(range(1,100000))"
      ],
      "execution_count": null,
      "outputs": []
    },
    {
      "cell_type": "code",
      "metadata": {
        "id": "UHJMir62qkG4",
        "colab": {
          "base_uri": "https://localhost:8080/"
        },
        "outputId": "e6374829-533f-4229-a968-7c674ec4a3fc"
      },
      "source": [
        "%timeit lista_reci(a)"
      ],
      "execution_count": null,
      "outputs": [
        {
          "output_type": "stream",
          "name": "stdout",
          "text": [
            "100 loops, best of 5: 12.9 ms per loop\n"
          ]
        }
      ]
    },
    {
      "cell_type": "markdown",
      "metadata": {
        "id": "msPOlCbpqyi5"
      },
      "source": [
        "La operación equivalente en NumPy, utilizando ufuncs, será:"
      ]
    },
    {
      "cell_type": "code",
      "metadata": {
        "id": "9TDHiCQEqonx"
      },
      "source": [
        "R = np.arange(1,100000)"
      ],
      "execution_count": null,
      "outputs": []
    },
    {
      "cell_type": "code",
      "metadata": {
        "id": "mDfJZbk3r9o7",
        "colab": {
          "base_uri": "https://localhost:8080/"
        },
        "outputId": "c9641814-76c7-4879-f447-bc17b4d19323"
      },
      "source": [
        "%timeit 1 /R"
      ],
      "execution_count": null,
      "outputs": [
        {
          "output_type": "stream",
          "name": "stdout",
          "text": [
            "1000 loops, best of 5: 207 µs per loop\n"
          ]
        }
      ]
    },
    {
      "cell_type": "markdown",
      "metadata": {
        "id": "XL-vRpQ8rC3Z"
      },
      "source": [
        "Note que hay tres ordenes de magnitud de diferencia en el tiempo de computo en ambas versiones. \n",
        "\n",
        "Resulta que el cuello de botella aquí no son las operaciones en sí mismas, sino la verificación de tipos y demás que Python debe hacer en cada ciclo. Cada vez que se calcula el recíproco, Python primero examina el tipo de objeto y realiza una búsqueda dinámica de la función correcta que se utilizará para ese tipo. Si estuviéramos trabajando en código compilado, esta especificación de tipo se conocería antes de que se ejecute el código y el resultado podría calcularse de manera mucho más eficiente.\n",
        "\n",
        "Los cálculos que usan vectorización a través de ufuncs son casi siempre más eficientes que su contraparte implementada a través de ciclos, especialmente a medida que los arreglos crecen en tamaño. Cada vez que se vea un ciclo de este tipo en Python, debe considerarse si este puede reemplazarse con una expresión vectorizada."
      ]
    },
    {
      "cell_type": "markdown",
      "metadata": {
        "id": "UELRD3TY0jAd"
      },
      "source": [
        "**Ejercicio:**  La serie de Leibniz  $$\\frac{\\pi}{4}=1-\\frac{1}{3}+\\frac{1}{5}-\\frac{1}{7} -\\frac{1}{9}+ \\cdot \\cdot \\cdot=\\sum_{n=0}^{\\infty} \\frac{(-1)^n}{2n+1}$$ La serie de Leibniz permite obtener un valor aproximado para el número $\\pi$. Escriba un programa en el que dado el número de términos de la sumatoria, se calcule y muestre el valor aproximado de $\\pi$. \n",
        "\n",
        " $$\\pi=4\\sum_{n=0}^{\\infty} \\frac{(-1)^n}{2n+1}$$"
      ]
    },
    {
      "cell_type": "markdown",
      "metadata": {
        "id": "kfYllNf-s8lK"
      },
      "source": [
        "$$\\sum_{n = 1}^{i} n ^2$$"
      ]
    },
    {
      "cell_type": "code",
      "metadata": {
        "id": "0ao1hId_vAUp"
      },
      "source": [
        "def suma_gauss(i = 100):\n",
        "  return sum(n ** 2 for n in range(1, i + 1))"
      ],
      "execution_count": null,
      "outputs": []
    },
    {
      "cell_type": "code",
      "metadata": {
        "id": "lUuGrSOso-by",
        "colab": {
          "base_uri": "https://localhost:8080/"
        },
        "outputId": "de6ec26c-532b-4ca6-f701-08e635663345"
      },
      "source": [
        "suma_gauss()"
      ],
      "execution_count": null,
      "outputs": [
        {
          "output_type": "execute_result",
          "data": {
            "text/plain": [
              "338350"
            ]
          },
          "metadata": {},
          "execution_count": 89
        }
      ]
    },
    {
      "cell_type": "code",
      "metadata": {
        "id": "aDzg6rF2paFd",
        "colab": {
          "base_uri": "https://localhost:8080/"
        },
        "outputId": "b38877d7-782a-46e5-d324-8a444e082d8b"
      },
      "source": [
        "def sumar(i):\n",
        "    return 4*sum(((-1) ** n)/(2*n+1) for n in range(0,i+1))\n",
        "\n",
        "print(sumar(100000))"
      ],
      "execution_count": null,
      "outputs": [
        {
          "output_type": "stream",
          "name": "stdout",
          "text": [
            "3.1416026534897203\n"
          ]
        }
      ]
    },
    {
      "cell_type": "code",
      "metadata": {
        "id": "1XUsYj5Lq84P",
        "colab": {
          "base_uri": "https://localhost:8080/"
        },
        "outputId": "295ca0a5-dbe7-4587-8f96-b346d8537577"
      },
      "source": [
        "def sumar_np(i):\n",
        "  n = np.arange(i+1)\n",
        "  return 4*np.sum(((-1) ** n)/(2*n+1) )\n",
        "\n",
        "print(sumar_np(100000))"
      ],
      "execution_count": null,
      "outputs": [
        {
          "output_type": "stream",
          "name": "stdout",
          "text": [
            "3.1416026534897927\n"
          ]
        }
      ]
    },
    {
      "cell_type": "code",
      "metadata": {
        "id": "-VOFUOucrAoQ",
        "colab": {
          "base_uri": "https://localhost:8080/"
        },
        "outputId": "27e893c4-2f43-4715-a68c-42cc3cdba0b9"
      },
      "source": [
        "%timeit sumar(100000)"
      ],
      "execution_count": null,
      "outputs": [
        {
          "output_type": "stream",
          "name": "stdout",
          "text": [
            "10 loops, best of 5: 42.4 ms per loop\n"
          ]
        }
      ]
    },
    {
      "cell_type": "code",
      "metadata": {
        "id": "1xup3gtb0tB-",
        "colab": {
          "base_uri": "https://localhost:8080/"
        },
        "outputId": "b5e9b603-8b95-4dc6-b5b2-d8bd5e8feaeb"
      },
      "source": [
        "%timeit sumar_np(100000)"
      ],
      "execution_count": null,
      "outputs": [
        {
          "output_type": "stream",
          "name": "stdout",
          "text": [
            "100 loops, best of 5: 6.94 ms per loop\n"
          ]
        }
      ]
    },
    {
      "cell_type": "markdown",
      "metadata": {
        "id": "0EETj9DjMES9"
      },
      "source": [
        "<p><a name=\"apeA\"></a></p>\n",
        "\n",
        "# **Apéndice A: Iteradores útiles**\n",
        "\n",
        "A menudo vamos a necesitar iterar los diferentes objetos de diversas formas, por lo que vamos a requerir de iteradores que nos permitan tener más libertad a la hora de definir las iteracions. Veamos algunos de estos iteradores disponibles en Python.\n",
        "\n",
        "Por ejemplo, si quisieramos iterar sobre una lista de manera que la variable de iteración corra de forma ordenada sobre los elementos, es decir, no sobre los elementos de acuerdo a su posición en la lista sino de acuerdo a su valor numérico, podemos utilizar el método `sorted` sobre la lista:"
      ]
    },
    {
      "cell_type": "code",
      "metadata": {
        "id": "vr92oF7uxe91"
      },
      "source": [
        "l1 = [1,2,3,4]\n",
        "l2 = [5,6,7,8]"
      ],
      "execution_count": null,
      "outputs": []
    },
    {
      "cell_type": "code",
      "metadata": {
        "id": "_iXf4g3FyZD_"
      },
      "source": [
        "print(list(zip(l1,l2)))"
      ],
      "execution_count": null,
      "outputs": []
    },
    {
      "cell_type": "code",
      "metadata": {
        "id": "-E9Puze9x8TN"
      },
      "source": [
        "for i, j in zip(l1, l2):\n",
        "  print(i ,j)"
      ],
      "execution_count": null,
      "outputs": []
    },
    {
      "cell_type": "code",
      "metadata": {
        "id": "h48Az-tuxuEo"
      },
      "source": [
        "for i in range(1, 5):\n",
        "  for j in range(5, 9):\n",
        "    print( i+ j)"
      ],
      "execution_count": null,
      "outputs": []
    },
    {
      "cell_type": "code",
      "metadata": {
        "id": "QY2LlZ9s0vzq"
      },
      "source": [
        "L = [5, 2, 7, 1]\n",
        "\n",
        "for i in sorted(L):\n",
        "  print(i)"
      ],
      "execution_count": null,
      "outputs": []
    },
    {
      "cell_type": "markdown",
      "metadata": {
        "id": "MH9hJrfBMPZ2"
      },
      "source": [
        "Ahora, supongamos que necesitamos iterar sobre los elementos de una lista y además tener registro del índice del elemento. Podríamos escribir algo como:\n"
      ]
    },
    {
      "cell_type": "code",
      "metadata": {
        "id": "W0VCzhWAMRBI"
      },
      "source": [
        "L = range(4,8)\n",
        "\n",
        "for i in range(len(L)):\n",
        "  print(f\"indice: {i} valor: {L[i]}\")"
      ],
      "execution_count": null,
      "outputs": []
    },
    {
      "cell_type": "markdown",
      "metadata": {
        "id": "49SF7S5RMT9z"
      },
      "source": [
        "Podemos realizar esta iteración utilizando el iterador `enumerate`, que produce un generador de tuplas con los índices y valores de la lista:"
      ]
    },
    {
      "cell_type": "code",
      "metadata": {
        "id": "NNyGsvrcMVjD"
      },
      "source": [
        "list(enumerate(L))"
      ],
      "execution_count": null,
      "outputs": []
    },
    {
      "cell_type": "code",
      "metadata": {
        "id": "SoM3qr8GMXUt"
      },
      "source": [
        "for i, valor in enumerate(L):\n",
        "  print(f\"indice: {i} valor: {valor}\")"
      ],
      "execution_count": null,
      "outputs": []
    },
    {
      "cell_type": "markdown",
      "metadata": {
        "id": "AoECMCfzMbXS"
      },
      "source": [
        "En otras ocaciones, vamos a querer iterar sobre varias listas simultáneamente. Una forma directa de hacerlo sería iterando sobre el índice de las listas \n"
      ]
    },
    {
      "cell_type": "code",
      "metadata": {
        "id": "thL4up0vMdeu"
      },
      "source": [
        "l = range(2,4)\n",
        "r = range(6,8)\n",
        "\n",
        "for i in range(len(l)):\n",
        "  print(f\"l_val: {l[i]}, r_val: {r[i]}\")"
      ],
      "execution_count": null,
      "outputs": []
    },
    {
      "cell_type": "markdown",
      "metadata": {
        "id": "eWF2PRhoMhmp"
      },
      "source": [
        "Si, por ejemplo, cambiaramos la longitud de `l`, obtendríamos un error"
      ]
    },
    {
      "cell_type": "code",
      "metadata": {
        "id": "s6yh2USPMjyH"
      },
      "source": [
        "l = range(2,5)\n",
        "r = range(6,8)\n",
        "\n",
        "for i in range(len(l)):\n",
        "  print(f\"l_val: {l[i]}, r_val: {r[i]}\")"
      ],
      "execution_count": null,
      "outputs": []
    },
    {
      "cell_type": "markdown",
      "metadata": {
        "id": "7Xh60ILJMlwo"
      },
      "source": [
        "esta iteración se puede llevar a cabo mediante el iterador `zip`, que permite iterar sobre varios objetos iterables simultáneamente:"
      ]
    },
    {
      "cell_type": "code",
      "metadata": {
        "id": "M9WudlDDxMNC"
      },
      "source": [
        "type(range(10))"
      ],
      "execution_count": null,
      "outputs": []
    },
    {
      "cell_type": "code",
      "metadata": {
        "id": "0eG2LGenMnLX"
      },
      "source": [
        "list(zip(l, r))"
      ],
      "execution_count": null,
      "outputs": []
    },
    {
      "cell_type": "code",
      "metadata": {
        "id": "h5rPei4WMok3"
      },
      "source": [
        "for lval, rval in zip(l, r):\n",
        "  print(f\"l_val: {lval}, r_val: {rval}\")"
      ],
      "execution_count": null,
      "outputs": []
    },
    {
      "cell_type": "markdown",
      "metadata": {
        "id": "BqRyQf19MqK8"
      },
      "source": [
        "`zip` produce un generador de tuplas obtenidas a partir de los objetos iterables que pasemos como argumento. Tenga en cuenta que el iterador admite diferentes objetos para la iteración "
      ]
    },
    {
      "cell_type": "code",
      "metadata": {
        "id": "AgIaH1DRMrpv"
      },
      "source": [
        "for i,j in zip(range(3), \"abc\"):\n",
        "  print(i,j)"
      ],
      "execution_count": null,
      "outputs": []
    },
    {
      "cell_type": "markdown",
      "metadata": {
        "id": "T0HzaHY3Mtdh"
      },
      "source": [
        "así como objetos de tamaños diferentes"
      ]
    },
    {
      "cell_type": "code",
      "metadata": {
        "id": "Zc8HlQG0MvaK"
      },
      "source": [
        "for i,j,k in zip((1,2,3), \"abc\", [4,5,6,7]):\n",
        "  print(i,j,k)"
      ],
      "execution_count": null,
      "outputs": []
    },
    {
      "cell_type": "markdown",
      "metadata": {
        "id": "Zx9IWN5zMw7N"
      },
      "source": [
        "Note que las tuplas se producen con una longitud tal que coincida con el número de elementos del objeto de menor longitud."
      ]
    }
  ]
}