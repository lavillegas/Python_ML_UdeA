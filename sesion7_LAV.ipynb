{
  "nbformat": 4,
  "nbformat_minor": 0,
  "metadata": {
    "colab": {
      "name": "sesion7.ipynb",
      "provenance": [],
      "collapsed_sections": [],
      "include_colab_link": true
    },
    "kernelspec": {
      "name": "python3",
      "display_name": "Python 3"
    }
  },
  "cells": [
    {
      "cell_type": "markdown",
      "metadata": {
        "id": "view-in-github",
        "colab_type": "text"
      },
      "source": [
        "<a href=\"https://colab.research.google.com/github/lavillegas/Python_ML_UdeA/blob/main/sesion7_LAV.ipynb\" target=\"_parent\"><img src=\"https://colab.research.google.com/assets/colab-badge.svg\" alt=\"Open In Colab\"/></a>"
      ]
    },
    {
      "cell_type": "markdown",
      "metadata": {
        "id": "guIPjdo3SHak"
      },
      "source": [
        "<p><img alt=\"Colaboratory logo\" height=\"140px\" src=\"https://upload.wikimedia.org/wikipedia/commons/archive/f/fb/20161010213812%21Escudo-UdeA.svg\" align=\"left\" hspace=\"10px\" vspace=\"0px\"></p>\n",
        "\n",
        "# **Diplomado de Análisis de datos y Machine Learning en Python**\n",
        "\n",
        "\n",
        "El presente diplomado hace parte del centro de Big Data de la facultad de ciencias exactas y naturales (FCEN) de la Universidad de Antioquia.\n",
        "\n",
        "## **Sesión 7**\n",
        "\n",
        "## **Contenido**\n",
        "\n",
        "- <a href=\"#con\"> Concatenación de arreglos</a><br> \n",
        "- <a href=\"#ind\"> Indexación y segmentación</a><br>\n",
        "- <a href=\"#enm\"> Enmascaramiento\n",
        "- <a href=\"#sof\"> Indexación sofisticada</a><br></a><br>\n",
        "\n",
        "\n",
        "\n",
        "\n",
        "\n"
      ]
    },
    {
      "cell_type": "markdown",
      "metadata": {
        "id": "TL2iIrOSr-vS"
      },
      "source": [
        "# **Concatenación de arreglos**\n",
        "\n",
        "\n",
        "La concatenación, o unión de dos arreglos en NumPy, se realiza principalmente a través de la función `concatenate`:"
      ]
    },
    {
      "cell_type": "code",
      "metadata": {
        "id": "30pTH355WHzt",
        "outputId": "e7537b3a-ef77-409c-978a-fa9da5e4c2eb",
        "colab": {
          "base_uri": "https://localhost:8080/"
        }
      },
      "source": [
        "x = [1,2,3]\n",
        "y = [4, 5, 6]\n",
        "print(x+y)"
      ],
      "execution_count": 1,
      "outputs": [
        {
          "output_type": "stream",
          "name": "stdout",
          "text": [
            "[1, 2, 3, 4, 5, 6]\n"
          ]
        }
      ]
    },
    {
      "cell_type": "code",
      "metadata": {
        "id": "Uz_G-Xb4sBYh",
        "outputId": "2f391381-e0eb-4c33-a411-09fe62c73c97",
        "colab": {
          "base_uri": "https://localhost:8080/"
        }
      },
      "source": [
        "import numpy as np\n",
        "xa = np.array(x)\n",
        "ya = np.array(y)\n",
        "np.concatenate((xa, ya))"
      ],
      "execution_count": 4,
      "outputs": [
        {
          "output_type": "execute_result",
          "data": {
            "text/plain": [
              "array([1, 2, 3, 4, 5, 6])"
            ]
          },
          "metadata": {},
          "execution_count": 4
        }
      ]
    },
    {
      "cell_type": "markdown",
      "metadata": {
        "id": "zcNOU4kSsC1b"
      },
      "source": [
        "Podemos concatenar más de dos arreglos al tiempo:"
      ]
    },
    {
      "cell_type": "code",
      "metadata": {
        "id": "K7f86U0GsEIW",
        "outputId": "1054b592-63d9-4ab5-bb90-95ea3f67dcb6",
        "colab": {
          "base_uri": "https://localhost:8080/"
        }
      },
      "source": [
        "az = np.array([7,8,9])\n",
        "\n",
        "np.concatenate([xa, ya, az])"
      ],
      "execution_count": 5,
      "outputs": [
        {
          "output_type": "execute_result",
          "data": {
            "text/plain": [
              "array([1, 2, 3, 4, 5, 6, 7, 8, 9])"
            ]
          },
          "metadata": {},
          "execution_count": 5
        }
      ]
    },
    {
      "cell_type": "markdown",
      "metadata": {
        "id": "VPqoXckzsGa-"
      },
      "source": [
        "`concatenate` también se puede usar para arreglos bidimensionales. Recuerde que las filas corresponden al eje 1 (axis = 1) y las columnas al eje 0 (axis = 0)\n",
        "\n",
        "\n",
        "<p><img alt=\"Colaboratory logo\" height=\"300px\" src=\"https://i.imgur.com/KYPgvhf.png\" align=\"left\" hspace=\"10px\" vspace=\"0px\"></p>"
      ]
    },
    {
      "cell_type": "code",
      "metadata": {
        "id": "rAFfAXkIsG96",
        "outputId": "f81bbf31-8a0d-409c-8516-a5cf63bb7f57",
        "colab": {
          "base_uri": "https://localhost:8080/"
        }
      },
      "source": [
        "a = np.arange(8,14).reshape(3,2)\n",
        "print(a)"
      ],
      "execution_count": 6,
      "outputs": [
        {
          "output_type": "stream",
          "name": "stdout",
          "text": [
            "[[ 8  9]\n",
            " [10 11]\n",
            " [12 13]]\n"
          ]
        }
      ]
    },
    {
      "cell_type": "code",
      "metadata": {
        "id": "Q25jz3A3sSwA",
        "outputId": "76f4acfa-d57f-48f5-e03c-386198890184",
        "colab": {
          "base_uri": "https://localhost:8080/"
        }
      },
      "source": [
        "np.concatenate((a, a) ,axis = 0 ) "
      ],
      "execution_count": 7,
      "outputs": [
        {
          "output_type": "execute_result",
          "data": {
            "text/plain": [
              "array([[ 8,  9],\n",
              "       [10, 11],\n",
              "       [12, 13],\n",
              "       [ 8,  9],\n",
              "       [10, 11],\n",
              "       [12, 13]])"
            ]
          },
          "metadata": {},
          "execution_count": 7
        }
      ]
    },
    {
      "cell_type": "markdown",
      "metadata": {
        "id": "RzHXLfyOsUvW"
      },
      "source": [
        "Si queremos realizar la concatenación a lo largo del eje 1, debemos especificar el eje por medio de un argumento por palabra clave:"
      ]
    },
    {
      "cell_type": "code",
      "metadata": {
        "id": "VLr5NQ4ksWXQ",
        "outputId": "076afcf4-afb2-4cc1-8653-9ac2b50066ac",
        "colab": {
          "base_uri": "https://localhost:8080/"
        }
      },
      "source": [
        "np.concatenate((a, a) ,axis = 1 ) "
      ],
      "execution_count": 8,
      "outputs": [
        {
          "output_type": "execute_result",
          "data": {
            "text/plain": [
              "array([[ 8,  9,  8,  9],\n",
              "       [10, 11, 10, 11],\n",
              "       [12, 13, 12, 13]])"
            ]
          },
          "metadata": {},
          "execution_count": 8
        }
      ]
    },
    {
      "cell_type": "markdown",
      "metadata": {
        "id": "MZE1_jAJsYle"
      },
      "source": [
        "La función `vstack()` es equivalente a la concatenación a lo largo del primer eje (axis=0). Al igual que `concatenate()`, recibe como argumento una secuencia de arreglos que, en este caso, deben tener la misma forma a lo largo de todos los ejes, excepto el primero. Los arreglos unidimensionales deben tener la misma longitud:"
      ]
    },
    {
      "cell_type": "code",
      "metadata": {
        "id": "ksN9Gjr3sZM_",
        "outputId": "b450d6b4-4cbe-492d-fdf2-b686dfc93074",
        "colab": {
          "base_uri": "https://localhost:8080/"
        }
      },
      "source": [
        "a = np.array([1,2,3])\n",
        "b = np.array([[3,4,5], \n",
        "             [6,7,8]])\n",
        "print(a)\n",
        "print(b)\n",
        "\n",
        "np.vstack([a,b])"
      ],
      "execution_count": 11,
      "outputs": [
        {
          "output_type": "stream",
          "name": "stdout",
          "text": [
            "[1 2 3]\n",
            "[[3 4 5]\n",
            " [6 7 8]]\n"
          ]
        },
        {
          "output_type": "execute_result",
          "data": {
            "text/plain": [
              "array([[1, 2, 3],\n",
              "       [3, 4, 5],\n",
              "       [6, 7, 8]])"
            ]
          },
          "metadata": {},
          "execution_count": 11
        }
      ]
    },
    {
      "cell_type": "code",
      "metadata": {
        "id": "x3_6Q_2FscYp"
      },
      "source": [
        "a = np.array([[1],[2]])\n",
        "b = np.array([[3], [4]])    "
      ],
      "execution_count": 12,
      "outputs": []
    },
    {
      "cell_type": "code",
      "metadata": {
        "id": "Nt3cnr7Sseuw",
        "outputId": "383d7d7d-7750-4624-fcbf-97d778de3754",
        "colab": {
          "base_uri": "https://localhost:8080/"
        }
      },
      "source": [
        "np.vstack([a,b])"
      ],
      "execution_count": 13,
      "outputs": [
        {
          "output_type": "execute_result",
          "data": {
            "text/plain": [
              "array([[1],\n",
              "       [2],\n",
              "       [3],\n",
              "       [4]])"
            ]
          },
          "metadata": {},
          "execution_count": 13
        }
      ]
    },
    {
      "cell_type": "markdown",
      "metadata": {
        "id": "rNg0TU0asy7E"
      },
      "source": [
        "Similarmente, la función `hstack()` realiza una concatenación a lo largo del segundo eje (axis=1), y los arreglos que toma como argumento deben coincidir en la forma a lo largo de este eje. Los arreglos unidimensionales pueden ser de cualquier longitud"
      ]
    },
    {
      "cell_type": "code",
      "metadata": {
        "id": "KF_CvPe0s0n7",
        "outputId": "fe75a70a-66dc-4550-d743-cf5f2cb5e5a2",
        "colab": {
          "base_uri": "https://localhost:8080/"
        }
      },
      "source": [
        "a = np.array([1,2,3])\n",
        "b = np.arange(4,8)\n",
        "\n",
        "print(a.shape, b.shape)\n",
        "\n",
        "try:\n",
        "  np.vstack([a,b])\n",
        "except Exception as e:\n",
        "  print(e)"
      ],
      "execution_count": 16,
      "outputs": [
        {
          "output_type": "stream",
          "name": "stdout",
          "text": [
            "(3,) (4,)\n",
            "all the input array dimensions for the concatenation axis must match exactly, but along dimension 1, the array at index 0 has size 3 and the array at index 1 has size 4\n"
          ]
        }
      ]
    },
    {
      "cell_type": "code",
      "metadata": {
        "id": "rX6Xkep0s26E",
        "outputId": "2c7b3fe4-00bf-479d-863a-e67617874b44",
        "colab": {
          "base_uri": "https://localhost:8080/"
        }
      },
      "source": [
        "a = np.arange(1,5).reshape(2,2)\n",
        "b = np.arange(5,11).reshape(2,3)\n",
        "print(a.shape, b.shape)\n",
        "np.hstack([a,b])"
      ],
      "execution_count": 18,
      "outputs": [
        {
          "output_type": "stream",
          "name": "stdout",
          "text": [
            "(2, 2) (2, 3)\n"
          ]
        },
        {
          "output_type": "execute_result",
          "data": {
            "text/plain": [
              "array([[ 1,  2,  5,  6,  7],\n",
              "       [ 3,  4,  8,  9, 10]])"
            ]
          },
          "metadata": {},
          "execution_count": 18
        }
      ]
    },
    {
      "cell_type": "markdown",
      "metadata": {
        "id": "5OoDp82DSLz7"
      },
      "source": [
        "<p><a name=\"ind\"></a></p>\n",
        "\n",
        "# **Indexación y segmentación**\n",
        "\n",
        "Los arreglos de NumPy tienen la misma semántica de indexación y segmentación que las listas de Python cuando se trata de acceder a elementos o subarreglos. \n",
        "\n",
        "\n"
      ]
    },
    {
      "cell_type": "code",
      "metadata": {
        "id": "_2_lSiHvR999",
        "outputId": "b26d9ea6-24f6-4443-86c2-54970f6853d7",
        "colab": {
          "base_uri": "https://localhost:8080/"
        }
      },
      "source": [
        "a = np.arange(9)\n",
        "print(f\"a: {a}\")\n",
        "print(f\"a[2]: {a[2]}\") # Indexación\n",
        "print(f\"a[1:4]: {a[1:4]}\") # Segmentación"
      ],
      "execution_count": 19,
      "outputs": [
        {
          "output_type": "stream",
          "name": "stdout",
          "text": [
            "a: [0 1 2 3 4 5 6 7 8]\n",
            "a[2]: 2\n",
            "a[1:4]: [1 2 3]\n"
          ]
        }
      ]
    },
    {
      "cell_type": "markdown",
      "metadata": {
        "id": "-3pHD5tKTCLn"
      },
      "source": [
        "Debido a que los arreglos de NumPy son n-dimensionales, podemos segmentar a lo largo de todos y cada uno de los ejes. Consideremos la siguiente lista de listas en Python"
      ]
    },
    {
      "cell_type": "code",
      "metadata": {
        "id": "1ytHY5PwTD4f"
      },
      "source": [
        "L = [[1,2,3], [4,5,6], [7,8,9]]"
      ],
      "execution_count": 20,
      "outputs": []
    },
    {
      "cell_type": "markdown",
      "metadata": {
        "id": "8z8_19cnTGlH"
      },
      "source": [
        "Por ejemplo, si queremos crear una lista de Python que contenga todas las filas y las primeras dos columnas de la lista L podríamos escribir"
      ]
    },
    {
      "cell_type": "code",
      "metadata": {
        "id": "Qjkk0-MdTI6U",
        "outputId": "777b8509-d1f6-4c35-f89d-bc31a40f0f3f",
        "colab": {
          "base_uri": "https://localhost:8080/"
        }
      },
      "source": [
        "[element[:2] for element in L]"
      ],
      "execution_count": 21,
      "outputs": [
        {
          "output_type": "execute_result",
          "data": {
            "text/plain": [
              "[[1, 2], [4, 5], [7, 8]]"
            ]
          },
          "metadata": {},
          "execution_count": 21
        }
      ]
    },
    {
      "cell_type": "markdown",
      "metadata": {
        "id": "8_atGVc5TM__"
      },
      "source": [
        "El número de ciclos `for` anidados que se necesita para segmentar listas de listas es igual al número de dimensiones menos uno (en este caso $2-1=1$). \n",
        "\n",
        "En NumPy, en lugar de indexar por un segmento, podemos indexar por una tupla de segmentos, cada uno de los cuales actúa en sus propias dimensiones. Definamos el arreglo `L` con NumPy y realicemos la segmentación anterior:\n"
      ]
    },
    {
      "cell_type": "code",
      "metadata": {
        "id": "kqTeXNAuTNjD"
      },
      "source": [
        "L = np.array(L) "
      ],
      "execution_count": 22,
      "outputs": []
    },
    {
      "cell_type": "code",
      "metadata": {
        "id": "i2A0j-1GTO7t",
        "outputId": "741a8702-c0e9-4819-a312-e91d0b707410",
        "colab": {
          "base_uri": "https://localhost:8080/"
        }
      },
      "source": [
        "L[:,:2]"
      ],
      "execution_count": 23,
      "outputs": [
        {
          "output_type": "execute_result",
          "data": {
            "text/plain": [
              "array([[1, 2],\n",
              "       [4, 5],\n",
              "       [7, 8]])"
            ]
          },
          "metadata": {},
          "execution_count": 23
        }
      ]
    },
    {
      "cell_type": "markdown",
      "metadata": {
        "id": "1Yn9MMLfTkv2"
      },
      "source": [
        "Los ciclos `for` para la segmentación multidimensional son manejados implícitamente por NumPy. Esto hace que realizar segmentaciones complejas sea mucho más rápido que escribir los ciclos `for` explícitamente en Python. Veamos algunos ejemplos:"
      ]
    },
    {
      "cell_type": "code",
      "metadata": {
        "id": "_FI0H0UrTRUm"
      },
      "source": [
        "a = np.arange(1,17).reshape(4,4)"
      ],
      "execution_count": 24,
      "outputs": []
    },
    {
      "cell_type": "code",
      "metadata": {
        "id": "CpT39DIrTpYJ",
        "outputId": "a20915e8-0123-44c2-fdb4-6622e66bc95f",
        "colab": {
          "base_uri": "https://localhost:8080/"
        }
      },
      "source": [
        "# Primera fila\n",
        "a[0]"
      ],
      "execution_count": 25,
      "outputs": [
        {
          "output_type": "execute_result",
          "data": {
            "text/plain": [
              "array([1, 2, 3, 4])"
            ]
          },
          "metadata": {},
          "execution_count": 25
        }
      ]
    },
    {
      "cell_type": "code",
      "metadata": {
        "id": "Th1ugrBuTqzE",
        "outputId": "384af4ad-ba3a-40f1-ca98-19450a6e22e9",
        "colab": {
          "base_uri": "https://localhost:8080/"
        }
      },
      "source": [
        "# Primera columna\n",
        "a[:,0]"
      ],
      "execution_count": 26,
      "outputs": [
        {
          "output_type": "execute_result",
          "data": {
            "text/plain": [
              "array([ 1,  5,  9, 13])"
            ]
          },
          "metadata": {},
          "execution_count": 26
        }
      ]
    },
    {
      "cell_type": "code",
      "metadata": {
        "id": "2StElYzbTrzk",
        "outputId": "c825c54c-cdd0-49a2-a105-bf8f484c8b59",
        "colab": {
          "base_uri": "https://localhost:8080/"
        }
      },
      "source": [
        "# filas pares y columnas impares\n",
        "a[::2, 1::2]"
      ],
      "execution_count": 27,
      "outputs": [
        {
          "output_type": "execute_result",
          "data": {
            "text/plain": [
              "array([[ 2,  4],\n",
              "       [10, 12]])"
            ]
          },
          "metadata": {},
          "execution_count": 27
        }
      ]
    },
    {
      "cell_type": "code",
      "metadata": {
        "id": "eLuGgkGjTs8S",
        "outputId": "aa7e6f29-3ba1-4b81-82c1-53a196f4a0a1",
        "colab": {
          "base_uri": "https://localhost:8080/"
        }
      },
      "source": [
        "# Matriz interna\n",
        "a[1:3, 1:3]"
      ],
      "execution_count": 29,
      "outputs": [
        {
          "output_type": "execute_result",
          "data": {
            "text/plain": [
              "array([[ 6,  7],\n",
              "       [10, 11]])"
            ]
          },
          "metadata": {},
          "execution_count": 29
        }
      ]
    },
    {
      "cell_type": "code",
      "metadata": {
        "id": "2jad8UutTueC",
        "outputId": "4716a1d8-86ba-463a-e843-ea4ea1d9afcd",
        "colab": {
          "base_uri": "https://localhost:8080/"
        }
      },
      "source": [
        "# Invertir 3 primeras filas tomando 3 primeras columnas\n",
        "a[2::-1, :3]"
      ],
      "execution_count": 30,
      "outputs": [
        {
          "output_type": "execute_result",
          "data": {
            "text/plain": [
              "array([[ 9, 10, 11],\n",
              "       [ 5,  6,  7],\n",
              "       [ 1,  2,  3]])"
            ]
          },
          "metadata": {},
          "execution_count": 30
        }
      ]
    },
    {
      "cell_type": "markdown",
      "metadata": {
        "id": "yEZpoKy_U9on"
      },
      "source": [
        "**Ejercicio 1**: Escriba un programa para crear un nuevo arreglo que sea el promedio de cada triplete consecutivo de elementos del siguiente arreglo\n",
        "\n",
        "<p><img alt=\"Colaboratory logo\" height=\"70px\" src=\"https://i.imgur.com/XoHovZd.png\" align=\"left\" hspace=\"10px\" vspace=\"0px\"></p>"
      ]
    },
    {
      "cell_type": "code",
      "metadata": {
        "id": "QNCPB_Y-VAui",
        "outputId": "c0928db7-a30b-43d7-86c9-f5876ae9d079",
        "colab": {
          "base_uri": "https://localhost:8080/"
        }
      },
      "source": [
        "Ej = np.array([1, 2, 3, 2, 4, 6, 1,2, 12, 0, -12, 6])\n",
        "print(Ej)"
      ],
      "execution_count": 31,
      "outputs": [
        {
          "output_type": "stream",
          "name": "stdout",
          "text": [
            "[  1   2   3   2   4   6   1   2  12   0 -12   6]\n"
          ]
        }
      ]
    },
    {
      "cell_type": "code",
      "metadata": {
        "id": "uAYPhMAITuB4",
        "outputId": "28556062-012e-4f04-c171-6862f29a874f",
        "colab": {
          "base_uri": "https://localhost:8080/"
        }
      },
      "source": [
        "np.mean(Ej.reshape(4,3), axis=1) # Promedio por filas (axis=1)\n"
      ],
      "execution_count": 33,
      "outputs": [
        {
          "output_type": "execute_result",
          "data": {
            "text/plain": [
              "array([ 2.,  4.,  5., -2.])"
            ]
          },
          "metadata": {},
          "execution_count": 33
        }
      ]
    },
    {
      "cell_type": "markdown",
      "metadata": {
        "id": "H_gSDAOvUPOO"
      },
      "source": [
        "<p><a name=\"enm\"></a></p>\n",
        "\n",
        "## **Enmascaramiento**\n",
        "\n",
        "El enmascaramiento aparece cuando deseamos extraer, modificar, o manipular valores en un arreglo de acuerdo con algún criterio.\n",
        "\n",
        "Ya vimos cómo utilizar ufuncs para operaciones aritméticas básicas y otro tipo de operaciones más complejas. NumPy implementa también operadores de comparación como ufuncs:"
      ]
    },
    {
      "cell_type": "code",
      "metadata": {
        "id": "VVuxGalrTvjC",
        "outputId": "726044d9-4ecd-4797-f88e-1ee95b83dec5",
        "colab": {
          "base_uri": "https://localhost:8080/"
        }
      },
      "source": [
        "x = np.arange(0,9).reshape(3,3)\n",
        "print(x)"
      ],
      "execution_count": 34,
      "outputs": [
        {
          "output_type": "stream",
          "name": "stdout",
          "text": [
            "[[0 1 2]\n",
            " [3 4 5]\n",
            " [6 7 8]]\n"
          ]
        }
      ]
    },
    {
      "cell_type": "code",
      "metadata": {
        "id": "sWHELIYFUaZ8",
        "outputId": "0416f0e7-349b-4bec-bd17-7f7f64358a65",
        "colab": {
          "base_uri": "https://localhost:8080/"
        }
      },
      "source": [
        " x > 6"
      ],
      "execution_count": 35,
      "outputs": [
        {
          "output_type": "execute_result",
          "data": {
            "text/plain": [
              "array([[False, False, False],\n",
              "       [False, False, False],\n",
              "       [False,  True,  True]])"
            ]
          },
          "metadata": {},
          "execution_count": 35
        }
      ]
    },
    {
      "cell_type": "markdown",
      "metadata": {
        "id": "vXHEYVLkUeBa"
      },
      "source": [
        "El resultado es un arreglo booleano. Dado un arreglo booleano, hay una serie de operaciones útiles que podemos implementar. \n",
        "\n",
        "Podemos utilizar la función `np.sum` junto con los operadores de comparación para realizar conteos dentro del arreglo:"
      ]
    },
    {
      "cell_type": "code",
      "metadata": {
        "id": "uozlXFWHUcdX",
        "outputId": "a725ac02-4259-4f68-ebd8-6cd4158d2cf1",
        "colab": {
          "base_uri": "https://localhost:8080/"
        }
      },
      "source": [
        "np.sum(x>6)"
      ],
      "execution_count": 36,
      "outputs": [
        {
          "output_type": "execute_result",
          "data": {
            "text/plain": [
              "2"
            ]
          },
          "metadata": {},
          "execution_count": 36
        }
      ]
    },
    {
      "cell_type": "markdown",
      "metadata": {
        "id": "oVPqEJ-JUhso"
      },
      "source": [
        "Con `np.sum` podemos realizar este tipo de conteos a lo largo de las filas o columnas, utilizando el argumento por palabra clave `axis`:"
      ]
    },
    {
      "cell_type": "code",
      "metadata": {
        "id": "04aIRcFfUhQX",
        "outputId": "f35e9597-7826-4bb1-8be9-43d1c1d4ee5d",
        "colab": {
          "base_uri": "https://localhost:8080/"
        }
      },
      "source": [
        "np.sum(x>6, axis=1)"
      ],
      "execution_count": 37,
      "outputs": [
        {
          "output_type": "execute_result",
          "data": {
            "text/plain": [
              "array([0, 0, 2])"
            ]
          },
          "metadata": {},
          "execution_count": 37
        }
      ]
    },
    {
      "cell_type": "code",
      "metadata": {
        "id": "QHUMFUXRUjnx",
        "outputId": "ad838477-581c-480e-963e-5d7971af5997",
        "colab": {
          "base_uri": "https://localhost:8080/"
        }
      },
      "source": [
        "np.sum(x>6, axis=0)"
      ],
      "execution_count": 38,
      "outputs": [
        {
          "output_type": "execute_result",
          "data": {
            "text/plain": [
              "array([0, 1, 1])"
            ]
          },
          "metadata": {},
          "execution_count": 38
        }
      ]
    },
    {
      "cell_type": "markdown",
      "metadata": {
        "id": "C-t07HoyUl_p"
      },
      "source": [
        "Podemos también tener múltiples condiciones en un conteo, utilizando los operadores lógicos `&` (and) y `|` (or)"
      ]
    },
    {
      "cell_type": "code",
      "metadata": {
        "id": "prKpmML_UkpK",
        "outputId": "b2b415f8-7866-4d5b-ad80-ae876040ea94",
        "colab": {
          "base_uri": "https://localhost:8080/"
        }
      },
      "source": [
        "np.sum((x > 1) & (x < 5))"
      ],
      "execution_count": 41,
      "outputs": [
        {
          "output_type": "execute_result",
          "data": {
            "text/plain": [
              "3"
            ]
          },
          "metadata": {},
          "execution_count": 41
        }
      ]
    },
    {
      "cell_type": "code",
      "metadata": {
        "id": "0U2206s0UpKm",
        "outputId": "d430bcb5-919d-42b8-aa8f-ad12bf4c1d4d",
        "colab": {
          "base_uri": "https://localhost:8080/"
        }
      },
      "source": [
        "np.sum((x>6) | (x<2))"
      ],
      "execution_count": 42,
      "outputs": [
        {
          "output_type": "execute_result",
          "data": {
            "text/plain": [
              "4"
            ]
          },
          "metadata": {},
          "execution_count": 42
        }
      ]
    },
    {
      "cell_type": "markdown",
      "metadata": {
        "id": "jjAJOIelUt2w"
      },
      "source": [
        "Una herramienta muy poderosa es usar los arreglos booleanos como máscaras, para seleccionar subconjuntos particulares de los datos mismos. \n",
        "\n",
        "Volviendo a nuestra arreglo `x` anterior, supongamos que queremos un arreglo de todos los valores en `x` que sean menores que, digamos, 5. Para seleccionar estos valores del arreglo, simplemente podemos indexar con este arreglo booleano; esto se conoce como una operación de enmascaramiento:"
      ]
    },
    {
      "cell_type": "code",
      "metadata": {
        "id": "6qgYD78ZZg-9",
        "outputId": "f712a46c-bbfa-4bb9-9e8f-e20be61422d3",
        "colab": {
          "base_uri": "https://localhost:8080/"
        }
      },
      "source": [
        "np.prod((x>6) | (x<2))"
      ],
      "execution_count": 43,
      "outputs": [
        {
          "output_type": "execute_result",
          "data": {
            "text/plain": [
              "0"
            ]
          },
          "metadata": {},
          "execution_count": 43
        }
      ]
    },
    {
      "cell_type": "code",
      "metadata": {
        "id": "dSUH38jQZvw7",
        "outputId": "c9f19a34-07a9-4a35-9169-d17f6490e7d2",
        "colab": {
          "base_uri": "https://localhost:8080/"
        }
      },
      "source": [
        "x[x>6]"
      ],
      "execution_count": 44,
      "outputs": [
        {
          "output_type": "execute_result",
          "data": {
            "text/plain": [
              "array([7, 8])"
            ]
          },
          "metadata": {},
          "execution_count": 44
        }
      ]
    },
    {
      "cell_type": "code",
      "metadata": {
        "id": "-liexEjCUpxO"
      },
      "source": [
        ""
      ],
      "execution_count": null,
      "outputs": []
    },
    {
      "cell_type": "markdown",
      "metadata": {
        "id": "nA9nv0TWUxCI"
      },
      "source": [
        "Lo que se devuelve es un arreglo unidimensional con todos los valores que cumplen la condición; en otras palabras, todos los valores en las posiciones en las que el arreglo de máscara es `True`."
      ]
    },
    {
      "cell_type": "markdown",
      "metadata": {
        "id": "CyRtn9p6n4jl"
      },
      "source": [
        "**Ejercicio 2:** Escriba una función que, dado un número entero `n`, muestre:\n",
        "\n",
        "* Un arreglo con los primeros números pares hasta `n`.\n",
        "* Un arreglo con los primeros números múltiplos de tres hasta `n`."
      ]
    },
    {
      "cell_type": "code",
      "metadata": {
        "id": "jrEWPzNZn4C3",
        "outputId": "03b3359e-d903-4b22-d9a5-a27b944371ab",
        "colab": {
          "base_uri": "https://localhost:8080/"
        }
      },
      "source": [
        "def arreglos(n):\n",
        "  a = np.arange(1,n+1)\n",
        "  pares = a[a % 2 == 0]\n",
        "  mul3 = a[a % 3 == 0]\n",
        "  print(f\"Los pares hasta {n} son: {pares}\")\n",
        "  print(f\"Los multiplos de 3 hasta {n} son: {mul3}\")\n",
        "\n",
        "arreglos(11)"
      ],
      "execution_count": 45,
      "outputs": [
        {
          "output_type": "stream",
          "name": "stdout",
          "text": [
            "Los pares hasta 11 son: [ 2  4  6  8 10]\n",
            "Los multiplos de 3 hasta 11 son: [3 6 9]\n"
          ]
        }
      ]
    },
    {
      "cell_type": "markdown",
      "metadata": {
        "id": "1W5g7B-kUzzY"
      },
      "source": [
        "**Ejercicio 3:** Escribir un programa que lea `n` números enteros, calcule y muestre la suma de los pares y el producto de los impares."
      ]
    },
    {
      "cell_type": "code",
      "metadata": {
        "id": "Tnr_GC3AdgwV"
      },
      "source": [
        "def F(n):\n",
        "  arr = np.array([int(input(\"Ingres un entero \")) for i in range(n)])\n",
        "  sum_par = np.sum(arr[arr % 2 == 0])\n",
        "  prod_imp = np.prod(arr[arr % 2 != 0])\n",
        "  print(f\"el arreglo de numeros enteros es {arr}, la suma de los pares es: {sum_par} y el producto de los impares es: {prod_imp}\")\n"
      ],
      "execution_count": 51,
      "outputs": []
    },
    {
      "cell_type": "code",
      "metadata": {
        "id": "XlTLY7TUaEJP",
        "outputId": "61a1fbe6-a5b8-4799-a463-9083cb9b2e06",
        "colab": {
          "base_uri": "https://localhost:8080/"
        }
      },
      "source": [
        "F(4)"
      ],
      "execution_count": 52,
      "outputs": [
        {
          "output_type": "stream",
          "name": "stdout",
          "text": [
            "Ingres un entero 4\n",
            "Ingres un entero 3\n",
            "Ingres un entero 2\n",
            "Ingres un entero 1\n",
            "el arreglo de numeros enteros es [4 3 2 1], la suma de los pares es: 6 y el producto de los impares es: 3\n"
          ]
        }
      ]
    },
    {
      "cell_type": "code",
      "metadata": {
        "id": "7I65RO5YUvlo"
      },
      "source": [
        ""
      ],
      "execution_count": null,
      "outputs": []
    },
    {
      "cell_type": "markdown",
      "metadata": {
        "id": "hLAwh9cHWewl"
      },
      "source": [
        "<p><a name=\"sof\"></a></p>\n",
        "\n",
        "# **Indexación sofisticada**\n",
        "\n",
        "Anteriormente vimos cómo acceder y modificar porciones de arreglos usando índices simples (por ejemplo, `arr[0]`), segmentos (por ejemplo, `arr[: 5]`) y máscaras booleanas (por ejemplo, `arr[arr> 0]`). Veremos ahora otro estilo de indexación de arreglos, conocido como *indexación sofisticada*, la cual nos permite acceder y modificar muy rápidamente subconjuntos complicados de los valores de un arreglo.\n",
        "\n",
        "La indexación sofisticada es conceptualmente simple: significa pasar una lista de índices en lugar de un entero, para acceder a múltiples elementos del arreglo a la vez. Veamos un ejemplo:"
      ]
    },
    {
      "cell_type": "code",
      "metadata": {
        "id": "7jlRBNX1WoKL",
        "outputId": "507f4f80-9819-4ab3-c9c4-2f5eb4c93f88",
        "colab": {
          "base_uri": "https://localhost:8080/"
        }
      },
      "source": [
        "a = np.arange(0,100,10)\n",
        "print(a)"
      ],
      "execution_count": 56,
      "outputs": [
        {
          "output_type": "stream",
          "name": "stdout",
          "text": [
            "[ 0 10 20 30 40 50 60 70 80 90]\n"
          ]
        }
      ]
    },
    {
      "cell_type": "code",
      "metadata": {
        "id": "6xTl6MX0Wt1a",
        "outputId": "b2e59046-8cba-4f42-b8e0-0d094fdad816",
        "colab": {
          "base_uri": "https://localhost:8080/"
        }
      },
      "source": [
        "np.array([a[1], a[3], a[7]])"
      ],
      "execution_count": 57,
      "outputs": [
        {
          "output_type": "execute_result",
          "data": {
            "text/plain": [
              "array([10, 30, 70])"
            ]
          },
          "metadata": {},
          "execution_count": 57
        }
      ]
    },
    {
      "cell_type": "code",
      "metadata": {
        "id": "L_2zmfWBWvQ_",
        "outputId": "0a30e519-718b-4775-9e73-ce538c1daa16",
        "colab": {
          "base_uri": "https://localhost:8080/"
        }
      },
      "source": [
        "indices = [1, 3, 7]\n",
        "\n",
        "a[indices]"
      ],
      "execution_count": 58,
      "outputs": [
        {
          "output_type": "execute_result",
          "data": {
            "text/plain": [
              "array([10, 30, 70])"
            ]
          },
          "metadata": {},
          "execution_count": 58
        }
      ]
    },
    {
      "cell_type": "markdown",
      "metadata": {
        "id": "ZO2EuXhtWz7J"
      },
      "source": [
        "Con el indexado sofisticado, la forma del resultado refleja la forma del arreglo de índices más que la forma del arreglo que se está indexando:"
      ]
    },
    {
      "cell_type": "code",
      "metadata": {
        "id": "nOAWL1uxWxnA",
        "outputId": "a71c2175-ee37-46a0-c836-5c6dd250710a",
        "colab": {
          "base_uri": "https://localhost:8080/"
        }
      },
      "source": [
        "indi = np.array([[3,7], [5,4]])\n",
        "\n",
        "a[indi]"
      ],
      "execution_count": 59,
      "outputs": [
        {
          "output_type": "execute_result",
          "data": {
            "text/plain": [
              "array([[30, 70],\n",
              "       [50, 40]])"
            ]
          },
          "metadata": {},
          "execution_count": 59
        }
      ]
    },
    {
      "cell_type": "code",
      "metadata": {
        "id": "nyPpXUySW1sX",
        "outputId": "85ce1625-509d-4419-ddd9-2c1da836c8aa",
        "colab": {
          "base_uri": "https://localhost:8080/"
        }
      },
      "source": [
        "a = np.arange(1, 13).reshape(3,4)\n",
        "print(a)"
      ],
      "execution_count": 60,
      "outputs": [
        {
          "output_type": "stream",
          "name": "stdout",
          "text": [
            "[[ 1  2  3  4]\n",
            " [ 5  6  7  8]\n",
            " [ 9 10 11 12]]\n"
          ]
        }
      ]
    },
    {
      "cell_type": "markdown",
      "metadata": {
        "id": "xDL95LxEW9Ga"
      },
      "source": [
        "El indexado sofisticado funciona también en múltiples dimensiones. Veámoslo en el siguiente ejemplo:"
      ]
    },
    {
      "cell_type": "code",
      "metadata": {
        "id": "gxoO0ii-W3MX",
        "outputId": "c5d49a9b-5297-4be5-a1cb-0654598f731a",
        "colab": {
          "base_uri": "https://localhost:8080/"
        }
      },
      "source": [
        "fila = [0,1,2]\n",
        "columna = [2,1,3]\n",
        "\n",
        "print(a[fila,columna])"
      ],
      "execution_count": 61,
      "outputs": [
        {
          "output_type": "stream",
          "name": "stdout",
          "text": [
            "[ 3  6 12]\n"
          ]
        }
      ]
    },
    {
      "cell_type": "markdown",
      "metadata": {
        "id": "qjcf6cTeXEQj"
      },
      "source": [
        "Como en la indexación estándar, el primer índice hace referencia a las filas y el segundo a las columnas:"
      ]
    },
    {
      "cell_type": "code",
      "metadata": {
        "id": "pDNq6310XC3k"
      },
      "source": [
        ""
      ],
      "execution_count": null,
      "outputs": []
    },
    {
      "cell_type": "markdown",
      "metadata": {
        "id": "svQbapXQXNwa"
      },
      "source": [
        "Los valores el en arreglo corresponden a `a[0,2]`, `a[1,1]` y `a[2,3]` respectivamente. "
      ]
    }
  ]
}