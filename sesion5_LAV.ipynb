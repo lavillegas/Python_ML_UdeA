{
  "nbformat": 4,
  "nbformat_minor": 0,
  "metadata": {
    "colab": {
      "name": "sesion5.ipynb",
      "provenance": [],
      "collapsed_sections": [],
      "include_colab_link": true
    },
    "kernelspec": {
      "name": "python3",
      "display_name": "Python 3"
    }
  },
  "cells": [
    {
      "cell_type": "markdown",
      "metadata": {
        "id": "view-in-github",
        "colab_type": "text"
      },
      "source": [
        "<a href=\"https://colab.research.google.com/github/lavillegas/Python_ML_UdeA/blob/main/sesion5_LAV.ipynb\" target=\"_parent\"><img src=\"https://colab.research.google.com/assets/colab-badge.svg\" alt=\"Open In Colab\"/></a>"
      ]
    },
    {
      "cell_type": "markdown",
      "metadata": {
        "id": "n_x1aqGyE3NV"
      },
      "source": [
        "<p><img alt=\"Colaboratory logo\" height=\"140px\" src=\"https://upload.wikimedia.org/wikipedia/commons/archive/f/fb/20161010213812%21Escudo-UdeA.svg\" align=\"left\" hspace=\"10px\" vspace=\"0px\"></p>\n",
        "\n",
        "# **Diplomado de Análisis de datos y Machine Learning en Python**\n",
        "\n",
        "\n",
        "El presente diplomado hace parte del centro de Big Data de la facultad de ciencias exactas y naturales (FCEN) de la Universidad de Antioquia.\n",
        "\n",
        "## **Sesión 5**\n",
        "\n",
        "## **Contenido**\n",
        "  \n",
        "- <a href=\"#fun\"> Funciones</a><br>\n",
        "- <a href=\"#arg\"> Argumentos de la función</a><br>\n",
        "  - <a href=\"#req\"> Argumentos requeridos</a><br>\n",
        "  - <a href=\"#pre\"> Argumentos predeterminados</a><br>\n",
        "  - <a href=\"#lon\"> Argumentos de longitud variable</a><br>\n",
        "- <a href=\"#lam\"> Funciones anónimas</a><br>\n",
        "\n",
        "\n",
        "\n",
        "\n"
      ]
    },
    {
      "cell_type": "markdown",
      "metadata": {
        "id": "76BDLG7hE5sW"
      },
      "source": [
        "<p><a name=\"fun\"></a></p>\n",
        "\n",
        "# **Funciones**\n",
        "\n",
        "Hasta ahora, nuestros programas han sido bloques de código simples y de un solo uso. Una forma de organizar nuestro código de Python y hacerlo más legible y reutilizable es descomponer piezas útiles en funciones reutilizables. Ya hemos visto funciones antes. Por ejemplo, `print()` es una función:"
      ]
    },
    {
      "cell_type": "code",
      "metadata": {
        "id": "YcVlO57REma2",
        "colab": {
          "base_uri": "https://localhost:8080/"
        },
        "outputId": "98866c26-4168-4572-c2a4-5b15bbdb7470"
      },
      "source": [
        "print(\"abc\")"
      ],
      "execution_count": null,
      "outputs": [
        {
          "output_type": "stream",
          "name": "stdout",
          "text": [
            "abc\n"
          ]
        }
      ]
    },
    {
      "cell_type": "markdown",
      "metadata": {
        "id": "D4vRwfbSLA5O"
      },
      "source": [
        "aquí `print` es el nombre de la función, y `\"abc\"` es el *argumento* de la función. Adicionalmente, existen los *argumentos por palabra clave* (keyword arguments o kwargs) que se especifican por el nombre. Por ejemplo, un kwarg disponible para la función `print` es `end` que controla qué caracter añadir al final del último valor "
      ]
    },
    {
      "cell_type": "code",
      "metadata": {
        "id": "vEhd-2aCK_aC",
        "outputId": "e3626d88-aa4e-45e1-c370-fd5658720db5",
        "colab": {
          "base_uri": "https://localhost:8080/"
        }
      },
      "source": [
        "print(1,2,3, end=\".\")"
      ],
      "execution_count": 1,
      "outputs": [
        {
          "output_type": "stream",
          "name": "stdout",
          "text": [
            "1 2 3."
          ]
        }
      ]
    },
    {
      "cell_type": "markdown",
      "metadata": {
        "id": "_PncQbyBLE2Q"
      },
      "source": [
        "o el kwarg `sep`, que controla qué caracter utilizar para separar los diferentes valores"
      ]
    },
    {
      "cell_type": "code",
      "metadata": {
        "id": "-V_sd1LnLFL7",
        "outputId": "4c32aad1-5734-45c5-c95f-e8bd393393df",
        "colab": {
          "base_uri": "https://localhost:8080/"
        }
      },
      "source": [
        "print(1,2,3, sep=\"-\", end=\".\")"
      ],
      "execution_count": 4,
      "outputs": [
        {
          "output_type": "stream",
          "name": "stdout",
          "text": [
            "1-2-3."
          ]
        }
      ]
    },
    {
      "cell_type": "markdown",
      "metadata": {
        "id": "DwORKluJLMop"
      },
      "source": [
        "Las funciones se vuelven aún más útiles cuando comenzamos a definir las nuestras. La sintáxis general para crear una función es la siguiente\n",
        "\n",
        ">  \n",
        "\n",
        "    def Funcion( argumentos ):\n",
        "\n",
        "      sentencia(s) \n",
        "            \n",
        "      return expresion\n",
        "    \n",
        "     \n",
        "* Los bloques de funciones comienzan con la palabra clave `def` seguida del nombre de la función y paréntesis ().\n",
        "* Cualquier parámetro o argumento de entrada debe colocarse entre los paréntesis.\n",
        "* El bloque de código dentro de cada función comienza con dos puntos (:) y está indentado.\n",
        "* La declaración final `return expresion` es opcional. Al incluirla, una vez se llame la función, esta tomará el valor definido en `expresion`.\n",
        "\n",
        "Por ejemplo, podemos definir la función $f(x)=x^2$ en Python como:"
      ]
    },
    {
      "cell_type": "code",
      "metadata": {
        "id": "pxojrLEtLHDd"
      },
      "source": [
        "def cuadrado(x):\n",
        "  cuadrado = x**2\n",
        "  return cuadrado"
      ],
      "execution_count": 5,
      "outputs": []
    },
    {
      "cell_type": "markdown",
      "metadata": {
        "id": "0xz8apSyLY73"
      },
      "source": [
        "y la podemos llamar de la siguiente manera"
      ]
    },
    {
      "cell_type": "code",
      "metadata": {
        "id": "AhRSQY6mHcJl",
        "outputId": "1f1b2f43-2f39-480f-a14d-7103ef175bc3",
        "colab": {
          "base_uri": "https://localhost:8080/"
        }
      },
      "source": [
        "cuadrado(3)"
      ],
      "execution_count": 6,
      "outputs": [
        {
          "output_type": "execute_result",
          "data": {
            "text/plain": [
              "9"
            ]
          },
          "metadata": {},
          "execution_count": 6
        }
      ]
    },
    {
      "cell_type": "code",
      "metadata": {
        "id": "GdB4WLfXLXoN",
        "outputId": "75658b74-03a5-4f8c-8c09-f2a9f026969e",
        "colab": {
          "base_uri": "https://localhost:8080/"
        }
      },
      "source": [
        "cuadrado(10)"
      ],
      "execution_count": 7,
      "outputs": [
        {
          "output_type": "execute_result",
          "data": {
            "text/plain": [
              "100"
            ]
          },
          "metadata": {},
          "execution_count": 7
        }
      ]
    },
    {
      "cell_type": "code",
      "metadata": {
        "id": "ecQf8wwqHaS5"
      },
      "source": [
        "def multiplicar_por_3(F,x):\n",
        "  y = 3 * F(x)\n",
        "  return y\n",
        "# F(x) llama a cualquier función ya creada"
      ],
      "execution_count": 8,
      "outputs": []
    },
    {
      "cell_type": "code",
      "metadata": {
        "id": "4JgXGhnGGrps",
        "outputId": "98df36e6-dd80-41e5-bc26-41468e95a093",
        "colab": {
          "base_uri": "https://localhost:8080/"
        }
      },
      "source": [
        "multiplicar_por_3(cuadrado,2)"
      ],
      "execution_count": 9,
      "outputs": [
        {
          "output_type": "execute_result",
          "data": {
            "text/plain": [
              "12"
            ]
          },
          "metadata": {},
          "execution_count": 9
        }
      ]
    },
    {
      "cell_type": "markdown",
      "metadata": {
        "id": "yXi0a3qkLdMe"
      },
      "source": [
        "La posibilidad de definir nuestras propias funciones nos ayudará de diversas maneras:\n",
        "\n",
        "* Cuando estemos escribiendo un programa y veamos que estamos escribiendo el mismo código más de una vez, probablemente sea mejor definir una función con el código repetido. Luego podremos llamar a la función tantas veces como sea necesario en lugar de reescribir el código una y otra vez. Es importante que evitemos escribir el mismo código más de una vez en nuestros programas.\n",
        "\n",
        "* Si escribimos el mismo código más de una vez y cometemos un error, debemos corregir ese error en cada lugar donde copiamos el código. Si por el contrario, tenemos el código en un solo lugar, definido en una función, podremos resolver el error solo en este lugar y olvidarnos del resto de lugares. \n",
        "\n",
        "  Si cometemos un error al escribir una función, y luego corregimos el código en la función, habremos corregido automáticamente el código en cada lugar que utiliza la función. Este principio de programación modular es un concepto muy importante.\n",
        "\n",
        "* Las funciones también ayudan a que nuestro código sea más fácil de leer. Cuando usamos buenos nombres para las variables y funciones en nuestros programas, podemos leer el código y comprender lo que hemos escrito, no solo mientras lo escribimos, sino tiempo después, cuando necesitemos mirar el código que escribimos nuevamente. \n",
        "\n",
        "Las funciones son pues una forma de organizar nuestro código y hacerlo más legible y reutilizable. Cuando escribamos una función debemos tener presentes los siguientes puntos:\n",
        "\n",
        " * ¿Cómo deberíamos llamar nuestra función? Deberíamos darle un nombre que tenga sentido y describa lo que hace la función. Como una función hace algo, el nombre de una función suele ser un verbo o una descripción de lo que devuelve la función. Puede ser una palabra o varias palabras.\n",
        " * ¿Qué debemos pasarle a nuestra función? En otras palabras, ¿qué argumentos pasaremos a la función? Al pensar en argumentos para pasarle a una función, debemos pensar cómo se usará la función y qué argumentos la harían más útil.\n",
        " * ¿Qué debe hacer la función? ¿Cual es su propósito? La función debe tener un propósito claramente definido. ¿Debería devolver un valor particular o debería realizar alguna tarea secundaria?\n",
        " * Finalmente, ¿qué debe devolver nuestra función? Se debe considerar el tipo y el valor a devolver. Si la función va a devolver un valor, debebemos decidir qué tipo de valor deberá devolver.\n",
        " \n",
        "Al considerar estas preguntas y responderlas, podemos asegurarnos de que nuestras funciones tengan sentido antes de escribirlas.\n"
      ]
    },
    {
      "cell_type": "markdown",
      "metadata": {
        "id": "zDzz3yI3LjgV"
      },
      "source": [
        "<p><a name=\"arg\"></a></p>\n",
        "\n",
        "# **Argumentos de la función**\n",
        "\n",
        "Podemos llamar una función utilizando los siguientes tipos de argumentos formales:\n",
        "\n",
        "* Argumentos requeridos.\n",
        "* Argumentos predeterminados.\n",
        "* Argumentos de longitud variable."
      ]
    },
    {
      "cell_type": "code",
      "metadata": {
        "id": "dyGi25h0Jkpv"
      },
      "source": [
        "def cuadratica(a,b,c):\n",
        "  x1 = (-b+(b**2 - 4*a*c)**0.5)/(2*a)\n",
        "  x2 = (-b-(b**2 - 4*a*c)**0.5)/(2*a)\n",
        "  return x1, x2"
      ],
      "execution_count": 10,
      "outputs": []
    },
    {
      "cell_type": "code",
      "metadata": {
        "id": "-xczEjX3gmYX",
        "outputId": "97e7c019-fb31-4102-b329-9c6a61af8b20",
        "colab": {
          "base_uri": "https://localhost:8080/"
        }
      },
      "source": [
        "cuadratica(1,3,5)"
      ],
      "execution_count": 11,
      "outputs": [
        {
          "output_type": "execute_result",
          "data": {
            "text/plain": [
              "((-1.5+1.6583123951777j), (-1.5-1.6583123951777j))"
            ]
          },
          "metadata": {},
          "execution_count": 11
        }
      ]
    },
    {
      "cell_type": "code",
      "metadata": {
        "id": "2Jd3wsd3h6w0"
      },
      "source": [
        "# Funciones sin argumentos\n",
        "def saludo():\n",
        "  print(\"Hola\")"
      ],
      "execution_count": 12,
      "outputs": []
    },
    {
      "cell_type": "code",
      "metadata": {
        "id": "9iPbIABgiG6b",
        "outputId": "43d95251-0916-4971-f91f-8e5971095987",
        "colab": {
          "base_uri": "https://localhost:8080/"
        }
      },
      "source": [
        "saludo()"
      ],
      "execution_count": 13,
      "outputs": [
        {
          "output_type": "stream",
          "name": "stdout",
          "text": [
            "Hola\n"
          ]
        }
      ]
    },
    {
      "cell_type": "markdown",
      "metadata": {
        "id": "YgpN3fCELlkP"
      },
      "source": [
        "<p><a name=\"req\"></a></p>\n",
        "\n",
        "## **Argumentos requeridos**\n",
        "\n",
        "Los argumentos requeridos son argumentos pasados a una función, que tienen un carácter obligatorio y se dan en el **orden posicional correcto**. Veamos un ejemplo: creemos una función que, dados dos parámetros, nos devuelva la resta de estos:"
      ]
    },
    {
      "cell_type": "code",
      "metadata": {
        "id": "jSu30nQbLbG9",
        "outputId": "c5cf6f3a-c2d7-4828-819b-5f851590c321",
        "colab": {
          "base_uri": "https://localhost:8080/"
        }
      },
      "source": [
        "def resta(a,b):\n",
        "  return b -a\n",
        "\n",
        "resta(2,3)"
      ],
      "execution_count": 15,
      "outputs": [
        {
          "output_type": "execute_result",
          "data": {
            "text/plain": [
              "1"
            ]
          },
          "metadata": {},
          "execution_count": 15
        }
      ]
    },
    {
      "cell_type": "code",
      "metadata": {
        "id": "1GagUV3gMCnK",
        "outputId": "41b6a1bb-6372-445d-dd2e-4dfc826ba9ce",
        "colab": {
          "base_uri": "https://localhost:8080/"
        }
      },
      "source": [
        "try:\n",
        "  resta(2)\n",
        "except Exception as E:\n",
        "  print (E)"
      ],
      "execution_count": 16,
      "outputs": [
        {
          "output_type": "stream",
          "name": "stdout",
          "text": [
            "resta() missing 1 required positional argument: 'b'\n"
          ]
        }
      ]
    },
    {
      "cell_type": "markdown",
      "metadata": {
        "id": "sjXX9CG5MD7M"
      },
      "source": [
        "Aquí, el número de argumentos en la llamada a la función debe coincidir exactamente con el número de argumentos definidos en la función. En este caso, para llamar la función `Resta`, debemos pasar obligatoriamente los dos parámetros `a` y `b` con los que se ha definido:"
      ]
    },
    {
      "cell_type": "markdown",
      "metadata": {
        "id": "VtHK_hdWMGpF"
      },
      "source": [
        "Si cambiamos el orden en el que pasamos los parámetros naturalmente cambiará la salida:"
      ]
    },
    {
      "cell_type": "markdown",
      "metadata": {
        "id": "vvRWmvfJMLx_"
      },
      "source": [
        "Si los parámetros los pasamos como argumentos por palabra clave no importará el orden. En este caso podríamos usar `Resta(b = x, a = y)`."
      ]
    },
    {
      "cell_type": "code",
      "metadata": {
        "id": "q9a4O2kdMJ-C",
        "outputId": "7ebe7cee-6cae-4f6c-bcfc-19cc9615a947",
        "colab": {
          "base_uri": "https://localhost:8080/"
        }
      },
      "source": [
        "x = int(input(\"Ingrese un valor: \"))\n",
        "y = int(input(\"Ingrese un valor: \"))\n",
        "\n",
        "resta(b = x, a = y)"
      ],
      "execution_count": 18,
      "outputs": [
        {
          "name": "stdout",
          "output_type": "stream",
          "text": [
            "Ingrese un valor: 4\n",
            "Ingrese un valor: 3\n"
          ]
        },
        {
          "output_type": "execute_result",
          "data": {
            "text/plain": [
              "1"
            ]
          },
          "metadata": {},
          "execution_count": 18
        }
      ]
    },
    {
      "cell_type": "markdown",
      "metadata": {
        "id": "QUqnTM2NMO3d"
      },
      "source": [
        "Ahora, ¿recuerda la descripción de las funciones que obtuvimos mediante la función propia de Python `help` o mediante el caractér `?`? Esta descripción  se define mediante lo que se conoce como el *Docstring*, que se puede definir dentro de una función encerrando el texto descriptivo entre tres comillas:"
      ]
    },
    {
      "cell_type": "code",
      "metadata": {
        "id": "Db_FfuNx8w3g"
      },
      "source": [
        "def resta(a,b):\n",
        "  \"\"\"\n",
        "  Devuelve la resta de el valor a al valor b\n",
        "  Ejemplo: \n",
        "  in[0]: resta(7,3)\n",
        "  out[0]: -4\n",
        "  \n",
        "  in[1]: resta(3,7)\n",
        "  out[1]: 4\n",
        "  \"\"\"\n",
        "  \n",
        "  return b -a"
      ],
      "execution_count": 19,
      "outputs": []
    },
    {
      "cell_type": "markdown",
      "metadata": {
        "id": "2-EYY5jC9LCs"
      },
      "source": [
        "Hagamos un *Doctring* para nuestra función Resta."
      ]
    },
    {
      "cell_type": "code",
      "metadata": {
        "id": "xJmO7JGaMa0v",
        "outputId": "499427ae-6278-4cfa-c31d-83f660d5a0e1",
        "colab": {
          "base_uri": "https://localhost:8080/"
        }
      },
      "source": [
        "help(resta)"
      ],
      "execution_count": 20,
      "outputs": [
        {
          "output_type": "stream",
          "name": "stdout",
          "text": [
            "Help on function resta in module __main__:\n",
            "\n",
            "resta(a, b)\n",
            "    Devuelve la resta de el valor a al valor b\n",
            "    Ejemplo: \n",
            "    in[0]: resta(7,3)\n",
            "    out[0]: -4\n",
            "    \n",
            "    in[1]: resta(3,7)\n",
            "    out[1]: 4\n",
            "\n"
          ]
        }
      ]
    },
    {
      "cell_type": "code",
      "metadata": {
        "id": "uky1uzQ0Mdxp"
      },
      "source": [
        ""
      ],
      "execution_count": null,
      "outputs": []
    },
    {
      "cell_type": "markdown",
      "metadata": {
        "id": "wK2Bzqm3Mjvk"
      },
      "source": [
        "Recuerde que a la hora de llamar la función esta toma el valor definido en el `return` con el tipo de dato correspondiente:"
      ]
    },
    {
      "cell_type": "code",
      "metadata": {
        "id": "5i9d7ZCWMlbn",
        "outputId": "539701f3-2b54-47c0-ea9b-e0b0ecfa110a",
        "colab": {
          "base_uri": "https://localhost:8080/"
        }
      },
      "source": [
        "type(resta(3,2))"
      ],
      "execution_count": 21,
      "outputs": [
        {
          "output_type": "execute_result",
          "data": {
            "text/plain": [
              "int"
            ]
          },
          "metadata": {},
          "execution_count": 21
        }
      ]
    },
    {
      "cell_type": "code",
      "metadata": {
        "id": "nCi7e5YNMoY2",
        "outputId": "d16a79e0-6215-4d1e-9dee-8f99d37cc3fb",
        "colab": {
          "base_uri": "https://localhost:8080/"
        }
      },
      "source": [
        "type(resta)"
      ],
      "execution_count": 22,
      "outputs": [
        {
          "output_type": "execute_result",
          "data": {
            "text/plain": [
              "function"
            ]
          },
          "metadata": {},
          "execution_count": 22
        }
      ]
    },
    {
      "cell_type": "code",
      "metadata": {
        "id": "Bmeen5OSMqso",
        "outputId": "04f949da-c29c-4a4e-e9bc-85b9105bc5d6",
        "colab": {
          "base_uri": "https://localhost:8080/"
        }
      },
      "source": [
        "type(resta(2.0,1))"
      ],
      "execution_count": 24,
      "outputs": [
        {
          "output_type": "execute_result",
          "data": {
            "text/plain": [
              "float"
            ]
          },
          "metadata": {},
          "execution_count": 24
        }
      ]
    },
    {
      "cell_type": "markdown",
      "metadata": {
        "id": "yeDRAkC5Mm8R"
      },
      "source": [
        "Por lo que podremos tratar la llamada de la función como si fuera del tipo que se ha definido en el `return`. Por ejemplo, si definimos una función que nos devuelva un dato de tipo `str`, podremos aplicarle métodos de este objeto a la hora de llamar la función:"
      ]
    },
    {
      "cell_type": "code",
      "metadata": {
        "id": "ePJBaXobMpPK",
        "outputId": "f6c891d5-6a2b-4bcb-d588-0fdde69020e2",
        "colab": {
          "base_uri": "https://localhost:8080/"
        }
      },
      "source": [
        "def hola_mundo():\n",
        "  return \"Hello world\"\n",
        "\n",
        "print(hola_mundo().upper())"
      ],
      "execution_count": 25,
      "outputs": [
        {
          "output_type": "stream",
          "name": "stdout",
          "text": [
            "HELLO WORLD\n"
          ]
        }
      ]
    },
    {
      "cell_type": "markdown",
      "metadata": {
        "id": "pFonjgMhMxAm"
      },
      "source": [
        "<p><a name=\"pre\"></a></p>\n",
        "\n",
        "## **Argumentos predeterminados**\n",
        "\n",
        "A menudo, al definir una función, hay ciertos valores que queremos que la función use la mayor parte del tiempo, pero también nos gustaría tener cierta flexibilidad en la elección de estos valores. En tal caso, podemos usar valores predeterminados para los argumentos. Redefinamos la función `Saludo` de manera que el argumento `nombre` tome un valor por defecto"
      ]
    },
    {
      "cell_type": "code",
      "metadata": {
        "id": "HrXTFiElMuOQ",
        "outputId": "12148740-9331-42f4-f7e9-b7df210b2a63",
        "colab": {
          "base_uri": "https://localhost:8080/"
        }
      },
      "source": [
        "def saludo_calido(nombre = \"Señor o Señora\"):\n",
        "  print(f\"Saludo {nombre}\")\n",
        "\n",
        "saludo_calido()"
      ],
      "execution_count": 30,
      "outputs": [
        {
          "output_type": "stream",
          "name": "stdout",
          "text": [
            "Saludo Señor o Señora\n"
          ]
        }
      ]
    },
    {
      "cell_type": "markdown",
      "metadata": {
        "id": "JVu0lXdKM8np"
      },
      "source": [
        "De esta manera, el parámetro `nombre` no es requerido al momento de llamar la función"
      ]
    },
    {
      "cell_type": "code",
      "metadata": {
        "id": "Z_ULFS9VM7W4",
        "outputId": "ae97f863-cd78-4852-df52-fb9907c2c7dd",
        "colab": {
          "base_uri": "https://localhost:8080/"
        }
      },
      "source": [
        "saludo_calido(\"Luis\")"
      ],
      "execution_count": 29,
      "outputs": [
        {
          "output_type": "stream",
          "name": "stdout",
          "text": [
            "Saludo Luis\n"
          ]
        }
      ]
    },
    {
      "cell_type": "markdown",
      "metadata": {
        "id": "bKqvtQ05M_SG"
      },
      "source": [
        "Cuando en una función uno de sus argumentos lleva un valor por defecto, éste se convierte automáticamente en un kwarg. Por lo tanto, puede ser especificado indicando su nombre al momento de llamar la función"
      ]
    },
    {
      "cell_type": "code",
      "metadata": {
        "id": "BMEg5ARLM_7m",
        "outputId": "1953ab73-a119-4997-e750-4e3f66bbf0dc",
        "colab": {
          "base_uri": "https://localhost:8080/"
        }
      },
      "source": [
        "def presentacion(nombre = \"Yo\", edad = 21):\n",
        "  print(f\"Hola, soy {nombre} y tengo {edad} años\")\n",
        "\n",
        "presentacion()"
      ],
      "execution_count": 31,
      "outputs": [
        {
          "output_type": "stream",
          "name": "stdout",
          "text": [
            "Hola, soy Yo y tengo 21 años\n"
          ]
        }
      ]
    },
    {
      "cell_type": "markdown",
      "metadata": {
        "id": "7A6aw0g5UdnT"
      },
      "source": [
        "O utilizando simplemente la posición del argumento"
      ]
    },
    {
      "cell_type": "code",
      "metadata": {
        "id": "_RwEFQCZUVCt",
        "outputId": "f61922bb-4882-4b13-a752-ab03af1a6b2e",
        "colab": {
          "base_uri": "https://localhost:8080/"
        }
      },
      "source": [
        "presentacion(\"Luis\", 37)"
      ],
      "execution_count": 32,
      "outputs": [
        {
          "output_type": "stream",
          "name": "stdout",
          "text": [
            "Hola, soy Luis y tengo 37 años\n"
          ]
        }
      ]
    },
    {
      "cell_type": "markdown",
      "metadata": {
        "id": "f3pMkmLmNE2z"
      },
      "source": [
        "Debemos tener en cuenta que a la hora de definir los argumentos de la función y de la llamada de esta, todos los argumentos requeridos deben definirse antes de los predeterminados.\n"
      ]
    },
    {
      "cell_type": "code",
      "metadata": {
        "id": "Q538WFGCNGf-"
      },
      "source": [
        ""
      ],
      "execution_count": null,
      "outputs": []
    },
    {
      "cell_type": "code",
      "metadata": {
        "id": "zbuTr2kTPJ5r"
      },
      "source": [
        ""
      ],
      "execution_count": null,
      "outputs": []
    },
    {
      "cell_type": "code",
      "metadata": {
        "id": "lP2dwJ0wO_sD"
      },
      "source": [
        ""
      ],
      "execution_count": null,
      "outputs": []
    },
    {
      "cell_type": "markdown",
      "metadata": {
        "id": "3qde-VOuNKly"
      },
      "source": [
        "**Ejemplo 1:** Escriba una función que devuelva `True` si una palabra dada es un palíndromo o `False` si no lo es"
      ]
    },
    {
      "cell_type": "code",
      "metadata": {
        "id": "VapkBWbQNMen"
      },
      "source": [
        "def eval_frase_palindromo(texto):\n",
        "  texto_clean = texto.replace(' ', '').lower()\n",
        "  if texto_clean == texto_clean[ : :-1]:\n",
        "    print(\"True\")\n",
        "  else:\n",
        "    print (\"False\")\n",
        "\n"
      ],
      "execution_count": 37,
      "outputs": []
    },
    {
      "cell_type": "code",
      "metadata": {
        "id": "1JH3Rmm0nLqj",
        "outputId": "e9729d75-233a-46b6-cc99-47f3c72e6c83",
        "colab": {
          "base_uri": "https://localhost:8080/"
        }
      },
      "source": [
        "eval_frase_palindromo(\"Anita lava la tina\")"
      ],
      "execution_count": 38,
      "outputs": [
        {
          "output_type": "stream",
          "name": "stdout",
          "text": [
            "True\n"
          ]
        }
      ]
    },
    {
      "cell_type": "code",
      "metadata": {
        "id": "SWfITZZTnczy",
        "outputId": "fcca6178-8691-4a95-bb5c-c79b7c3cbf42",
        "colab": {
          "base_uri": "https://localhost:8080/"
        }
      },
      "source": [
        "eval_frase_palindromo(\"Ana\")"
      ],
      "execution_count": 40,
      "outputs": [
        {
          "output_type": "stream",
          "name": "stdout",
          "text": [
            "True\n"
          ]
        }
      ]
    },
    {
      "cell_type": "markdown",
      "metadata": {
        "id": "oRD3z8DrNQN7"
      },
      "source": [
        "**Ejemplo 2:** Pida al usuario un número entero. Dependiendo de si el número es par o impar, imprima un mensaje apropiado para el usuario en pantalla."
      ]
    },
    {
      "cell_type": "code",
      "metadata": {
        "id": "D7PUutrjNQu_"
      },
      "source": [
        "def par_impar(x):\n",
        "  if x % 2 == 0:\n",
        "    print(f\"el número entero {x} es par\")\n",
        "  else:\n",
        "    print(f\"el número entero {x} es impar\")"
      ],
      "execution_count": 43,
      "outputs": []
    },
    {
      "cell_type": "code",
      "metadata": {
        "id": "kPCRxp3zn3p1",
        "outputId": "876d86c1-461c-453a-ff77-6d97c417fcfa",
        "colab": {
          "base_uri": "https://localhost:8080/"
        }
      },
      "source": [
        "par_impar(3)"
      ],
      "execution_count": 44,
      "outputs": [
        {
          "output_type": "stream",
          "name": "stdout",
          "text": [
            "el número entero 3 es impar\n"
          ]
        }
      ]
    },
    {
      "cell_type": "markdown",
      "metadata": {
        "id": "8fmxrPGPNoIK"
      },
      "source": [
        "**Ejercicio 3:** Escriba un programa que calcule el factorial de un número natural $n$.\n",
        "\n",
        "Hallemos $n!$ de forma recursiva utilizando la propiedad $n! = n \\cdot (n-1)!$\n",
        "\n",
        "$$ n! = n* (n-1) * (n-2)*...* 3*2 *1 $$\n",
        "\n",
        "1. Utilizando la función misma para el proceso recursivo:"
      ]
    },
    {
      "cell_type": "code",
      "metadata": {
        "id": "wfEpDfi3NpbM"
      },
      "source": [
        "def factorial(n):\n",
        "  if n <=1:\n",
        "    n_fact = 1\n",
        "  else:\n",
        "    n_fact = n * factorial(n - 1)\n",
        "  return n_fact"
      ],
      "execution_count": 45,
      "outputs": []
    },
    {
      "cell_type": "code",
      "metadata": {
        "id": "cmSh_MOdTzRD",
        "outputId": "52455ec5-31ba-476a-b171-305c231683ad",
        "colab": {
          "base_uri": "https://localhost:8080/"
        }
      },
      "source": [
        "factorial(10)"
      ],
      "execution_count": 49,
      "outputs": [
        {
          "output_type": "execute_result",
          "data": {
            "text/plain": [
              "3628800"
            ]
          },
          "metadata": {},
          "execution_count": 49
        }
      ]
    },
    {
      "cell_type": "markdown",
      "metadata": {
        "id": "LS8agRwnNyjC"
      },
      "source": [
        "2. Realizando el proceso recursivo utilizando una lista"
      ]
    },
    {
      "cell_type": "code",
      "metadata": {
        "id": "pFvXrj3XNwuY"
      },
      "source": [
        "def factorial_lista(n):\n",
        "  fact =[1]\n",
        "  for i in range(1, n+1):\n",
        "    fact.append(i * fact[i-1])\n",
        "  return fact[i]"
      ],
      "execution_count": 50,
      "outputs": []
    },
    {
      "cell_type": "code",
      "metadata": {
        "id": "n6eU-58_qP4z",
        "outputId": "77842cf1-32e5-4fcf-e203-6e69cefc4b35",
        "colab": {
          "base_uri": "https://localhost:8080/"
        }
      },
      "source": [
        "factorial_lista(5)"
      ],
      "execution_count": 51,
      "outputs": [
        {
          "output_type": "execute_result",
          "data": {
            "text/plain": [
              "120"
            ]
          },
          "metadata": {},
          "execution_count": 51
        }
      ]
    },
    {
      "cell_type": "markdown",
      "metadata": {
        "id": "pcTSbU6AN3QO"
      },
      "source": [
        "Podemos ver que la segunda forma es más eficiente"
      ]
    },
    {
      "cell_type": "code",
      "metadata": {
        "id": "kUnwB9oNN1bl",
        "outputId": "5edf1839-9fb8-4da3-a406-1f42adb9b0e0",
        "colab": {
          "base_uri": "https://localhost:8080/"
        }
      },
      "source": [
        "%time factorial(50)"
      ],
      "execution_count": 52,
      "outputs": [
        {
          "output_type": "stream",
          "name": "stdout",
          "text": [
            "CPU times: user 25 µs, sys: 3 µs, total: 28 µs\n",
            "Wall time: 31.2 µs\n"
          ]
        },
        {
          "output_type": "execute_result",
          "data": {
            "text/plain": [
              "30414093201713378043612608166064768844377641568960512000000000000"
            ]
          },
          "metadata": {},
          "execution_count": 52
        }
      ]
    },
    {
      "cell_type": "code",
      "metadata": {
        "id": "EpSAwaDlN5LX",
        "outputId": "321df87f-93bb-472f-c524-dba37cfea539",
        "colab": {
          "base_uri": "https://localhost:8080/"
        }
      },
      "source": [
        "%time factorial_lista(50)"
      ],
      "execution_count": 53,
      "outputs": [
        {
          "output_type": "stream",
          "name": "stdout",
          "text": [
            "CPU times: user 27 µs, sys: 3 µs, total: 30 µs\n",
            "Wall time: 50.5 µs\n"
          ]
        },
        {
          "output_type": "execute_result",
          "data": {
            "text/plain": [
              "30414093201713378043612608166064768844377641568960512000000000000"
            ]
          },
          "metadata": {},
          "execution_count": 53
        }
      ]
    },
    {
      "cell_type": "markdown",
      "metadata": {
        "id": "Mn6d1--FN_qd"
      },
      "source": [
        "**Ejercicio 4:** La sucesión de Fibonacci está dada por: $$f_{n} = f_{n-1} + f_{n-2}$$ con $f_0 = 0$ y $f_1=1$. Escriba un programa que calcule de forma recursiva $f_n$."
      ]
    },
    {
      "cell_type": "code",
      "metadata": {
        "id": "T47pCtm8Or8U"
      },
      "source": [
        ""
      ],
      "execution_count": null,
      "outputs": []
    },
    {
      "cell_type": "code",
      "metadata": {
        "id": "l6z_pswPXr8-"
      },
      "source": [
        ""
      ],
      "execution_count": null,
      "outputs": []
    },
    {
      "cell_type": "code",
      "metadata": {
        "id": "graJ0Ad8xEFW"
      },
      "source": [
        ""
      ],
      "execution_count": null,
      "outputs": []
    },
    {
      "cell_type": "markdown",
      "metadata": {
        "id": "YRORvAlXOdAV"
      },
      "source": [
        "<p><a name=\"lon\"></a></p>\n",
        "\n",
        "## **Argumentos de longitud variable**\n",
        "\n",
        "Es posible que necesitemos ejecutar una función en la que en principio no sabemos cuántos argumentos se pasarán a la función. En este caso, podemos utilizar una clase especial de argumentos, denominados argumentos de longitud variable, con los que podemos capturar todos los argumentos que se pasen a la función.\n",
        "\n",
        "**args**: El argumento de longitud variable `*args` permite capturar una serie de argumentos sin necesidad de especificar en un principio su número"
      ]
    },
    {
      "cell_type": "code",
      "metadata": {
        "id": "aE75liH5N6ec",
        "outputId": "c938eb5c-3791-42d9-d6eb-67c8dd6829c3",
        "colab": {
          "base_uri": "https://localhost:8080/"
        }
      },
      "source": [
        "def my_print(*x):\n",
        "  print(x)\n",
        "\n",
        "my_print(1,2,3,4)"
      ],
      "execution_count": 54,
      "outputs": [
        {
          "output_type": "stream",
          "name": "stdout",
          "text": [
            "(1, 2, 3, 4)\n"
          ]
        }
      ]
    },
    {
      "cell_type": "markdown",
      "metadata": {
        "id": "s_3u1OmyPQBw"
      },
      "source": [
        "O alternativamente podemos iterar sobre estos argumentos"
      ]
    },
    {
      "cell_type": "code",
      "metadata": {
        "id": "bljtaRwCPReM",
        "outputId": "0545b4cf-389c-4f50-c689-402e5d35676b",
        "colab": {
          "base_uri": "https://localhost:8080/"
        }
      },
      "source": [
        "def my_print(*args):\n",
        "  for arg in args:\n",
        "    print(arg)\n",
        "\n",
        "my_print(1,2,3,4)"
      ],
      "execution_count": 55,
      "outputs": [
        {
          "output_type": "stream",
          "name": "stdout",
          "text": [
            "1\n",
            "2\n",
            "3\n",
            "4\n"
          ]
        }
      ]
    },
    {
      "cell_type": "markdown",
      "metadata": {
        "id": "F5tKpPUxPalX"
      },
      "source": [
        "Lo importante aquí no es el nombre `args`, sino el caracter `*` que lo precede. `args` es solo el nombre que se usa por convención. Un solo `*` antes de una variable significa *expandir esto como una secuencia*. \n"
      ]
    },
    {
      "cell_type": "markdown",
      "metadata": {
        "id": "UQCftnXrpsEQ"
      },
      "source": [
        "De hecho, esta sintáxis puede utilizarse no solo en la definición de la función, sino también a la hora de llamar la función:"
      ]
    },
    {
      "cell_type": "code",
      "metadata": {
        "id": "nc8C8Ro7PSjo"
      },
      "source": [
        "l =[1,2,3]"
      ],
      "execution_count": 56,
      "outputs": []
    },
    {
      "cell_type": "code",
      "metadata": {
        "id": "7zbIof5ePiNY",
        "outputId": "fedf9e0d-2a38-4e38-eb2f-e624a64bf925",
        "colab": {
          "base_uri": "https://localhost:8080/"
        }
      },
      "source": [
        "my_print(l)"
      ],
      "execution_count": 57,
      "outputs": [
        {
          "output_type": "stream",
          "name": "stdout",
          "text": [
            "[1, 2, 3]\n"
          ]
        }
      ]
    },
    {
      "cell_type": "markdown",
      "metadata": {
        "id": "-p3Z0kgoPmra"
      },
      "source": [
        "Podemos aprovecharnos de este hecho para modificar la función `my_print` a la hora de la llamada de la función `print`:"
      ]
    },
    {
      "cell_type": "code",
      "metadata": {
        "id": "AVVrvcUCPj_I",
        "outputId": "65b7a2bd-81fb-4ce2-acd5-2424a884dc80",
        "colab": {
          "base_uri": "https://localhost:8080/"
        }
      },
      "source": [
        "my_print(*l)"
      ],
      "execution_count": 58,
      "outputs": [
        {
          "output_type": "stream",
          "name": "stdout",
          "text": [
            "1\n",
            "2\n",
            "3\n"
          ]
        }
      ]
    },
    {
      "cell_type": "code",
      "metadata": {
        "id": "WKgGY5dMPqI_",
        "outputId": "c8dc0818-268d-4cc7-a314-8bbe10beb993",
        "colab": {
          "base_uri": "https://localhost:8080/"
        }
      },
      "source": [
        "def my_print(*args):\n",
        "  print(*args)\n",
        "\n",
        "my_print(*l)"
      ],
      "execution_count": 59,
      "outputs": [
        {
          "output_type": "stream",
          "name": "stdout",
          "text": [
            "1 2 3\n"
          ]
        }
      ]
    },
    {
      "cell_type": "markdown",
      "metadata": {
        "id": "YcT-YRRnPvDz"
      },
      "source": [
        "Cabe resaltar que la llamada de una función con esta sintáxis funciona independientemente de si se ha declarado la función con `*args` o no:"
      ]
    },
    {
      "cell_type": "code",
      "metadata": {
        "id": "DhHUpB7osQ3G",
        "outputId": "aa35b816-c04d-4c03-b56b-95c1be1c9871",
        "colab": {
          "base_uri": "https://localhost:8080/"
        }
      },
      "source": [
        "l2=[4,7]\n",
        "resta(*l2)"
      ],
      "execution_count": 60,
      "outputs": [
        {
          "output_type": "execute_result",
          "data": {
            "text/plain": [
              "3"
            ]
          },
          "metadata": {},
          "execution_count": 60
        }
      ]
    },
    {
      "cell_type": "markdown",
      "metadata": {
        "id": "AmcjRXFeP9h4"
      },
      "source": [
        "**Ejercicio 5:** Escriba un programa que calcule el promedio de n números enteros."
      ]
    },
    {
      "cell_type": "code",
      "metadata": {
        "id": "80BYPIeEP3b6",
        "outputId": "58bacf68-6fb0-47ab-eee4-6aefeaae70e6",
        "colab": {
          "base_uri": "https://localhost:8080/"
        }
      },
      "source": [
        "def promedio(*numeros):\n",
        "  s = 0\n",
        "  for i in numeros:\n",
        "    s += i\n",
        "  return s/len(numeros)\n",
        "\n",
        "n = int(input(\"Ingrese el número de enteros a los cuales le va a hallar el promedio: \"))\n",
        "print(f\"ingrese sus {n} números enteros\")\n",
        "nums =[int(input()) for i in range(n)]\n",
        "\n",
        "print(f\"El promedio de sus números es: {promedio(*nums)}\")"
      ],
      "execution_count": 62,
      "outputs": [
        {
          "output_type": "stream",
          "name": "stdout",
          "text": [
            "Ingrese el numero de enteros a los cuales le va a hallar el promedio: 6\n",
            "ingrese sus 6 números enteros\n",
            "1\n",
            "2\n",
            "3\n",
            "4\n",
            "5\n",
            "6\n",
            "El promedio de sus números es: 3.5\n"
          ]
        }
      ]
    },
    {
      "cell_type": "markdown",
      "metadata": {
        "id": "_BRBvSn5QGqa"
      },
      "source": [
        "**Ejercicio 6:** Escriba un programa que tome un número n de palabras de un usuario externo, las almacene en una lista y muestre cuáles palabras son un palíndromo."
      ]
    },
    {
      "cell_type": "code",
      "metadata": {
        "id": "CvzNDcqSQTeR"
      },
      "source": [
        ""
      ],
      "execution_count": null,
      "outputs": []
    },
    {
      "cell_type": "markdown",
      "metadata": {
        "id": "yvRclc-RQWCe"
      },
      "source": [
        "**kwargs**: Al igual que con `*args`, podemos utilizar el argumento por longitud variable `*kwargs` para capturar un número indefinido de argumentos por palabra clave. \n",
        "\n",
        "Un doble `**` antes de una variable significa *expandir esto como un diccionario*"
      ]
    },
    {
      "cell_type": "code",
      "metadata": {
        "id": "bPbnBKE4QZp0",
        "outputId": "4009109f-3909-4762-96d1-8b52dc16bc20",
        "colab": {
          "base_uri": "https://localhost:8080/"
        }
      },
      "source": [
        "def my_print(**kwargs):\n",
        "  print(kwargs)\n",
        "\n",
        "my_print(nombre = \"Luis\", edad = 37)"
      ],
      "execution_count": 65,
      "outputs": [
        {
          "output_type": "stream",
          "name": "stdout",
          "text": [
            "{'nombre': 'Luis', 'edad': 37}\n"
          ]
        }
      ]
    },
    {
      "cell_type": "markdown",
      "metadata": {
        "id": "nbEkUxjtQh1Z"
      },
      "source": [
        "similarmente, podemos utilizar esta sintáxis a la hora de llamar la función:"
      ]
    },
    {
      "cell_type": "code",
      "metadata": {
        "id": "nPBy72nhQd1_",
        "outputId": "24953891-9e7f-4cc1-b8b4-643d50f910fb",
        "colab": {
          "base_uri": "https://localhost:8080/"
        }
      },
      "source": [
        "di = dict(nombre = \"Luis\", edad = 37)\n",
        "my_print(**di)"
      ],
      "execution_count": 67,
      "outputs": [
        {
          "output_type": "stream",
          "name": "stdout",
          "text": [
            "{'nombre': 'Luis', 'edad': 37}\n"
          ]
        }
      ]
    },
    {
      "cell_type": "markdown",
      "metadata": {
        "id": "jHUVZNVdBDnx"
      },
      "source": [
        "<p><a name=\"lam\"></a></p>\n",
        "\n",
        "# **Funciones Anónimas**\n",
        "\n",
        "Estas funciones se denominan anónimas porque no se declaran de la manera estándar utilizando la palabra clave `def`. Podemos usar la palabra clave `lambda` para crear pequeñas funciones anónimas. La sintáxis general es de la forma:\n",
        "\n",
        "> \n",
        "  `lambda arg1, arg2, ... : expresion(arg1, arg2, ...)`\n",
        "\n",
        "Por ejemplo, definamos una función que realice la suma de dos números "
      ]
    },
    {
      "cell_type": "code",
      "metadata": {
        "id": "0GgbQm4MBHP1",
        "outputId": "4b987e72-e72d-4133-8981-5e36f0fb83ab",
        "colab": {
          "base_uri": "https://localhost:8080/"
        }
      },
      "source": [
        "def suma(x,y):\n",
        "  return x + y\n",
        "\n",
        "suma(2,3)"
      ],
      "execution_count": 69,
      "outputs": [
        {
          "output_type": "execute_result",
          "data": {
            "text/plain": [
              "5"
            ]
          },
          "metadata": {},
          "execution_count": 69
        }
      ]
    },
    {
      "cell_type": "code",
      "metadata": {
        "id": "5Yo9_WpavlDz",
        "outputId": "38c11ac4-0dbc-4ef9-d470-2ffec16fcddd",
        "colab": {
          "base_uri": "https://localhost:8080/"
        }
      },
      "source": [
        "print(suma)"
      ],
      "execution_count": 70,
      "outputs": [
        {
          "output_type": "stream",
          "name": "stdout",
          "text": [
            "<function suma at 0x7f5bc5224440>\n"
          ]
        }
      ]
    },
    {
      "cell_type": "code",
      "metadata": {
        "id": "1ro5H3fPBPy_",
        "outputId": "51438594-1385-4eda-8543-dd3478dba196",
        "colab": {
          "base_uri": "https://localhost:8080/"
        }
      },
      "source": [
        "(lambda x, y: x + y)(6,9)"
      ],
      "execution_count": 73,
      "outputs": [
        {
          "output_type": "execute_result",
          "data": {
            "text/plain": [
              "15"
            ]
          },
          "metadata": {},
          "execution_count": 73
        }
      ]
    },
    {
      "cell_type": "markdown",
      "metadata": {
        "id": "s3F_EgXIBMoC"
      },
      "source": [
        "Con una función anónima o función Lambda, lo \n",
        "\n",
        "\n",
        "\n",
        "anterior tomaría la forma:"
      ]
    },
    {
      "cell_type": "code",
      "metadata": {
        "id": "p1nMaiVwwCwx",
        "outputId": "b9a69211-4997-4bc3-e99c-f8496a483ee0",
        "colab": {
          "base_uri": "https://localhost:8080/"
        }
      },
      "source": [
        "suma2= lambda x, y: x + y\n",
        "suma2(6,9)"
      ],
      "execution_count": 74,
      "outputs": [
        {
          "output_type": "execute_result",
          "data": {
            "text/plain": [
              "15"
            ]
          },
          "metadata": {},
          "execution_count": 74
        }
      ]
    },
    {
      "cell_type": "markdown",
      "metadata": {
        "id": "xvRoVDlRBTTm"
      },
      "source": [
        "Note la equivalencia entre ambas sintáxis. Note además que la función creada de forma estándar tiene como nombre `suma`, mientras que las funciones anónimas tienen como nombre `<lambda>`, de ahí que se conozcan como *funciones anónimas*.\n",
        "\n",
        "Con esta nueva sintáxis podemos utilizar tanto los argumentos requeridos como argumentos por palabra clave, así como los argumentos de longitud variable"
      ]
    },
    {
      "cell_type": "code",
      "metadata": {
        "id": "HUgJa3NBwKqC",
        "outputId": "a43c7d27-07e1-4de2-b69c-65e2150c9b31",
        "colab": {
          "base_uri": "https://localhost:8080/"
        }
      },
      "source": [
        "f = lambda *args, **kwargs: print(args, kwargs)\n",
        "\n",
        "f(1,2,3,a= \"nombre\",b = \"mundo\")"
      ],
      "execution_count": 75,
      "outputs": [
        {
          "output_type": "stream",
          "name": "stdout",
          "text": [
            "(1, 2, 3) {'a': 'nombre', 'b': 'mundo'}\n"
          ]
        }
      ]
    },
    {
      "cell_type": "code",
      "metadata": {
        "id": "TDuQqhGABXov"
      },
      "source": [
        ""
      ],
      "execution_count": null,
      "outputs": []
    },
    {
      "cell_type": "code",
      "metadata": {
        "id": "OJVOvK7LBYIX"
      },
      "source": [
        ""
      ],
      "execution_count": null,
      "outputs": []
    },
    {
      "cell_type": "code",
      "metadata": {
        "id": "ugrNXzs3Bbkf"
      },
      "source": [
        ""
      ],
      "execution_count": null,
      "outputs": []
    }
  ]
}