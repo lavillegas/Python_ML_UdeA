{
  "nbformat": 4,
  "nbformat_minor": 0,
  "metadata": {
    "colab": {
      "name": "sesion3.ipynb",
      "provenance": [],
      "collapsed_sections": [],
      "include_colab_link": true
    },
    "kernelspec": {
      "name": "python3",
      "display_name": "Python 3"
    }
  },
  "cells": [
    {
      "cell_type": "markdown",
      "metadata": {
        "id": "view-in-github",
        "colab_type": "text"
      },
      "source": [
        "<a href=\"https://colab.research.google.com/github/lavillegas/Python_ML_UdeA/blob/main/sesion3.ipynb\" target=\"_parent\"><img src=\"https://colab.research.google.com/assets/colab-badge.svg\" alt=\"Open In Colab\"/></a>"
      ]
    },
    {
      "cell_type": "markdown",
      "metadata": {
        "id": "kUkIpVtwGNZX"
      },
      "source": [
        "<p><img alt=\"Colaboratory logo\" height=\"140px\" src=\"https://upload.wikimedia.org/wikipedia/commons/archive/f/fb/20161010213812%21Escudo-UdeA.svg\" align=\"left\" hspace=\"10px\" vspace=\"0px\"></p>\n",
        "\n",
        "# **Diplomado de Análisis de datos y Machine Learning en Python**\n",
        "\n",
        "\n",
        "El presente diplomado hace parte del centro de Big Data de la facultad de ciencias exactas y naturales (FCEN) de la Universidad de Antioquia.\n",
        "\n",
        "## **Sesión 3**\n",
        "\n",
        "## **Contenido**\n",
        "\n",
        "- <a href=\"#io\"> Entrada y salida</a><br>   \n",
        "- <a href=\"#ecf\"> Estructuras de control de flujo</a><br>\n",
        "  - <a href=\"#sci\"> Sentencias condicionales `if`, `elif` y `else`</a><br>\n",
        "- <a href=\"#cic\"> Ciclos, iteraciones e interrupciones de flujo</a><br>\n",
        "  - <a href=\"#whi\"> Ciclo `while`</a><br>\n",
        "  - <a href=\"#for\"> Ciclo `for`</a><br>\n",
        "  - <a href=\"#scf\"> Sentencias de control de flujo `break` y `continue`</a><br>\n",
        "\n",
        "\n"
      ]
    },
    {
      "cell_type": "markdown",
      "metadata": {
        "id": "van7zDVKNUi8"
      },
      "source": [
        "<p><a name=\"io\"></a></p>\n",
        "\n",
        "# **Entrada y salida**\n",
        "\n",
        "\n",
        "Para tomar datos por parte de un usuario externo hacemos uso de la función propia de Python `input`, que opcionalmente toma un string como argumento"
      ]
    },
    {
      "cell_type": "code",
      "metadata": {
        "colab": {
          "base_uri": "https://localhost:8080/"
        },
        "id": "j-Cz_aLbZjwd",
        "outputId": "cc436544-dd8b-4924-c662-b8356130c484"
      },
      "source": [
        "nombre = \"Tomas\"\n",
        "print(f\"Hola soy {nombre}\")"
      ],
      "execution_count": null,
      "outputs": [
        {
          "output_type": "stream",
          "text": [
            "Hola soy Tomas\n"
          ],
          "name": "stdout"
        }
      ]
    },
    {
      "cell_type": "code",
      "metadata": {
        "id": "B78KUY4oNVdW",
        "colab": {
          "base_uri": "https://localhost:8080/",
          "height": 52
        },
        "outputId": "a48ef1ff-aeb0-48c4-9be7-ba47814fae07"
      },
      "source": [
        "input(\"Escriba su nombre \")"
      ],
      "execution_count": null,
      "outputs": [
        {
          "output_type": "stream",
          "text": [
            "Escriba su nombre Tomas\n"
          ],
          "name": "stdout"
        },
        {
          "output_type": "execute_result",
          "data": {
            "application/vnd.google.colaboratory.intrinsic+json": {
              "type": "string"
            },
            "text/plain": [
              "'Tomas'"
            ]
          },
          "metadata": {},
          "execution_count": 3
        }
      ]
    },
    {
      "cell_type": "code",
      "metadata": {
        "colab": {
          "base_uri": "https://localhost:8080/"
        },
        "id": "IJjKR2DebM7p",
        "outputId": "995298d8-f4e4-470e-ae4f-6a790c23bf45"
      },
      "source": [
        "edad = input(\"Ingrese su edad \\n\")"
      ],
      "execution_count": null,
      "outputs": [
        {
          "output_type": "stream",
          "text": [
            "Ingrese su edad \n",
            "27\n"
          ],
          "name": "stdout"
        }
      ]
    },
    {
      "cell_type": "markdown",
      "metadata": {
        "id": "AF8kLVJv2S1T"
      },
      "source": [
        "Note que esta función siempre devuelve una variable de tipo `str`"
      ]
    },
    {
      "cell_type": "code",
      "metadata": {
        "id": "dwsyJtyQ2ZoG",
        "colab": {
          "base_uri": "https://localhost:8080/"
        },
        "outputId": "9da43826-1422-41d2-f75a-208f469a4aa7"
      },
      "source": [
        "print(edad, type(edad))"
      ],
      "execution_count": null,
      "outputs": [
        {
          "output_type": "stream",
          "text": [
            "27 <class 'str'>\n"
          ],
          "name": "stdout"
        }
      ]
    },
    {
      "cell_type": "code",
      "metadata": {
        "colab": {
          "base_uri": "https://localhost:8080/",
          "height": 178
        },
        "id": "qkA36kghbd_s",
        "outputId": "8b73558f-4061-41f8-8d49-6d3e01ca5302"
      },
      "source": [
        "print(edad + 5)\n",
        "print(\"adios\")"
      ],
      "execution_count": null,
      "outputs": [
        {
          "output_type": "error",
          "ename": "TypeError",
          "evalue": "ignored",
          "traceback": [
            "\u001b[0;31m---------------------------------------------------------------------------\u001b[0m",
            "\u001b[0;31mTypeError\u001b[0m                                 Traceback (most recent call last)",
            "\u001b[0;32m<ipython-input-7-3d4db41e0c5f>\u001b[0m in \u001b[0;36m<module>\u001b[0;34m()\u001b[0m\n\u001b[0;32m----> 1\u001b[0;31m \u001b[0mprint\u001b[0m\u001b[0;34m(\u001b[0m\u001b[0medad\u001b[0m \u001b[0;34m+\u001b[0m \u001b[0;36m5\u001b[0m\u001b[0;34m)\u001b[0m\u001b[0;34m\u001b[0m\u001b[0;34m\u001b[0m\u001b[0m\n\u001b[0m\u001b[1;32m      2\u001b[0m \u001b[0mprint\u001b[0m\u001b[0;34m(\u001b[0m\u001b[0;34m\"adios\"\u001b[0m\u001b[0;34m)\u001b[0m\u001b[0;34m\u001b[0m\u001b[0;34m\u001b[0m\u001b[0m\n",
            "\u001b[0;31mTypeError\u001b[0m: can only concatenate str (not \"int\") to str"
          ]
        }
      ]
    },
    {
      "cell_type": "code",
      "metadata": {
        "colab": {
          "base_uri": "https://localhost:8080/"
        },
        "id": "PFAho1IJbaN4",
        "outputId": "949c57fe-a69d-4ab6-8a20-b18614027a84"
      },
      "source": [
        "try: \n",
        "  print(edad + 5)\n",
        "except Exception as e:\n",
        "  print(e)\n",
        "\n",
        "print(\"adios\")"
      ],
      "execution_count": null,
      "outputs": [
        {
          "output_type": "stream",
          "text": [
            "can only concatenate str (not \"int\") to str\n",
            "adios\n"
          ],
          "name": "stdout"
        }
      ]
    },
    {
      "cell_type": "code",
      "metadata": {
        "colab": {
          "base_uri": "https://localhost:8080/"
        },
        "id": "mopIRcXNb5z8",
        "outputId": "50cb64ac-e77f-4c5e-9dc0-c1036becd003"
      },
      "source": [
        "try: \n",
        "  print(edad + 5)\n",
        "except :\n",
        "  print(\"La operación falló\")\n",
        "\n",
        "print(\"adios\")"
      ],
      "execution_count": null,
      "outputs": [
        {
          "output_type": "stream",
          "text": [
            "La operación falló\n",
            "adios\n"
          ],
          "name": "stdout"
        }
      ]
    },
    {
      "cell_type": "markdown",
      "metadata": {
        "id": "F7JPzzxb2eO8"
      },
      "source": [
        "Para transformar la variable al tipo indicado podemos utilizar las funciones de transformación que ya vimos. Por ejemplo, en este caso, queremos que la variable sea de tipo `int`, por lo que podemos escribir:"
      ]
    },
    {
      "cell_type": "code",
      "metadata": {
        "id": "eE3fSCR020vw",
        "colab": {
          "base_uri": "https://localhost:8080/"
        },
        "outputId": "d2757f89-2f52-4a64-b169-7e43ca11ca36"
      },
      "source": [
        "edad = int(input(\"Ingrese su edad \\n\"))\n",
        "\n",
        "print(edad, type(edad), edad +5 )"
      ],
      "execution_count": null,
      "outputs": [
        {
          "output_type": "stream",
          "text": [
            "Ingrese su edad \n",
            "27\n",
            "27 <class 'int'> 32\n"
          ],
          "name": "stdout"
        }
      ]
    },
    {
      "cell_type": "markdown",
      "metadata": {
        "id": "78Al5hXIOPYT"
      },
      "source": [
        "\n",
        "\n",
        "Para mostrar algo en pantalla podemos utilizar la función propia de Python `print`, que toma como argumento la(s) variable(s) que queramos mostrar. Podemos separar cada variable por una coma, como se muestra a continuación:"
      ]
    },
    {
      "cell_type": "code",
      "metadata": {
        "id": "WC0HE6oxOY2D",
        "colab": {
          "base_uri": "https://localhost:8080/"
        },
        "outputId": "1b529142-2c90-4933-f62e-30a894142102"
      },
      "source": [
        "edad = int(input(\"Ingrese su edad \\n\"))\n",
        "\n",
        "print(f\"Mi edad es {edad} y en cinco años tendré {edad + 5}\")"
      ],
      "execution_count": null,
      "outputs": [
        {
          "output_type": "stream",
          "text": [
            "Ingrese su edad \n",
            "27\n",
            "Mi edad es 27 y en cinco años tendré 32\n"
          ],
          "name": "stdout"
        }
      ]
    },
    {
      "cell_type": "markdown",
      "metadata": {
        "id": "OHFemolf3k-b"
      },
      "source": [
        "Antes de Python 3.6, teníamos dos formas de incrustar expresiones de Python dentro de literales de cadena para *formatear*: `formateo con %` y `str.format()`. \n",
        "\n",
        "\n",
        "**Formateo con %**\n",
        "\n",
        "Los objetos de tipo cadena tienen una operación integrada que utiliza el operador `%`, que puede usarse para formatear cadenas. Veamos un ejemplo:"
      ]
    },
    {
      "cell_type": "code",
      "metadata": {
        "id": "wGrur9803nzI",
        "colab": {
          "base_uri": "https://localhost:8080/"
        },
        "outputId": "81a9181e-143a-4601-d566-59c1dbcf5ef6"
      },
      "source": [
        "nombre = \"Tomas\"\n",
        "\n",
        "print(\"Mi nombre es %s\" %nombre)"
      ],
      "execution_count": null,
      "outputs": [
        {
          "output_type": "stream",
          "text": [
            "Mi nombre es Tomas\n"
          ],
          "name": "stdout"
        }
      ]
    },
    {
      "cell_type": "markdown",
      "metadata": {
        "id": "RAU0d4wi3-cF"
      },
      "source": [
        "Note que se utiliza el operador `%` seguido de una `s`, para indicar que en esa posición queremos tener la variable nombre (que se referencia fuera de la cadena con el mismo operador `%`) seguido de una `s`, que hace referencia al formato en el que se quiere mostrar la variable, en este caso, un *string* (utilizamos `d` para los enteros y `f` para los números de punto flotante)."
      ]
    },
    {
      "cell_type": "code",
      "metadata": {
        "id": "iY-xHxO94DRi",
        "colab": {
          "base_uri": "https://localhost:8080/"
        },
        "outputId": "68f680c9-40eb-4b4b-cba6-3b0f1ce414f3"
      },
      "source": [
        "print(\"Tengo %d años\" %edad)"
      ],
      "execution_count": null,
      "outputs": [
        {
          "output_type": "stream",
          "text": [
            "Tengo 27 años\n"
          ],
          "name": "stdout"
        }
      ]
    },
    {
      "cell_type": "markdown",
      "metadata": {
        "id": "jIqVfB8N4Fpb"
      },
      "source": [
        "Para referenciar múltiples variables, se utiliza una tupla (que ya estudiaremos) para referenciar las dos variables:"
      ]
    },
    {
      "cell_type": "code",
      "metadata": {
        "id": "757_AzCd4GQK",
        "colab": {
          "base_uri": "https://localhost:8080/"
        },
        "outputId": "0d0ca75e-ec97-43fa-e45a-a9a3c234494f"
      },
      "source": [
        "print(\"Me llamo %s y tengo %d años\" %(nombre, edad))"
      ],
      "execution_count": null,
      "outputs": [
        {
          "output_type": "stream",
          "text": [
            "Me llamo Tomas y tengo 27 años\n"
          ],
          "name": "stdout"
        }
      ]
    },
    {
      "cell_type": "markdown",
      "metadata": {
        "id": "zIaF5VN04JyO"
      },
      "source": [
        "También podemos elegir un nivel de precisión particular de la siguiente manera:"
      ]
    },
    {
      "cell_type": "code",
      "metadata": {
        "id": "nMmJW17J4Kmc",
        "colab": {
          "base_uri": "https://localhost:8080/"
        },
        "outputId": "0185e592-ffaf-4cda-ea0e-994bdc327581"
      },
      "source": [
        "pi = 3.14159\n",
        "\n",
        "print(\"Imprimiendo pi con dos cifras de precisión: %.2f\" %pi)\n",
        "print(\"Imprimiendo pi con cuatro cifras de precisión: %.4f\" %pi)"
      ],
      "execution_count": null,
      "outputs": [
        {
          "output_type": "stream",
          "text": [
            "Imprimiendo pi con dos cifras de precisión: 3.14\n",
            "Imprimiendo pi con cuatro cifras de precisión: 3.1416\n"
          ],
          "name": "stdout"
        }
      ]
    },
    {
      "cell_type": "markdown",
      "metadata": {
        "id": "UdM4uoie4RlK"
      },
      "source": [
        "Estos ejemplos son lo suficientemente legibles. Sin embargo, una vez que comencemos a usar un número mayor de variables y cadenas más largas, el código ya no será tan fácil de leer. Además, encontraremos problemas cuando queramos referenciar estructuras de datos más complejos (por ejemplo los diccionarios). \n",
        "\n",
        "**str.format()**\n",
        " \n",
        "Esta es una forma de realizar formateo de cadenas introducido a partir de Python 2.6, la cual es una mejora del formateo con `%`. Con `str.format()`, las referencias se realizan con llaves de la siguiente manera:"
      ]
    },
    {
      "cell_type": "code",
      "metadata": {
        "id": "SaMxygoU4Ujw",
        "colab": {
          "base_uri": "https://localhost:8080/"
        },
        "outputId": "dd3db61d-0af7-47c6-cda9-2238da2600da"
      },
      "source": [
        "print(\"Mi nombre es {}\".format(nombre))"
      ],
      "execution_count": null,
      "outputs": [
        {
          "output_type": "stream",
          "text": [
            "Mi nombre es Tomas\n"
          ],
          "name": "stdout"
        }
      ]
    },
    {
      "cell_type": "markdown",
      "metadata": {
        "id": "_xYlXSqy4fgt"
      },
      "source": [
        "Note que en este caso las variables se muestran de acuerdo al orden en el que aparecen en `.format()`. Podemos referenciar la variable utilizando el índice (posición en la que aparecen las variables en `.format()`) de las variables:"
      ]
    },
    {
      "cell_type": "code",
      "metadata": {
        "id": "Ui_pqGnZ4gXi",
        "colab": {
          "base_uri": "https://localhost:8080/"
        },
        "outputId": "9df5b24a-f8b9-46eb-c2e5-748e5d29d75c"
      },
      "source": [
        "print(\"Me llamo {} y tengo {} años\".format(nombre, edad))"
      ],
      "execution_count": null,
      "outputs": [
        {
          "output_type": "stream",
          "text": [
            "Me llamo Tomas y tengo 27 años\n"
          ],
          "name": "stdout"
        }
      ]
    },
    {
      "cell_type": "code",
      "metadata": {
        "colab": {
          "base_uri": "https://localhost:8080/"
        },
        "id": "d0tozxcZeHEG",
        "outputId": "71673111-7396-42cc-ada6-62bbed9515a7"
      },
      "source": [
        "print(\"Tengo {1} años y me llamo {0}\".format(nombre, edad))"
      ],
      "execution_count": null,
      "outputs": [
        {
          "output_type": "stream",
          "text": [
            "Tengo 27 años y me llamo Tomas\n"
          ],
          "name": "stdout"
        }
      ]
    },
    {
      "cell_type": "markdown",
      "metadata": {
        "id": "kzs3MTFG4k3B"
      },
      "source": [
        "Y la precisión se elige de la siguiente manera:"
      ]
    },
    {
      "cell_type": "code",
      "metadata": {
        "id": "91puqFIw4lWy",
        "colab": {
          "base_uri": "https://localhost:8080/"
        },
        "outputId": "3bc8540d-1bc4-4542-e971-78ab7285cd08"
      },
      "source": [
        "pi = 3.14159\n",
        "\n",
        "print(\"Imprimiendo pi con dos cifras de precisión: {:.2f}\".format(pi))\n",
        "print(\"Imprimiendo pi con cuatro cifras de precisión: {:.4f}\".format(pi))"
      ],
      "execution_count": null,
      "outputs": [
        {
          "output_type": "stream",
          "text": [
            "Imprimiendo pi con dos cifras de precisión: 3.14\n",
            "Imprimiendo pi con cuatro cifras de precisión: 3.1416\n"
          ],
          "name": "stdout"
        }
      ]
    },
    {
      "cell_type": "markdown",
      "metadata": {
        "id": "f882bfxb4nod"
      },
      "source": [
        "`str.format()` es definitivamente una mejora en comparación con el formateo con `%` para operaciones más complejas. Sin embargo, vamos a encontrar el mismo problema que en el caso anterior: cuando utilicemos más variables y cadenas más largas el código no será tan fácil de leer. \n",
        "\n",
        "Pensemos que en ambos casos, para mostrar las variables dentro de la cadena, debemos utilizar la referencia dentro de la cadena y luego referenciar la variable fuera de la cadena, algo que puede hacerse con una única referencia utilizando las cadenas *f*."
      ]
    },
    {
      "cell_type": "markdown",
      "metadata": {
        "id": "ffr_3FaQJxRn"
      },
      "source": [
        "\n",
        "\n",
        "**Cadenas *f***\n",
        "\n",
        "Las cadenas *f* (o *f-strings* en inglés) son literales de cadena que tienen una `f` al principio y llaves que contienen expresiones que serán reemplazadas por sus valores. La sintáxis es la siguiente\n",
        "\n",
        ">\n",
        "    f\".. {var} ..\"\n",
        "\n",
        "Donde `var` es la variable que queremos referenciar. De esta forma, podemos referenciar las variables dentro de la cadena directamente"
      ]
    },
    {
      "cell_type": "code",
      "metadata": {
        "id": "CztCL08H4xhq",
        "colab": {
          "base_uri": "https://localhost:8080/"
        },
        "outputId": "cf5e924c-aa37-443f-8ed5-c308cf3e5673"
      },
      "source": [
        "print(f\"Mi nombre es {nombre}\")"
      ],
      "execution_count": null,
      "outputs": [
        {
          "output_type": "stream",
          "text": [
            "Mi nombre es Tomas\n"
          ],
          "name": "stdout"
        }
      ]
    },
    {
      "cell_type": "code",
      "metadata": {
        "colab": {
          "base_uri": "https://localhost:8080/"
        },
        "id": "b4-jrbOne7cp",
        "outputId": "0e6c5833-6acd-4a2b-f77a-8e7324c96961"
      },
      "source": [
        "print(f\"Me llamo {nombre} y tengo {edad} años\")"
      ],
      "execution_count": null,
      "outputs": [
        {
          "output_type": "stream",
          "text": [
            "Me llamo Tomas y tengo 27 años\n"
          ],
          "name": "stdout"
        }
      ]
    },
    {
      "cell_type": "markdown",
      "metadata": {
        "id": "_-uUltUC40vH"
      },
      "source": [
        "La precisión se indica de la siguiente manera:"
      ]
    },
    {
      "cell_type": "code",
      "metadata": {
        "colab": {
          "base_uri": "https://localhost:8080/"
        },
        "id": "bhZVEOAEiX3G",
        "outputId": "952475b9-4e84-4eef-e9d1-31839d1d7d05"
      },
      "source": [
        "apellido = \"Atehortua\"\n",
        "\n",
        "print(nombre + ' ' + apellido)"
      ],
      "execution_count": null,
      "outputs": [
        {
          "output_type": "stream",
          "text": [
            "Tomas Atehortua\n"
          ],
          "name": "stdout"
        }
      ]
    },
    {
      "cell_type": "code",
      "metadata": {
        "id": "nSS2gSMg414f",
        "colab": {
          "base_uri": "https://localhost:8080/"
        },
        "outputId": "e1fcb723-5962-4d99-9c1e-7eaa024ae9c6"
      },
      "source": [
        "print(f\"Imprimiendo pi con dos cifras de precisión: {pi:.2f}\")\n",
        "print(f\"Imprimiendo pi con cuatro cifras de precisión: {pi:.4f}\")"
      ],
      "execution_count": null,
      "outputs": [
        {
          "output_type": "stream",
          "text": [
            "Imprimiendo pi con dos cifras de precisión: 3.14\n",
            "Imprimiendo pi con cuatro cifras de precisión: 3.1416\n"
          ],
          "name": "stdout"
        }
      ]
    },
    {
      "cell_type": "markdown",
      "metadata": {
        "id": "3zTowV_C460h"
      },
      "source": [
        "Podemos realizar cualquier tipo de operación válida sobre las variables. Por ejemplo:"
      ]
    },
    {
      "cell_type": "code",
      "metadata": {
        "id": "YSALgwhO2hA5",
        "colab": {
          "base_uri": "https://localhost:8080/"
        },
        "outputId": "8ea4bdb0-85f9-40b2-b2fe-9a7989a5c5fa"
      },
      "source": [
        "print(f\"Mi nombre en mayúsculas es {nombre.upper()}\")"
      ],
      "execution_count": null,
      "outputs": [
        {
          "output_type": "stream",
          "text": [
            "Mi nombre en mayúsculas es TOMAS\n"
          ],
          "name": "stdout"
        }
      ]
    },
    {
      "cell_type": "markdown",
      "metadata": {
        "id": "Z9lOjs-WKhBK"
      },
      "source": [
        "Este será el tipo de formateo de cadenas que utilizaremos de ahora en adelante debido a su facilida de uso y eficiencia."
      ]
    },
    {
      "cell_type": "code",
      "metadata": {
        "colab": {
          "base_uri": "https://localhost:8080/"
        },
        "id": "_A5Qjb2bgh3U",
        "outputId": "59f873ea-daf7-4d66-a7f7-37d1bb120dbe"
      },
      "source": [
        "x=1\n",
        "y=2\n",
        "print (\"tengo\", x, \"años y mi hermano tiene\", y, \"años\")"
      ],
      "execution_count": null,
      "outputs": [
        {
          "output_type": "stream",
          "text": [
            "tengo 1 años y mi hermano tiene 2 años\n"
          ],
          "name": "stdout"
        }
      ]
    },
    {
      "cell_type": "markdown",
      "metadata": {
        "id": "2Jm7IByaRh7v"
      },
      "source": [
        "**Ejercicio 1:** Cree un programa que le pida al usuario que ingrese su nombre, edad y año actual. Imprima un mensaje en pantalla en el que le diga el año en que cumplirá 100 años."
      ]
    },
    {
      "cell_type": "code",
      "metadata": {
        "id": "wvlzij38VFKo",
        "colab": {
          "base_uri": "https://localhost:8080/"
        },
        "outputId": "31800c62-abce-49b7-db24-03a57f822d9f"
      },
      "source": [
        "nombre = (input(\"Digite su nombre \"))\n",
        "edad = int(input(\"ingrese su edad \"))\n",
        "anno = int(input(\"Ingrese el año actual \"))\n",
        "anno100 = (100 - edad + anno)\n",
        "\n",
        "print(f\"Hola {nombre} , tienes {edad} años, y cumplirás 100 años en el año {anno100} \")"
      ],
      "execution_count": null,
      "outputs": [
        {
          "output_type": "stream",
          "text": [
            "Digite su nombre Roberto\n",
            "ingrese su edad 99\n",
            "Ingrese el año actual 2021\n",
            "Hola Roberto , tienes 99 años, y cumplirás 100 años en el año 2022 \n"
          ],
          "name": "stdout"
        }
      ]
    },
    {
      "cell_type": "markdown",
      "metadata": {
        "id": "h99Vci4PQBNY"
      },
      "source": [
        "<p><a name=\"ecf\"></a></p>\n",
        "\n",
        "# **Estructuras de control de flujo**\n",
        "\n",
        "Sin las estructuras de control de flujo, un programa es simplemente una lista de sentencias que se ejecutan secuencialmente. Controlando el flujo del programa, podemos ejecutar ciertos bloques de código condicionalmente y/o repetidamente. Veremos las diferentes sentencias condicionales, ciclos e interrupciones de flujo.\n",
        "\n",
        "<p><a name=\"sci\"></a></p>\n",
        "\n",
        "## **Sentencias condicionales** `if`, `elif` y `else`\n",
        "\n",
        "Una sentencia `if` consiste en una expresión booleana seguida de una o más sentencias indentadas:\n",
        "> \n",
        "    if expresion:\n",
        "      sentencia(s)\n",
        "\n",
        "Si la expresión booleana se evalúa como `True`, se ejecuta el bloque de sentencias dentro de la sentencia `if`. Recordemos que en Python, las declaraciones en un bloque están indentadas uniformemente después del símbolo dos puntos `:`"
      ]
    },
    {
      "cell_type": "code",
      "metadata": {
        "id": "7fjMna_NQNVI",
        "colab": {
          "base_uri": "https://localhost:8080/"
        },
        "outputId": "5d1401aa-4baf-4a36-9463-c17f6f2683d5"
      },
      "source": [
        "condicion = True\n",
        "\n",
        "if condicion:\n",
        "  print(f\"La condición tenía un valor {condicion}\")\n",
        "\n",
        "print(\"Adios\")"
      ],
      "execution_count": null,
      "outputs": [
        {
          "output_type": "stream",
          "text": [
            "La condición tenía un valor True\n",
            "Adios\n"
          ],
          "name": "stdout"
        }
      ]
    },
    {
      "cell_type": "markdown",
      "metadata": {
        "id": "OsnAsLwC5sLA"
      },
      "source": [
        "En este caso como la expresión booleana `exp` es `True`, entonces se ejecuta la sentencia luego del `if`. Una vez ejecutada la sentencia del bloque de código se ejecuta la siguiente línea en el flujo del código. Ahora, en el caso que la expresión a evaluar sea `False`, no se ejecutará el bloque de código que sigue al `if`, como se muestra a continuación"
      ]
    },
    {
      "cell_type": "code",
      "metadata": {
        "id": "31rke9b_5wBh",
        "colab": {
          "base_uri": "https://localhost:8080/"
        },
        "outputId": "9fc96c9d-e535-46f1-8517-ee6d5a7347b8"
      },
      "source": [
        "condicion = False\n",
        "\n",
        "if condicion:\n",
        "  print(f\"La condición tenía un valor {condicion}\")\n",
        "\n",
        "print(\"Adios\")"
      ],
      "execution_count": null,
      "outputs": [
        {
          "output_type": "stream",
          "text": [
            "Adios\n"
          ],
          "name": "stdout"
        }
      ]
    },
    {
      "cell_type": "markdown",
      "metadata": {
        "id": "smYzO6QaQTEp"
      },
      "source": [
        "La sentencia `else` se puede combinar con una sentencia `if` para tener más control del flujo del programa. Una instrucción `else` contiene un bloque de código que se ejecuta si la expresión condicional en la instrucción `if` toma el valor `False`. La sintáxis es la siguiente:\n",
        "\n",
        "> \n",
        "    if expresion:\n",
        "      sentencia1(s)\n",
        "    else:\n",
        "      sentencia2(s)\n",
        "\n",
        "Veamos un ejemplo:\n"
      ]
    },
    {
      "cell_type": "code",
      "metadata": {
        "id": "IAMa-jNiQWEz",
        "colab": {
          "base_uri": "https://localhost:8080/"
        },
        "outputId": "73939206-a8c8-4636-8257-e4aa7fb4d732"
      },
      "source": [
        "condicion = True\n",
        "\n",
        "if condicion:\n",
        "  print(f\"La condición tenía un valor {condicion}\")\n",
        "else:\n",
        "  print(\"La condición no se cumplía\")\n",
        "\n",
        "print(\"Adios\")"
      ],
      "execution_count": null,
      "outputs": [
        {
          "output_type": "stream",
          "text": [
            "La condición tenía un valor True\n",
            "Adios\n"
          ],
          "name": "stdout"
        }
      ]
    },
    {
      "cell_type": "code",
      "metadata": {
        "id": "eQyu3vGb6Aa0",
        "colab": {
          "base_uri": "https://localhost:8080/"
        },
        "outputId": "1ffd10bd-3699-4fb6-ce19-1fd1c61be365"
      },
      "source": [
        "condicion = False\n",
        "\n",
        "if condicion:\n",
        "  print(f\"La condición tenía un valor {condicion}\")\n",
        "else:\n",
        "  print(\"La condición no se cumplía\")\n",
        "\n",
        "print(\"Adios\")"
      ],
      "execution_count": null,
      "outputs": [
        {
          "output_type": "stream",
          "text": [
            "La condición no se cumplía\n",
            "Adios\n"
          ],
          "name": "stdout"
        }
      ]
    },
    {
      "cell_type": "markdown",
      "metadata": {
        "id": "-UR2WpNfQZ3A"
      },
      "source": [
        "De esta manera podemos ejecutar una instrucción para los dos posibles valores que tome la expresión booleana. Note que como expresión podemos evaluar cualquier tipo de operación de comparación que nos devuelva un valor booleano.\n",
        "\n",
        "\n",
        "\n"
      ]
    },
    {
      "cell_type": "markdown",
      "metadata": {
        "id": "BG50_7JAU4kU"
      },
      "source": [
        "**Ejercicio 2:**  Pida al usuario un número entero. Dependiendo de si el número es par o impar, imprima un mensaje apropiado para el usuario en pantalla."
      ]
    },
    {
      "cell_type": "code",
      "metadata": {
        "id": "g1-mKdptU3Pw",
        "colab": {
          "base_uri": "https://localhost:8080/"
        },
        "outputId": "9a8796eb-188b-405d-bd5f-741c685bb19b"
      },
      "source": [
        "numero = int(input(\"Digite un numero entero: \"))\n",
        "\n",
        "if numero % 2 == 0:\n",
        "    print(f\"El numero {numero} es par\")\n",
        "else:\n",
        "    print(f\"El numero {numero} es impar\")"
      ],
      "execution_count": null,
      "outputs": [
        {
          "output_type": "stream",
          "text": [
            "Digite un numero entero: 17\n",
            "El numero 17 es impar\n"
          ],
          "name": "stdout"
        }
      ]
    },
    {
      "cell_type": "markdown",
      "metadata": {
        "id": "K1xVQVQppKKn"
      },
      "source": [
        "**Ejercicio 3:** Un año es bisiesto si es múltiplo de 4, exceptuando los múltiplos de 100, que sólo son bisiestos cuando son múltiplos además de 400, por ejemplo el año 1900 no fue bisiesto, pero el año 2000 si lo será. Escribir un programa que, dado un año por parte de un usuario, muestre un mensaje en pantalla apropiado de acuerdo a si dicho año es o no bisiesto."
      ]
    },
    {
      "cell_type": "code",
      "metadata": {
        "id": "FjZTUqS6-h4M",
        "colab": {
          "base_uri": "https://localhost:8080/"
        },
        "outputId": "174dfb77-03d5-49a0-8777-7281d84f4c2e"
      },
      "source": [
        "year = int(input(\"entre el año que quiere averiguar si es bisiesto o no: \"))\n",
        "\n",
        "if (year % 400 == 0) or (year % 100 != 0 and year % 4 == 0):\n",
        "  print(f\"el año {year} es bisiesto\")\n",
        "else:\n",
        "  print(f\"el año {year} no es bisiesto\")\n",
        "\n",
        "print(f\"Gracias\")"
      ],
      "execution_count": null,
      "outputs": [
        {
          "output_type": "stream",
          "text": [
            "entre el año que quiere averiguar si es bisiesto o no: 1900\n",
            "el año 1900 no es bisiesto\n",
            "Gracias\n"
          ],
          "name": "stdout"
        }
      ]
    },
    {
      "cell_type": "markdown",
      "metadata": {
        "id": "dlQvvrChU2nk"
      },
      "source": [
        "La sentencia `elif` (else if) permite verificar múltiples expresiones y ejecutar un bloque de código tan pronto como una de las condiciones se evalúe como `True`. Al igual que `else`, la sentencia `elif` es opcional. Sin embargo, a diferencia de `else`, para el cual puede haber como máximo una declaración, puede haber un número arbitrario de sentencias `elif` después de un `if`. Veamos los posibles casos cuando se evaluan dos condiciones:"
      ]
    },
    {
      "cell_type": "code",
      "metadata": {
        "id": "8NHf3Gb5QWvX",
        "colab": {
          "base_uri": "https://localhost:8080/"
        },
        "outputId": "3b5ca9cc-3490-479b-c8dc-02a967c28405"
      },
      "source": [
        "exp_1 = True\n",
        "exp_2 = False\n",
        "\n",
        "if exp_1:\n",
        "  print(\"exp_1 es True\")\n",
        "elif exp_2:\n",
        "  print(\"exp_2 es True\")\n",
        "else:\n",
        "  print(\"ambas son False\")"
      ],
      "execution_count": null,
      "outputs": [
        {
          "output_type": "stream",
          "text": [
            "exp_1 es True\n"
          ],
          "name": "stdout"
        }
      ]
    },
    {
      "cell_type": "code",
      "metadata": {
        "id": "J1fi0oWN6n0d",
        "colab": {
          "base_uri": "https://localhost:8080/"
        },
        "outputId": "ff5413f2-9093-4a37-ca8a-16efe1f0013d"
      },
      "source": [
        "exp_1 = False\n",
        "exp_2 = True\n",
        "\n",
        "if exp_1:\n",
        "  print(\"exp_1 es True\")\n",
        "elif exp_2:\n",
        "  print(\"exp_2 es True\")\n",
        "else:\n",
        "  print(\"ambas son False\")"
      ],
      "execution_count": null,
      "outputs": [
        {
          "output_type": "stream",
          "text": [
            "exp_2 es True\n"
          ],
          "name": "stdout"
        }
      ]
    },
    {
      "cell_type": "code",
      "metadata": {
        "id": "_oC7AI1R6s-E",
        "colab": {
          "base_uri": "https://localhost:8080/"
        },
        "outputId": "89b0ee9c-3d2d-4c8f-a94a-441d8a731a8b"
      },
      "source": [
        "exp_1 = False\n",
        "exp_2 = False\n",
        "\n",
        "if exp_1:\n",
        "  print(\"exp_1 es True\")\n",
        "elif exp_2:\n",
        "  print(\"exp_2 es True\")\n",
        "else:\n",
        "  print(\"ambas son False\")"
      ],
      "execution_count": null,
      "outputs": [
        {
          "output_type": "stream",
          "text": [
            "ambas son False\n"
          ],
          "name": "stdout"
        }
      ]
    },
    {
      "cell_type": "code",
      "metadata": {
        "id": "ul5ijGB86wDR",
        "colab": {
          "base_uri": "https://localhost:8080/"
        },
        "outputId": "3eda291a-0b96-41e9-9f78-7370bc01deba"
      },
      "source": [
        "exp_1 = True\n",
        "exp_2 = True\n",
        "\n",
        "if exp_1:\n",
        "  print(\"exp_1 es True\")\n",
        "elif exp_2:\n",
        "  print(\"exp_2 es True\")\n",
        "else:\n",
        "  print(\"ambas son False\")"
      ],
      "execution_count": null,
      "outputs": [
        {
          "output_type": "stream",
          "text": [
            "exp_1 es True\n"
          ],
          "name": "stdout"
        }
      ]
    },
    {
      "cell_type": "code",
      "metadata": {
        "colab": {
          "base_uri": "https://localhost:8080/"
        },
        "id": "KcBApluuoQig",
        "outputId": "12a42eb9-915c-4c54-9425-a4b98d094d87"
      },
      "source": [
        "exp_1 = True\n",
        "exp_2 = True\n",
        "\n",
        "if exp_1:\n",
        "  print(\"exp_1 es True\")\n",
        "if exp_2:\n",
        "  print(\"exp_2 es True\")\n",
        "else:\n",
        "  print(\"Ambas son False\")"
      ],
      "execution_count": null,
      "outputs": [
        {
          "output_type": "stream",
          "text": [
            "exp_1 es True\n",
            "exp_2 es True\n"
          ],
          "name": "stdout"
        }
      ]
    },
    {
      "cell_type": "markdown",
      "metadata": {
        "id": "OJb_HgDa63U9"
      },
      "source": [
        "Note que en el caso donde ambas expresiones son `True`, se ejecuta solo la sentencia que primero se evalúe como `True`"
      ]
    },
    {
      "cell_type": "markdown",
      "metadata": {
        "id": "OU_d67LJQqaO"
      },
      "source": [
        " **Ejercicio 4:** Acepte tres números del usuario. Imprima en pantalla el valor mayor de los tres con dos cifras decimales."
      ]
    },
    {
      "cell_type": "code",
      "metadata": {
        "id": "Q2uI6xHNQjIV",
        "colab": {
          "base_uri": "https://localhost:8080/"
        },
        "outputId": "db8ced68-a44f-4125-d378-572eb918718a"
      },
      "source": [
        "numero1 , numero2 ,numero3 = [int(input(\"Digite un numero: \")) for i in range(3)]\n",
        "\n",
        "if (numero1 >= numero2) and (numero1 >= numero3):\n",
        "    print(f\"El mayor es {numero1:.2f}\")\n",
        "elif (numero2 >= numero1)and(numero2 >= numero3):\n",
        "    print(f\"El mayor es {numero2:.2f}\")\n",
        "else:\n",
        "    print(f\"El mayor es {numero3:.2f}\")"
      ],
      "execution_count": null,
      "outputs": [
        {
          "output_type": "stream",
          "text": [
            "Digite un numero: 11\n",
            "Digite un numero: 11\n",
            "Digite un numero: 8\n",
            "El mayor es 11.00\n"
          ],
          "name": "stdout"
        }
      ]
    },
    {
      "cell_type": "markdown",
      "metadata": {
        "id": "rvgC45t1VVcf"
      },
      "source": [
        "Finalmente, podemos utilizar estas sentencias para definir una variable con dos posibles valores. Por ejemplo, si quisieramos asignar a una variable dos posibles valores, digamos 1 y 0, de acuerdo a alguna condición, podemos utilizar las sentencias `if` y `else` de la siguiente manera"
      ]
    },
    {
      "cell_type": "code",
      "metadata": {
        "id": "wAej54bXVXK4",
        "colab": {
          "base_uri": "https://localhost:8080/"
        },
        "outputId": "b6a69654-51f7-43bd-82a4-42df19210c03"
      },
      "source": [
        "x = 1000\n",
        "\n",
        "y = 0 if x == 10 else 47\n",
        "\n",
        "print(x, y)"
      ],
      "execution_count": null,
      "outputs": [
        {
          "output_type": "stream",
          "text": [
            "1000 47\n"
          ],
          "name": "stdout"
        }
      ]
    },
    {
      "cell_type": "markdown",
      "metadata": {
        "id": "g4NetrJP7ysy"
      },
      "source": [
        "En este caso, como la condición que seguía al `if` devuelve `True`, se asigna el primer valor. En el caso contrario, se asignaría el valor que sigue al `else`:"
      ]
    },
    {
      "cell_type": "code",
      "metadata": {
        "id": "KKBMOtXM7w6e",
        "colab": {
          "base_uri": "https://localhost:8080/"
        },
        "outputId": "4f12668e-f65b-4e4d-b396-48a2af000c7d"
      },
      "source": [
        "x = 10\n",
        "\n",
        "y = 0 if x == 10 else 47\n",
        "\n",
        "print(x, y)"
      ],
      "execution_count": null,
      "outputs": [
        {
          "output_type": "stream",
          "text": [
            "10 0\n"
          ],
          "name": "stdout"
        }
      ]
    },
    {
      "cell_type": "markdown",
      "metadata": {
        "id": "zQzNg0cURRAW"
      },
      "source": [
        "<p><a name=\"cic\"></a></p>\n",
        "\n",
        "# **Ciclos, iteraciones e interrupciones de flujo**\n",
        "\n",
        "En general, las instrucciones se ejecutan secuencialmente. Puede haber una situación en la que se necesite ejecutar un bloque de código varias veces. Una sentencia de ciclo o bucle nos permite ejecutar una o un grupo de sentencias repetidas veces"
      ]
    },
    {
      "cell_type": "markdown",
      "metadata": {
        "id": "g8TUS45vSLMY"
      },
      "source": [
        "<p><a name=\"whi\"></a></p>\n",
        "\n",
        "### **Ciclo `while`**\n",
        "\n",
        "Una sentencia de ciclo `while` ejecuta repetidamente una sentencia siempre que una condición dada sea `True`. La sintáxis es la siguiente:\n",
        "\n",
        "> \n",
        "    while condicion:\n",
        "\n",
        "      sentencia(s)\n",
        "\n",
        "El ciclo itera mientras la condición sea `True`. Un punto clave del ciclo while es que el ciclo podría no ejecutarse nunca. Cuando se prueba la condición y el resultado es `False`, se omitirá el cuerpo del ciclo y se ejecutará la primera instrucción después del ciclo while\n"
      ]
    },
    {
      "cell_type": "code",
      "metadata": {
        "id": "71LuiEqWQvcU",
        "colab": {
          "base_uri": "https://localhost:8080/",
          "height": 128
        },
        "outputId": "25aa2805-47fe-415c-f49a-8fc1f47485d2"
      },
      "source": [
        "contador = 0\n",
        "\n",
        "while contador < 10:\n",
        "  contador = contador + 1\n",
        "  print(f\"El contador es {contador}\")\n",
        "  #contador = contador + 1\n",
        "\n",
        "print(\"Adios\")"
      ],
      "execution_count": null,
      "outputs": [
        {
          "output_type": "error",
          "ename": "SyntaxError",
          "evalue": "ignored",
          "traceback": [
            "\u001b[0;36m  File \u001b[0;32m\"<ipython-input-67-7243763662eb>\"\u001b[0;36m, line \u001b[0;32m4\u001b[0m\n\u001b[0;31m    contador ++\u001b[0m\n\u001b[0m               ^\u001b[0m\n\u001b[0;31mSyntaxError\u001b[0m\u001b[0;31m:\u001b[0m invalid syntax\n"
          ]
        }
      ]
    },
    {
      "cell_type": "markdown",
      "metadata": {
        "id": "BSg839BQ8P1F"
      },
      "source": [
        "Note que en este caso no se tiene una variable de iteración, sino que la iteración se realiza siempre que la condición evaluada (que la variable `contador` sea menor a 5) sea `True`. Una vez la condición se evalue como `False` se pasa a la siguiente línea de código (`print(\"Adiós\")`) en el flujo del programa. \n",
        "\n",
        "Debido a esta naturaleza del ciclo `while`, debe tener cuidado con la condición que evalue, dado que si la condición siempre es `True` se entrará en un ciclo infinito."
      ]
    },
    {
      "cell_type": "markdown",
      "metadata": {
        "id": "W8pA-RwiSaN1"
      },
      "source": [
        "<p><a name=\"for\"></a></p>\n",
        "\n",
        "### **Ciclo `for`**\n",
        "\n",
        "La sentencia `for` en Python tiene la capacidad de iterar sobre los elementos de cualquier secuencia\n",
        "\n",
        "> \n",
        "    for var_iter in secuencia:\n",
        "\n",
        "        sentencia(s)\n",
        "\n",
        "Observe la simplicidad del ciclo for: especificamos la variable de iteración que queremos usar `var_iter`, la secuencia que queremos recorrer y usamos el operador `in` para vincularlos de manera intuitiva y legible. Más precisamente, el objeto a la derecha de `in` puede ser cualquier objeto iterable de Python. \n",
        "\n",
        "Ahora, se entiende por secuencia cualquier objeto de Python que pueda ser iterable. Estos objetos iterables tienen algo en común: todos ellos contienen el método especial `__iter__` (Recuerde que puede examinar los métodos de un objeto mediante la función propia de Python `dir`).\n",
        "\n",
        "Por ejemplo, uno de los iteradores más utilizados en Python es el objeto `range`, que genera una secuencia de números en un rango especificado:\n",
        "\n",
        "\n",
        "Por ejemplo, uno de los objetos iterables más utilizados en Python es el proporcionado por la función propia de Python `range`, que genera una secuencia de números en un rango específico.\n",
        "\n"
      ]
    },
    {
      "cell_type": "code",
      "metadata": {
        "id": "gm_JdPUsWAcj",
        "colab": {
          "base_uri": "https://localhost:8080/"
        },
        "outputId": "77c43f1e-21e9-4dbb-b545-eb3aff331cdb"
      },
      "source": [
        "dir(list)"
      ],
      "execution_count": null,
      "outputs": [
        {
          "output_type": "execute_result",
          "data": {
            "text/plain": [
              "['__add__',\n",
              " '__class__',\n",
              " '__contains__',\n",
              " '__delattr__',\n",
              " '__delitem__',\n",
              " '__dir__',\n",
              " '__doc__',\n",
              " '__eq__',\n",
              " '__format__',\n",
              " '__ge__',\n",
              " '__getattribute__',\n",
              " '__getitem__',\n",
              " '__gt__',\n",
              " '__hash__',\n",
              " '__iadd__',\n",
              " '__imul__',\n",
              " '__init__',\n",
              " '__init_subclass__',\n",
              " '__iter__',\n",
              " '__le__',\n",
              " '__len__',\n",
              " '__lt__',\n",
              " '__mul__',\n",
              " '__ne__',\n",
              " '__new__',\n",
              " '__reduce__',\n",
              " '__reduce_ex__',\n",
              " '__repr__',\n",
              " '__reversed__',\n",
              " '__rmul__',\n",
              " '__setattr__',\n",
              " '__setitem__',\n",
              " '__sizeof__',\n",
              " '__str__',\n",
              " '__subclasshook__',\n",
              " 'append',\n",
              " 'clear',\n",
              " 'copy',\n",
              " 'count',\n",
              " 'extend',\n",
              " 'index',\n",
              " 'insert',\n",
              " 'pop',\n",
              " 'remove',\n",
              " 'reverse',\n",
              " 'sort']"
            ]
          },
          "metadata": {},
          "execution_count": 69
        }
      ]
    },
    {
      "cell_type": "code",
      "metadata": {
        "id": "nLrwyOm2F8Tk",
        "colab": {
          "base_uri": "https://localhost:8080/"
        },
        "outputId": "d73dfa14-c916-4f0c-de6b-dcc8b5eb0712"
      },
      "source": [
        "lista = [1, 17, 4]\n",
        "\n",
        "for elemento in lista:\n",
        "  print(elemento)\n",
        "\n",
        "\n",
        "print(f\"El último elemento de la iteración fue {elemento}\")"
      ],
      "execution_count": null,
      "outputs": [
        {
          "output_type": "stream",
          "text": [
            "1\n",
            "17\n",
            "4\n",
            "El último elemento de la iteración fue 4\n"
          ],
          "name": "stdout"
        }
      ]
    },
    {
      "cell_type": "code",
      "metadata": {
        "colab": {
          "base_uri": "https://localhost:8080/"
        },
        "id": "hKvApXujs4Xj",
        "outputId": "e3cd8884-295e-40da-e317-7662298a776e"
      },
      "source": [
        "lista = [1, 2, 3]\n",
        "\n",
        "for elemento in lista:\n",
        "  print(elemento)\n",
        "\n",
        "\n",
        "print(f\"El último elemento de la iteración fue {elemento}\")"
      ],
      "execution_count": null,
      "outputs": [
        {
          "output_type": "stream",
          "text": [
            "1\n",
            "2\n",
            "3\n",
            "El último elemento de la iteración fue 3\n"
          ],
          "name": "stdout"
        }
      ]
    },
    {
      "cell_type": "markdown",
      "metadata": {
        "id": "zzd4Yc2W84aV"
      },
      "source": [
        "En este caso la secuencia es (0, 1, 2). Note que la variable de iteración, en este caso `i`, toma cada uno de estos valores en cada iteración. \n",
        "\n",
        "Tenga en cuenta que la secuencia comienza en cero de forma predeterminada y que, por convención, el valor final del `range` no se incluye en la secuencia. La función `range` admite más parámetros para una secuencia más compleja. La sintáxis es la siguiente:\n",
        "\n",
        ">\n",
        "\n",
        "    range(inicio, final, paso)\n",
        "\n",
        "En el primer ejemplo, como hemos pasamos solo un argumento a la función `range`, este se tomará por defecto como el final del rango (que no se incluye), y se generará la secuencia con paso 1. Si pasamos solo dos argumentos, estos se tomarán como el inicio y el final del rango:\n"
      ]
    },
    {
      "cell_type": "code",
      "metadata": {
        "id": "535TdkOnFSTH",
        "colab": {
          "base_uri": "https://localhost:8080/"
        },
        "outputId": "5521e029-7e72-4ecc-c44f-893594e1f325"
      },
      "source": [
        "for elemento in range(8):\n",
        "  print(elemento)\n",
        "\n",
        "\n",
        "print(f\"El último elemento de la iteración fue {elemento}\")"
      ],
      "execution_count": null,
      "outputs": [
        {
          "output_type": "stream",
          "text": [
            "0\n",
            "1\n",
            "2\n",
            "3\n",
            "4\n",
            "5\n",
            "6\n",
            "7\n",
            "El último elemento de la iteración fue 7\n"
          ],
          "name": "stdout"
        }
      ]
    },
    {
      "cell_type": "markdown",
      "metadata": {
        "id": "96Rb6_Pu9FwF"
      },
      "source": [
        "Ahora, pasando los tres argumentos podemos generar secuencias más complejas:"
      ]
    },
    {
      "cell_type": "code",
      "metadata": {
        "colab": {
          "base_uri": "https://localhost:8080/"
        },
        "id": "HMBjI8Y2tE_V",
        "outputId": "bb5996ad-6649-4569-fe98-348b8659bf68"
      },
      "source": [
        "for elemento in range(1,4):\n",
        "  print(elemento)\n",
        "\n",
        "\n",
        "print(f\"El último elemento de la iteración fue {elemento}\")"
      ],
      "execution_count": null,
      "outputs": [
        {
          "output_type": "stream",
          "text": [
            "1\n",
            "2\n",
            "3\n",
            "El último elemento de la iteración fue 3\n"
          ],
          "name": "stdout"
        }
      ]
    },
    {
      "cell_type": "code",
      "metadata": {
        "id": "T2BF7fr9SXcl",
        "colab": {
          "base_uri": "https://localhost:8080/"
        },
        "outputId": "df674790-5f3e-489e-a0f0-0c1176f24c3f"
      },
      "source": [
        "for elemento in range(5, 55 , 10):\n",
        "  print(elemento)\n",
        "\n",
        "\n",
        "print(f\"El último elemento de la iteración fue {elemento}\")"
      ],
      "execution_count": null,
      "outputs": [
        {
          "output_type": "stream",
          "text": [
            "5\n",
            "15\n",
            "25\n",
            "35\n",
            "45\n",
            "El último elemento de la iteración fue 45\n"
          ],
          "name": "stdout"
        }
      ]
    },
    {
      "cell_type": "markdown",
      "metadata": {
        "id": "JKYFsgBO9NZM"
      },
      "source": [
        "En algunas ocaciones no vamos a utilizar la variable de iteración en el bloque de código siguiente, por lo que podemos escribir la variable de iteración de la siguiente manera:"
      ]
    },
    {
      "cell_type": "code",
      "metadata": {
        "id": "b_JFcK9mFEsn",
        "colab": {
          "base_uri": "https://localhost:8080/"
        },
        "outputId": "9688f39d-c475-4aea-95c6-3f5eaed3b81b"
      },
      "source": [
        "for _ in range(5):\n",
        "  print(\"hola\")"
      ],
      "execution_count": null,
      "outputs": [
        {
          "output_type": "stream",
          "text": [
            "hola\n",
            "hola\n",
            "hola\n",
            "hola\n",
            "hola\n"
          ],
          "name": "stdout"
        }
      ]
    },
    {
      "cell_type": "markdown",
      "metadata": {
        "id": "qPEWUTke9RNk"
      },
      "source": [
        "El caracter `_` en Python se utiliza cuando se debe declarar una variable pero esta no se usará en ningún proceso posterior (como en el ejemplo anterior), sí gasta memoria.\n",
        "\n",
        "Las listas y las cadenas de caracteres también son objetos iterables:"
      ]
    },
    {
      "cell_type": "code",
      "metadata": {
        "id": "TEzl-AW0GQCF",
        "colab": {
          "base_uri": "https://localhost:8080/"
        },
        "outputId": "144146b0-9faa-4f23-dfac-4363cc5f2773"
      },
      "source": [
        "print(_)"
      ],
      "execution_count": null,
      "outputs": [
        {
          "output_type": "stream",
          "text": [
            "4\n"
          ],
          "name": "stdout"
        }
      ]
    },
    {
      "cell_type": "code",
      "metadata": {
        "id": "ZP1nOd2PGg__",
        "colab": {
          "base_uri": "https://localhost:8080/"
        },
        "outputId": "0bacd112-9af1-475d-f8e8-d68f310cec23"
      },
      "source": [
        "vocales = \"aeiou\"\n",
        "\n",
        "for vocal in vocales:\n",
        "  print(vocal)"
      ],
      "execution_count": null,
      "outputs": [
        {
          "output_type": "stream",
          "text": [
            "a\n",
            "e\n",
            "i\n",
            "o\n",
            "u\n"
          ],
          "name": "stdout"
        }
      ]
    },
    {
      "cell_type": "code",
      "metadata": {
        "id": "lQs-feTltxwu"
      },
      "source": [
        "texto = \"\"\"En un lugar de la Mancha, de cuyo nombre no quiero acordarme, \n",
        "no ha mucho tiempo que vivía un hidalgo de los de lanza en astillero, \n",
        "adarga antigua, rocín flaco y galgo corredor\\ \"\"\"\n",
        "\n",
        "for letra in texto:\n",
        "  print(letra)"
      ],
      "execution_count": null,
      "outputs": []
    },
    {
      "cell_type": "code",
      "metadata": {
        "colab": {
          "base_uri": "https://localhost:8080/"
        },
        "id": "ckUnc-8iwC08",
        "outputId": "2134dabb-16ea-4841-8ac3-34337679824a"
      },
      "source": [
        "texto2= r\"En un lugar de la Mancha, de cuyo nombre no quiero acordarme,\\n\\\n",
        "no ha mucho tiempo que vivía un hidalgo de los de lanza en astillero,\\n\\\n",
        "adarga antigua, rocín flaco y galgo \\corredor\"\n",
        "\n",
        "print(texto2)"
      ],
      "execution_count": null,
      "outputs": [
        {
          "output_type": "stream",
          "text": [
            "En un lugar de la Mancha, de cuyo nombre no quiero acordarme,\\nno ha mucho tiempo que vivía un hidalgo de los de lanza en astillero,\\nadarga antigua, rocín flaco y galgo \\corredor\n"
          ],
          "name": "stdout"
        }
      ]
    },
    {
      "cell_type": "code",
      "metadata": {
        "colab": {
          "base_uri": "https://localhost:8080/"
        },
        "id": "yyP5M5OEv_cR",
        "outputId": "3ab87321-9e01-41c3-d02b-8a3444eec205"
      },
      "source": [
        "print(texto)"
      ],
      "execution_count": null,
      "outputs": [
        {
          "output_type": "stream",
          "text": [
            "En un lugar de la Mancha, de cuyo nombre no quiero acordarme, \n",
            "no ha mucho tiempo que vivía un hidalgo de los de lanza en astillero, \n",
            "adarga antigua, rocín flaco y galgo corredor\\ \n"
          ],
          "name": "stdout"
        }
      ]
    },
    {
      "cell_type": "markdown",
      "metadata": {
        "id": "RdSg6O7cUD_8"
      },
      "source": [
        "<p><a name=\"scf\"></a></p>\n",
        "\n",
        "## **Sentencias de control de flujo `break` y `continue`**\n",
        "\n",
        "Existen algunas sentencias útiles que se pueden usar dentro de los ciclos para ajustar como estos se ejecutan:\n",
        "\n",
        "**`break`**:\n",
        "\n",
        "La sentencia de control `break` termina el ciclo y transfiere la ejecución a la línea de código que sigue inmediatamente a este. La siguiente figura ilustra este proceso:\n",
        "\n",
        "<p><img alt=\"Colaboratory logo\" height=\"450px\" src=\"https://i.imgur.com/CoZLUcX.png\" align=\"left\" hspace=\"0px\" vspace=\"0px\"></p>\n",
        "\n"
      ]
    },
    {
      "cell_type": "markdown",
      "metadata": {
        "id": "ordNbhyG9mKA"
      },
      "source": [
        "Veamos esto en un ejemplo concreto: las variables de tipo cadena, también pueden ser utilizadas como secuencias para una iteración:"
      ]
    },
    {
      "cell_type": "code",
      "metadata": {
        "id": "az4VyIJvIQTB",
        "colab": {
          "base_uri": "https://localhost:8080/"
        },
        "outputId": "4cb7d527-bb67-49dc-9fa2-45ab6ee72b3a"
      },
      "source": [
        "for vocal in vocales:\n",
        "  if vocal == 'o':\n",
        "    break\n",
        "  else:\n",
        "    print(vocal)\n",
        "  "
      ],
      "execution_count": null,
      "outputs": [
        {
          "output_type": "stream",
          "text": [
            "a\n",
            "e\n",
            "i\n"
          ],
          "name": "stdout"
        }
      ]
    },
    {
      "cell_type": "markdown",
      "metadata": {
        "id": "4aCuzLmqV-B9"
      },
      "source": [
        "Note que el ciclo se termina una vez se ejecute la sentencia `break` y se pasa a la siguiente línea en el flujo del programa. También podemos utilizar esta sentencia de control dentro de un ciclo `while`. En este caso terminaremos el ciclo una vez la variable `contador` sea igual a tres:"
      ]
    },
    {
      "cell_type": "code",
      "metadata": {
        "id": "w55-7-5IWBgP",
        "colab": {
          "base_uri": "https://localhost:8080/"
        },
        "outputId": "b5a62473-97d1-4156-ead2-044d63a6f63d"
      },
      "source": [
        "contador = 0\n",
        "\n",
        "while contador < 10:\n",
        "  contador = contador + 1\n",
        "  if contador == 7:\n",
        "    break\n",
        "  else: \n",
        "    print(f\"El contador es {contador}\")\n",
        "    #contador = contador + 1\n",
        "\n",
        "print(\"Adios\")"
      ],
      "execution_count": null,
      "outputs": [
        {
          "output_type": "stream",
          "text": [
            "El contador es 1\n",
            "El contador es 2\n",
            "El contador es 3\n",
            "El contador es 4\n",
            "El contador es 5\n",
            "El contador es 6\n",
            "Adios\n"
          ],
          "name": "stdout"
        }
      ]
    },
    {
      "cell_type": "markdown",
      "metadata": {
        "id": "6Bv5ORy7WIdj"
      },
      "source": [
        "**`continue`:**\n",
        "\n",
        "La sentencia de control `continue` no termina por completo el ciclo sino que omite las sentencias restantes de la iteración actual y pasa a la siguiente. Veamos una representación de este proceso:\n",
        "\n",
        "<p><img alt=\"Colaboratory logo\" height=\"450px\" src=\"https://i.imgur.com/i98Dewt.png\" align=\"left\" hspace=\"0px\" vspace=\"0px\"></p>"
      ]
    },
    {
      "cell_type": "code",
      "metadata": {
        "colab": {
          "base_uri": "https://localhost:8080/"
        },
        "id": "-2FfJNiOu7IV",
        "outputId": "5bb00d95-17e6-484a-b92a-5de5cbb1b834"
      },
      "source": [
        "for vocal in vocales:\n",
        "  if vocal == 'o':\n",
        "    continue\n",
        "  else:\n",
        "    print(vocal)\n",
        "  "
      ],
      "execution_count": null,
      "outputs": [
        {
          "output_type": "stream",
          "text": [
            "a\n",
            "e\n",
            "i\n",
            "u\n"
          ],
          "name": "stdout"
        }
      ]
    },
    {
      "cell_type": "code",
      "metadata": {
        "colab": {
          "base_uri": "https://localhost:8080/"
        },
        "id": "WjSJGgATvCiA",
        "outputId": "3da76665-8259-400f-8b86-4da1248773dc"
      },
      "source": [
        "contador = 0\n",
        "\n",
        "while contador < 10:\n",
        "  contador = contador + 1\n",
        "  if contador == 7:\n",
        "    continue\n",
        "  else: \n",
        "    print(f\"El contador es {contador}\")\n",
        "    #contador = contador + 1\n",
        "\n",
        "print(\"Adios\")"
      ],
      "execution_count": null,
      "outputs": [
        {
          "output_type": "stream",
          "text": [
            "El contador es 1\n",
            "El contador es 2\n",
            "El contador es 3\n",
            "El contador es 4\n",
            "El contador es 5\n",
            "El contador es 6\n",
            "El contador es 8\n",
            "El contador es 9\n",
            "El contador es 10\n",
            "Adios\n"
          ],
          "name": "stdout"
        }
      ]
    },
    {
      "cell_type": "markdown",
      "metadata": {
        "id": "Fg9w0bd79zp2"
      },
      "source": [
        "Veamos esta sentencia en uno de los ejemplos anteriores:"
      ]
    },
    {
      "cell_type": "markdown",
      "metadata": {
        "id": "09T2wyEu93mU"
      },
      "source": [
        "Note que, a diferencia del caso anterior, no se terminó el ciclo una vez se llegó a la vocal \"o\" sino que se pasó a la siguiente iteración ignorando la línea restante en el ciclo."
      ]
    },
    {
      "cell_type": "markdown",
      "metadata": {
        "id": "amBKoTABmWwK"
      },
      "source": [
        "**Ejercicio 5:** Escriba un programa que calcule el factorial de un número entero n"
      ]
    },
    {
      "cell_type": "code",
      "metadata": {
        "id": "g57hdhi4maUW"
      },
      "source": [
        ""
      ],
      "execution_count": null,
      "outputs": []
    },
    {
      "cell_type": "code",
      "metadata": {
        "id": "P_4PemIEvyb-"
      },
      "source": [
        ""
      ],
      "execution_count": null,
      "outputs": []
    }
  ]
}